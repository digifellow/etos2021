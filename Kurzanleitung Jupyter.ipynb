{
 "cells": [
  {
   "cell_type": "markdown",
   "metadata": {
    "collapsed": false
   },
   "source": [
    "# Kurzübersicht Jupyter-Notebooks\n",
    "\n",
    "## Bearbeiten und Speichern\n",
    "* Bearbeiten einer Zelle: Einfach- oder Doppelklick für Programmcode- oder Text-zelle.\n",
    "* Ausführen einer Zelle: `SHIFT`+`ENTER` oder <i class=\"fa fa-play\"></i>-Button.\n",
    "* Alles neu ausführen: `Run`<i class=\"fa fa-chevron-right\"></i>`Restart Kernel and Run All Cells`.\n",
    "* Speichern des Notebooks: `STRG`+`S` oder <i class=\"fa fa-save\"></i>-Button.\n",
    "* Kopie des Notebooks speichern: `File`<i class=\"fa fa-chevron-right\"></i>`Save Notebook As...`, neuen Dateinamen wählen (zum Beispiel eine Zahl vor dem .ipynb einfügen).\n",
    "* Kopie des Notebooks herunterladen: Rechtsklick auf Notebooknamen im Dateimanager, dann `Download`.\n",
    "* Notebook als Python-Datei herunterladen: `File`<i class=\"fa fa-chevron-right\"></i>`Export Notebook As...`<i class=\"fa fa-chevron-right\"></i>`Export Notebook to Executable Script`.\n",
    "\n",
    "## Abgabe der Hausaufgabe\n",
    "* Vor Abgabe alle Programmcode-zellen neu ausführen, damit die Tutoren beim Ausführen die gleichen Ergebnisse sehen wie du.\n",
    "* Speichern nicht vergessen.\n",
    "* Als Python-Datei herunterladen.\n",
    "* Auf Moodle die Python-Datei als Abgabe hochladen."
   ]
  },
  {
   "cell_type": "code",
   "execution_count": 0,
   "metadata": {
    "collapsed": false
   },
   "outputs": [
   ],
   "source": [
   ]
  }
 ],
 "metadata": {
  "kernelspec": {
   "display_name": "Python 3 (system-wide)",
   "language": "python",
   "metadata": {
    "cocalc": {
     "description": "Python 3 programming language",
     "priority": 100,
     "url": "https://www.python.org/"
    }
   },
   "name": "python3",
   "resource_dir": "/ext/jupyter/kernels/python3"
  },
  "language_info": {
   "codemirror_mode": {
    "name": "ipython",
    "version": 3
   },
   "file_extension": ".py",
   "mimetype": "text/x-python",
   "name": "python",
   "nbconvert_exporter": "python",
   "pygments_lexer": "ipython3",
   "version": "3.7.6"
  }
 },
 "nbformat": 4,
 "nbformat_minor": 4
}