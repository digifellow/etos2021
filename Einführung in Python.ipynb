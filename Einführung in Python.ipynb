{
 "cells": [
  {
   "cell_type": "markdown",
   "metadata": {
    "collapsed": false,
    "jupyter": {
     "outputs_hidden": true
    }
   },
   "source": [
    "# Einführung in Python\n",
    "\n",
    "Python ist eine sehr beliebte Programmiersprache, die beispielsweise Anwendung in der Datenanalyse oder auch Machine Learning findet.\n",
    "Mit ihr können wir Datenstrukturen (Variablen, Listen, Felder, ...) und Algorithmen (Sortieren, Suchen, ...) durch Befehle formulieren, die der Python Interpreter ausführt. \n",
    "Das Ziel bei der Entwicklung von Python ist, relativ nahe an der menschlichen Sprache zu sein, so dass der Code gut lesbar ist. \n",
    "Zur Strukturierung des Codes werden Leerzeichen und Einrückungen verwendet, die damit auch essentiell sind, um den Code zu interpretieren. \n",
    "\n",
    "Wenn du Python lokal auf deinem PC schreiben möchtest, kannst du bspw. [Anaconda](https://www.anaconda.com/) downloaden, und dir die Entwicklungsumgebung Spyder launchen oder wie hier Jupyter Lab.\n",
    "Empfehlenswert bei Problemen, ist die [Python Dokumentation](https://docs.python.org/3/) oder auch das [Wikibook](https://en.wikibooks.org/wiki/Python_Programming) und Seiten wie [stackoverflow](https://stackoverflow.com/) haben einiges zu bieten.\n",
    "\n",
    "\n",
    "## Datentypen\n",
    "Python nutzt dynamisches Typing, so dass beim Anlegen einer Variable der Typ nicht explizit angegeben werden muss und auch später der Typ, d.h. die Art der Variable, sich ändern darf. Deshalb ist es notwendig der Variable einen Wert zuzuweisen. Kommentare kann man mit dem Raute-Symbol '#' einleiten. Wenn du willst, dass bei Drücken auf RUN etwas ausgegeben wird, dann kannst du das mit der print() Funktion erreichen."
   ]
  },
  {
   "cell_type": "code",
   "execution_count": 0,
   "metadata": {
    "collapsed": false
   },
   "outputs": [
   ],
   "source": [
    "#Du kannst hier deinen Namen eingeben, und somit der Variable einen Wert zuweisen, vergiss nicht die '', z.B. 'Name'\n",
    "name= \n",
    "\n",
    "#Deine Eingabe wir überprüft, indem wir checken ob dein Alter eine ganze Zahl (int) und dein name eine Zeichenkette (string) ist\n",
    "#Die Bedingung gibt endweder true oder false zurück und ist damit ein sog. boolean\n",
    "#Die Einrückungen nach dem if und else sind hier unabdingbar, um die Befehlsblöcke zu makieren\n",
    "if type(name) is str:\n",
    "    print('Hallo Welt, mein Name ist '+ name)\n",
    "\n",
    "#falls nicht geben wir eine Fehlermeldung aus\n",
    "else:\n",
    "    print('Überprüfe deine Angabe.')\n",
    "    "
   ]
  },
  {
   "cell_type": "markdown",
   "metadata": {
    "collapsed": false
   },
   "source": [
    "### Python als Taschenrechner\n",
    "Neben Zeichenketten können auch Zahlen gespeichert und verarbeitet werden. Python kann man also wie dein Taschenrechner Arithmetik."
   ]
  },
  {
   "cell_type": "code",
   "execution_count": 1,
   "metadata": {
    "collapsed": false
   },
   "outputs": [
    {
     "ename": "SyntaxError",
     "evalue": "invalid syntax (<ipython-input-1-e4c31733e46a>, line 6)",
     "output_type": "error",
     "traceback": [
      "\u001b[0;36m  File \u001b[0;32m\"<ipython-input-1-e4c31733e46a>\"\u001b[0;36m, line \u001b[0;32m6\u001b[0m\n\u001b[0;31m    alter=\u001b[0m\n\u001b[0m           ^\u001b[0m\n\u001b[0;31mSyntaxError\u001b[0m\u001b[0;31m:\u001b[0m invalid syntax\n"
     ]
    }
   ],
   "source": [
    "##Karriereplanung\n",
    "#vorraussichtliche Dauer deines Studiums in Jahren, hier als Gleitkommazahl (float) angegebn\n",
    "studienlänge= 3.5 \n",
    "\n",
    "#Hier kannst du dein Alter in Jahren angeben\n",
    "alter = \n",
    "\n",
    "#In Python kann man auch als Taschenrechner gebrauchen und Zahlen addieren +, multiplizieren *, dividieren /, potenzieren Basis**Potenz oder Modulo rechen %\n",
    "abschlussalter= alter+studienlänge\n",
    "anteil= studienlänge/ alter   #in Python 3 kann man  mit / dividieren, mit // bekommt man Ganzzahldivision\n",
    "doppelabschluss_dauer= studienlänge*2 # wir machen direkt zwei Abschlüsse, einen an der FH und einen RWTH, dazu brauchen wir die doppelte Zeit \n",
    "gerade_oder_ungerade= alter%2 #falls dein alter eine gerade Zahl ist, dann ist alter %2 0, also dein alter durch 2 teilbar\n",
    "#um den Satz gemeinsam mit den Variablen zu printen, kannst du diese zu einer Zeichenkette konvertieren\n",
    "print('Mit '+ str(abschlussalter)+ ' Jahren werde ich mein Studium abgeschlossen haben.')\n",
    "\n",
    "## Wir werfen 3 eine Münze( Kopf, Zahl) \n",
    "#bei dreimal Kopf machen wir das Doppelstudium\n",
    "ereignis_anzahl= 2**3 #Anzahl aller möglichen Ereignisse, mit ** potenzieren wir die 2\n",
    "wahrscheinlichkeit_dreimalkopf= 1/ereignis_anzahl\n",
    "prozent= wahrscheinlichkeit_dreimalkopf*100\n",
    "print('Mit' +str(prozent) +'% machen wir das Doppelstudium.' )\n"
   ]
  },
  {
   "cell_type": "markdown",
   "metadata": {
    "collapsed": false
   },
   "source": [
    "Neben den **Basisdatentypen** (Ganzzahlen, Boolean, Zeichenketten, ...) gibt es auch **Listen und Felder**. Damit kannst du ganze Datensätze speichern. Zudem sind sie veränderbar.\n",
    "\n",
    "## Schleifen\n",
    "Weiterhin kannst du Schleifen nutzen, um wiederholende Befehle zu automatisieren. Die for-Schleife operiert über einen Index, während die while-Schleife ausgeführt wird, solange eine Bedingung erfüllt ist."
   ]
  },
  {
   "cell_type": "code",
   "execution_count": 0,
   "metadata": {
    "collapsed": false
   },
   "outputs": [
   ],
   "source": [
    "#wir legen zunächst eine leere Liste an\n",
    "liste= [] \n",
    "#darin wollen wir die Zahlen 1 bis 10 speichern mitthilfe der append() Funktion an die liste anhängen\n",
    "#wenn nicht angegeben, ist die schrittweite 1\n",
    "i=0\n",
    "while i<11:\n",
    "    liste.append(i)\n",
    "    i=i+1 #nach jedem Schleifendurchgang erhöhen wir i\n",
    "\n",
    "print('Anfangsliste: '+str(liste))\n",
    "\n",
    "#wenn uns nur ein bestimmter Bereich der Liste interessiert, z.B. beim Würfeln kommen wir nur bis zur 6, können wir mittels Slicing selektieren\n",
    "#Slicing: liste[start:stop:schrittweite] \n",
    "liste= liste[:6]\n",
    "\n",
    "print('gekürtze Liste: ' +str(liste))\n",
    "\n",
    "#Du kannst nun 10 mal würfeln und die Häufigkeit der Vorkommnisse der Zahlen 1 bis 6 in eine Liste festhalten, gegen Ende des Blattes kommen wir darauf zurück\n",
    "#trenne die Häufigkeiten für 1,2,3,... mit einem Komma z.B. 0,2,4,...\n",
    "häufigkeit=[] \n",
    "\n",
    "#um auf das i-te Element der Liste zu erhalten, kannst du über list[i] darauf zugreifen\n",
    "#wir wollen nun den Mittelwert berechnen\n",
    "summe=0\n",
    "for element in häufigkeit:\n",
    "    summe= summe+element\n",
    "    \n",
    "#len(list) gibt die Anzahl der Elemente in der Liste \n",
    "mittelwert= summe/ len(häufigkeit)\n",
    "#auch hier runden wir \n",
    "mittelwert= round(mittelwert,3)\n",
    "print('Mittelwert der Häufigkeiten: '+ str(mittelwert))"
   ]
  },
  {
   "cell_type": "markdown",
   "metadata": {
    "collapsed": false
   },
   "source": [
    "## Numpy\n",
    "Einiges ist bereits in Python geschrieben wurden und in Modulen zusammengefasst. Um diese verwenden zu können, müssen wir das Modul importieren.\n",
    "Um Rechenoperatoren elementweise auf Datensätze anzuwenden, sind Numpy Felder nützlich. Numpy is ein Modul für numerisches Rechnen, in dem schon einige Funktionen eingebaut sind. "
   ]
  },
  {
   "cell_type": "code",
   "execution_count": 0,
   "metadata": {
    "collapsed": false
   },
   "outputs": [
   ],
   "source": [
    "import numpy as np #im Folgenden könnnen wir statt numpy auszuschreiben np sagen\n",
    "\n",
    "#in numpy sind bspw. Konstanten verfügbar, bspw. die eulersche Zahl np.exp(1), oder die Kreiszahl np.pi \n",
    "#diese werden mit vielen Nachkommastellen gegeben, daher runden wir mithilfe der Funktion round(zahl, nachkommastellen) \n",
    "e_gerundet= round(np.exp(1), 3)\n",
    "print( \"Die eulersche Zahl ist \"+ str(e_gerundet) )\n",
    "\n",
    "#der Mittelwert von eben kaann jetzt leicht ermittelt werden\n",
    "mittelwert= np.mean(häufigkeit)\n",
    "#auch die Standardabweichung kann berechnet werden\n",
    "sigma= np.std(häufigkeit)\n",
    "\n",
    "\n",
    "#Sehr wichtig sind die Felder in numpy, mit Ihnen kann man sehr gut elementweise Rechnungen durchführen\n",
    "#bspw. können wir die häufigkeiten als np array konvertieren und quadrieren\n",
    "\n",
    "häufigkeit= np.array( häufigkeit)\n",
    "quadrate= häufigkeit**2\n",
    "\n",
    "#wir legen einen Spaltenvektor, d.h einen eindimensionales Array an\n",
    "v= np.array([ [1], [2] ])\n",
    "#nun legen wir eine 2x2 Matrix an, die diesen Vektor um  pi (180°) rotiert, in numpy sind sin und cos verfügbar\n",
    "M= np.array([ [np.cos(np.pi), - np.sin(np.pi)], [np.sin(np.pi) , np.cos(np.pi)] ])\n",
    "\n",
    "#nun multipliieren wier an M den Vektor v\n",
    "v_rotiert= np.dot(M,v)\n",
    "\n",
    "print(v_rotiert)\n",
    "\n",
    "#modifiziere das ganze für andere Winkel"
   ]
  },
  {
   "cell_type": "markdown",
   "metadata": {
    "collapsed": false
   },
   "source": [
    "## Plots\n",
    "Ein weiteres schönes Modul ist matplotlib. Damit kannst du Daten visualisieren, und so Zusammenhänge in den Daten leichter zu erkennen.\n",
    "Wir wollen das am Beispiel des Würfelwurfes nachvollziehen."
   ]
  },
  {
   "cell_type": "code",
   "execution_count": 0,
   "metadata": {
    "collapsed": false
   },
   "outputs": [
   ],
   "source": [
    "import matplotlib.pyplot as plt \n",
    "\n",
    "#wir zeichen ein sog. Histogramm, also die Häufigkeiten, die du vorher ermittelt hast\n",
    "#mit bar(x-Werte, y-Werte) werden Balken statt linen o.Ä. gezeichnet\n",
    "plt.bar(liste, häufigkeit)\n",
    "\n",
    "#wir beschriften die Achsen\n",
    "plt.xlabel('Würfzahl')\n",
    "plt.ylabel('Häufigkeit')\n",
    "#und geben dem ganzen einen Titel\n",
    "plt.title( name+ \" 's Würfelversuch\")  "
   ]
  },
  {
   "cell_type": "markdown",
   "metadata": {
    "collapsed": false
   },
   "source": [
    "## Funktionen\n",
    "Im Fall des Würfelwerfens ist die erwartete Verteilung der Häufigkeiten eine sog. Gaussverteilung. Die können wir als Funktion schreiben."
   ]
  },
  {
   "cell_type": "code",
   "execution_count": 0,
   "metadata": {
    "collapsed": false
   },
   "outputs": [
   ],
   "source": [
    "\n",
    "#wir definieren nun eine Funktion(Argumente)\n",
    "def gauss(x,a,x0,sigma):\n",
    "    return a*np.exp(-(x-x0)**2/(2*sigma**2))\n",
    "\n",
    "# um mit der liste rechen zu können wir diese als np array umwandeln\n",
    "liste=np.array(liste)\n",
    "#die erwartete Gausskurve ist \n",
    "Erwartung = gauss(liste, max(häufigkeit), mittelwert, sigma )\n",
    "#nun zeichnen wir die Gausskurve\n",
    "plt.plot(liste, Erwartung)\n",
    "\n",
    "#oder auch mit Balken, mit alpha kann man Transparenz einstellen \n",
    "plt.bar(liste, Erwartung, label='Erwartung', color='green', alpha=0.5)\n",
    "#nun auch das Experiment zum Vergleich\n",
    "plt.bar(liste, häufigkeit, label='Experiment', color='red', alpha=0.5)\n",
    "\n",
    "#wir lassen die Label anzeigen\n",
    "plt.legend()\n",
    "#wir beschriften die Achsen\n",
    "plt.xlabel('Würfzahl')\n",
    "plt.ylabel('Häufigkeit')\n",
    "#und geben dem ganzen einen Titel\n",
    "plt.title( name+ \" 's Würfelversuch\")  "
   ]
  },
  {
   "cell_type": "code",
   "execution_count": 0,
   "metadata": {
    "collapsed": false
   },
   "outputs": [
   ],
   "source": [
   ]
  }
 ],
 "metadata": {
  "kernelspec": {
   "display_name": "Python 3 (system-wide)",
   "language": "python",
   "metadata": {
    "cocalc": {
     "description": "Python 3 programming language",
     "priority": 100,
     "url": "https://www.python.org/"
    }
   },
   "name": "python3",
   "resource_dir": "/ext/jupyter/kernels/python3"
  },
  "language_info": {
   "codemirror_mode": {
    "name": "ipython",
    "version": 3
   },
   "file_extension": ".py",
   "mimetype": "text/x-python",
   "name": "python",
   "nbconvert_exporter": "python",
   "pygments_lexer": "ipython3",
   "version": "3.7.6"
  }
 },
 "nbformat": 4,
 "nbformat_minor": 4
}