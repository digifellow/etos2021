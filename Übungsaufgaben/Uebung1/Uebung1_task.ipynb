{
 "cells": [
  {
   "cell_type": "markdown",
   "metadata": {
    "collapsed": false
   },
   "source": [
    "<div>\n",
    "    <img src=\"static/FHAachen-logo2.svg\" style=\"float: right;height: 15em;\">\n",
    "</div>\n",
    "<div>\n",
    "    <img src=\"static/IIIPIB_RWTH.png\" style=\"float: right;height: 6.5em;\">\n",
    "</div>\n",
    "\n",
    "**Einführung in die Physik im SS 2021** \\\n",
    "**Darius Mottaghy**        \\\n",
    "**Stefan Roth**\n",
    "\n",
    "## Übung 1: Einführung\n",
    "\n",
    "\n",
    "---\n",
    "##### Übersicht der Aufgaben\n",
    "1. [Umrechnen von Einheiten](#1)\n",
    "2. [Armeisenstraße - Größen berechnen](#2)\n",
    "3. [Winkelmaß](#winkel)\n",
    "3. [Fehlerrechung](#fr)\n",
    "---\n",
    "\n",
    "#### Physikalische Größen\n",
    "<div style=\" border: 2px solid black;margin: 10px auto; padding: 10px; border-radius: 10px;\">\n",
    "\n",
    "Eine **physikalische Größe**, z.B. die Länge $l$, enthält sowohl eine **Maßzahl** als auch eine **Maßeinheit**. Die Maßeinheit gibt den für die Messung verwendeten Standard an und die Maßzahl, wie oft der Standard in der gemessenen Größe enthalten ist:\n",
    "\n",
    "$$\\underbrace{l}_{\\text{Physikalische Größe}} = \\underbrace{15}_{\\text{Zahlenwert}}  \\cdot \\underbrace{\\text{m}}_{\\text{Einheit}}.$$\n",
    "\n",
    "\n",
    "\n",
    "Damit weltweit das gleiche Referenzsystem gilt und dadurch lästige Umrechnungen zwischen den Systemen unnötig werden, wurde ein internationales Einheitensystem (**SI-System**: Système international d’unités) eingeführt. Im SI-Einheitensystem sind nun sieben Grundeinheiten definiert, aus denen sich alle anderen physikalischen Einheiten ableiten lassen:\n",
    "\n",
    "|Basisgröße und Dimensionsname|Größensymbol|Dimensionssymbol|Einheit|Einheitenzeichen|\n",
    "|:------|:------|:------|:------|:------|\n",
    "|Länge |$l$ | L|Meter |m |\n",
    "|Masse|$m$|M|Kilogramm|kg|\n",
    "|Zeit |$t$ |T |Sekunde |s |\n",
    "|Stromstärke|$I$ |I |Ampere |A |\n",
    "|Temperatur|$T$ |T |Kelvin |K |\n",
    "|Stoffmenge |$n$ |N |Mol |mol |\n",
    "|Lichstärke |$I_V$ |J |Candela |cd |\n",
    "\n",
    "Abgeleitete Größen erhalten eine **Dimension**, d.h. eine algebraische Kombination der Grundgrößen, die ihrer Definition entspricht. Beispiel: das **Volumen** $V$ hat als **Produkt dreier Längen** die\n",
    "Dimension L³.\n",
    "\n",
    "\n",
    "#### Umrechnung von Messeinheiten\n",
    "\n",
    "Als Beispiel werden wir 13000 Meter in Kilometer umrechnen:\n",
    "\n",
    "- Aufstellung einer Gleichung mit den umzurechnenden Größen:\n",
    "\n",
    "$$1000 \\mbox{ m} = 1 \\mbox{ km}$$\n",
    "\n",
    "\n",
    "- Umformen der Gleichung, so dass auf einer Seite der Gleichung ”1“ steht und auf der anderen Seite die Größe, in die man umrechnen will im Zähler und die Größe, aus der man umrechnen will, im Nenner.\n",
    "$$1 = \\underbrace{\\frac{1\\mbox{ km}}{1000 \\mbox{ m}}}_{\\text{\"konstruktive 1\"}}=\\underbrace{\\frac{1}{1000}}_{\\text{Umrechnungsfaktor}} \\frac{\\mbox{ km}}{\\mbox{ m}} .$$\n",
    " \n",
    " \n",
    "- Multiplizieren mit dem Ausdruck aus Schritt 2 (eine *konstruktive 1*) und Kürzen.\n",
    "$$ \n",
    "13000 \\mbox{ m} = 13000 \\mbox{ m}\\cdot 1 = 13000 \\mbox{ ₥} \\cdot \\frac{1\\mbox{ km}}{1000 \\mbox{ ₥}} = 13 \\mbox{ km}.$$\n",
    "\n",
    "Beispiel für die Umrechnung einer durch Multiplikation und/oder Division erzeugte Einheit:\n",
    "\n",
    "$$ 50~\\frac{\\text{km}}{\\text{h}} = \\frac{1000\\text{ m}}{1\\text{ km}} \\cdot \\frac{1\\text{ h}}{3600 \\text{ s}} \\cdot 50~\\frac{\\text{km}}{\\text{h}} = \\underbrace{\\frac{1000}{3600}}_{{\\text{Umrechnungsfaktor}}} \\cdot 50~\\frac{\\text{m}}{\\text{s}}$$\n",
    "    \n",
    "Eine andere Möglichkeit ist Vorsätze (siehe die untere Tabelle) anzuwenden. Das *k* in *km* bedeutet Kilo, es entspricht ein 10³ Vielfaches, daraus folgt:\n",
    "\n",
    "$$1\\mbox{ km}=1\\cdot 10^{3} \\mbox{ m} = 1000 \\mbox{ m}.$$\n",
    "\n",
    "|Vielfaches| Vorsatz|Abkürzung|\n",
    "|:------|:------|:------|\n",
    "|10⁶   | Mega |M     | \n",
    "|10³   | Kilo |k     | \n",
    "|10²   | Hekto|h     | \n",
    "|10¹   | Deka |da    | \n",
    "|10⁻¹  | Dezi |d     |\n",
    "|10⁻²  | Zenti|c     | \n",
    "|10⁻³  | Milli|m     |\n",
    "|10⁻⁶  | Mikro|μ     |\n",
    "    \n",
    "</div>\n",
    "\n",
    "#### <i class=\"fas fa-laptop-code\"></i> Python als Taschenrechner\n",
    "\n",
    "Als Beispiel werden wir $350 \\text{ km}$ in $\\text{m}$ umrechnen.\n",
    "\n",
    "\n",
    "1. Geben Sie die gegebene Größe ein:\n",
    "\n",
    "```python\n",
    "# Gegebene Größen:\n",
    "G = 350       # Größe in km\n",
    "```\n",
    "Hier wurde den Wert der Größe in der Variable ```G``` gespeichert.\n",
    "    \n",
    "2. Berechnen Sie den Umrechnungsfaktor:\n",
    "\n",
    "```python\n",
    "# Umrechnungsfaktor:\n",
    "U_km_in_m = 1000     # 1 km entspricht 1000 m\n",
    "```\n",
    "Der Umrechnungsfaktor wurde in der Variablen ```U_km_in_m``` gespeichert.\n",
    "\n",
    "3. Multiplizieren Sie die umzurechnenden Größen mit dem Umrechnungsfaktor\n",
    "\n",
    "```python\n",
    "# Umrechnung:\n",
    "U = U_km_in_m * G\n",
    "```\n",
    "4. Geben Sie das Ergebnis aus:\n",
    "\n",
    "```python\n",
    "# Ausgabe:\n",
    "print(G, \" km entsprechen \", U, \" m.\")\n",
    "```\n",
    "\n",
    "<code>SHIFT⇪</code> + <code>ENTER ↵ </code> zum Ausführen des unten stehenden Codes."
   ]
  },
  {
   "cell_type": "code",
   "execution_count": 2,
   "metadata": {
    "collapsed": false
   },
   "outputs": [
    {
     "name": "stdout",
     "output_type": "stream",
     "text": [
      "350 km entsprechen  350000 m.\n"
     ]
    }
   ],
   "source": [
    "# Gegebene Großen:\n",
    "G = 350           # Größe in km\n",
    "\n",
    "# Umrechnungsfaktor:\n",
    "U_km_in_m = 1000  # 1 km entspricht 1000 m\n",
    "\n",
    "# Umrechnung:\n",
    "U = U_km_in_m * G\n",
    "\n",
    "# Ausgabe:\n",
    "print(G, \"km entsprechen \", U, \"m.\")"
   ]
  },
  {
   "cell_type": "markdown",
   "metadata": {
    "collapsed": false
   },
   "source": [
    "<div class=\"alert alert-block alert-info\">\n",
    "<i class=\"fas fa-lightbulb\"></i> <b>Code Tipps:</b> \n",
    "<ul>\n",
    "<li> Ein Objekt <code>x = 1.56</code> (Syntax: Variable = Zahl) mit dem Namen <code>x</code> weist den Wert <code>1.56</code> zu und hat den Datentyp <code>int</code> (ganze Zahl) oder <code>float</code> (Gleitkommazahl); </li>\n",
    "    <li> Numerische Variablen können Sie mit den arithmetischen Operatoren <code>+,-,*,/</code> verknüpfen;\n",
    "    </li>\n",
    "    <li> Sie können eine Dezimalzahl auch mit dem Symbol <code>e</code> als Zehnerpotenz schreiben, z. B. <code>3.1e3</code> für die Zahl <code>3100.0</code>.\n",
    "    </li>\n",
    "    <li> Die Ausgabe eines Objekts erfolgt mit der <code>print()</code> Anweisung:<br>  \n",
    "    <code>print(\"Der Wert der Variable ist \", x)</code>\n",
    "</div>"
   ]
  },
  {
   "cell_type": "markdown",
   "metadata": {
    "collapsed": false
   },
   "source": [
    "<div style= \"color: black; background-color: rgba(0,177,172, 0.1) ;margin: 10 px auto; padding: 10px; border-radius: 10px\">\n",
    "    <p style=\"font-size:12pt; text-align:center; color: black;background-color: rgba(0,177,172, 0.1) ;margin: 10 px auto; padding: 10px; border-radius: 10px\" id=\"1\"> <b> Aufgabe 1 -  Umrechnung von Größen </b> </p> \n",
    "\n",
    "<a name=\"1i\"><b>i)</b></a> Rechnen Sie um:<br>\n",
    "&emsp;<b>a)</b> $8 \\text{ kg}$ in $\\text{μg}$<br>\n",
    "&emsp;<b>b)</b> Ein Mikrojahrhundert in Minuten <br>\n",
    "    <br>\n",
    "<a name=\"1ii\"><b>ii)</b></a> Rechnen Sie um:</p> \n",
    "&emsp;<b>c)</b> $180 \\text{ km/h}$ in $\\text{ m/s}$<br>\n",
    "&emsp;<b>d)</b> $2,\\!4 \\text{ g/cm³}$ in $\\text{kg/m³}$  \n",
    "&emsp;<b>e)</b> $4,\\!5 \\text{ kWh}$ in $\\text{MJ}$    \n",
    "</div>"
   ]
  },
  {
   "cell_type": "markdown",
   "metadata": {
    "collapsed": false
   },
   "source": [
    "<div class=\"alert alert-block alert-danger\">\n",
    "<i class=\"fas fa-exclamation-triangle\"></i> <b>Vorsicht!</b> \n",
    "<ul>\n",
    "<p>  In Python wird statt des Kommas ein <b>Punkt</b> als <b>Dezimalpunkt</b> benutzt. \n",
    " </p>     \n",
    "</div>"
   ]
  },
  {
   "cell_type": "code",
   "execution_count": 4,
   "metadata": {
    "collapsed": false
   },
   "outputs": [
   ],
   "source": [
    "# Umrechnungsfaktoren:\n",
    "U_mug_in_kg  =                      # 1 kg entspricht 1000 g und 1 g entspricht 10⁶ μg\n",
    "U_mujh_in_min =                     # 1 Mikrojahrhundert entspricht 10⁻⁶ Jh, 1 Jh entspricht 100 Jahre, ein Jahr 365 Tage, 1 Tag 24 Stunden und 1 Stunde 60 Minuten"
   ]
  },
  {
   "cell_type": "markdown",
   "metadata": {
    "collapsed": false,
    "jupyter": {
     "source_hidden": false
    }
   },
   "source": [
    "<font style=\"background-color:#BFBFBF \"> **Vorgehensweise:**</font>\n",
    "\n",
    "1. Berechnen Sie die Umrechnungsfaktoren für die zwei Teilaufgaben in [i)](#1i)."
   ]
  },
  {
   "cell_type": "code",
   "execution_count": 6,
   "metadata": {
    "collapsed": false
   },
   "outputs": [
   ],
   "source": [
    "# Umrechnungsfaktoren:\n",
    "U_mug_in_kg  =                      # 1 kg entspricht 1000 g und 1 g entspricht 10⁶ μg\n",
    "U_mujh_in_min =                     # 1 Mikrojahrhundert entspricht 10⁻⁶ Jh, 1 Jh entspricht 100 Jahre, ein Jahr 365 Tage, 1 Tag 24 Stunden und 1 Stunde 60 Minuten"
   ]
  },
  {
   "cell_type": "markdown",
   "metadata": {
    "collapsed": false
   },
   "source": [
    "2. Geben Sie die umzuwandelnde Größe der Teilaufgabe **a)** an und multiplizieren Sie sie mit dem Umrechnungsfaktor, geben Sie am Ende Ihr Ergebnis mit Hilfe einer `print`-Anweisung aus."
   ]
  },
  {
   "cell_type": "code",
   "execution_count": 8,
   "metadata": {
    "collapsed": false
   },
   "outputs": [
   ],
   "source": [
    "Ga =\n",
    "Ua =\n",
    "print(\"a) \")"
   ]
  },
  {
   "cell_type": "markdown",
   "metadata": {
    "collapsed": false
   },
   "source": [
    "3. Geben Sie die umzuwandelnde Größe der Teilaufgabe **b)** an und multiplizieren Sie sie mit dem Umrechnungsfaktor, geben Sie am Ende Ihr Ergebnis mit Hilfe einer `print`-Anweisung aus."
   ]
  },
  {
   "cell_type": "code",
   "execution_count": 10,
   "metadata": {
    "collapsed": false
   },
   "outputs": [
   ],
   "source": [
    "Gb =\n",
    "Ub =\n",
    "print(\"b) \" )"
   ]
  },
  {
   "cell_type": "markdown",
   "metadata": {
    "collapsed": false
   },
   "source": [
    "<div style=\" border: 2px solid black;margin: 10px auto; padding: 10px; border-radius: 10px;\">\n",
    "    \n",
    "#### Signifikante Stellen und Nachkommastellen\n",
    "Da die Angabe physikalischer Größen immer eine begrenzte Genauigkeit hat, ist es notwendig, Zahlenangaben auf signifikante Stellen zu beschränken.\n",
    "\n",
    "|Zahl| Signifikante Stellen|Nachkommastellen|\n",
    "|:------|:------|:------|\n",
    "|76,45     | 4|2    | \n",
    "|0,001564  | 4|6    | \n",
    "|234,3⋅10⁴ | 4|1    | \n",
    "\n",
    "#### Physikalische Notierung: \n",
    "In der Physik hat man es oft mit sehr großen und sehr kleinen Zahlen zu tun, hierfür gibt es eine praktische Schreibweise, die **Exponentialschreibweise**. Beispiele:\n",
    "\n",
    "$$12 000 000 = 1,2\\cdot 10^7$$\n",
    "oder\n",
    "$$0,0001 = 1\\cdot 10^{-4} = 10^{-4}.$$\n",
    "</div>\n",
    "\n",
    "\n",
    "<div class=\"alert alert-block alert-info\">\n",
    "<b>Code Tipps:  Formatierte Ausgabe mit <code><font color=green>print</font>()</code></b>\n",
    "<br><br>\n",
    "    <ul>\n",
    "    <li><b>Ganze Zahlen</b>:<br>\n",
    "    Wenn man die Stellenzahl der Ausgabe vorgeben möchte, fügt man eine sogenannte Formatbeschreibung, hier z. B. <code>%5i</code>, ein und setzt den String-Modulo-Operator <code>%</code> zwischen Text und Variable, z.B.:\n",
    "        \n",
    "```python\n",
    "print(\"Wert: %5i\" % 42) \n",
    "print(\"Wert: %5i\" % 12342) \n",
    "```        \n",
    "ergibt\n",
    "          \n",
    "```python\n",
    "Wert:    42\n",
    "Wert: 12342 \n",
    "```        \n",
    "\n",
    " </li>\n",
    " <li><b>Nachkommastellen</b>: \n",
    "        $$\\underbrace{\\#\\#.\\underbrace{\\#\\#}_{\\text{2}}}_{\\verb|%4.2f|}$$\n",
    "       Die Syntax <code>%4.2f</code>  ist eine Formatbeschreibung für eine Floatzahl <code>f</code>, wobei <code>4</code> die Gesamtzahl der Stellen ist, mit der die Zahl ausgegeben werden soll. Der Dezimalanteil bzw. die Anzahl der Nachkommastellen ist auf <code>2</code> gesetzt, dies ist die Zahl hinter dem \"<code>.</code>\", z.B.:\n",
    "\n",
    "```python\n",
    "print(\"Wert: %4.2f\" % 34.678621) \n",
    "```  \n",
    "ergibt\n",
    "     \n",
    "```python\n",
    "Wert: 34.68 \n",
    "```\n",
    "</li>\n",
    "<li><b>Exponentialformat</b>:<br>\n",
    "       Die Syntax <code>%.4e</code>  ist eine Exponentialformatbeschreibung <code>e</code>, <code>4</code> ist der Dezimalanteil bzw. die Anzahl der Nachkommastellen, z.B.:\n",
    "        \n",
    "```python\n",
    "print(\"Wert: %.4e\" % 34.678621)\n",
    "```  \n",
    "ergibt\n",
    "     \n",
    "```python\n",
    "Wert: 3.4679e+01 \n",
    "```        \n",
    " </li> \n",
    "        \n",
    "<li><b>Formatierung mit Variablen</b>:<br>\n",
    "    \n",
    "```python\n",
    "# Ausgabe:\n",
    "print(\"%.0f km entsprechen %.0f m\" % (G, U))\n",
    "```    \n",
    "Die Größe ```G``` und der umgerechnete Wert ```U``` wurden mit Hilfe von ```print``` ausgegeben. `\"%.0f km entsprechen %.0f m\"` ist der Format-String,  `%` der String-Modulo-Operators und `(G, U)` ein Tupel mit den numerischen Werten `G` bzw. `U`. \n",
    "</div>"
   ]
  },
  {
   "cell_type": "markdown",
   "metadata": {
    "collapsed": false
   },
   "source": [
    "<font style=\"background-color:#BFBFBF \"> **Vorgehensweise in [ii)](#1ii) :**</font>\n"
   ]
  },
  {
   "cell_type": "markdown",
   "metadata": {
    "collapsed": false,
    "jupyter": {
     "source_hidden": false
    }
   },
   "source": [
    "4. Berechnen Sie die Umrechnungsfaktoren für die drei Teilaufgaben in [ii)](#1ii). Es handelt sich um die Umrechnung einer durch Multiplikation und/oder Division erzeugten Einheit"
   ]
  },
  {
   "cell_type": "code",
   "execution_count": 13,
   "metadata": {
    "collapsed": false
   },
   "outputs": [
   ],
   "source": [
    "U_kmh_in_ms =                            # 1 km entspricht 1000 m und 1 h entspricht 3600 s\n",
    "U_gcm3_in_kgm3 =                         # 1 g entspricht 10⁻³ kg und 1 cm entspricht 10⁻² m\n",
    "U_kWh_in_MJ =                            # 1 kW entspricht 1000 W, 1 h entspricht 3600 s, 1 Ws entspricht 1 J, 1 J entspricht 10⁻⁶ MJ"
   ]
  },
  {
   "cell_type": "markdown",
   "metadata": {
    "collapsed": false
   },
   "source": [
    "5. Geben Sie die umzuwandelnde Größe der Teilaufgabe **c)** an und multiplizieren Sie sie mit dem Umrechnungsfaktor, geben Sie am Ende Ihr Ergebnis mit Hilfe einer `print`-Anweisung aus."
   ]
  },
  {
   "cell_type": "code",
   "execution_count": 15,
   "metadata": {
    "collapsed": false
   },
   "outputs": [
   ],
   "source": [
    "Gc =\n",
    "Uc =\n",
    "print(\"c) \")"
   ]
  },
  {
   "cell_type": "markdown",
   "metadata": {
    "collapsed": false
   },
   "source": [
    "6. Geben Sie die umzuwandelnde Größe der Teilaufgabe **d)** an und multiplizieren Sie sie mit dem Umrechnungsfaktor, geben Sie am Ende Ihr Ergebnis mit Hilfe einer `print`-Anweisung aus."
   ]
  },
  {
   "cell_type": "code",
   "execution_count": 17,
   "metadata": {
    "collapsed": false
   },
   "outputs": [
   ],
   "source": [
    "Gd =\n",
    "Ud =\n",
    "print(\"d) \")"
   ]
  },
  {
   "cell_type": "markdown",
   "metadata": {
    "collapsed": false
   },
   "source": [
    "7. Geben Sie die umzuwandelnde Größe der Teilaufgabe **e)** an und multiplizieren Sie sie mit dem Umrechnungsfaktor, geben Sie am Ende Ihr Ergebnis mit Hilfe einer `print`-Anweisung aus."
   ]
  },
  {
   "cell_type": "code",
   "execution_count": 19,
   "metadata": {
    "collapsed": false
   },
   "outputs": [
   ],
   "source": [
    "Ge =\n",
    "Ue =\n",
    "print(\"e) \")"
   ]
  },
  {
   "cell_type": "markdown",
   "metadata": {
    "collapsed": false
   },
   "source": [
    "<div style= \"color: black;background-color: rgba(0,177,172, 0.1) ;margin: 10 px auto; padding: 10px; border-radius: 10px\">\n",
    "<p style=\"font-size:12pt; text-align:center; color: black;background-color: rgba(0,177,172, 0.1) ;margin: 10 px auto; padding: 10px; border-radius: 10px\" id=\"2\"><b>  Aufgabe 2 - Ameisenstraße</b>  </p> \n",
    "Eine Ameisenstraße besteht aus 6 Millionen Ameisen, die Kopf an Hinterteil laufen. Nehmen Sie für die Maße der Ameisen $7\\text{ mm} × 1\\text{ mm} × 1\\text{ mm}$ an. <br>\n",
    "<b>a)</b> Wie lang ist die Ameisenstraße in Ångstrom ($\\text{Å}$) und Kilometer? ($1\\text{ Å} = 10^{-10}\\text{ m}$)<br>\n",
    "<b>b)</b> Wie viele Liter und Kubikzentimeter beträgt das Gesamtvolumen der Ameisenstraße, ausgedrückt in Exponentialschreibweise?<br>\n",
    "<b>c)</b> Wie viele Gramm und Tonnen wiegt die gesamte Ameisenstraße? Verwenden Sie zur vereinfachten Berechnung die Dichte des Wassers ($\\rho = 1000 \\text{ kg/m³}$ )."
   ]
  },
  {
   "cell_type": "markdown",
   "metadata": {
    "collapsed": false
   },
   "source": [
    "<font style=\"background-color:#BFBFBF \"> **Vorgehensweise  :**</font>\n",
    "1. Definieren Sie die Ausmaße der Ameisen ($l, \\, b$ und $h$) in $\\text{m}$, dann berechnen Sie die Länge in $\\text{m}$, das gesamte Volumen ($V=l\\times b \\times h$) in $\\text{m³}$ und die Masse in $\\text{kg}$ der Ameisenstraße ($\\rho = \\frac{m}{V}$)."
   ]
  },
  {
   "cell_type": "code",
   "execution_count": 21,
   "metadata": {
    "collapsed": false
   },
   "outputs": [
   ],
   "source": [
    "#Dimensionen der Ameisen\n",
    "l =         # Länge der Ameisen in m\n",
    "h =         # Höhe der Ameisen in m\n",
    "b =         # Breite der Ameisen in m\n",
    "\n",
    "\n",
    "anzahl =    # Anzahl der Ameisen \n",
    "rho =       # Dichte des Wassers in kg/m³\n",
    "\n",
    "L =         # gesamte Länge in m \n",
    "V =         # gesamtes Volumen in m³ \n",
    "M =         # gesamte Masse in kg"
   ]
  },
  {
   "cell_type": "markdown",
   "metadata": {
    "collapsed": false
   },
   "source": [
    "2. Berechnen Sie die Umrechnungsfaktoren für die drei Teilaufgaben."
   ]
  },
  {
   "cell_type": "code",
   "execution_count": 23,
   "metadata": {
    "collapsed": false
   },
   "outputs": [
   ],
   "source": [
    "# Für a)\n",
    "U_m_in_A =        # 1 m entspricht 10¹⁰ Å\n",
    "U_m_in_km =       # 1 km entspricht 1000 m\n",
    "\n",
    "# Für b)\n",
    "U_m3_in_L =       # 1 m³ entspricht 1000 L\n",
    "U_m3_in_cm3 =     # 1 cm³ entspricht 10⁻⁶ m³\n",
    "\n",
    "# Für c)\n",
    "U_kg_in_g =       # 1 kg entpricht 1000 g\n",
    "U_kg_in_T =       # 1 Tonne entspricht 1000 kg"
   ]
  },
  {
   "cell_type": "markdown",
   "metadata": {
    "collapsed": false
   },
   "source": [
    "3. Multiplizieren Sie die berechnete gesamte Länge mit den Umrechnungsfaktoren, geben Sie am Ende Ihr Ergebnis mit Hilfe einer `print`-Anweisung aus."
   ]
  },
  {
   "cell_type": "code",
   "execution_count": 25,
   "metadata": {
    "collapsed": false
   },
   "outputs": [
   ],
   "source": [
    "Ua1 =\n",
    "Ua2 =\n",
    "print('a) ')"
   ]
  },
  {
   "cell_type": "markdown",
   "metadata": {
    "collapsed": false
   },
   "source": [
    "4. Multiplizieren Sie das berechnete gesamte Volumen mit den Umrechnungsfaktoren, geben Sie am Ende Ihr Ergebnis mit Hilfe einer `print`-Anweisung aus."
   ]
  },
  {
   "cell_type": "code",
   "execution_count": 27,
   "metadata": {
    "collapsed": false
   },
   "outputs": [
   ],
   "source": [
    "Ub1 =\n",
    "Ub2 =\n",
    "print('b) ')"
   ]
  },
  {
   "cell_type": "markdown",
   "metadata": {
    "collapsed": false
   },
   "source": [
    "5. Multiplizieren Sie die berechnete gesamte Masse mit den Umrechnungsfaktoren, geben Sie am Ende Ihr Ergebnis mit Hilfe einer `print`-Anweisung aus."
   ]
  },
  {
   "cell_type": "code",
   "execution_count": 29,
   "metadata": {
    "collapsed": false
   },
   "outputs": [
   ],
   "source": [
    "Uc1 =\n",
    "Uc2 =\n",
    "print('c) ')"
   ]
  },
  {
   "cell_type": "markdown",
   "metadata": {
    "collapsed": false
   },
   "source": [
    "<div style=\" border: 2px solid black;margin: 10px auto; padding: 10px; border-radius: 10px;\">\n",
    "    <h3>Fehlerrechnung</h3>\n",
    "Jede Messung einer Größe $x_i$ (Messwert $x_i$) ist prinzipiell mit Fehlern bzw. mit einer Messunsicherheit behaftet. \n",
    "\n",
    "Der **Messfehler** ist als die Differenz zwischen Messwert $x_i$ und grundsätzlich unbekanntem wahren Wert $x_w$ der Messgröße definiert. Diese Differenz wird auch als der **absolute Fehler** ausgedruckt:\n",
    "$$\\Delta x_i = x_w - x_i.$$\n",
    "\n",
    "Oftmals berechnet man lieber den **relativen Fehler**, der als das Verhältnis von absolutem Fehler $\\Delta x_i$ zum Messwert $x_i$ definiert ist:\n",
    "\n",
    "$$\\frac{\\Delta x_i}{x_{i}}.$$\n",
    "\n",
    "Eine Messgröße inkl. Fehler wird angegeben als:\n",
    "\n",
    "$$x = x_i \\pm \\Delta x.$$\n",
    "\n",
    "*Beispiel*: Eine Längemessung hat das Ergebnis $x = 2,\\!5~\\mathrm{m} \\pm 0,\\!2~\\mathrm{m}$. Der absolute Fehler beträgt somit $\\Delta x_i = 0,\\!2~\\mathrm{m}$ und der relative Fehler:\n",
    "\n",
    "$$  \\frac{\\Delta x_i}{x_{i}}= \\frac{0,\\!2 \\text{ m}}{2,\\!5 \\text{ m}}= 0,\\!08=8\\%.$$\n",
    "</div>\n",
    "\n",
    "<div style= \"color: black;background-color: rgba(0,177,172, 0.1) ;margin: 10 px auto; padding: 10px; border-radius: 10px\">\n",
    "<p style=\"font-size:12pt; text-align:center; color: black;background-color: rgba(0,177,172, 0.1) ;margin: 10 px auto; padding: 10px; border-radius: 10px\" id=\"fr\"><b>  Aufgabe 3 - Fehlerrechnung</b>  </p> \n",
    "Um welche Zeit geht eine gute Quarzuhr mit einer relativen Genauigkeit von $10^{-9}$ maximal in einem Jahr falsch? Vergleichen Sie das Ergebnis mit einer Atomuhr (Genauigkeit $10⁻¹⁴$).\n",
    "</div>\n",
    "\n",
    "<font style=\"background-color:#BFBFBF \"> **Vorgehensweise  :**</font>\n",
    "1. Definieren Sie die relative Genauigkeit der Uhren und geben sie ein Jahr in Sekunden."
   ]
  },
  {
   "cell_type": "code",
   "execution_count": 31,
   "metadata": {
    "collapsed": false
   },
   "outputs": [
   ],
   "source": [
    "g_quarz =     # relative Genauigkeit Quarzuhr\n",
    "g_atom =      # relative Genauigkeit Atomuhr\n",
    "\n",
    "jahr =        # Jahr in Sekunden"
   ]
  },
  {
   "cell_type": "markdown",
   "metadata": {
    "collapsed": false
   },
   "source": [
    "2. Berechnen Sie die absolute Genauigkeit jeder Uhren."
   ]
  },
  {
   "cell_type": "code",
   "execution_count": 33,
   "metadata": {
    "collapsed": false
   },
   "outputs": [
   ],
   "source": [
    "f_quarz =       # absolute Genauigkeit Quarzuhr\n",
    "f_atom =        # absolute Genauigkeit Atomuhr"
   ]
  },
  {
   "cell_type": "markdown",
   "metadata": {
    "collapsed": false
   },
   "source": [
    "3. Geben Sie das Ergebnis mit Hilfe von ```print ``` aus. Berücksichtigen Sie die signifikanten Stellen."
   ]
  },
  {
   "cell_type": "code",
   "execution_count": 35,
   "metadata": {
    "collapsed": false
   },
   "outputs": [
   ],
   "source": [
    "print()"
   ]
  },
  {
   "cell_type": "markdown",
   "metadata": {
    "collapsed": false
   },
   "source": [
    "<div style=\" border: 2px solid black;margin: 10px auto; padding: 10px; border-radius: 10px;\">\n",
    "\n",
    "#### Winkelmaße\n",
    "Zur Beschreibung von **Drehbewegungen** oder **Pendelbewegungen** physikalischer Systeme benötigt man den Winkel als Maßeinheit, welcher im *Bogenmaß* definiert ist als der Quotient von Bogenlänge und Radius:\n",
    "$$\\varphi := \\frac{s}{r}$$\n",
    "\n",
    "<table cellpadding=\"0\"><tbody><tr>\n",
    "<td>\n",
    "<p style=\"text-align:center;font-size:small;\">\n",
    "<img img src=\"static/rad.jpg\" alt=\"\" role=\"presentation\" class=\"img-responsive atto_image_button_middle\" style=\"height: 10em;\">\n",
    "<br>\n",
    "<b>Abbildung</b>: \n",
    "</p>\n",
    "</td>\n",
    "<td width=\"20\"></td>\n",
    "<tr>\n",
    "<td colspan=\"3\">\n",
    "<p style=\"text-align:center;font-size:smaller;color:gray;\">\n",
    "Quelle: Vorlesungsfolien\n",
    "</p>\n",
    "</td>\n",
    "</tr>\n",
    "</tbody></table>\n",
    "\n",
    "    \n",
    "Wenn $\\varphi = 1 \\mbox{ rad}$ sein soll, muss $s = r$ sein. \n",
    "\n",
    "Ebene Winkel werden auch in *Grad* gemessen. Die weitere\n",
    "Unterteilung geschieht in Minuten ($1° = 60'$) und Sekunden ($1' = 60''$). Dem vollen Winkel von 360° entspricht die Bogenlänge\n",
    "$s = 2\\pi r$, also ist im Bogenmaß $\\varphi = 2\\pi \\mbox{ rad}$. Demnach ist\n",
    "\n",
    "$$1 \\mbox{ rad} = \\frac{360°}{2 \\pi}= 57,296°= 57° 17′ 45″.$$\n"
   ]
  },
  {
   "cell_type": "markdown",
   "metadata": {
    "collapsed": false
   },
   "source": [
    "<div class=\"alert alert-block alert-info\">\n",
    "<i class=\"fas fa-lightbulb\"></i> <b>Code Tipps:</b> \n",
    "<ul>\n",
    "<li> Ein Modul für das Rechnen mit mathematischen Funktionen ist <code>numpy</code>. Das Importieren erfolgt durch Eintippen dieses Befehls in Form der ersten Anweisung in einer Programmdatei: <code>import numpy as np</code>;</li>\n",
    "<li> Die einzelnen Funktionen sind durch den Modulnamen, den Punktoperator und den Funktionsnamen aufrufbar: <code>np.pi</code> gibt <code>3.14159...</code> aus. \n",
    "</li>\n",
    "</div> "
   ]
  },
  {
   "cell_type": "markdown",
   "metadata": {
    "collapsed": false
   },
   "source": [
    "<div style= \"color: black ;background-color: rgba(0,177,172, 0.1) ;margin: 10 px auto; padding: 10px; border-radius: 10px\">\n",
    "<p style=\"font-size:12pt; text-align:center; color: black;background-color: rgba(0,177,172, 0.1) ;margin: 10 px auto; padding: 10px; border-radius: 10px\" id=\"winkel\"><b>  Aufgabe 4 - Winkelmaß</b>  </p> \n",
    " \n",
    "Welcher Strecke auf der Erdoberfläche entsprächen die Winkel $1°, 1', 1'', 1~\\text{rad}$? Der Umfang der Erde (idealerweise als Kugel betrachtet) sei hier etwa $40.000~\\text{km}$.\n",
    "</div>\n",
    "\n",
    "<font style=\"background-color:#BFBFBF \"> **Vorgehensweise  :**</font>\n",
    "\n",
    "1. Deklarieren oder berechnen Sie den Umfang und den Radius der Erde."
   ]
  },
  {
   "cell_type": "code",
   "execution_count": 37,
   "metadata": {
    "collapsed": false
   },
   "outputs": [
   ],
   "source": [
    "import numpy   # das Modul brauchen wir für pi\n",
    "\n",
    "U =            # Umfang in km\n",
    "r =            # Radius in km, U = 2πr "
   ]
  },
  {
   "cell_type": "markdown",
   "metadata": {
    "collapsed": false
   },
   "source": [
    "2. Verwenden Sie die Beziehung zwischen dem vollen Winkel von $360°$ und seiner jeweiligen Bogenlänge, um $1°$ zu berechnen."
   ]
  },
  {
   "cell_type": "code",
   "execution_count": 39,
   "metadata": {
    "collapsed": false
   },
   "outputs": [
   ],
   "source": [
    "# Berechung 1° \n",
    "L1 =     "
   ]
  },
  {
   "cell_type": "markdown",
   "metadata": {
    "collapsed": false
   },
   "source": [
    "3. Verwenden Sie die Unterteilungen Minuten und Sekunden, um $1', 1''$ zu berechnen."
   ]
  },
  {
   "cell_type": "code",
   "execution_count": 41,
   "metadata": {
    "collapsed": false
   },
   "outputs": [
   ],
   "source": [
    "# Berechung 1', 1''\n",
    "L2 =                  # 1° = 60'\n",
    "L3 =                  # 1' = 60''"
   ]
  },
  {
   "cell_type": "markdown",
   "metadata": {
    "collapsed": false
   },
   "source": [
    "4. Erinnern Sie sich, wenn $\\theta = 1~\\text{rad}$ sein soll, muss $s = r$ sein. "
   ]
  },
  {
   "cell_type": "code",
   "execution_count": 43,
   "metadata": {
    "collapsed": false
   },
   "outputs": [
   ],
   "source": [
    "# Berechung 1 rad\n",
    "L4 ="
   ]
  },
  {
   "cell_type": "markdown",
   "metadata": {
    "collapsed": false
   },
   "source": [
    "5. Geben Sie die umgerechneten Größen mit Hilfe von ```print ```  aus."
   ]
  },
  {
   "cell_type": "code",
   "execution_count": 45,
   "metadata": {
    "collapsed": false
   },
   "outputs": [
   ],
   "source": [
    "print( )"
   ]
  }
 ],
 "metadata": {
  "kernelspec": {
   "display_name": "Python 3 (system-wide)",
   "language": "python",
   "metadata": {
    "cocalc": {
     "description": "Python 3 programming language",
     "priority": 100,
     "url": "https://www.python.org/"
    }
   },
   "name": "python3",
   "resource_dir": "/ext/jupyter/kernels/python3"
  },
  "language_info": {
   "codemirror_mode": {
    "name": "ipython",
    "version": 3
   },
   "file_extension": ".py",
   "mimetype": "text/x-python",
   "name": "python",
   "nbconvert_exporter": "python",
   "pygments_lexer": "ipython3",
   "version": "3.6.9"
  }
 },
 "nbformat": 4,
 "nbformat_minor": 4
}