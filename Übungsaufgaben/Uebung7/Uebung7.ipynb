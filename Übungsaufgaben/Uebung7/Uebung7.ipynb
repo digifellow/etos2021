{
 "cells": [
  {
   "cell_type": "code",
   "execution_count": 1,
   "metadata": {
    "collapsed": false
   },
   "outputs": [
   ],
   "source": [
    "##development\n",
    "%load_ext extension_notebook_splitter"
   ]
  },
  {
   "cell_type": "markdown",
   "metadata": {
    "collapsed": false
   },
   "source": [
    "<div>\n",
    "    <img src=\"./static/FHAachen-logo2.svg\" style=\"float: right;height: 15em;\">\n",
    "</div>\n",
    "\n",
    "<div>\n",
    "    <img src=\"./static/IIIPIB_RWTH.png\" style=\"float: right;height: 6.5em;\">\n",
    "</div>\n",
    "\n",
    "<p style=\"font-size:12pt\";> <b> Einführung in die Physik -  Sommersemester 2021</b> <br>\n",
    "<b> Prof. Dr. Mottaghy, Prof. Dr. Roth </b><br>\n",
    "<b> Fachbereich Energietechnik / Lehrstuhl für Experimentalphysik III B  </b>\n",
    "</p>\n",
    "\n",
    "    \n",
    "## Übung 7: Thermodynamische Prozesse\n",
    "\n",
    "----\n",
    "#### Übersicht der Aufgaben\n",
    "1. [Volumenarbeit](#1)\n",
    "2. [Wärmeenergie](#2)\n",
    "3. [Wirkungsgrad Wärmekraftmaschine](#3)\n",
    "\n",
    "---\n"
   ]
  },
  {
   "cell_type": "markdown",
   "metadata": {
    "collapsed": false
   },
   "source": [
    "<div style=\" border: 2px solid black;margin: 10px auto; padding: 10px; border-radius: 10px;\">\n",
    "\n",
    "<h4>Volumenarbeit</h4>\n",
    "\n",
    "Ein Gas in einem Zylinder drückt mit dem Druck $p$ auf die Fläche $A$ des beweglichen Kolbens, der sich um die Strecke $\\text{d}s$ bewegt. Die mechanische Arbeit, wenn die Expansionsrichtung positiv\n",
    "gerechnet wird, ist:\n",
    "    \n",
    "$$W = - \\int F\\cdot \\text{d}s = - \\int pA\\cdot \\text{d}s = - \\int F\\cdot \\text{d}V.$$\n",
    "\n",
    "<table cellpadding=\"0\"><tbody><tr>\n",
    "<td>\n",
    "<p style=\"text-align:center;font-size:small;\">\n",
    "<img img src=\"./static/kolben.png\" alt=\"\" role=\"presentation\" class=\"img-responsive atto_image_button_middle\" style=\"height: 10em;\">\n",
    "<br>\n",
    "<b>Abbildung</b>:  Gas in einem Zylinder \n",
    "</p>\n",
    "</td>\n",
    "<td width=\"20\"></td>\n",
    "<tr>\n",
    "<td colspan=\"3\">\n",
    "<p style=\"text-align:center;font-size:smaller;color:gray;\">\n",
    "Quelle: Kommer/Tutorium Physik)\n",
    "</p>\n",
    "</td>\n",
    "</tr>\n",
    "</tbody></table>\n",
    "    \n",
    "Negatives Vorzeichen, da das **System Arbeit verrichtet**.\n",
    "\n",
    "</div>\n",
    "\n",
    "###  <i class=\"fas fa-laptop-code\"></i> symbolische Integration \n",
    "\n",
    "#### sympy.integrate\n",
    "\n",
    "In einer isothermen Zustandsänderung ist mit der Gaskonstante $R = 8{,}314\\,\\mathrm{J}\\cdot \\mathrm{mol}^{-1}\\cdot \\mathrm{K}^{-1}$ und einer festen Stoffmenge $ p\\cdot V = n\\cdot R\\cdot T= \\mathrm{const}$. D.h. Der Druck ist antiproportional zum Volumen. Wir betrachten Luft mit einer Stoffmenge von 1 mol unter Raumtemperatur ($T= 293,\\!15 \\, \\mathrm{K}$), das sich ausdehnt (Anfangsvolumen $V_0= 1\\, \\mathrm{L}$, Endvolumen $V_1= 2\\, \\mathrm{L}$). Nun können wir durch Integration die Arbeit erfahren, die zu einer Volumenausdehnung verrichtet wird. Aus der idealen Gasgleichung ergibt sich $p(V)= \\frac{ n\\cdot R\\cdot T}{ V} $ und die Arbeit ist $$W= \\int_{V_0}^{V_1} p(V) dV =  \\int_{V_0}^{V_1} \\frac{n\\cdot R\\cdot T }{V}dV.$$\n",
    "Wir können nun mithilfe der Methode `integrate` aus dem Paket `sympy` die Integration durchführen. Dabei wird der Integrand als ein symbolischer Ausdruck übergeben. Als zweites Argument übergeben wir die symbolische Integrationsvariable zusammen mit den Integrationsgrenzen als Tupel. Die Syntax ist `integrate( Integrand, (Symbol, Start, Stop) )`. Der Rückgabewert ist der Wert des Integrales. \n",
    "\n",
    "1. Wir importieren die Funktion `integrate` und um symbolische Variablen zu definieren `symbols` von `sympy`. Die Gaskonstante ist im Packet `scipy.constants` verfügbar:\n",
    "\n",
    "```python\n",
    "from sympy import integrate, symbols \n",
    "from scipy.constants import R \n",
    "```\n",
    "\n",
    "2. Wir speichern die gegeben Werte in Variabeln:\n",
    "\n",
    "```python\n",
    "n= 1 #mol\n",
    "T= 293.15 #K\n",
    "V_0= 1e-3 #m^3\n",
    "V_1= 2e-3 #m^3\n",
    "```\n",
    "\n",
    "3. Wir legen die Integrationsvariable, d.h. das Volumen, als Symbol an:\n",
    "\n",
    "```python\n",
    "V= symbols('V')\n",
    "```\n",
    "\n",
    "4. Wir Integrieren nun den symbolischen Ausdruck $ \\frac{n\\cdot R\\cdot T }{V} $ in den Grenzen $V_0$ und $V_1$ nach $V$ mithilfe von `integrate`, um die verrichtete Arbeit zu erhalten:\n",
    "\n",
    "```python\n",
    "Arbeit = integrate(n*R*T/V, (V, V_0, V_1))\n",
    "```\n",
    "\n",
    "Drücken Sie <code>SHIFT⇪</code> + <code>ENTER ↵ </code> zum Ausführen des unten stehenden Codes. "
   ]
  },
  {
   "cell_type": "code",
   "execution_count": 2,
   "metadata": {
    "collapsed": false
   },
   "outputs": [
    {
     "name": "stdout",
     "output_type": "stream",
     "text": [
      "Mit symbolischer Integration erhalten wir für die Arbeit 1689.47 J\n"
     ]
    }
   ],
   "source": [
    "from sympy import integrate, symbols # Wir importieren die integrate Funktion aus dem Packet sympy\n",
    "from scipy.constants import R  # Wir importieren zusätzlich die Gaskonstante aus dem Packet scipy.constants\n",
    "\n",
    "#Gegeben Werte\n",
    "n= 1 #mol\n",
    "T= 293.15 #K\n",
    "V_0= 1e-3 #m^3\n",
    "V_1= 2e-3 #m^3\n",
    "\n",
    "\n",
    "V= symbols('V')\n",
    "W1 = integrate(n*R*T/V, (V, V_0, V_1))\n",
    "\n",
    "print(f\"Mit symbolischer Integration erhalten wir für die Arbeit {W1:.2f} J\")\n"
   ]
  },
  {
   "cell_type": "markdown",
   "metadata": {
    "collapsed": false
   },
   "source": [
    "Sie können Sie das genaue Integral auch mit Symbolen überprüfen"
   ]
  },
  {
   "cell_type": "code",
   "execution_count": 3,
   "metadata": {
    "collapsed": false
   },
   "outputs": [
    {
     "data": {
      "text/latex": [
       "$\\displaystyle R T n \\log{\\left(V \\right)}$"
      ],
      "text/plain": [
       "R*T*n*log(V)"
      ]
     },
     "execution_count": 3,
     "metadata": {
     },
     "output_type": "execute_result"
    }
   ],
   "source": [
    "n= symbols('n')\n",
    "R= symbols('R')\n",
    "T= symbols('T')\n",
    "V= symbols('V')\n",
    "\n",
    "integrate(n*R*T/V,V)"
   ]
  },
  {
   "cell_type": "markdown",
   "metadata": {
    "collapsed": false
   },
   "source": [
    "**Alternativ**: Mit `scipy.integrate` wie in Übung 4"
   ]
  },
  {
   "cell_type": "code",
   "execution_count": 4,
   "metadata": {
    "collapsed": false
   },
   "outputs": [
    {
     "name": "stdout",
     "output_type": "stream",
     "text": [
      "Die verrichtete Arbeit beträgt 1689.47 J\n"
     ]
    }
   ],
   "source": [
    "import scipy.integrate\n",
    "from scipy.constants import R  # Wir importieren zusätzlich die Gaskonstante aus dem Packet scipy.constants\n",
    "\n",
    "# gegeben Größen\n",
    "n= 1      # mol\n",
    "T= 293.15 # K\n",
    "V_0= 1e-3 # m^3\n",
    "V_1= 2e-3 # m^3\n",
    "\n",
    "# Funktion p(V)\n",
    "def p(V):\n",
    "    return n*R*T/V\n",
    "\n",
    "# numerische Integration, W=Integral, F=Fehler\n",
    "W2, F = scipy.integrate.quad(p, V_0, V_1)\n",
    "print(f'Die verrichtete Arbeit beträgt {W2:.2f} J')"
   ]
  },
  {
   "cell_type": "markdown",
   "metadata": {
    "collapsed": false
   },
   "source": [
    "<div style= \"color: black;background-color: rgba(0,177,172, 0.1) ;margin: 10 px auto; padding: 10px; border-radius: 10px\">\n",
    "<p style=\"font-size:12pt; text-align:center; color:   black;background-color: rgba(0,177,172, 0.1) ;margin: 10 px auto; padding: 10px; border-radius: 10px\" id=\"1\"><b>  Aufgabe 1 </b>  </p> \n",
    "    \n",
    "Ein Mol eines idealen Gases habe den Druck $p_1 = 1000 \\text{ hPa}$ und das Volumen $V_1 = 25 \\text{ L}$. Durch langsame Erwärmung erreicht es über eine geradlinige Verbindung im $p$-$V$-Diagramm den Endzustand mit $p_2 = 3000 \\text{ hPa}$ und $V_2 = 75 \\text{ L}$. Welche Arbeit wird vom Gas verrichtet? <br>\n",
    "\n",
    "</div>  \n",
    "\n",
    "\n",
    "<font style=\"background-color:#BFBFBF \"> **Hinweise :**</font> <br>\n",
    "\n",
    "1. Leiten Sie die Geradengleichung, die die Beziehung zwischen Druck und Volumen angibt, her.\n"
   ]
  },
  {
   "cell_type": "markdown",
   "metadata": {
    "collapsed": false
   },
   "source": [
    "%%solution     \n",
    "**Lösung**:       \n",
    "\n",
    "Es gibt eine geradlinige Verbindung im $p$-$V$-Diagramm zwischen Anfangs- und Endzustands, dann gilt:\n",
    "$$p(V) = \\frac{p_2-p_1}{V_2-V_1}(V-V_1)+ p_1 \\Rightarrow W_{12}=- \\displaystyle\\int_{V_1}^{V_2} p(V)\\cdot dV$$\n",
    "\n",
    "*Graphische Lösung*: Die Arbeit entspricht die Fläche unter der trapezförmigen Kurve im $p$-$V$-Diagramm (siehe Vorlesungsfolie 46).\n",
    "\n",
    "\\begin{align*}\n",
    "W_{1,2} & = - p\\Delta V \\\\\n",
    "        & = \\frac{1}{2}(300000 \\text{ Pa}+100000 \\text{ Pa})(0,075\\text{ m³}-0,025 \\text{ m³})\\\\\n",
    "        & = -10 \\text{ kJ}\n",
    "\\end{align*}\n",
    "\n",
    "2. Nutzen Sie `sympy.integrate` um die Arbeit zu berechnen."
   ]
  },
  {
   "cell_type": "code",
   "execution_count": 5,
   "metadata": {
    "collapsed": false
   },
   "outputs": [
    {
     "name": "stdout",
     "output_type": "stream",
     "text": [
      " Die verrichtete Arbeit beträgt -10000.00 J\n"
     ]
    }
   ],
   "source": [
    "%%solution\n",
    "from sympy import integrate, symbols\n",
    "\n",
    "# gegeben Größen\n",
    "p_0= 1e5 #Pa\n",
    "p_1= 3e5 #Pa\n",
    "V_0= 25e-3 #m^3\n",
    "V_1= 75e-3 #m^3\n",
    "\n",
    "#Symbol\n",
    "V= symbols('V')\n",
    "\n",
    "Steigung= (p_1-p_0)/(V_1-V_0)\n",
    "Arbeit = -integrate(Steigung*V,(V, V_0, V_1))\n",
    "print(f' Die verrichtete Arbeit beträgt {Arbeit:.2f} J')"
   ]
  },
  {
   "cell_type": "code",
   "execution_count": 6,
   "metadata": {
    "collapsed": false
   },
   "outputs": [
   ],
   "source": [
    "%%task\n",
    "from sympy import integrate, symbols\n",
    "\n",
    "# gegeben Größen\n",
    "\n",
    "\n",
    "# Symbol anlegen\n",
    "\n",
    "\n",
    "# über den Audruck integrieren"
   ]
  },
  {
   "cell_type": "markdown",
   "metadata": {
    "collapsed": false
   },
   "source": [
    "\n",
    "<div style=\" border: 2px solid black;margin: 10px auto; padding: 10px; border-radius: 10px;\">\n",
    "\n",
    "<h4>Erster Hauptsatz der Thermodynamik</h4>\n",
    "\n",
    "**In einem abgeschlossenen System ist die Summe aller Energien konstant:**\n",
    "    \n",
    "$$\\Delta U  = \\Delta Q + \\Delta W.$$\n",
    "\n",
    "$U$ wird innere Energie genannt. Ihre Änderung $\\Delta U$ setzt sich aus der zu- bzw. abgeführten Wärmemenge $\\Delta Q$ und der mechanischen Arbeit $\\Delta W$ zusammen.\n",
    "    \n",
    "**Vorzeichenkonvention**: Die dem System zugeführte Energie wird positiv gerechnet, weil die Energie des Systems dadurch größer wird, während die vom System nach außen abgegebene Energie ein negatives Vorzeichen erhält, weil die Energie des Systems dadurch abnimmt.\n",
    "    \n",
    "<table cellpadding=\"0\"><tbody><tr>\n",
    "<td>\n",
    "<p style=\"text-align:center;font-size:small;\">\n",
    "<img img src=\"static/erste.png\" alt=\"\" role=\"presentation\" class=\"img-responsive atto_image_button_middle\" style=\"height: 13em;\">\n",
    "<br>\n",
    "<b>Abbildung</b>:  Abgeschlossenes System  \n",
    "</p>\n",
    "</td>\n",
    "<td width=\"20\"></td>\n",
    "<tr>\n",
    "<td colspan=\"3\">\n",
    "<p style=\"text-align:center;font-size:smaller;color:gray;\">\n",
    "Quelle: Vorlesungsfolien\n",
    "</p>\n",
    "</td>\n",
    "</tr>\n",
    "</tbody></table>\n",
    "</div>"
   ]
  },
  {
   "cell_type": "markdown",
   "metadata": {
    "collapsed": false
   },
   "source": [
    "<div style= \"color: black;background-color: rgba(0,177,172, 0.1) ;margin: 10 px auto; padding: 10px; border-radius: 10px\">\n",
    "<p style=\"font-size:12pt; text-align:center; color:   black;background-color: rgba(0,177,172, 0.1) ;margin: 10 px auto; padding: 10px; border-radius: 10px\" id=\"2\"><b>  Aufgabe 2 \n",
    " </b>  </p> \n",
    "    \n",
    "Die spezifische Wärmekapazität eines Systems während eines isobaren Prozesses ($p=2\\cdot 10^5~\\text{Pa}$) ist gegeben durch\n",
    "$$c(t) = (A + B \\cdot t +C \\cdot t^2 + D \\cdot t^3+ \\frac{E}{t^2}) ~ \\mathrm{J\\cdot mol^{-1}K^{-1}}, \\text{ mit } t = \\frac{T~\\text{in K}}{1000}.$$\n",
    "Wenn die Stoffmenge des Gases $6~\\mathrm{mol}$ beträgt und sich seine Temperatur von $25\\mathrm{°C}$ auf $125\\mathrm{°C}$ ändert, finden Sie die übertragende Wärme, die Volumenarbeit und die innere Energie.\n",
    "\n",
    "|Temperatur ($K$) | 298 - 500|\n",
    "|:------:|:------|\n",
    "|$A$  | -203,6060 |\n",
    "|$B$ \t|1523,290|\n",
    "|$C$ \t|-3196,413|\n",
    "|$D$ \t|2474,455|\n",
    "|$E$ \t|3,85532|"
   ]
  },
  {
   "cell_type": "markdown",
   "metadata": {
    "collapsed": false
   },
   "source": [
    "<font style=\"background-color:#BFBFBF \"> **Hinweise :**</font> <br>\n",
    "\n",
    "Deklarieren Sie die vorgegebenen Werte und die symbolischen Variablen."
   ]
  },
  {
   "cell_type": "code",
   "execution_count": 7,
   "metadata": {
    "collapsed": false
   },
   "outputs": [
   ],
   "source": [
    "%%solution\n",
    "from sympy import symbols, integrate\n",
    "\n",
    "t = symbols('t')\n",
    "n = 6\n",
    "A = -203.6060 \n",
    "B = 1523.290\n",
    "C = -3196.413\n",
    "D = 2474.455\n",
    "E = 3.85532"
   ]
  },
  {
   "cell_type": "code",
   "execution_count": 8,
   "metadata": {
    "collapsed": false
   },
   "outputs": [
   ],
   "source": [
    "%%task\n",
    "from sympy import symbols, integrate\n",
    "\n",
    "t = \n",
    "n = \n",
    "A = \n",
    "B = \n",
    "C = \n",
    "D = \n",
    "E = "
   ]
  },
  {
   "cell_type": "markdown",
   "metadata": {
    "collapsed": false
   },
   "source": [
    "2. Berechnen Sie die übertragende Wärme $\\Delta Q = \\int c(T)\\cdot n~\\text{d}T$."
   ]
  },
  {
   "cell_type": "code",
   "execution_count": 9,
   "metadata": {
    "collapsed": false
   },
   "outputs": [
    {
     "name": "stdout",
     "output_type": "stream",
     "text": [
      "Die Übertragene Wärme beträgt 45 J.\n"
     ]
    }
   ],
   "source": [
    "%%solution\n",
    "Q = integrate(n*(A+B*t+C*t**2+D*t**3 + E/t**2),(t, (25+273.15)/1000, (125+273.15)/1000))\n",
    "print(\"Die Übertragene Wärme beträgt %.0f J.\" % (Q))"
   ]
  },
  {
   "cell_type": "code",
   "execution_count": 10,
   "metadata": {
    "collapsed": false
   },
   "outputs": [
   ],
   "source": [
    "%%task\n",
    "Q = \n",
    "print(\"Die Übertragene Wärme....\")"
   ]
  },
  {
   "cell_type": "markdown",
   "metadata": {
    "collapsed": false
   },
   "source": [
    "3. Berechnen Sie die Volumenarbeit $\\Delta W$."
   ]
  },
  {
   "cell_type": "code",
   "execution_count": 11,
   "metadata": {
    "collapsed": false
   },
   "outputs": [
    {
     "name": "stdout",
     "output_type": "stream",
     "text": [
      "Die Volumenarbeit beträgt -4989 J.\n"
     ]
    }
   ],
   "source": [
    "%%solution\n",
    "p = 2e5\n",
    "R = 8.3145    # in J(molK)\n",
    "T1 = 25+273.15\n",
    "T2 = 125+273.15\n",
    "\n",
    "V1 = n*R*T1/p\n",
    "V2 = n*R*T2/p\n",
    "\n",
    "W = -p*(V2-V1)\n",
    "\n",
    "print(\"Die Volumenarbeit beträgt %.0f J.\" % (W))"
   ]
  },
  {
   "cell_type": "code",
   "execution_count": 12,
   "metadata": {
    "collapsed": false
   },
   "outputs": [
   ],
   "source": [
    "%%task\n",
    "\n",
    "V1 = \n",
    "V2 = \n",
    "\n",
    "W = \n",
    "\n",
    "print(\"Die Volumenarbeit beträgt...\" )"
   ]
  },
  {
   "cell_type": "markdown",
   "metadata": {
    "collapsed": false
   },
   "source": [
    "4. Berechnen Sie die innere Energie $\\Delta U$."
   ]
  },
  {
   "cell_type": "code",
   "execution_count": 13,
   "metadata": {
    "collapsed": false
   },
   "outputs": [
    {
     "name": "stdout",
     "output_type": "stream",
     "text": [
      "Die innere Energie beträgt -4943 J.\n"
     ]
    }
   ],
   "source": [
    "%%solution        \n",
    "U = Q + W\n",
    "print(\"Die innere Energie beträgt %.0f J.\" % (U))"
   ]
  },
  {
   "cell_type": "code",
   "execution_count": 14,
   "metadata": {
    "collapsed": false
   },
   "outputs": [
   ],
   "source": [
    "%%task        \n",
    "U = \n",
    "print(\"Die innere Energie beträgt..\")"
   ]
  },
  {
   "cell_type": "markdown",
   "metadata": {
    "collapsed": false
   },
   "source": [
    "<div style=\" border: 2px solid black;margin: 10px auto; padding: 10px; border-radius: 10px;\">\n",
    "    <h4>\n",
    "        Kreisprozess von Carnot\n",
    "    </h4>\n",
    "    \n",
    "<figure>\n",
    "    <img src=\"static/Carnot_pv.gif\" width=\"250\" height=\"250\"> \n",
    "    <figcaption>Carnot-Prozess im p-V-Diagramm (Quelle: www.oekosystem-erde.de)</figcaption>\n",
    "</figure>   \n",
    "    \n",
    "Der Carnot-Prozess ist ein idealer Kreisprozess. Im Kreisprozess kann Wärme gewonnen oder verloren sowie Arbeit vom System verrichtet werden. Es erfolgen vier Zustandsänderungen:\n",
    "    \n",
    "<h5> 1 &rarr; 2: isotherme Kompression</h5> \n",
    "<ul>\n",
    "    <li> $ T_1= T_2,\\; V_2 < V_1 \\; p_2 > p_1 $ </li>\n",
    "    <li> Wärmemenge wird an kaltes Reservoir abgegeben: $- \\Delta Q_{12} = \\Delta W_{12} = -n RT_1\\ln(\\frac{V_2}{V_1}) >0 $\n",
    "</ul>\n",
    "    \n",
    "<h5> 2 &rarr; 3: adiabatische Kompression</h5>     \n",
    "<ul>\n",
    "    <li> $ V_3 < V_2 \\; p_3 > p_2 $ </li>\n",
    "    <li> kein Wärmeaustausch $ \\Delta Q = 0 $</li>\n",
    "     <li> Temperatur und innere Energie steigt, Volumen wird geringer</li>   \n",
    "</ul>\n",
    "    \n",
    "<h5> 3 &rarr; 4: isotherme Expansion</h5>     \n",
    "<ul>\n",
    "    <li> $T_4= T_3\\; V_4 > V_3 \\; p_4< p_3$</li>\n",
    "    <li> Energie wird dem wärmeren Reservoir entzogen: $-\\Delta Q_{34} = \\Delta W_{34} = -n R T_3 \\ln (\\frac{V_4}{V_3})<=$\n",
    "</ul>\n",
    "    \n",
    "<h5> 4 &rarr; 1: adiabatische Expansion</h5>     \n",
    " \n",
    "<ul>\n",
    "    <li> $V_1 < V_4 \\; p_1 > p_4$ </li>\n",
    "    <li> kein Wärmeaustausch $\\Delta Q = 0$</li>\n",
    "     <li> Temperatur und innere Energie sinken, Volumen wird größer</li>   \n",
    "</ul>\n",
    "    \n",
    "____  \n",
    "    \n",
    "<h4>\n",
    "Wirkungsgrad von Kreisprozessen\n",
    "</h4>\n",
    "\n",
    "Der Wirkungsgrad eines Kreisprozesses ist $\\eta =\\mathrm{ \\frac{geleistete\\, Arbeit}{zugeführte\\, Wärmenergie}} = \\frac{W}{Q} < 1$. \n",
    "    \n",
    "<h5> ideale Wärmekraftmaschine </h5>   \n",
    "Für die Carnot-Maschine ist $\\eta_{\\mathrm{Carnot}} = \\frac{T_W-T_K}{T_W} $ wobei $T_W$ die Temperatur des Warmen und $T_K$ die Temperatur des kalten Reservoirs ist. \n",
    "\n",
    " </div>       \n",
    " \n",
    " \n",
    " "
   ]
  },
  {
   "cell_type": "markdown",
   "metadata": {
    "collapsed": false
   },
   "source": [
    "<div style= \"color: black;background-color: rgba(0,177,172, 0.1) ;margin: 10 px auto; padding: 10px; border-radius: 10px\">\n",
    "<p style=\"font-size:12pt; text-align:center; color:   black;background-color: rgba(0,177,172, 0.1) ;margin: 10 px auto; padding: 10px; border-radius: 10px\" id=\"2\"><b>  Aufgabe 2 </b>  </p> \n",
    "    \n",
    "Eine Wärmekraftmaschine arbeitet mit einer Temperatur der Wärmequelle von $1000~\\text{K}$ und einer Temperatur der Wärmesenke von $300~\\text{K}$. Der Wirkungsgrad soll erhöht werden, indem entweder die Temperatur der Wärmequelle oder der Wärmesenke bis zu $100$ K geändert wird. Welche Methode ist effizienter?\n",
    "\n",
    "</div>  \n",
    "\n",
    "\n",
    "<font style=\"background-color:#BFBFBF \"> **Hinweise :**</font> <br>\n",
    "\n",
    "- Implementieren Sie den Wirkungsgrad als Funktion der Temperaturen\n",
    "- Erstellen Sie jeweils mit `np.linspace` Arrays, in denen die Temperaturen in dem Bereich bis zu einer Änderung von 100K aufgelistet sind. \n",
    "- Schreiben Sie eine if-else-Anweisung, um die Frage zu beantworten. Mit `max()` können Sie das Maximum einer Liste abfragen.\n"
   ]
  },
  {
   "cell_type": "markdown",
   "metadata": {
    "collapsed": false
   },
   "source": [
    "%%solution      \n",
    "\n",
    "**Lösung**:     \n",
    "\n",
    "\n",
    "$$\\eta=\\frac{\\Delta T}{T_W} =\\frac{T_W-T_K}{T_W}$$\n",
    "\n",
    "|$T_w$| $T_K$|$\\eta$|\n",
    "|:------|:------|:------|\n",
    "| 1000 K| 300 K| 0,7|\n",
    "| 1100 K| 300 K| 0,73|\n",
    "| 1000 K| 200 K| 0,8|\n",
    "\n",
    "$\\Rightarrow$ Das Absenken der unteren Temperatur auf \n",
    "200 K ist effektiver als das Anheben der oberen Temperatur."
   ]
  },
  {
   "cell_type": "code",
   "execution_count": 15,
   "metadata": {
    "collapsed": false
   },
   "outputs": [
    {
     "name": "stdout",
     "output_type": "stream",
     "text": [
      "Wärmesenkenänderung ist effizienter\n"
     ]
    }
   ],
   "source": [
    "%%solution\n",
    "\n",
    "import numpy as np\n",
    "def eta(Tk, Tw):\n",
    "    return 1 - Tk/Tw\n",
    "\n",
    "Tw_0= 1000 #K\n",
    "Tk_0= 300 #K\n",
    "\n",
    "Tk= np.linspace(Tk_0, Tk_0-100, 20 )\n",
    "Tw= np.linspace(Tw_0, Tw_0+100, 20)\n",
    "\n",
    "\n",
    "if max(eta(Tk,Tw_0)) >  max(eta(Tk_0, Tw)):\n",
    "    print('Wärmesenkenänderung ist effizienter')\n",
    "else:\n",
    "    print('Wärmequellenänderung ist effizienter')\n",
    "    "
   ]
  },
  {
   "cell_type": "code",
   "execution_count": 16,
   "metadata": {
    "collapsed": false
   },
   "outputs": [
   ],
   "source": [
    "%%task\n",
    "\n",
    "import numpy as np\n",
    "\n",
    "def eta(Tk, Tw):\n",
    "    return #TODO\n",
    "\n",
    "\n",
    "Tk= np.linspace(   )#K\n",
    "Tw= np.linspace(   )#K\n",
    "\n",
    "#if-else-Anweisung zur Ausgabe:\n"
   ]
  },
  {
   "cell_type": "markdown",
   "metadata": {
    "collapsed": false
   },
   "source": [
    "Erstellen Sie ein Diagramm der wärmen Temperatur gegen den Wirkungsgrad."
   ]
  },
  {
   "cell_type": "code",
   "execution_count": 17,
   "metadata": {
    "collapsed": false
   },
   "outputs": [
   ],
   "source": [
    "import matplotlib.pyplot as plt\n",
    "\n",
    "\n"
   ]
  }
 ],
 "metadata": {
  "kernelspec": {
   "display_name": "Python 3 (system-wide)",
   "language": "python",
   "metadata": {
    "cocalc": {
     "description": "Python 3 programming language",
     "priority": 100,
     "url": "https://www.python.org/"
    }
   },
   "name": "python3",
   "resource_dir": "/ext/jupyter/kernels/python3"
  },
  "language_info": {
   "codemirror_mode": {
    "name": "ipython",
    "version": 3
   },
   "file_extension": ".py",
   "mimetype": "text/x-python",
   "name": "python",
   "nbconvert_exporter": "python",
   "pygments_lexer": "ipython3",
   "version": "3.6.9"
  }
 },
 "nbformat": 4,
 "nbformat_minor": 4
}