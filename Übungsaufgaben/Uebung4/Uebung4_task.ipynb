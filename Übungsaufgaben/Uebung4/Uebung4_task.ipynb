{
 "cells": [
  {
   "cell_type": "markdown",
   "metadata": {
    "collapsed": false
   },
   "source": [
    "<div>\n",
    "    <img src=\"static/FHAachen-logo2.svg\" style=\"float: right;height: 15em;\">\n",
    "</div>\n",
    "\n",
    "<div>\n",
    "    <img src=\"static/IIIPIB_RWTH.png\" style=\"float: right;height: 6.5em;\">\n",
    "</div>\n",
    "\n",
    "<p style=\"font-size:12pt\";> <b> Einführung in die Physik -  Sommersemester 2021</b> <br>\n",
    "<b> Prof. Dr. Mottaghy, Prof. Dr.  Roth </b><br>\n",
    "<b> Fachbereich Energietechnik/  Lehrstuhl für Experimentalphysik III B  </b>\n",
    "</p>\n",
    "    \n",
    "## Übung 4: Arbeit und Energie\n",
    "\n",
    "----\n",
    "\n",
    "#### Übersicht der Aufgaben\n",
    "1. [Beschleunigungssensor](#1)\n",
    "2. [Schiefer Wurf](#2)\n",
    "3. [Kettenschaltung](#3)\n",
    "---"
   ]
  },
  {
   "cell_type": "markdown",
   "metadata": {
    "collapsed": false
   },
   "source": [
    "<div style=\" border: 2px solid black;margin: 10px auto; padding: 10px; border-radius: 10px;\">\n",
    "<h5>Arbeit</h5>\n",
    "\n",
    "Die physikalische Definition von (mechanischer) Arbeit ist:\n",
    "\n",
    "$$W = \\vec{F}\\cdot \\Delta\\vec{s}$$ Ihre Einheit ist $[W] =\\mathrm{N m}=\\mathrm{J}=\\mathrm{kg m² s⁻²}$. Beide Größen sind Vektoren, d.h. sie haben eine Richtung und einen Betrag. Fall die Richtungen nicht übereinstimmen, so ist **nur die Komponente der Kraft parallel zur Strecke wirksam**:\n",
    "\n",
    "$$W = |\\vec{F}||\\Delta\\vec{s}|\\cos\\alpha$$\n",
    "\n",
    "-  Wenn **Kraft und Bewegung in dieselbe Richtung** zeigen, ist $W > 0$, es wird **Arbeit am Körper verrichtet**.\n",
    "-  Wenn die Richtung der Kraft der Bewegungsrichtung entgegengesetzt ist, dann wird **negative Arbeit am Körper verrichtet** $W < 0$, d.h. er wird langsamer.\n",
    "- Wenn die Kraft senkrecht zur Bewegungsrichtung zeigt, dann wir **keine Arbeit verrichtet** $W = 0$.\n",
    "\n",
    "<h5>Leistung</h5>\n",
    "Die Leistung ist **Energie pro Zeit** (oder die Fähigkeit, eine bestimmte Arbeit $W$ in einer Zeit $t$ zu verrichten), mit anderen Worten: sie ist die Geschwindigkeit, mit der Energie fließt. Ihre Einheit ist das Watt: [P] = 1 W = 1 J s⁻¹.\n",
    "\n",
    "$$P = \\frac{\\Delta W}{\\Delta t} \\text{ bzw. } P = \\frac{\\text{d}W}{\\text{d}t}$$\n",
    "\n",
    "Die obere Formel kann man umschreiben:\n",
    "\n",
    "$$P =\\frac{\\text{d}W}{\\text{d}t} = \\frac{\\vec{F}\\cdot \\text{d}\\vec{s}}{\\text{d}t}= \\vec{F}\\cdot\\frac{\\text{d}\\vec{s}}{\\text{d}t} = \\vec{F}\\cdot\\vec{v}$$\n",
    "\n",
    "<h5>Energie</h5>\n",
    "\n",
    "Die Energie ist ein abstrakterer Begriff. Sie bezeichnet die Fähigkeit eines physikalischen Systems, Arbeit zu verrichten. \n",
    "\n",
    "Zur **Unterscheidung von Energie und Arbeit** wird oft $W$ als **Energieumsatz** und $E$ als **Arbeitsvermögen** verwendet. Die Arbeit $W$ entspricht einer Energie $E$, welch durch eine Kraft auf ein Objekt übertragen oder von ihm abgeführt wird. Dabei gilt:\n",
    "- Energie, die einem Objekt **zugeführt wird**, ist **positiv**.\n",
    "- Energie, die von einem Objekt **abgeführt wird**, ist **negativ**.\n",
    "\n",
    "<h5>Kinetische Energie</h5>\n",
    "\n",
    "Die kinetische Energie ist gespeicherte Beschleunigungsarbeit. Bei der Beschleunigung kommt es hierbei nicht auf die zurückgelegte Strecke an, sondern auf die erreichte Geschwindigkeit. Mithilfe der Definition der Geschwindigkeit $v$ und $F = ma$\n",
    "\n",
    "$$W = F \\, s = ma \\, s = ma \\frac{v^2}{2a}=\\frac{1}{2}mv^2$$\n",
    "\n",
    "Die kinetische Energie beträgt:\n",
    "$$\\frac{1}{2}mv^2=E_{kin}$$\n",
    "    \n",
    "</div>"
   ]
  },
  {
   "cell_type": "markdown",
   "metadata": {
    "collapsed": false
   },
   "source": [
    "---\n",
    "## Aufgabe 1\n",
    "\n",
    "<div style= \"color: black;background-color: rgba(0,177,172, 0.1) ;margin: 10 px auto; padding: 10px; border-radius: 10px\">\n",
    "<p style=\"font-size:12pt; text-align:center; color:   black;background-color: rgba(0,177,172, 0.1) ;margin: 10 px auto; padding: 10px; border-radius: 10px\" id=\"1\"><b>  Aufgabe 1 </b>  </p> \n",
    "\n",
    "\n",
    "In einem PKW wurde ein Beschleunigungssensor angebracht, mit dessen Hilfe der Prozess des Anfahrens analysiert werden soll.\n",
    "\n",
    "Die Datei `fahrtdaten.csv` enthält die gesammelten Messpunkte aus Zeit und Beschleunigung."
   ]
  },
  {
   "cell_type": "markdown",
   "metadata": {
    "collapsed": false
   },
   "source": [
    "<div class=\"alert alert-block alert-info\">\n",
    "<i class=\"fas fa-lightbulb\"></i> <b>Code Tipps:</b>\n",
    "<ul>  \n",
    "<b>Einlesen von Daten</b>:\n",
    "    <p>Ein übliches Dateiformat um Datenwerte zu speichern ist CSV (comma-separated values). Auch numpy kann .csv-Dateien einlesen:<p>\n",
    "    <p><code>spalten=np.loadtxt(\"datei.csv\", delimiter=\",\", unpack=True)</code></p>\n",
    "    <p>Der Dateiname \"datei.csv\" muss natürlich angepasst werden, die beiden anderen Argumente der Funktion können unverändert gelassen werden.</p>\n",
    "    <p>Der Rückgabewert <code>spalten</code> ist eine Liste von numpy arrays, <code>spalten[0]</code> ist also ein numpy-array mit den Werten der ersten Spalte usw.</p>\n",
    "    <p>Python unterstützt es die Liste an Spalten direkt in mehrere Variablen aufzuteilen, z.B. für eine Datei mit zwei Spalten \"x\" und \"y\":</p>\n",
    "    <p><code>x,y=np.loadtxt(\"datei.csv\", delimiter=\",\", unpack=True)</code></p>\n",
    "</div>"
   ]
  },
  {
   "cell_type": "markdown",
   "metadata": {
    "collapsed": false
   },
   "source": [
    "**a)** Lesen Sie die Daten aus der Datei \"fahrtdaten.csv\" ein, sodass die Variablen `t` und `a` an Zeit- und Beschleunigungs-werte enthalten. Kontrollieren Sie dass es sich tatsächlich um zwei gleichlange arrays handelt. Bei Interesse können sie die Datei \"fahrtdaten.csv\" öffnen (Rechtsklick auf die Datei und `Open With`>`Editor`), es handelt sich um Menschen-lesbaren Text."
   ]
  },
  {
   "cell_type": "code",
   "execution_count": 0,
   "metadata": {
    "collapsed": false,
    "exercise": "task"
   },
   "outputs": [
   ],
   "source": [
    "import numpy as np\n",
    "\n",
    "# Hier Code ergänzen\n",
    "spalten =\n",
    "t =\n",
    "a =\n",
    "\n",
    "print(\"Länge von t=%d\" % len(t))\n",
    "print(\"Länge von a=%d\" % len(a))"
   ]
  },
  {
   "cell_type": "markdown",
   "metadata": {
    "collapsed": false
   },
   "source": [
    "<div style=\"background-color:#f6f6f6;border:1px solid #707070;padding:0.5em 1em;box-sizing:border-box;\">\n",
    "<i class=\"fas fa-square-root-alt\"></i> <b>Erinnerung aus der Mathematik:</b> Hauptsatz der Differential- und Integralrechnung             \n",
    "    \n",
    "1. Teil: Ist $f\\colon [a,b]\\to \\mathbb {R}$  eine reellwertige stetige Funktion auf dem abgeschlossenen Intervall $ [a,b]\\subset \\mathbb {R}$, so ist für alle $x_{0}\\in [a,b]$ die Integralfunktion $F\\colon [a,b]\\to \\mathbb {R}$ mit $$F(x)=\\int _{x_{0}}^{x}f(t)\\,{\\rm {d}}t$$\n",
    "differenzierbar und eine Stammfunktion von $f$, das heißt, für alle $ x\\in [a,b]$ gilt $F^{\\prime }(x)=f(x)$.            \n",
    "\n",
    "2. Teil: Ist $f\\colon [a,b]\\to \\mathbb {R}$ eine stetige Funktion mit Stammfunktion $ F\\colon [a,b]\\to \\mathbb {R}$, dann gilt:\n",
    "$$\\int _{a}^{b}f(x)\\,{\\rm {d}}x=F(b)-F(a).$$\n",
    "\n",
    "</div>\n",
    "\n",
    "<div class=\"alert alert-block alert-info\">\n",
    "<i class=\"fas fa-lightbulb\"></i> <b>Code Tipps:</b> Numerische Integration mit <code>scipy</code>: Stammfunktionen\n",
    "<br>\n",
    "<ul> \n",
    "<p>Die Bibliothek <code>scipy</code> (Scientific Python) sind diverse Integrationsverfahren bereits implementiert. Falls die Stammfunktion gesucht ist, kann man die Funktion <code>integrate.cumtrapz(y, x, initial)</code> verwendet werden. Diese liefert ein gleich langes array zurück, mit den Werten der Stammfunktion an den gegeben Stellen <code>x</code>. Der Wert <code>initial</code> wird am Anfang des zurückgegebenen Ergebnisses eingefügt, falls angegeben; normalerweise sollte dieser Wert 0 sein.<p>\n",
    "\n",
    "```python\n",
    "from scipy import integrate\n",
    "\n",
    "x = np.linspace(0, 1)\n",
    "y = x**2\n",
    "\n",
    "F = integrate.cumtrapz(y, x, initial=0.0)\n",
    "```"
   ]
  },
  {
   "cell_type": "markdown",
   "metadata": {
    "collapsed": false
   },
   "source": [
    "**b)** Ziel ist es nun durch Integration der Beschleunigung $a(t)$ die Geschwindigkeit $v(t)$ zu bestimmen, und anschließend durch Integration von $v(t)$ die zurückgelegte Strecke $s(t)$. Da die Beschleunigung $a(t)$ nur an endlich vielen Punkten $t_k$ gemessen wurde, muss hierfür numerisch, d.h. näherungsweiße, integriert werden. "
   ]
  },
  {
   "cell_type": "code",
   "execution_count": 0,
   "metadata": {
    "collapsed": false
   },
   "outputs": [
   ],
   "source": [
    "import scipy.integrate\n",
    "v = \n",
    "s = "
   ]
  },
  {
   "cell_type": "markdown",
   "metadata": {
    "collapsed": false
   },
   "source": [
    "Die numpy-arrays `t, a, v, s` haben die selbe Länge und enthalten korrespondiere Werte für Zeit, Beschleunigung, Geschwindigkeit und Strecke. Überlegen Sie welche Einheiten die Werte jeweils haben."
   ]
  },
  {
   "cell_type": "markdown",
   "metadata": {
    "collapsed": false
   },
   "source": [
    "**c)** Plotten Sie die Beschleunigung in $\\mathrm{ms^{-2}}$ gegen die Zeit in $\\mathrm{s}$."
   ]
  },
  {
   "cell_type": "code",
   "execution_count": 0,
   "metadata": {
    "collapsed": false,
    "exercise": "task"
   },
   "outputs": [
   ],
   "source": [
    "import matplotlib.pyplot as plt\n",
    "# vervollständigen Sie den Code\n",
    "\n",
    "plt.plot()     # Beschleunigung gegen Zeit\n",
    "plt.xlabel('')\n",
    "plt.ylabel('')\n",
    "plt.grid(True)\n",
    "plt.show()"
   ]
  },
  {
   "cell_type": "markdown",
   "metadata": {
    "collapsed": false
   },
   "source": [
    "**d)** Während des Anfahrens wird mehrmals in einen höheren Gang gewechselt, sodass kurzzeitig der Motor keine Arbeit am Fahrzeug verrichtet. Überlegen Sie sich wie dies im Diagramm zu erkennen ist. \\\n",
    "Zu einigen Zeitpunkten ist die Beschleunigung negativ. Überlegen Sie sich woran dies liegen könnte."
   ]
  },
  {
   "cell_type": "markdown",
   "metadata": {
    "collapsed": false
   },
   "source": [
    "**e)** Plotten Sie auch die Geschwindigkeit in km/h und Strecke in Metern jeweils gegen die Zeit in Sekunden."
   ]
  },
  {
   "cell_type": "code",
   "execution_count": 0,
   "metadata": {
    "collapsed": false,
    "exercise": "task"
   },
   "outputs": [
   ],
   "source": [
    "# vervollständigen Sie den Code\n",
    "\n",
    "plt.plot()       # Geschwindigkeit gegen Zeit\n",
    "plt.xlabel('')\n",
    "plt.ylabel('')\n",
    "plt.grid(True)\n",
    "plt.show()"
   ]
  },
  {
   "cell_type": "code",
   "execution_count": 0,
   "metadata": {
    "collapsed": false,
    "exercise": "task"
   },
   "outputs": [
   ],
   "source": [
    "# vervollständigen Sie den Code\n",
    "\n",
    "plt.plot()     # zurückgelegte Strecke gegen Zeit\n",
    "plt.xlabel('')\n",
    "plt.ylabel('')\n",
    "plt.grid(True)\n",
    "plt.show()"
   ]
  },
  {
   "cell_type": "markdown",
   "metadata": {
    "collapsed": false
   },
   "source": [
    "**f)** Das Fahrtzeug wiegt 1,5 Tonnen. Berechnen Sie die Leistung $P$ und Kraft $F$ mit der das Fahrtzeug beschleunigt wird. Plotten Sie $\\frac{P}{1~\\text{kW}}$ und $\\frac{F}{100~\\text{N}}$ gegen die Zeit $t$ in s."
   ]
  },
  {
   "cell_type": "code",
   "execution_count": 0,
   "metadata": {
    "collapsed": false,
    "exercise": "task"
   },
   "outputs": [
   ],
   "source": [
    "m = \n",
    "P = \n",
    "F = \n",
    "\n",
    "plt.plot( )\n",
    "plt.plot( )\n",
    "plt.xlabel(' ')\n",
    "plt.ylabel(' ')\n",
    "plt.grid(True)\n",
    "plt.legend()\n",
    "plt.show()"
   ]
  },
  {
   "cell_type": "markdown",
   "metadata": {
    "collapsed": false
   },
   "source": [
    "**g)** Durch das Schalten in einen höheren Gang wird das Verhältnis zwischen Umdrehungszahl der Autoreifen zur Umdrehungszahl des Motors vergrößert ($U_\\text{Auto}/U_\\text{Motor}$ steigt).\n",
    "\n",
    "Da die Geschwindigkeit des Autos und somit $U_\\text{Auto}$ zwischen den Schaltvorgängen steigt, wird die Umdrehungszahl des Motors $U_\\text{Motor}$ ungefähr konstant gehalten. Dies lässt auch die Leistung und Kraft **des Motors** ungefähr konstant bleiben. Die Kraft des Motors wird auch Drehmoment genannt (da es sich um eine rotierende Bewegung handelt).\n",
    "\n",
    "Was erwarten Sie qualitativ für die Leistung $P$ die auf das Auto wirkt, wenn in einen höheren Gang gewechselt wird? Reibung kann vernachlässigt werden.\n",
    "\n",
    "Was erwarten Sie qualitativ für die Kraft $F$ die auf das Auto wirkt? (Tipp: Sie können diese Frage überspringen und hoffentlich nach Aufgabe 3 leichter beantworten)\n",
    "\n",
    "Decken sich Ihre Erwartungen mit den Messdaten?"
   ]
  },
  {
   "cell_type": "markdown",
   "metadata": {
    "collapsed": false
   },
   "source": [
    "<div style=\" border: 2px solid black;margin: 10px auto; padding: 10px; border-radius: 10px;\">\n",
    "<h5>Energieformen</h5>\n",
    "\n",
    "|Beispiel|Form der Arbeit| Energieform|Gleichung|\n",
    "|:------|:------|:------|:------|\n",
    "|<img src=\"static/ar1.jpg\" align=\"center\" width=\"207.093\" height=\"150\"/> | Hubarbeit| Potenzielle Energie|$$W = F\\Delta s = mg(h_2-h_1)$$|\n",
    "|<img src=\"static/ar2.jpg\" align=\"center\" width=\"207.093\" height=\"150\"/> | Reibungsarbeit|Wärmeenergie|$$W = F_R\\Delta s = mg\\mu_G(s_2-s_1)$$|\n",
    "|<img src=\"static/ar3.jpg\" align=\"center\" width=\"207.093\" height=\"150\"/> | Federarbeit|Potenzielle Energie|$$W = \\frac{1}{2}D(x_2-x_1)^2$$|\n",
    "|<img src=\"static/ar4.jpg\" align=\"center\" width=\"207.093\" height=\"150\"/> | Beschleunigungsarbeit |Kinetische Energie|$$W = \\frac{1}{2}mv^2$$|\n",
    "\n",
    "<h5>Energieerhaltungssatz der Mechanik</h5>  \n",
    "    \n",
    "Wenn eine Umwandlung der beiden Energieformen $E_{kin}$ und $E_{pot}$ in **einem abgeschlossenen System mit nur konservativen Kräften** abläuft, dann gilt der **Energieerhaltungssatz der Mechanik**:\n",
    "\n",
    "$$E_{kin} + E_{pot} = \\text{ const. } (= E_{ges})$$\n",
    "\n",
    "*Bemerkungen*:\n",
    "- Für **konservative Kräfte** ist die Arbeit also **unabhängig vom Weg**.\n",
    "- Ein System, das räumlich begrenzt ist und bei dem kein Austausch von Materie oder Energie mit der Außenwelt erfolgt, dies nennt man ein **abgeschlossenes System**. \n",
    "\n",
    "<img src=\"static/energie.jpg\" align=\"center\"/>\n",
    "    \n",
    "</div>\n"
   ]
  },
  {
   "cell_type": "markdown",
   "metadata": {
    "collapsed": false
   },
   "source": [
    "---\n",
    "## Aufgabe 2\n",
    "\n",
    "<div style= \"color: black;background-color: rgba(0,177,172, 0.1) ;margin: 10 px auto; padding: 10px; border-radius: 10px\">\n",
    "<p style=\"font-size:12pt; text-align:center; color:   black;background-color: rgba(0,177,172, 0.1) ;margin: 10 px auto; padding: 10px; border-radius: 10px\" id=\"2\"><b>  Aufgabe 2 </b>  </p> \n",
    "\n",
    "Bei einem schiefen Wurf habe das Geschoss am Scheitelpunkt der Flugbahn eine kinetische Energie, die halb so groß ist wie seine potenzielle Energie bezogen auf die Abwurfhöhe. Unter welchem Winkel gegenüber der Horizontalen wurde das Geschoss geworfen? Überprüfen Sie Ihr Ergebnis mit der interaktiven Grafik."
   ]
  },
  {
   "cell_type": "code",
   "execution_count": 0,
   "metadata": {
    "collapsed": false
   },
   "outputs": [
   ],
   "source": [
    "winkel = \n",
    "\n",
    "print(\"Das Geschoss wurde mit einem Winkel .... )"
   ]
  },
  {
   "cell_type": "code",
   "execution_count": 0,
   "metadata": {
    "collapsed": false
   },
   "outputs": [
   ],
   "source": [
    "from ipywidgets import interact, widgets\n",
    "from exmodul import energie_plot, alpha, ti\n",
    "interact(energie_plot,  alpha=alpha, ti=ti)"
   ]
  },
  {
   "cell_type": "markdown",
   "metadata": {
    "collapsed": false
   },
   "source": [
    "<div style=\" border: 2px solid black;margin: 10px auto; padding: 10px; border-radius: 10px;\">\n",
    "    \n",
    "Einen Kraftwandler kann man auch als eine Maschine auffassen. Der Benutzer leistet an der Maschine Arbeit und die Maschine überträgt diese Arbeit an einer anderen Stelle wieder an ein Objekt. Die kraftverstärkende Wirkung der Maschine, wie z.B. eines Hebels oder eines Flaschenzugs, beruht nun auf folgendem Prinzip: Die Wegstrecke $s_N$, entlang der die Kraft $F_N$ auf der Seite des Benutzers aufgewendet wird, ist länger ist als die Wegstrecke $s_O$, über die die Maschine die Kraft $F_O$ an das Objekt weitergibt. Wegen der Energieerhaltung steht aber fest, dass die an der Maschine geleistete und die von der Maschine erbrachte Arbeit gleich sind. Die Arbeit ergibt sich nun aus dem Produkt von Kraft und Wegstrecke \n",
    "\n",
    "$$F_N\\cdot s_N = W = F_O\\cdot s_O$$\n",
    "\n",
    "Aus dieser Beziehung folgt sofort, dass die Kraft $F_N$, die der Benutzer aufwendet, um den Faktor $\\frac{s_N}{s_O}$ verstärkt wird, und diese verstärkte Kraft $F_O$ auf das Objekt wirkt. \n",
    "    \n",
    "</div>"
   ]
  },
  {
   "cell_type": "markdown",
   "metadata": {
    "collapsed": false
   },
   "source": [
    "---\n",
    "## Aufgabe 3\n",
    "\n",
    "<div style= \"color: black;background-color: rgba(0,177,172, 0.1) ;margin: 10 px auto; padding: 10px; border-radius: 10px\">\n",
    "<p style=\"font-size:12pt; text-align:center; color:   black;background-color: rgba(0,177,172, 0.1) ;margin: 10 px auto; padding: 10px; border-radius: 10px\" id=\"3\"><b>  Aufgabe 3 </b>  </p> \n",
    "\n",
    "Ein Fahrrad besitzt eine Kettenschaltung mit drei Kettenblättern vorne an den Pedalen und sieben Ritzeln hinten am Rad. Das größte Kettenblatt vorne hat 45, das kleinste 29 Zähne. Das größte Ritzel hinten hat 34, das kleinste 13 Zähne. Wie groß ist das Verhältnis der aufzuwendenden Kraft zwischen dem größten und kleinsten einstellbaren Gang?\n",
    "\n",
    "<img src=\"static/gang.gif\" align=\"center\"/>"
   ]
  },
  {
   "cell_type": "code",
   "execution_count": 0,
   "metadata": {
    "collapsed": false,
    "exercise": "solution"
   },
   "outputs": [
   ],
   "source": [
    "U_vorne1 = \n",
    "U_hinten1 = \n",
    "U_vorne2 = \n",
    "U_hinten2 = \n",
    "\n",
    "F_hinten = \n",
    "\n",
    "print(\" \")"
   ]
  }
 ],
 "metadata": {
  "kernelspec": {
   "display_name": "Python 3 (system-wide)",
   "language": "python",
   "metadata": {
    "cocalc": {
     "description": "Python 3 programming language",
     "priority": 100,
     "url": "https://www.python.org/"
    }
   },
   "name": "python3",
   "resource_dir": "/ext/jupyter/kernels/python3"
  },
  "language_info": {
   "codemirror_mode": {
    "name": "ipython",
    "version": 3
   },
   "file_extension": ".py",
   "mimetype": "text/x-python",
   "name": "python",
   "nbconvert_exporter": "python",
   "pygments_lexer": "ipython3",
   "version": "3.6.9"
  }
 },
 "nbformat": 4,
 "nbformat_minor": 4
}