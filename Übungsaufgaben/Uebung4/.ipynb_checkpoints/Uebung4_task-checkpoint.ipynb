{
 "cells": [
  {
   "cell_type": "markdown",
   "metadata": {},
   "source": [
    "# Einführung in die Physik SS 2020"
   ]
  },
  {
   "cell_type": "markdown",
   "metadata": {},
   "source": [
    "### Übung 4: Arbeit und Energie"
   ]
  },
  {
   "cell_type": "markdown",
   "metadata": {},
   "source": [
    "### Arbeit\n",
    "Die physikalische Definition von (mechanischer) Arbeit ist:\n",
    "\n",
    "$$W = \\vec{F}\\cdot \\Delta\\vec{s}$$ Ihre Einheit ist [W] =N m=J=kg m² s⁻². Beide Größen sind Vektoren, d.h. sie haben eine Richtung und einen Betrag. Fall die Richtungen nicht übereinstimmen, so ist **nur die Komponente der Kraft parallel zur Strecke wirksam**:\n",
    "\n",
    "$$W = |\\vec{F}||\\Delta\\vec{s}|\\cos\\alpha$$\n",
    "\n",
    "-  Wenn **Kraft und Bewegung in dieselbe Richtung** zeigen, ist $W > 0$, es wird **Arbeit am Körper verrichtet**.\n",
    "-  Wenn die Richtung der Kraft der Bewegungsrichtung entgegengesetzt ist, dann wird **negative Arbeit am Körper verrichtet** $W < 0$, d.h. er wird langsamer.\n",
    "- Wenn die Kraft senkrecht zur Bewegungsrichtung zeigt, dann wir **keine Arbeit verrichtet** $W = 0$.\n",
    "\n",
    "#### Leistung\n",
    "Die Leistung ist **Energie pro Zeit** (oder die Fähigkeit, eine bestimmte Arbeit $W$ in einer Zeit $t$ zu verrichten), mit anderen Worten: sie ist die Geschwindigkeit, mit der Energie fließt. Ihre Einheit ist das Watt: [P] = 1 W = 1 J s⁻¹.\n",
    "\n",
    "$$P = \\frac{\\Delta W}{\\Delta t} \\text{ bzw. } P = \\frac{\\text{d}W}{\\text{d}t}$$\n",
    "\n",
    "Die obere Formel kann man umschreiben:\n",
    "\n",
    "$$P =\\frac{\\text{d}W}{\\text{d}t} = \\frac{\\vec{F}\\cdot \\text{d}\\vec{s}}{\\text{d}t}= \\vec{F}\\cdot\\frac{\\text{d}\\vec{s}}{\\text{d}t} = \\vec{F}\\cdot\\vec{v}$$\n",
    "\n",
    "### Energie\n",
    "\n",
    "Die Energie ist ein abstrakterer Begriff. Sie bezeichnet die Fähigkeit eines physikalischen Systems, Arbeit zu verrichten. \n",
    "\n",
    "Zur **Unterscheidung von Energie und Arbeit** wird oft $W$ als **Energieumsatz** und $E$ als **Arbeitsvermögen** verwendet. Die Arbeit $W$ entspricht einer Energie $E$, welch durch eine Kraft auf ein Objekt übertragen oder von ihm abgeführt wird. Dabei gilt:\n",
    "- Energie, die einem Objekt **zugeführt wird**, ist **positiv**.\n",
    "- Energie, die von einem Objekt **abgeführt wird**, ist **negativ**.\n",
    "\n",
    "##### Kinetische Energie \n",
    "\n",
    "Die kinetische Energie ist gespeicherte Beschleunigungsarbeit. Bei der Beschleunigung kommt es hierbei nicht auf die zurückgelegte Strecke an, sondern auf die erreichte Geschwindigkeit. Mithilfe der Definition der Geschwindigkeit $v$ und $F = ma$\n",
    "\n",
    "$$W = F \\, s = ma \\, s = ma \\frac{v^2}{2a}=\\frac{1}{2}mv^2$$\n",
    "\n",
    "Die kinetische Energie beträgt:\n",
    "$$\\frac{1}{2}mv^2=E_{kin}$$"
   ]
  },
  {
   "cell_type": "markdown",
   "metadata": {},
   "source": [
    "### Aufgabe 1\n",
    "\n",
    "In einem PKW wurde ein Beschleunigungssensor angebracht, mit dessen Hilfe der Prozess des Anfahrens analysiert werden soll.\n",
    "\n",
    "Die Datei \"fahrtdaten.csv\" enthält die gesammelten Messpunkte aus Zeit und Beschleunigung."
   ]
  },
  {
   "cell_type": "markdown",
   "metadata": {},
   "source": [
    "<div class=\"alert alert-block alert-info\">\n",
    "<b>Code Tipps:</b> \n",
    "<ul>  \n",
    "<b>Einlesen von Daten</b>:\n",
    "    <p>Ein übliches Dateiformat um Datenwerte zu speichern ist CSV (comma-separated values). Auch numpy kann .csv-Dateien einlesen:<p>\n",
    "    <p><code>spalten=np.loadtxt(\"datei.csv\", delimiter=\",\", unpack=True)</code></p>\n",
    "    <p>Der Dateiname \"datei.csv\" muss natürlich angepasst werden, die beiden anderen Argumente der Funktion können unverändert gelassen werden.</p>\n",
    "    <p>Der Rückgabewert <code>spalten</code> ist eine Liste von numpy arrays, <code>spalten[0]</code> ist also ein numpy-array mit den Werten der ersten Spalte usw.</p>\n",
    "    <p>Python unterstützt es die Liste an Spalten direkt in mehrere Variablen aufzuteilen, z.B. für eine Datei mit zwei Spalten \"x\" und \"y\":</p>\n",
    "    <p><code>x,y=np.loadtxt(\"datei.csv\", delimiter=\",\", unpack=True)</code></p>\n",
    "</div>"
   ]
  },
  {
   "cell_type": "markdown",
   "metadata": {},
   "source": [
    "**a)** Lesen Sie die Daten aus der Datei \"fahrtdaten.csv\" ein, sodass die Variablen `t` und `a` an Zeit- und Beschleunigungs-werte enthalten. Kontrollieren Sie dass es sich tatsächlich um zwei gleichlange arrays handelt. Bei Interesse können sie die Datei \"fahrtdaten.csv\" öffnen (Rechtsklick auf die Datei und `Open With`>`Editor`), es handelt sich um Menschen-lesbaren Text."
   ]
  },
  {
   "cell_type": "code",
   "execution_count": 3,
   "metadata": {
    "exercise": "task"
   },
   "outputs": [],
   "source": [
    "import numpy as np\n",
    "\n",
    "# Hier Code ergänzen\n",
    "spalten=\n",
    "t=\n",
    "a=\n",
    "\n",
    "print(\"Länge von t=%d\" % len(t))\n",
    "print(\"Länge von a=%d\" % len(a))"
   ]
  },
  {
   "cell_type": "markdown",
   "metadata": {},
   "source": [
    "**b)** Ziel ist es nun durch Integration der Beschleunigung $a(t)$ die Geschwindigkeit $v(t)$ zu bestimmen, und anschließend durch Integration von $v(t)$ die zurückgelegte Strecke $s(t)$. \n",
    "\n",
    "Da die Beschleunigung $a(t)$ nur an endlich vielen Punkten $t_k$ gemessen wurde, muss hierfür numerisch, d.h. näherungsweiße, integriert werden. \\\n",
    "Der dafür nötige Code ist hier bereits vollständig vorgegeben, in einem eigenen Jupyter-Notebook  ([link](../Exkurs/Numerische%20Integration/Numerische%20Integration.ipynb)) wird ausführlich erklärt wieso und wie er funktioniert. \\\n",
    "Bis zur nächsten Übung sollten Sie das genannte Notebook anschauen, aber für den Moment kann mit der Aufgabe fortgefahren werden."
   ]
  },
  {
   "cell_type": "code",
   "execution_count": 4,
   "metadata": {},
   "outputs": [],
   "source": [
    "import scipy.integrate\n",
    "v = scipy.integrate.cumtrapz(a, t, initial=0.0)\n",
    "s = scipy.integrate.cumtrapz(v, t, initial=0.0)"
   ]
  },
  {
   "cell_type": "markdown",
   "metadata": {},
   "source": [
    "Die numpy-arrays `t, a, v, s` haben die selbe Länge und enthalten korrespondiere Werte für Zeit, Beschleunigung, Geschwindigkeit und Strecke. Überlegen Sie welche Einheiten die Werte jeweils haben."
   ]
  },
  {
   "cell_type": "markdown",
   "metadata": {},
   "source": [
    "**c)** Plotten Sie die Beschleunigung in $[m/s^2]$ gegen die Zeit in $[s]$."
   ]
  },
  {
   "cell_type": "code",
   "execution_count": 6,
   "metadata": {
    "exercise": "task"
   },
   "outputs": [],
   "source": [
    "import matplotlib.pyplot as plt\n",
    "import numpy as np\n",
    "\n",
    "# Beschleunigung gegen Zeit\n",
    "\n",
    "# vervollständigen Sie den Code\n",
    "\n",
    "plt.plot()\n",
    "plt.xlabel('')\n",
    "plt.ylabel('')\n",
    "plt.grid(True)\n",
    "plt.show()"
   ]
  },
  {
   "cell_type": "markdown",
   "metadata": {},
   "source": [
    "**d)** Während des Anfahrens wird mehrmals in einen höheren Gang gewechselt, sodass kurzzeitig der Motor keine Arbeit am Fahrzeug verrichtet. Überlegen Sie sich wie dies im Diagramm zu erkennen ist. \\\n",
    "Zu einigen Zeitpunkten ist die Beschleunigung negativ. Überlegen Sie sich woran dies liegen könnte."
   ]
  },
  {
   "cell_type": "markdown",
   "metadata": {},
   "source": [
    "**e)** Plotten Sie auch die Geschwindigkeit in km/h und Strecke in Metern jeweils gegen die Zeit in Sekunden."
   ]
  },
  {
   "cell_type": "code",
   "execution_count": 8,
   "metadata": {
    "exercise": "task"
   },
   "outputs": [],
   "source": [
    "# Geschwindigkeit gegen Zeit\n",
    "\n",
    "# vervollständigen Sie den Code\n",
    "\n",
    "plt.plot()\n",
    "plt.xlabel('')\n",
    "plt.ylabel('')\n",
    "plt.grid(True)\n",
    "plt.show()"
   ]
  },
  {
   "cell_type": "code",
   "execution_count": 10,
   "metadata": {
    "exercise": "task"
   },
   "outputs": [],
   "source": [
    "# zurückgelegte Strecke gegen Zeit\n",
    "\n",
    "# vervollständigen Sie den Code\n",
    "\n",
    "plt.plot()\n",
    "plt.xlabel('')\n",
    "plt.ylabel('')\n",
    "plt.grid(True)\n",
    "plt.show()"
   ]
  },
  {
   "cell_type": "markdown",
   "metadata": {},
   "source": [
    "**f)** Das Fahrtzeug wiegt 1,5 Tonnen. Berechnen Sie die Leistung $P$ und Kraft $F$ mit der das Fahrtzeug beschleunigt wird. Plotten Sie $\\frac{P}{1~\\text{kW}}$ und $\\frac{F}{100~\\text{N}}$ gegen die Zeit $t$ in s."
   ]
  },
  {
   "cell_type": "code",
   "execution_count": 12,
   "metadata": {
    "exercise": "task"
   },
   "outputs": [],
   "source": [
    "m = 1500 # Masse in kg\n",
    "P = \n",
    "F = \n",
    "\n",
    "plt.plot(t,P, label='Leistung')\n",
    "plt.plot(t,F, label='Kraft')\n",
    "plt.xlabel('Zeit $t$ [s]')\n",
    "plt.ylabel('$P/1kW$ und $F/100N$')\n",
    "plt.grid(True)\n",
    "plt.legend()\n",
    "plt.show()"
   ]
  },
  {
   "cell_type": "markdown",
   "metadata": {},
   "source": [
    "**g)** Durch das Schalten in einen höheren Gang wird das Verhältnis zwischen Umdrehungszahl der Autoreifen zur Umdrehungszahl des Motors vergrößert ($U_\\text{Auto}/U_\\text{Motor}$ steigt).\n",
    "\n",
    "Da die Geschwindigkeit des Autos und somit $U_\\text{Auto}$ zwischen den Schaltvorgängen steigt, wird die Umdrehungszahl des Motors $U_\\text{Motor}$ ungefähr konstant gehalten. Dies lässt auch die Leistung und Kraft **des Motors** ungefähr konstant bleiben. Die Kraft des Motors wird auch Drehmoment genannt (da es sich um eine rotierende Bewegung handelt).\n",
    "\n",
    "Was erwarten Sie qualitativ für die Leistung $P$ die auf das Auto wirkt, wenn in einen höheren Gang gewechselt wird? Reibung kann vernachlässigt werden.\n",
    "\n",
    "Was erwarten Sie qualitativ für die Kraft $F$ die auf das Auto wirkt? (Tipp: Sie können diese Frage überspringen und hoffentlich nach Aufgabe 3 leichter beantworten)\n",
    "\n",
    "Decken sich Ihre Erwartungen mit den Messdaten?"
   ]
  },
  {
   "cell_type": "markdown",
   "metadata": {},
   "source": [
    "___\n",
    "##### Energieformen\n",
    "\n",
    "|Beispiel|Form der Arbeit| Energieform|Gleichung|\n",
    "|:------|:------|:------|:------|\n",
    "|<img src=\"static/ar1.jpg\" align=\"center\" width=\"207.093\" height=\"150\"/> | Hubarbeit| Potenzielle Energie|$$W = F\\Delta s = mg(h_2-h_1)$$|\n",
    "|<img src=\"static/ar2.jpg\" align=\"center\" width=\"207.093\" height=\"150\"/> | Reibungsarbeit|Wärmeenergie|$$W = F_R\\Delta s = mg\\mu_G(s_2-s_1)$$|\n",
    "|<img src=\"static/ar3.jpg\" align=\"center\" width=\"207.093\" height=\"150\"/> | Federarbeit|Potenzielle Energie|$$W = \\frac{1}{2}D(x_2-x_1)^2$$|\n",
    "|<img src=\"static/ar4.jpg\" align=\"center\" width=\"207.093\" height=\"150\"/> | Beschleunigungsarbeit |Kinetische Energie|$$W = \\frac{1}{2}mv^2$$|\n",
    "\n",
    "### Energieerhaltungssatz der Mechanik\n",
    "Wenn eine Umwandlung der beiden Energieformen $E_{kin}$ und $E_{pot}$ in **einem abgeschlossenen System mit nur konservativen Kräften**\n",
    "abläuft, dann gilt der **Energieerhaltungssatz der Mechanik**:\n",
    "\n",
    "$$E_{kin} + E_{pot} = \\text{ const. } (= E_{ges})$$\n",
    "\n",
    "*Bemerkungen*:\n",
    "- Für **konservative Kräfte** ist die Arbeit also **unabhängig vom Weg**.\n",
    "- Ein System, das räumlich begrenzt ist und bei dem kein Austausch von Materie oder Energie mit der Außenwelt erfolgt, dies nennt man ein **abgeschlossenes System**. \n",
    "\n",
    "<img src=\"static/energie.jpg\" align=\"center\"/>"
   ]
  },
  {
   "cell_type": "markdown",
   "metadata": {},
   "source": [
    "### Aufgabe 2\n",
    "Bei einem schiefen Wurf habe das Geschoss am Scheitelpunkt der Flugbahn eine kinetische Energie, die halb so groß ist wie seine potenzielle Energie bezogen auf die Abwurfhöhe. Unter welchem Winkel gegenüber der Horizontalen wurde das Geschoss geworfen? Überprüfen Sie Ihr Ergebnis mit der interaktiven Grafik."
   ]
  },
  {
   "cell_type": "code",
   "execution_count": 14,
   "metadata": {},
   "outputs": [
    {
     "data": {
      "application/vnd.jupyter.widget-view+json": {
       "model_id": "7e0860c018814c4fab4f1d617aa1326f",
       "version_major": 2,
       "version_minor": 0
      },
      "text/plain": [
       "interactive(children=(FloatSlider(value=30.0, continuous_update=False, description='$\\\\alpha \\\\, [°]$', max=90…"
      ]
     },
     "execution_count": 14,
     "metadata": {},
     "output_type": "execute_result"
    },
    {
     "data": {
      "text/plain": [
       "<function exmodul.energie_plot(alpha, ti)>"
      ]
     },
     "execution_count": 14,
     "metadata": {},
     "output_type": "execute_result"
    }
   ],
   "source": [
    "from ipywidgets import interact, widgets\n",
    "from exmodul import energie_plot, alpha, ti\n",
    "interact(energie_plot,  alpha=alpha, ti=ti)"
   ]
  },
  {
   "cell_type": "markdown",
   "metadata": {},
   "source": [
    "Einen Kraftwandler kann man auch als eine Maschine auffassen. Der Benutzer leistet an der Maschine Arbeit und die Maschine überträgt diese Arbeit an einer anderen Stelle wieder an ein Objekt. Die kraftverstärkende Wirkung der Maschine, wie z.B. eines Hebels oder eines Flaschenzugs, beruht nun auf folgendem Prinzip: Die Wegstrecke $s_N$, entlang der die Kraft $F_N$ auf der Seite des Benutzers aufgewendet wird, ist länger ist als die Wegstrecke $s_O$, über die die Maschine die Kraft $F_O$ an das Objekt weitergibt. Wegen der Energieerhaltung steht aber fest, dass die an der Maschine geleistete und die von der Maschine erbrachte Arbeit gleich sind. Die Arbeit ergibt sich nun aus dem Produkt von Kraft und Wegstrecke \n",
    "\n",
    "$$F_N\\cdot s_N = W = F_O\\cdot s_O$$\n",
    "\n",
    "Aus dieser Beziehung folgt sofort, dass die Kraft $F_N$, die der Benutzer aufwendet, um den Faktor $\\frac{s_N}{s_O}$ verstärkt wird, und diese verstärkte Kraft $F_O$ auf das Objekt wirkt. "
   ]
  },
  {
   "cell_type": "markdown",
   "metadata": {},
   "source": [
    "### Aufgabe 3\n",
    "Ein Fahrrad besitzt eine Kettenschaltung mit drei Kettenblättern vorne an den Pedalen und sieben Ritzeln hinten am Rad. Das größte Kettenblatt vorne hat 45, das kleinste 29 Zähne. Das größte Ritzel hinten hat 34, das kleinste 13 Zähne. Wie groß ist das Verhältnis der aufzuwendenden Kraft zwischen dem größten und kleinsten einstellbaren Gang?\n",
    "\n",
    "<img src=\"static/gang.gif\" align=\"center\"/>"
   ]
  },
  {
   "cell_type": "code",
   "execution_count": 0,
   "metadata": {},
   "outputs": [],
   "source": []
  }
 ],
 "metadata": {
  "kernelspec": {
   "display_name": "Python 3",
   "language": "python",
   "name": "python3"
  },
  "language_info": {
   "codemirror_mode": {
    "name": "ipython",
    "version": 3
   },
   "file_extension": ".py",
   "mimetype": "text/x-python",
   "name": "python",
   "nbconvert_exporter": "python",
   "pygments_lexer": "ipython3",
   "version": "3.7.6"
  }
 },
 "nbformat": 4,
 "nbformat_minor": 4
}
