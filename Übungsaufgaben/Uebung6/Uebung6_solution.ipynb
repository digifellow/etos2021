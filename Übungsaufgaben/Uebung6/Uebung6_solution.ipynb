{
 "cells": [
  {
   "cell_type": "markdown",
   "metadata": {
    "collapsed": false
   },
   "source": [
    "<div>\n",
    "    <img src=\"static/FHAachen-logo2.svg\" style=\"float: right;height: 15em;\">\n",
    "</div>\n",
    "\n",
    "<div>\n",
    "    <img src=\"static/IIIPIB_RWTH.png\" style=\"float: right;height: 6.5em;\">\n",
    "</div>\n",
    "\n",
    "<p style=\"font-size:12pt\";> <b> Einführung in die Physik -  Sommersemester 2021</b> <br>\n",
    "<b> Prof. Dr. Mottaghy, Prof. Dr.  Roth </b><br>\n",
    "<b> Fachbereich Energietechnik/  Lehrstuhl für Experimentalphysik III B  </b>\n",
    "</p>\n",
    "    \n",
    "## Übung 6: Wärme\n",
    "\n",
    "----\n",
    "1. [Konvektion](#1)\n",
    "2. [Thermische Ausdehnung](#2)\n",
    "3. [Wärmeenrgie](#3)\n",
    "4. [Wärmeleitung](#4)\n",
    "---"
   ]
  },
  {
   "cell_type": "markdown",
   "metadata": {
    "collapsed": false
   },
   "source": [
    "\n",
    "<div style=\" border: 2px solid black;margin: 10px auto; padding: 10px; border-radius: 10px;\">\n",
    "  \n",
    "### Wärmetransport\n",
    "Wärme als Energieform kann auf unterschiedliche Weise übertragen werden:\n",
    "- **Konvektion**: Transport in und mit einem Stoff\n",
    "- **Wärmeleitung**: Transport durch Materie hindurch\n",
    "- **Wärmestrahlung**: Transport durch elektromagnetische Wellen\n",
    "\n",
    "Im Folgenden beschäftigen wir uns mit der Konvektion:\n",
    "    \n",
    "#### Konvektion - Newton’schen Abkühlungsgesetz\n",
    "\n",
    "Zu welchem Zeitpunkt eine sich abkühlende Flüssigkeit (ein heißes Getränk) eine bestimmte Temperatur erreicht. Dabei gehen wir von einer konstanten Außentemperatur $T_a$ aus. $T(0)=T_0$ ist als die Anfangstemperatur der Flüssigkeit zum Zeitpunkt 0 definiert. Die Flüssigkeit gibt so lange Wärme an die Umgebung ab, bis ein thermodynamisches Gleichgewicht entstanden ist in dem Sinne, dass beide Temperaturen gleich sind. Dieser Prozess erfolgt nach dem **Newton’schen Abkühlungsgesetz**:\n",
    "\n",
    "\n",
    "$$\\frac{\\text{d}T}{\\text{d}t} =\\dot{T}(t) = -\\alpha (T(t)-T_a)$$ \n",
    "\n",
    "mit $\\alpha > 0$ Abkühlungsrate.\n",
    "\n",
    "    \n",
    "<table cellpadding=\"0\"><tbody><tr>\n",
    "<td>\n",
    "<p style=\"text-align:center;font-size:small;\">\n",
    "<img img src=\"static/kaffee2.jpg\" alt=\"\" role=\"presentation\" class=\"img-responsive atto_image_button_middle\" style=\"height: 20em;\">\n",
    "<br>\n",
    "<b>Abbildung</b>: Kaffe\n",
    "</p>\n",
    "</td>\n",
    "<td width=\"20\"></td>\n",
    "<tr>\n",
    "</tr>\n",
    "</tbody></table>\n",
    "\n",
    "\n",
    "Bei der Aufgabe 3 (Fadenpendel) letzter Übung haben wir den *expliziten Euler-Verfahren* eingeführt, für  $\\dot{T}(t)$  lautet er:\n",
    "\n",
    "$$\\dot{T}(t_{i}) \\approx \\frac{T( t_{i+1})-T(t_{i})}{\\Delta t}$$\n",
    "\n",
    "$$\\Rightarrow T( t_{i+1}) \\approx  T(t_{i}) + \\dot{T}(t_{i})\\cdot \\Delta t $$\n",
    "\n",
    "mit dem Anfangswert $T_0=T(0)$\n",
    "    \n",
    "    \n",
    "</div>"
   ]
  },
  {
   "cell_type": "markdown",
   "metadata": {
    "collapsed": false
   },
   "source": [
    "<div style=\" border: 2px solid #81bdec;; margin: 10px auto; padding: 10px; border-radius: 10px;\">\n",
    "<h4>\n",
    "    <i class=\"fas fa-laptop-code\"></i> <code>while</code>-Schleife\n",
    "</h4>\n",
    "    \n",
    "\n",
    "Eine `while`-Schleife kann man in folgender Form deklarieren:\n",
    "```python\n",
    "i = a         # Anfangswert des Iterators\n",
    "n = b         # Endwert des Iterators \n",
    "while Bedingung:  # Beziehung zwischen i und n mit rationalen oder logischen Operatoren.\n",
    "    Anweisungen\n",
    "    i = i + 1 # Inkrement des Iterators\n",
    "```\n",
    "\n",
    "In einer `while`-Schleife werden die Anweisungen iterativ wiederholt solange die Schleifenbedingung gültig ist. Die Schleife führt diese Anweisungen nur dann aus, wenn die Bedingung wahr ist.\n",
    "\n",
    "Als Anwendungsbeispiel werden wir den Winkel $\\theta$ mit Hilfe der Winkelgeschwindigkeit $\\omega$ berechnen \n",
    "$$\\omega = \\frac{\\text{d}\\theta}{\\text{d}t} \\Rightarrow \\omega(t_i) \\approx \\frac{\\theta(t_{i+1})-\\theta(t_{i})}{t_{i+1}-t_{i}}$$\n",
    "für kleine Zeitschritte $\\Delta t$ können wir $\\theta$ wie folgt numerisch berechnen:\n",
    "$$\\theta_{i+1} = \\theta_i + \\omega\\cdot\\Delta t$$\n",
    "\n",
    "\n",
    "0. Laden von Messdaten (dieser Teil ist nicht notwendig, um mit einer `while`-Schleife zu arbeiten):\n",
    "\n",
    "```python\n",
    "import numpy as np\n",
    "x, omega = np.loadtxt('omega_data.dat',usecols=[0,1],unpack=True)\n",
    "```    \n",
    "1. Parameter und Anfangswerte für die `while`-Schleife erstellen, hier betragen die gesamte Zeit $T = 60 ~\\text{s}$ (das entspricht auch die Endbedigung der Schleife) und der Zeitschritt $\\Delta t = 0,1~\\text{s}$.\n",
    "\n",
    "```python\n",
    "# Parameter\n",
    "T = 60\n",
    "dt = 0.1\n",
    "\n",
    "# Anfangswerte\n",
    "t = 0\n",
    "theta = 0\n",
    "i = 0\n",
    "```\n",
    "2. Erstellen Sie eine leere Liste zum Speichern der berechneten Werte.\n",
    "\n",
    "```python\n",
    "theta_werte = []\n",
    "t_werte = []\n",
    "```\n",
    "\n",
    "3. Wählen Sie Ihren Iterator für die Schleife, hier werden wir den Winkel berechnen, solange `t` den Wert `T` nicht überschreitet, das entspricht der Bedingung der `while`-Schleife.\n",
    "\n",
    "```python\n",
    "t = 0\n",
    "while t < T:\n",
    "\n",
    "    t = t + dt                    # Neue Zeit\n",
    "```\n",
    "\n",
    "Bitte vergessen Sie nicht, dass jedes Mal, wenn Sie eine Berechnung machen, der Iterator zum nächsten Wert weitergehen muss, dies wird mit `t = t + dt` und `i = i + 1` gemacht, wir  empfehlen Ihnen, es zu schreiben, bevor Sie Ihre Anweisung schreiben, denn wenn Sie es vergessen, werden Sie mir eine endlose Schleife erstellen, die manchmal wirklich lästig sein kann.\n",
    "\n",
    "4. Anweisungen deklarieren. In diesem Fall lautet unsere Anweisungen:     \n",
    "    i. $\\theta_{i+1} =  \\theta_i + \\omega_i \\cdot \\Delta t$      \n",
    "    ii. $t_{i+1} = t_i + \\Delta t$    \n",
    "    iii. $i = i + 1$ \n",
    "\n",
    "```python\n",
    "while t < T:\n",
    "    theta = theta + omega[i]*dt \n",
    "    theta_werte.append(theta)\n",
    "    t = t + dt                    # Neue Zeit\n",
    "    t_werte.append(t)\n",
    "    i = i + 1                     # Nächster ω-Wert\n",
    "```\n",
    "\n",
    "5. Die `while`-Schleife ist fertig und nun können Sie die berechneten Werte für weitere Operationen verwenden, in diesem Fall werden wir unsere Ergebnisse plotten.\n",
    "\n",
    "```python\n",
    "import matplotlib.pyplot as plt\n",
    "\n",
    "plt.plot(t_werte, theta_werte, label = r'$\\theta$')\n",
    "plt.xlabel('Zeit in $s$')\n",
    "plt.ylabel(r'$\\theta$ in -')\n",
    "plt.legend(loc=4)\n",
    "```\n",
    "   \n",
    "</div>"
   ]
  },
  {
   "cell_type": "code",
   "execution_count": 2,
   "metadata": {
    "collapsed": false
   },
   "outputs": [
    {
     "data": {
      "text/plain": [
       "<matplotlib.legend.Legend at 0x7f8a51079978>"
      ]
     },
     "execution_count": 2,
     "metadata": {
     },
     "output_type": "execute_result"
    },
    {
     "data": {
      "image/png": "[encoded data removed]",
      "text/plain": [
       "<Figure size 864x504 with 1 Axes>"
      ]
     },
     "execution_count": 2,
     "metadata": {
      "image/png": {
       "height": 424,
       "width": 741
      },
      "needs_background": "light"
     },
     "output_type": "execute_result"
    }
   ],
   "source": [
    "import numpy as np\n",
    "import matplotlib.pyplot as plt\n",
    "\n",
    "x, omega = np.loadtxt('omega_data.dat',usecols=[0,1],unpack=True)\n",
    "\n",
    "# Parameter\n",
    "T = 60\n",
    "dt = 0.1\n",
    "\n",
    "# Anfangswerte\n",
    "t = 0\n",
    "theta = 0\n",
    "i = 0\n",
    "\n",
    "theta_werte = []\n",
    "t_werte = []\n",
    "while t < T:\n",
    "    theta = theta + omega[i]*dt \n",
    "    theta_werte.append(theta)\n",
    "    t = t + dt                    # Neue Zeit\n",
    "    t_werte.append(t)\n",
    "    i = i + 1\n",
    "\n",
    "plt.plot(t_werte, theta_werte, label = r'$\\theta$')\n",
    "plt.xlabel('Zeit in $s$')\n",
    "plt.ylabel(r'$\\theta$ in -')\n",
    "plt.legend(loc=4)"
   ]
  },
  {
   "cell_type": "markdown",
   "metadata": {
    "collapsed": false
   },
   "source": [
    "<div class=\"alert alert-block alert-danger\">\n",
    "<b>Vorsicht!</b> \n",
    "<ul>\n",
    "<p>  \n",
    "Eine <b>Endlosschleife</b> tritt auf, wenn der Wert von Bedingung niemals den Wert <code>False</code> annimmt. Dieser Fall passiert, wenn Sie den Wert von Bedingung im Block nicht ändern oder wenn Sie die Vergleichsoperatoren falsch implementieren. Sie können eine Endlosschleife beenden, indem Sie den Kernel stoppen.\n",
    " </p>      \n",
    "</div>"
   ]
  },
  {
   "cell_type": "markdown",
   "metadata": {
    "collapsed": false
   },
   "source": [
    "<div style= \"color: black;background-color: rgba(0,177,172, 0.1) ;margin: 10 px auto; padding: 10px; border-radius: 10px\">\n",
    "<p style=\"font-size:12pt; text-align:center; color:   black;background-color: rgba(0,177,172, 0.1) ;margin: 10 px auto; padding: 10px; border-radius: 10px\" id=\"1\"><b>  Aufgabe 1 </b>  </p> \n",
    "\n",
    "Eine Tasse Kaffee mit einer Anfangstemperatur von $85 \\mathrm{°C}$, das wir zum Abkühlen bei einer Außentemperatur von $20 \\mathrm{°C}$ stellen. Gesucht ist der Zeitpunkt, zu dem der Kaffee auf ungefähr $30 \\mathrm{°C}$ abgekühlt ist.\n",
    "\n",
    "$T_0=85\\mathrm{°C}$\n",
    "\n",
    "$\\alpha = 0.005 \\text{ s}^{-1}$\n",
    "\n",
    "$T(t_{Ende})=30\\mathrm{°C}$\n",
    "</div>    "
   ]
  },
  {
   "cell_type": "markdown",
   "metadata": {
    "collapsed": false
   },
   "source": [
    "**a)** Erstellen Sie eine `while`-Scheife für die numerische Berechnung von $T( t_{i+1})$, verwenden Sie die Endtemperatur als Endbedingung. \n",
    "\n",
    "*Hinweis*: Die `while`-Schleife ist vorbereitet. Sie sollen nur die **Endbedingung** und die **Anweisungen** innerhalb der Schleife angeben: es gibt jedes Mal das Inkrement der Zeit und die Berechnung der Temperatur."
   ]
  },
  {
   "cell_type": "code",
   "execution_count": 3,
   "metadata": {
    "collapsed": false,
    "exercise": "solution"
   },
   "outputs": [
    {
     "name": "stdout",
     "output_type": "stream",
     "text": [
      "Der Kaffee erreicht nach 370.0 s eine Temperatur von 30.0 °C.\n"
     ]
    }
   ],
   "source": [
    "# Die Listen werden Sie für das Diagramm brauchen.\n",
    "zeit = []\n",
    "temperatur = []\n",
    "\n",
    "# Parameter\n",
    "T_a = 20       # Temperatur in °C\n",
    "T_0 = 85       # Anfangswert Temperatur in °C\n",
    "t = 0          # Anfangswert Zeit = 0\n",
    "delta_t = 5    # Zeitschritt  \n",
    "T_ende = 30\n",
    "alpha = 0.005  # Abkühlungsrate\n",
    "y = T_0        # Starttemperatur der Schleife\n",
    "\n",
    "while y >= T_ende:\n",
    "    t = t + delta_t\n",
    "\n",
    "    y = y + delta_t*(-alpha*(y - T_a))\n",
    "\n",
    "    # Die Listen werden Sie für das Diagramm brauchen.\n",
    "    temperatur.append(y)\n",
    "    zeit.append(t)\n",
    "    \n",
    "print('Der Kaffee erreicht nach %2.1f s eine Temperatur von %2.1f °C.' %(t,y)) "
   ]
  },
  {
   "cell_type": "markdown",
   "metadata": {
    "collapsed": false
   },
   "source": [
    "**b)** Erstellen Sie das $t-T(t)$-Diagramm mit Hilfe der Liste `temperatur` und `zeit` der vorherigen Teilaufgabe."
   ]
  },
  {
   "cell_type": "code",
   "execution_count": 5,
   "metadata": {
    "collapsed": false,
    "exercise": "solution"
   },
   "outputs": [
    {
     "data": {
      "image/png": "[encoded data removed]",
      "text/plain": [
       "<Figure size 864x504 with 1 Axes>"
      ]
     },
     "execution_count": 5,
     "metadata": {
      "image/png": {
       "height": 424,
       "width": 718
      },
      "needs_background": "light"
     },
     "output_type": "execute_result"
    }
   ],
   "source": [
    "import matplotlib.pyplot as plt\n",
    "\n",
    "plt.plot(zeit, temperatur)\n",
    "plt.xlabel('Zeit $t$ in $s$')\n",
    "plt.ylabel('$T(t)$ in °C')\n",
    "plt.grid(True)"
   ]
  },
  {
   "cell_type": "markdown",
   "metadata": {
    "collapsed": false
   },
   "source": [
    "<div style=\" border: 2px solid black;margin: 10px auto; padding: 10px; border-radius: 10px;\">\n",
    "\n",
    "### Thermische Ausdehnung \n",
    "\n",
    "Die Wärmeausdehnung eines Festkörpers lässt sich mit Hilfe des\n",
    "**thermische Ausdehnungskoeffizienten** $\\alpha$ beschreiben:\n",
    "\n",
    "$$\\Delta L = \\alpha \\cdot L_0\\cdot \\Delta T$$\n",
    "\n",
    "<img src=\"static/ausde.jpg\" align=\"center\"/>\n",
    "\n",
    "Bei Flüssigkeiten ist die Form durch das Gefäß, in dem sich die Flüssigkeit befindet, vorgegeben. Deshalb wird hier die Betrachtung der\n",
    "Volumenausdehnung relevant. Bei der Volumenänderung dehnt sich die\n",
    "Flüssigkeit in alle drei Raumrichtungen aus, der Volumenausdehnungskoeffizient $\\beta$ ist deshalb dreimal so groß wie der lineare ($\\beta = 3\\alpha$):\n",
    "\n",
    "$$ \\Delta V =  \\beta \\cdot V_0\\cdot \\Delta T$$\n",
    "</div>"
   ]
  },
  {
   "cell_type": "markdown",
   "metadata": {
    "collapsed": false
   },
   "source": [
    "<div style=\"background-color:#f6f6f6;border:1px solid #707070;padding:0.5em 1em;box-sizing:border-box;\">\n",
    "<i class=\"fas fa-square-root-alt\"></i> <b>Erinnerung aus der Mathematik:</b> Taylorentwicklung  \n",
    "\n",
    "Für viele Zwecke ist es handlicher mit der Näherung einer Funktion zu arbeiten, als mit der exakten Lösung, im Grunde haben wir das schon bei der Lösung der DGL des Fadenpendels gesehen, bei der wir $\\sin(\\varphi)$ durch $\\varphi$ für kleine Winkel genährt haben. \n",
    "\n",
    "Im Allgemeinen können wir eine beliebig oft differenzierbare Funktion, die auf einem offenen Intervall definiert ist, an einer Stelle $x_0$ im Definitionsbereich durch das sog. Taylorpolynom der Ordnung $N$ mithilfe der Ableitungen $f^{(n)}$ nähern:\n",
    "$f(x)\\approx  \\sum _{n=0}^{N}{\\frac {f^{(n)}(x_0)}{n!}}(x-x_0)^{n}$. In erster Ordnung, d.h. $N=1$ wird damit die Funktion durch die Tangente an dem Entwicklungspunkt $x_0$ genähert.\n",
    "\n",
    "`Scipy` kann uns beim Bestimmen der Ableitungen helfen. Wir betrachten die reelle Funktion $f(x)= (1+x)^3$ und entwickeln diese um $x_0=0$. Um die Variable x noch offen zu lassen, rechen wir symbolisch mit dem Paket `Sympy`.\n",
    "\n",
    "</div>"
   ]
  },
  {
   "cell_type": "code",
   "execution_count": 7,
   "metadata": {
    "collapsed": false
   },
   "outputs": [
    {
     "name": "stdout",
     "output_type": "stream",
     "text": [
      "T1f(x)= 3*x*(x + 1)**2 + 1\n",
      "T3f(x)= x**3*(x + 1)**2/2 + 3*x**2*(x + 1)**2/2 + 3*x*(x + 1)**2 + 1\n"
     ]
    }
   ],
   "source": [
    "#Erstmal 'per Hand'\n",
    "import sympy as sym #symbolisches Rechenen\n",
    "import math\n",
    "\n",
    "def f(x):\n",
    "    return (1+x)**3 \n",
    "\n",
    "#Taylorformel\n",
    "def f_approx(x_0, N):\n",
    "    sum=f(x_0)\n",
    "    x=sym.Symbol('x') #x ist als symbolische Variable deklariert\n",
    "    for i in range(1,N+1):#range lässt i laufen von 1 bis N\n",
    "        sum= sum + sym.diff(f(x), x)/math.factorial(i) *(x-x_0)**(i)\n",
    "    return sum\n",
    "\n",
    "print('T1f(x)=',f_approx(0,1))# Näherung an der Stelle 0 bis zur ersten Ordung\n",
    "print('T3f(x)=', f_approx(0,3)) # Näherung an der Stelle 0 bis zur ersten Ordung"
   ]
  },
  {
   "cell_type": "code",
   "execution_count": 8,
   "metadata": {
    "collapsed": false
   },
   "outputs": [
    {
     "name": "stdout",
     "output_type": "stream",
     "text": [
      "T3f(x)= x**3 + 3*x**2 + 3*x + 1\n",
      "sin(x)= x - x**3/6 + x**5/120 + O(x**6)\n"
     ]
    }
   ],
   "source": [
    "#nun der Shortcut\n",
    "x=sym.Symbol('x') #global definiert\n",
    "\n",
    "print('T3f(x)=',sym.series(f(x),x))# Näherung an der Stelle 0 bis zur dritten Ordung\n",
    "\n",
    "#hier auch die Kleinwinkelnäherung des Sinus\n",
    "print('sin(x)=',sym.series(sym.sin(x), x))"
   ]
  },
  {
   "cell_type": "markdown",
   "metadata": {
    "collapsed": false
   },
   "source": [
    "<div style= \"color: black;background-color: rgba(0,177,172, 0.1) ;margin: 10 px auto; padding: 10px; border-radius: 10px\">\n",
    "<p style=\"font-size:12pt; text-align:center; color:   black;background-color: rgba(0,177,172, 0.1) ;margin: 10 px auto; padding: 10px; border-radius: 10px\" id=\"2\"><b>  Aufgabe 2 </b>  </p> \n",
    "Ein quaderförmiger Stahltank mit einem Volumen von $50~\\mathrm{l}$ wird bei $10 \\mathrm{°C}$ mit $49~\\mathrm{l}$  Benzin gefüllt. Die Temperatur steigt nun weiter an. Bei welcher Temperatur läuft der Tank aus? Um das zu beantworten:\n",
    "</div>"
   ]
  },
  {
   "cell_type": "markdown",
   "metadata": {
    "collapsed": false
   },
   "source": [
    "1. Plotten Sie die Volumenausdehnung des Benzins und des Stahltanks als Funktionen der Temperatur. Was besagt der Schnittpunkt?\n",
    "\n",
    "Volumenausdehnungskoeffizient Benzin $\\gamma = 1,05 ⋅ 10^{-3}$ K⁻¹ \n",
    "\n",
    "Längenausdehnungskoeffizient Stahl $\\alpha = 1,3 ⋅ 10^{-5}$ K⁻¹"
   ]
  },
  {
   "cell_type": "code",
   "execution_count": 10,
   "metadata": {
    "collapsed": false,
    "exercise": "solution"
   },
   "outputs": [
    {
     "data": {
      "image/png": "[encoded data removed]",
      "text/plain": [
       "<Figure size 864x504 with 1 Axes>"
      ]
     },
     "execution_count": 10,
     "metadata": {
      "image/png": {
       "height": 440,
       "width": 726
      },
      "needs_background": "light"
     },
     "output_type": "execute_result"
    }
   ],
   "source": [
    "import matplotlib.pyplot as plt\n",
    "import numpy as np\n",
    "\n",
    "gamma= 1.05/10**3 #Volumenausdehnungskoeffizient Benzin\n",
    "alpha= 1.3/10**5  #Längenausdehnungskoeffizient Stahl\n",
    "T_0= 10 #°C\n",
    "V_Benzin= 49 #l\n",
    "V_Tank= 50 #l \n",
    "\n",
    "def Delta_Benzin(T):\n",
    "    return V_Benzin*(1+gamma*abs(T_0-T))\n",
    "\n",
    "def Delta_Tank(T):\n",
    "    return V_Tank*(1+alpha*abs(T_0-T))**3\n",
    "\n",
    "\n",
    "T= np.linspace(10,50)#von 10 bis 50°\n",
    "plt.title('Stahltank mit Benzin')\n",
    "plt.plot(T,Delta_Benzin(T), label= 'Volumen Benzin' )\n",
    "plt.plot(T,Delta_Tank(T), label= 'Volumen Stahltank')\n",
    "plt.xlabel('Temperatur /°')\n",
    "plt.ylabel('Volumen/ l')\n",
    "plt.legend()\n",
    "plt.grid()"
   ]
  },
  {
   "cell_type": "markdown",
   "metadata": {
    "collapsed": false
   },
   "source": [
    "**b)**\n",
    "Leiten Sie die maximal mögliche Temperaturänderung per Hand her.\n",
    "Vergleichen Sie beide Ergebnisse.\n",
    "\n",
    "*Hinweis*: Für $(1 + x)^3$ kann obige Taylorentwicklung um die 0 bis zur ersten Ordnung verwendet werden.\n",
    "\n",
    "<div class=\"alert alert-block alert-info\">\n",
    "<b>Code Tipps:</b> \n",
    "<ul>  \n",
    "<li>mit <code>abs(x)</code> erhalten sie den Betrag einer Variable <code>x</code>\n",
    "<li>da die mit dem Computer berechneten Werte i.A. nicht exakt sind, ist ein Vergleich mit mit einer Zahl nicht zielführend. Mit <code>np.isclose(Variable, Vergleichswert, atol=AbsoluteToleranz)</code>, ist dies jedoch möglich. Am besten wäre die Bedingung unabhängig von Zahlenwerten zu beschreiben\n",
    "    </ul>\n",
    "</div>"
   ]
  },
  {
   "cell_type": "markdown",
   "metadata": {
    "collapsed": false,
    "exercise": "solution"
   },
   "source": [
    "**Lösung**\n",
    " \n",
    "$$ V_{\\text{Benzin}} = V_{0\\text{Benzin}}(1+\\gamma\\Delta T)$$\n",
    "\n",
    "$$ V_{\\text{Tank}} = V_{0\\text{Tank}}(1+\\alpha\\Delta T)^3 ≈ V_{0\\text{Tank}}(1+3 \\alpha\\Delta T)$$\n",
    "Falls die folgende Differenz 0 wird, so ist das die kritische Temperatur nachdem das Fass überläuft.\n",
    "\n",
    "$$V_{\\text{Benzin}} - V_{\\text{Tank}}   = V_{0\\text{Benzin}}(1+\\gamma\\Delta T) - V_{0\\text{Tank}}(1+3 \\alpha\\Delta T) \\\\\n",
    " = V_{0\\text{Benzin}}-V_{0\\text{Tank}} + \\Delta T \\cdot (\\gamma V_{0\\text{Benzin}}- 3 \\alpha V_{0\\text{Tank}})\\\\\n",
    "\\Leftrightarrow \\Delta T= \\frac{V_{0\\text{Benzin}}-V_{0\\text{Tank}}}{3 \\alpha V_{0\\text{Tank}}-\\gamma V_{0\\text{Benzin}}}$$"
   ]
  },
  {
   "cell_type": "code",
   "execution_count": 12,
   "metadata": {
    "collapsed": false,
    "exercise": "solution"
   },
   "outputs": [
    {
     "name": "stdout",
     "output_type": "stream",
     "text": [
      "Die Abweichung des ersten Verfahrens zum zweiten ist  0.206 °\n"
     ]
    }
   ],
   "source": [
    "#einmal numerisch den Schnittpunkt mit isclose\n",
    "T_kritisch=0\n",
    "for t in T:\n",
    "    if np.isclose(Delta_Benzin(t),Delta_Tank(t), atol=0.03):\n",
    "        T_kritisch=t\n",
    "        \n",
    "#nun mithilfe der Formel und der Näherung (1+x)**3 = 1+3x\n",
    "T_kritisch_2=T_0+ (V_Benzin-V_Tank)/ (3*alpha*V_Tank-gamma*V_Benzin)\n",
    "\n",
    "print('Die Abweichung des ersten Verfahrens zum zweiten ist ',round( abs( T_kritisch-T_kritisch_2),3), '°' )"
   ]
  },
  {
   "cell_type": "markdown",
   "metadata": {
    "collapsed": false
   },
   "source": [
    "<div style=\" border: 2px solid black;margin: 10px auto; padding: 10px; border-radius: 10px;\">\n",
    "\n",
    "### Wärmeenergie\n",
    "\n",
    "Führt man einem Körper eine definierte Energie zu, so stellt man fest, dass seine Temperatur um einen Betrag $\\Delta T$ steigt. Man nennt die in den Körper hineingesteckte Energie, die zur Temperaturerhöhung $\\Delta T$ führt, die Änderung $\\Delta Q$ seiner **Wärmeenergie** $Q$ (oft auch **Wärmemenge**\n",
    "genannt). Es gilt:\n",
    "$$ \\Delta Q = c\\cdot m \\cdot \\Delta T $$\n",
    "Die Wärmemenge erweist sich als eine **Energieform**. Ihre SI-Einheit ist daher das Joule. \n",
    "\n",
    "Die **spezifische Wärme** $c$ ist definiert als diejenige Wärmemenge, die erforderlich ist, um ein Kilogramm des betreffenden Stoffes um 1 °C (bzw. um 1 K) zu erwärmen:\n",
    "\n",
    "|Stoff|c [kJ·kg⁻¹·K¹]|\n",
    "|:------|:------|\n",
    "|Eis   | 2,05 |\n",
    "|Wasser (flüssig)   | 4,18 |\n",
    "|Wasserdampf (gasförmig)   |2,02|\n",
    "|Gold   | 0,126|\n",
    "|Kupfer  | 0,140 |\n",
    "\n",
    "#### Phasenübergänge und latente Wärme\n",
    "Die mit Phasenübergängen verbundene Wärme heißt \"**latente Wärme**\" oder Umwandlungswärme.\n",
    "\n",
    "Die benötigte Energie für den Phasenübergang ist mit der spezifischen\n",
    "**Schmelz-** bzw. **Verdampfungsenthalpie** $L$\n",
    "\n",
    "$$Q = m\\cdot L$$\n",
    "\n",
    "<img src=\"static/phase.jpg\" align=\"center\"/>\n",
    "\n",
    "Das obige Diagramm beschreibt die Zustandsänderungen in Bezug auf Wärmeenergie und Temperatur. Wasser hat (unter normalen Bedingungen bzw. $p=$ 1 atm) seinen Schmelzpunkt bei 0 °C und seinen Siedepunkt bei 100 °C.\n",
    "\n",
    "- s: (von lat. *Solidus*) <font color=blue>**fester**</font> Zustand\n",
    "- s/l: <font color=green>**Schmelzen**</font>  (Übergang von fest zu flüssig)\n",
    "- l: (von lat. *Liquidus*) <font color=#cc7a00>**flüssiger**</font> Zustand\n",
    "- l/g: <font color=#cc0066>**Verdampfen**</font> (Übergang von flüssig zu gasförmig) \n",
    "- g: <font color=red>**gasförmiger**</font> Zustand \n",
    "</div>"
   ]
  },
  {
   "cell_type": "markdown",
   "metadata": {
    "collapsed": false
   },
   "source": [
    "<div style= \"color: black;background-color: rgba(0,177,172, 0.1) ;margin: 10 px auto; padding: 10px; border-radius: 10px\">\n",
    "<p style=\"font-size:12pt; text-align:center; color:   black;background-color: rgba(0,177,172, 0.1) ;margin: 10 px auto; padding: 10px; border-radius: 10px\" id=\"3\"><b>  Aufgabe 3 </b>  </p>\n",
    "Die $100~\\mathrm{ml}$ Wasser in einem Cocktailglas sollen von der Raumtemperatur $21 \\mathrm{°C}$ auf eine Temperatur von $7 \\mathrm{°C}$ mit Hilfe von Eiswürfeln abgekühlt werden. Es stehen Eiswürfel der Masse $10~\\mathrm{g}$ aus einem Tiefkühlfach der Temperatur $-18 \\mathrm{°C}$ zur Verfügung. Wie viele Eiswürfel werden benötigt?\n",
    " \n",
    "Spezifische Wärmekapazität von Wasser:     $4,2⋅10³ ~\\mathrm{J⋅kg⁻¹ K⁻¹}$          \n",
    "Spezifische Wärmekapazität von Eis:   $2,1⋅10³~\\mathrm{J⋅kg⁻¹ K⁻¹}$          \n",
    "Spezifische Schmelzwärme von Eis:   $3,3⋅10⁵ ~\\mathrm{J⋅kg⁻¹}$\n",
    "</div>       "
   ]
  },
  {
   "cell_type": "markdown",
   "metadata": {
    "collapsed": false
   },
   "source": [
    "**a)** Leiten Sie auf dem Papier eine Formel für die Anzahl der Eiswürfel her, dafür sollen Sie die Wärme in verschiedenen Zuständen berechnen."
   ]
  },
  {
   "cell_type": "markdown",
   "metadata": {
    "collapsed": false,
    "exercise": "solution"
   },
   "source": [
    "**Lösung**\n",
    "\n",
    "$\\Delta T_1 = 0 \\, ^\\circ \\text{C} -(-18) \\, ^\\circ \\text{C} = 18 \\text{ K}$\n",
    "\n",
    "$\\Delta T_2 = 7 \\, ^\\circ \\text{C} - 0 \\, ^\\circ \\text{C} = 7 \\text{ K}$\n",
    "\n",
    "$\\Delta T_3 = 21 \\, ^\\circ \\text{C} - 7 \\, ^\\circ \\text{C} = 14 \\text{ K}$\n",
    "\n",
    "\n",
    "Eis $-18°C \\rightarrow 0 °C$:\n",
    "\n",
    "$$Q_{_{-18 \\, ^\\circ \\text{C} \\rightarrow 0 \\, ^\\circ \\text{C}}} = c_{eis} \\cdot m_{eis} \\cdot  \\Delta T_1 = 378 \\text{ J}$$\n",
    "\n",
    "Schmelzwärme:\n",
    "\n",
    "$$Q_{_S} = L_s \\cdot m_{eis} = 3300 \\text{ J}$$\n",
    "\n",
    "geschmolzenes Eis $0°C \\rightarrow 7 °C$:\n",
    "\n",
    "$$Q_{_{0 \\, ^\\circ \\text{C} \\rightarrow 7 \\, ^\\circ \\text{C}}} = c_{w} \\cdot m_{eis} \\cdot  \\Delta T_2 = 294 \\text{ J}$$\n",
    "\n",
    "Wasser $21°C \\rightarrow 7 °C$:\n",
    "$$Q_{_{-18 \\, ^\\circ \\text{C} \\rightarrow 0 \\, ^\\circ \\text{C}}} = c_{w} \\cdot m_{w} \\cdot  \\Delta T_3 = 5880 \\text{ J}$$\n",
    "\n",
    "Gesamt:\n",
    "\n",
    "\n",
    "\n",
    "$$\\Delta Q_{\\text{Wasser}} \\approx 5,9 \\text{ kJ}$$\n",
    "\n",
    "$$\\Delta Q_{\\text{Eiswürfel}} = Q_{_{-18 \\, ^\\circ \\text{C} \\rightarrow 0 \\, ^\\circ \\text{C}}} + Q_{_S} + Q_{_{0 \\, ^\\circ \\text{C} \\rightarrow 7 \\, ^\\circ \\text{C}}} =4,0 \\text{ kJ}$$\n",
    "\n",
    "$$\\left \\lceil{\\frac{\\Delta Q_{\\text{Wasser}}}{\\Delta Q_{\\text{Eiswürfel}}}}\\right \\rceil = 2$$\n",
    "\n",
    "Es werden mindestens 2 Eiswürfel benötigt."
   ]
  },
  {
   "cell_type": "markdown",
   "metadata": {
    "collapsed": false
   },
   "source": [
    "<div class=\"alert alert-block alert-info\">\n",
    "<b>Code Tipps:</b> \n",
    "<ul>  \n",
    "<b>Aufrundungsfunktion</b> Manchmal ist es notwendig, einen ganzzahligen Wert von Objekten zu berechnen, zum Beispiel dürfen wir in einem Supermarkt normalerweise nicht eine Orange und die Hälfte einer anderen kaufen, sondern entweder 1 oder 2 Orangen. \n",
    "<li> Für eine reelle Zahl $x$ ist $\\lceil x \\rceil$ die kleinste ganze Zahl, die größer oder gleich $x$ ist, z.B.:\n",
    "$$\\lceil 2,8 \\rceil = 3 $$\n",
    "    <li> Diese Funktion ist in Python unter <code>math.ceil() </code> aufrufbar.\n",
    "    </ul>\n",
    "</div>"
   ]
  },
  {
   "cell_type": "markdown",
   "metadata": {
    "collapsed": false
   },
   "source": [
    "**b)** Berechnen Sie das numerische Ergebnis in der folgenden Code-Zelle."
   ]
  },
  {
   "cell_type": "code",
   "execution_count": 1,
   "metadata": {
    "collapsed": false,
    "exercise": "solution"
   },
   "outputs": [
    {
     "name": "stdout",
     "output_type": "stream",
     "text": [
      "Es werden mindestens 2 Eiswürfel benötigt\n"
     ]
    }
   ],
   "source": [
    "import math\n",
    "\n",
    "V_wasser = 100e-3*0.001  # in m³\n",
    "rho_wasser = 1000     # in kg/m³\n",
    "m_wasser = V_wasser*rho_wasser\n",
    "c_wasser = 4.2e3      # in J kg⁻¹K⁻¹\n",
    "T1_wasser = 21\n",
    "T2_wasser = 7\n",
    "\n",
    "m_eis = 0.01          # in kg\n",
    "c_eis = 2.1e3         # in J kg⁻¹K⁻¹\n",
    "T1_eis = -18\n",
    "\n",
    "c_L = 3.3e5 # J kg⁻¹\n",
    "T_L = 0\n",
    "\n",
    "# -18 °C -> 0° C\n",
    "Q_eis_eis = m_eis*c_eis*(T_L - T1_eis)\n",
    "# Schmelzwärme\n",
    "Q_L = m_eis*c_L\n",
    "# geschmolzenes Eis 0°C -> 7 °C\n",
    "Q_eis_wasser = m_eis*c_wasser*(T2_wasser-T_L)\n",
    "\n",
    "Q_eis = Q_eis_eis + Q_L + Q_eis_wasser\n",
    "\n",
    "Q_wasser = m_wasser*c_wasser*(T1_wasser-T2_wasser)\n",
    "\n",
    "Anzahl_eis = math.ceil(Q_wasser/Q_eis)\n",
    "\n",
    "print(\"Es werden mindestens\",Anzahl_eis, \"Eiswürfel benötigt\")"
   ]
  },
  {
   "cell_type": "markdown",
   "metadata": {
    "collapsed": false
   },
   "source": [
    "**c)** Skizzieren Sie den Temperaturverlauf des Eiswürfels mit der Änderung seiner Wärmeenergie."
   ]
  },
  {
   "cell_type": "code",
   "execution_count": 2,
   "metadata": {
    "collapsed": false,
    "exercise": "solution"
   },
   "outputs": [
    {
     "data": {
      "image/png": "[encoded data removed]",
      "text/plain": [
       "<Figure size 540x360 with 1 Axes>"
      ]
     },
     "execution_count": 2,
     "metadata": {
      "image/png": {
       "height": 333,
       "width": 489
      },
      "needs_background": "light"
     },
     "output_type": "execute_result"
    }
   ],
   "source": [
    "import matplotlib.pyplot as plt\n",
    "\n",
    "fig = plt.subplots(figsize=(7.5, 5))\n",
    "plt.plot([0, Q_eis_eis], [-18, 0])\n",
    "plt.plot([Q_eis_eis,Q_L+Q_eis_eis],[0, 0])\n",
    "plt.plot([Q_L+Q_eis_eis, Q_L+Q_eis_eis+Q_eis_wasser],[0, 7])\n",
    "plt.xlabel('$\\Delta Q$ in $J$')\n",
    "plt.ylabel('Temperatur in $°C$')\n",
    "plt.title('Temperaturverlauf Eiswürfel')\n",
    "plt.axis([0, 4000, -18, 7])\n",
    "plt.grid()"
   ]
  },
  {
   "cell_type": "markdown",
   "metadata": {
    "collapsed": false
   },
   "source": [
    "<div style=\" border: 2px solid black;margin: 10px auto; padding: 10px; border-radius: 10px;\">\n",
    "\n",
    "#### Wärmeleitung\n",
    "\n",
    "\n",
    "Für die **Wärmeleitung** lautet das Naturgesetz: *Wärme strömt vom warmen Gebiet zum kalten. Das geschieht umso schneller, je höher die Temperaturdifferenz ist*. Dieses Naturgesetz wird durch das **Fourier'sche Gesetz** beschrieben:\n",
    "\n",
    "$$\\dot{\\vec{q}} = - \\lambda\\vec{\\nabla} T$$\n",
    "\n",
    "\n",
    "Im **eindimensionalen** Fall ($x$-Ortskoordinate) wird die Formel geschrieben als:\n",
    "\n",
    "$$\\dot{q} =- \\frac{\\lambda}{d}(T_2 - T_1)$$\n",
    "\n",
    "die Proportionalitätskonstante $\\lambda$ nennt man **Wärmeleitfähigkeit**, sie wird meinstens in W m⁻¹K⁻¹ angegeben. \n",
    "\n",
    "<img src=\"static/wl12.jpg\" align=\"center\"/>\n",
    "\n",
    "Wir sehen uns den Fall der **Wärmeleitung durch eine Wand** (stationärer Fall) mit der\n",
    "Dicke $d$ an:\n",
    "\n",
    "Der **Temperaturverlauf** ist:\n",
    "\n",
    "$$T(x) = (T_2 - T_1)\\frac{x}{d}+T_1$$\n",
    "\n",
    "Die **Wärmestromdichte** bzw. der **Wärmestrom**:\n",
    "\n",
    "$$\\dot{q} =- \\frac{\\lambda}{d}(T_2 - T_1) \\text{ und } \\dot{Q} = \\frac{A}{d}\\lambda(T_2 - T_1)$$\n",
    "\n",
    "Ein wichtiger Parameter dabei ist der Wärmeleitwiderstand $R$, im\n",
    "obigen Beispiel lautet er:\n",
    "\n",
    "$$R_{12} := \\frac{d}{\\lambda A}.$$\n",
    "\n",
    "Für eine Wand mit mehreren Materialschichten:\n",
    "\n",
    "$$\\dot{q} = - \\frac{1}{\\sum^n_{i=1}\\frac{d_i}{\\lambda_i}} (T_{2} - T_{1})$$\n",
    "</div>"
   ]
  },
  {
   "cell_type": "markdown",
   "metadata": {
    "collapsed": false
   },
   "source": [
    "<div style= \"color: black;background-color: rgba(0,177,172, 0.1) ;margin: 10 px auto; padding: 10px; border-radius: 10px\">\n",
    "<p style=\"font-size:12pt; text-align:center; color:   black;background-color: rgba(0,177,172, 0.1) ;margin: 10 px auto; padding: 10px; border-radius: 10px\" id=\"4\"><b>  Aufgabe 4 </b>  </p>Eine Hauswand besteht aus einer tragenden Betonwand der Dicke $20 \\mathrm{cm}$ und einer darauf aufgeklebten Isolierschicht aus Polystyrol der Dicke $15 \\mathrm{cm}$. Welche Temperatur herrscht am Übergang zwischen Beton und Isolierschicht, wenn die Innentemperatur $20\\mathrm{°C}$ und die Außentemperatur $-10\\mathrm{°C}$ beträgt?\n",
    "\n",
    "Wärmeleitfähigkeit Beton:  $2,1~\\mathrm{W⋅K⁻¹ m⁻¹}$    \n",
    "Wärmeleitkoeffizient Polystyrol: $0,03~\\mathrm{W⋅K⁻¹ m⁻¹}$\n",
    "</div>"
   ]
  },
  {
   "cell_type": "markdown",
   "metadata": {
    "collapsed": false
   },
   "source": [
    "**a)** Leiten Sie auf dem Papier eine Formel für $T_ü$ her."
   ]
  },
  {
   "cell_type": "markdown",
   "metadata": {
    "collapsed": false,
    "exercise": "solution"
   },
   "source": [
    "**Lösung**\n",
    "\n",
    "$$\\dot{q} =-\\frac{1}{\\frac{d_{\\text{Beton}}}{\\lambda_{\\text{Beton}}}+\\frac{d_{\\text{Poly}}}{\\lambda_{\\text{Poly}}}} \\Delta T= -\\frac{\\lambda_{\\text{Beton}}}{d_{\\text{Beton}}}\\Delta T_{\\text{Beton}} = -\\frac{\\lambda_{\\text{Poly}}}{d_{\\text{Poly}}}\\Delta T_{\\text{Poly}}$$\n",
    "\n",
    "$$\\Rightarrow \\Delta T_{\\text{Poly}} = \\frac{\\Delta T}{1 + \\frac{\\lambda_{\\text{Poly}}}{d_{\\text{Poly}}} \\frac{d_{\\text{Beton}}}{\\lambda_{\\text{Beton}}}} = 29,4 \\text{ K}$$\n",
    "\n",
    "$$\\Rightarrow T_{\\text{ü}} = (29,4 + (-10))\\text{ °C} =19,5\\text{ °C}$$\n"
   ]
  },
  {
   "cell_type": "markdown",
   "metadata": {
    "collapsed": false
   },
   "source": [
    "**b)** Berechnen Sie das numerische Ergebnis in der folgenden Code-Zelle."
   ]
  },
  {
   "cell_type": "code",
   "execution_count": 17,
   "metadata": {
    "collapsed": false,
    "exercise": "solution",
    "scrolled": true
   },
   "outputs": [
    {
     "name": "stdout",
     "output_type": "stream",
     "text": [
      "Die Übergangstemperatur zwischen Beton und Isolierschich beträgt 19.5 °C.\n"
     ]
    }
   ],
   "source": [
    "lambda_b = 2.1  # Wärmeleitfähigkeit in W K⁻¹ m⁻¹\n",
    "lambda_p = 0.03 # Wärmeleitfähigkeit in W K⁻¹ m⁻¹\n",
    "d_b = 0.20      # Dicke in m\n",
    "d_p = 0.18      # Dicke in m\n",
    "T_a = -10       # Temperatur in °C\n",
    "T_i = 20        # Temperatur in °C\n",
    "\n",
    "DeltaT_poly = (T_i-T_a)/(1+(lambda_p*d_b)/(lambda_b*d_p))\n",
    "\n",
    "T_uebergang = DeltaT_poly + T_a\n",
    "\n",
    "print('Die Übergangstemperatur zwischen Beton und Isolierschich beträgt %2.1f °C.' %(T_uebergang))"
   ]
  },
  {
   "cell_type": "markdown",
   "metadata": {
    "collapsed": false
   },
   "source": [
    "**c)** Überprüfen Sie Ihr Ergebnis mit der interaktiven Grafik."
   ]
  },
  {
   "cell_type": "code",
   "execution_count": 19,
   "metadata": {
    "collapsed": false
   },
   "outputs": [
    {
     "data": {
      "application/vnd.jupyter.widget-view+json": {
       "model_id": "3bfd3ec8a82046aca8210e9537f3e5b3",
       "version_major": 2,
       "version_minor": 0
      },
      "text/plain": [
       "interactive(children=(FloatSlider(value=2.5, continuous_update=False, description='$\\\\lambda_{Beton} \\\\, [W K⁻…"
      ]
     },
     "execution_count": 19,
     "metadata": {
     },
     "output_type": "execute_result"
    },
    {
     "data": {
      "text/plain": [
       "<function exmodul.waermeleitung(lambda_b, lambda_p, d_b, d_p)>"
      ]
     },
     "execution_count": 19,
     "metadata": {
     },
     "output_type": "execute_result"
    }
   ],
   "source": [
    "from ipywidgets import interact\n",
    "from exmodul import waermeleitung, lambda_b, lambda_p, d_b,  d_p\n",
    "interact(waermeleitung, lambda_b=lambda_b, lambda_p=lambda_p, d_b=d_b,  d_p=d_p)"
   ]
  }
 ],
 "metadata": {
  "kernelspec": {
   "display_name": "Python 3 (system-wide)",
   "language": "python",
   "metadata": {
    "cocalc": {
     "description": "Python 3 programming language",
     "priority": 100,
     "url": "https://www.python.org/"
    }
   },
   "name": "python3",
   "resource_dir": "/ext/jupyter/kernels/python3"
  },
  "language_info": {
   "codemirror_mode": {
    "name": "ipython",
    "version": 3
   },
   "file_extension": ".py",
   "mimetype": "text/x-python",
   "name": "python",
   "nbconvert_exporter": "python",
   "pygments_lexer": "ipython3",
   "version": "3.6.9"
  }
 },
 "nbformat": 4,
 "nbformat_minor": 4
}