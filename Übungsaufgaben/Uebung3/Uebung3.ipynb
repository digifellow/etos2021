{
 "cells": [
  {
   "cell_type": "code",
   "execution_count": 1,
   "metadata": {
    "collapsed": false
   },
   "outputs": [
   ],
   "source": [
    "##development\n",
    "%load_ext extension_notebook_splitter"
   ]
  },
  {
   "cell_type": "code",
   "execution_count": 2,
   "metadata": {
    "collapsed": false,
    "jupyter": {
     "source_hidden": true
    }
   },
   "outputs": [
   ],
   "source": [
    "import os\n",
    "if \"COCALC_EXTRA_ENV\" in os.environ:\n",
    "    %matplotlib inline\n",
    "else:\n",
    "    %matplotlib widget\n",
    "#%matplotlib nbagg"
   ]
  },
  {
   "cell_type": "markdown",
   "metadata": {
    "collapsed": false
   },
   "source": [
    "<div>\n",
    "    <img src=\"static/FHAachen-logo2.svg\" style=\"float: right;height: 15em;\">\n",
    "</div>\n",
    "\n",
    "<div>\n",
    "    <img src=\"static/IIIPIB_RWTH.png\" style=\"float: right;height: 6.5em;\">\n",
    "</div>\n",
    "\n",
    "<p style=\"font-size:12pt\";> <b> Einführung in die Physik -  Sommersemester 2021</b> <br>\n",
    "<b> Prof. Dr. Mottaghy, Prof. Dr.  Roth </b><br>\n",
    "<b> Fachbereich Energietechnik/  Lehrstuhl für Experimentalphysik III B  </b>\n",
    "</p>\n",
    "    \n",
    "## Übung 3: Kinematik\n",
    "\n",
    "\n",
    "----\n",
    "\n",
    "#### Übersicht der Aufgaben\n",
    "1. [Freier Fall](#1)\n",
    "2. [Gleichmäßig beschleunigte S-Bahn](#2)\n",
    "3. [Gleichförmig bewegte Fähre](#3)\n",
    "---\n",
    "\n",
    "\n"
   ]
  },
  {
   "cell_type": "markdown",
   "metadata": {
    "collapsed": false
   },
   "source": [
    "<div style=\" border: 2px solid black;margin: 10px auto; padding: 10px; border-radius: 10px;\">\n",
    "    <h5>\n",
    "        Kinematik\n",
    "    </h5>\n",
    "\n",
    "\n",
    "\n",
    "Kinematik bedeutet \"Bewegungslehre“, wobei nicht nach den\n",
    "Ursachen gefragt wird. Ebenfalls wird die räumlich Ausdehnung\n",
    "vernachlässigt und das **Modell des Massenpunktes** verwendet.\n",
    "Zur Kinematik gehört auch die Kreisbewegung, aber zunächst\n",
    "betrachten wir reine **Translationen**.\n",
    "\n",
    "Für die Beschreibung der **eindimensionale Bewegung** benötigen wir\n",
    "drei Parameter:\n",
    "- den **Ort** $s(t)$ mit der Einheit m\n",
    "- die **Geschwindigkeit** $v(t)$ mit der Einheit m s⁻¹\n",
    "- und die **Beschleunigung** $a(t)$ mit der Einheit m s⁻²\n",
    "\n",
    "**Ort:**\n",
    "\n",
    "Um den Ort $s$ eines Objekts festzulegen, muss der Nullpunkt im Koordinatensystem definiert werden. Des Weiteren müssen unterschieden werden:\n",
    "- die zurücklegte Strecke des Objekts, welche vom Weg abhängt.\n",
    "- die Verschiebung, welche nur vom Anfangs- und Endpunkt abhängt.\n",
    "\n",
    "**Geschwindigkeit:**\n",
    "\n",
    "Prinzipiell ist die vollständige Information über die Bewegung eines Objekts im zeitabhängigen Ort $s(t)$ enthalten. Es ist jedoch oft sinnvoll von einer Geschwindigkeit $v$ eines Objekts zu sprechen, welche als das Verhältnis von zurückgelegter Strecke ∆s zur verstrichenen Zeit definiert ist.\n",
    "\n",
    "**Beschleunigung:**\n",
    "\n",
    "Die Beschleunigung a eines Objekts ist als die Änderung der Geschwindigkeit $\\Delta v$ pro Zeitintervall definiert.\n",
    "\n",
    "\n",
    "\n",
    "**Gleichförmige Bewegung**: Der einfachste Fall ist die eindimensionale gleichförmige Bewegung. Dabei ist die Geschwindigkeit konstant. Wir betrachten nun das zugehörige Weg-Zeit-, das Geschwindigkeits-Zeit-, sowie das Beschleunigungs-Zeit-Diagramm:\n",
    "\n",
    "<img src=\"static/gleb.jpg\" align=\"center\"/>\n",
    "\n",
    "\n",
    "**Ungleichförmige Bewegung**: Im obigen Fall haben wir die Durchschnittsgeschwindigkeit in einem Intervall definiert. Falls $v$ konstant ist, so reicht dies. Bei einer ungleichförmigen Bewegung müssen wir überlegen, wie sich die Momentangeschwindigkeit, also die Geschwindigkeit genau zu einem Zeitpunkt definieren lässt.\n",
    "\n",
    "\n",
    "**Gleichmäßig beschleunigte Bewegung**: Ein **Spezialfall ungleichförmiger Bewegung** ist die **gleichmäßig beschleunigte Bewegung**, anhand derer wir uns den Zusammenhang zwischen Ort, Geschwindigkeit und Beschleunigung mit der Zeit ansehen.\n",
    "\n",
    "<img src=\"static/ungleb.jpg\" align=\"center\"/>\n",
    "\n",
    "<br>\n",
    "    \n",
    "<img src= \"static/intdiff.png\"  height=\"200\" width=\"300\"/>\n",
    "\n",
    "|Parameter | Gleichförmige Bewegung|Gleichmäßig beschleunigte Bewegung|Ungleichförmige Bewegung|\n",
    "|:------|:------|:------|:------|\n",
    "|Ort  | $$s=v_0t+s_0$$ | $$s(t)=\\frac{1}{2}a_0t^2+v_0t+s_0$$ | $$s(t)$$     | \n",
    "|Geschwindigkeit  |  $$v =\\frac{\\Delta s}{\\Delta t}$$ |$$v(t) = \\frac{\\text{d}s}{\\text{d}t}=a_0t + v_0$$ |$$v(t) = \\frac{\\text{d}s}{\\text{d}t}=\\dot{s}$$|\n",
    "|Beschleunigung   | $$a =0$$|$$a(t) =\\frac{\\text{d}v}{\\text{d}t}= a_0$$|$$a(t) = \\frac{\\text{d}v}{\\text{d}t}= \\frac{\\text{d}\\dot{s}}{\\text{d}t}=\\ddot{s}$$     | \n",
    "    \n",
    "</div>"
   ]
  },
  {
   "cell_type": "markdown",
   "metadata": {
    "collapsed": false
   },
   "source": [
    "<div class=\"alert alert-block alert-info\">\n",
    "<i class=\"fas fa-lightbulb\"></i> <b>Code Tipps:</b> \n",
    "<ul>\n",
    "    <b>Liste</b> I:\n",
    "    <p>Eine Liste (Datentyp <code>list</code>) in Python besteht aus mehreren Werten in einer geordneten Reihenfolge mit eckigen Klammern:</p>\n",
    "    <p> <code>liste = [12, 3, 6, 7]</code></p>\n",
    "    <b>Numpy-Array</b>:\n",
    "    <p>Im Gegensatz zu Listen unterstützen Arrays elemtweise arithmetische Operationen (<code>+,-,*,/,**</code>). Um eine Liste in ein Numpy-Array umzuwandeln schreibe:</p>\n",
    "    <p> <code> liste = np.array([12, 3, 6, 7]) </code></p>\n",
    "    <p>Letztendlich wollen wir nur mit numpy-arrays arbeiten. </p>\n",
    "</div>"
   ]
  },
  {
   "cell_type": "markdown",
   "metadata": {
    "collapsed": false
   },
   "source": [
    "<div style=\" border: 2px solid lightblue ;margin: 10px auto; padding: 10px; border-radius: 10px;\">\n",
    "    <h5>\n",
    "        Plots mit Python \n",
    "    </h5>\n",
    "\n",
    "Als Beispiel werden wir den Weg über die Zeit bei einer gleichförmig beschleuingten Bewegung mit Startpunkt $s_0=0~\\mathrm{m}$ und Anfangsgeschwindigkeit $v_0= 0~\\mathrm{ms^{-1}}$ plotten:\n",
    "\n",
    "1. Zuerst importieren Sie die matplotlib-Bibliothek:\n",
    "\n",
    "```python\n",
    "# Diese Zeile ist notwendig um die Funktionen zum Plotten nutzen zu können\n",
    "import matplotlib.pyplot as plt\n",
    "```\n",
    "\n",
    "\n",
    "    \n",
    "2. Wir erstellen Arrays für die Abszissenachse und eine für die Ordinatenachse. Man muss beachten, dass die Arrays die gleiche Dimension haben müssen. Wir betrachten die Zeit der ersten 10 s.\n",
    "\n",
    "```python\n",
    "# Manuell:\n",
    "t = np.linspace(0,10)    #s\n",
    "y = 0.5*g*t**2           # m\n",
    "\n",
    "```\n",
    "\n",
    "\n",
    "3. Plotten t gegen y:\n",
    "\n",
    "```python\n",
    "# Plot:\n",
    "plt.plot(t,y)                  # Einfach\n",
    "plt.plot(t,y, label='Weg')     # Plot mit Label\n",
    "```\n",
    "\n",
    "4. Formatierung: \n",
    "\n",
    "```python\n",
    "plt.xlabel('Zeit')                                 # Beschriftung für die x-Achse\n",
    "plt.ylabel('Weg')                                  # Beschriftung für die y-Achse\n",
    "plt.legend(loc=\"upper left\")                       # Position des Labels\n",
    "plt.title('gleichförmig beschleunigte Bewegung')   # Titel des Plots\n",
    "\n",
    "# Axis-Bereich plt.axis([xmin, xmax, ymin, ymax])\n",
    "plt.axis([0, 10, 0, 100])\n",
    "```\n",
    "\n",
    "5. Diagramm anzeigen: \n",
    "\n",
    "```python\n",
    "plt.grid(True)               # Grid falls erwüscht\n",
    "plt.show()\n",
    "```\n",
    "</div>"
   ]
  },
  {
   "cell_type": "code",
   "execution_count": 3,
   "metadata": {
    "collapsed": false
   },
   "outputs": [
    {
     "data": {
      "image/png": "[encoded data removed]",
      "text/plain": [
       "<Figure size 432x288 with 1 Axes>"
      ]
     },
     "execution_count": 3,
     "metadata": {
      "image/png": {
       "height": 277,
       "width": 395
      },
      "needs_background": "light"
     },
     "output_type": "execute_result"
    }
   ],
   "source": [
    "%matplotlib inline\n",
    "import matplotlib.pyplot as plt\n",
    "import numpy as np\n",
    "g = 9.81 # m/s^2\n",
    "t = np.linspace(0,10)\n",
    "y = 0.5*g*t**2\n",
    "\n",
    "\n",
    "plt.plot(t,y, label='Weg')\n",
    "plt.xlabel('Zeit /s')\n",
    "plt.ylabel('Weg /m')\n",
    "plt.legend(loc=\"upper left\")\n",
    "plt.title('Gleichförmig beschleunigte Bewegung')\n",
    "plt.axis([0, 10, 0, 500])\n",
    "plt.grid(True)\n",
    "plt.show()\n"
   ]
  },
  {
   "cell_type": "markdown",
   "metadata": {
    "collapsed": false
   },
   "source": [
    "___\n",
    "## Aufgabe 1"
   ]
  },
  {
   "cell_type": "markdown",
   "metadata": {
    "collapsed": false
   },
   "source": [
    "<div class=\"alert alert-block alert-info\">\n",
    "<i class=\"fas fa-lightbulb\"></i> <b>Code Tipps:</b> Plots\n",
    "<ul>\n",
    "<br>\n",
    "    <p>Wir benötigen 3 Schritte, um ein Diagramm zu erstellen (Wir können eine Analogie zur realen Welt herstellen): </p>\n",
    "<ol>\n",
    "<li>Module importieren (Papier, Stift und Lineal bereitlegen).</li>\n",
    "   \n",
    "```python\n",
    "import matplotlib.pyplot as plt\n",
    "```\n",
    "\n",
    "<li>$x$-Punkte für die Abszissenachse und die zugehörigen $y$-Punkte für die Ordinatenachse definieren (Tabelle mit Daten anlegen).</li>\n",
    "    \n",
    "```python\n",
    "t = [0, 1, 2, 3, 4, 5]           # in s\n",
    "s = [0, 50, 100, 150, 200, 250]  # in m    \n",
    "```    \n",
    "\n",
    "<li>Plotten, d.h. Graph in ein Koordinatensystem zeichnen (Punkte auf kariertes Papier eintragen und mit einer Kurve verbinden)</li>\n",
    "    \n",
    "```python\n",
    "plt.plot(t,s)      \n",
    "```    \n",
    "</ol>\n",
    "\n",
    "</div>\n",
    "    \n",
    " <div class=\"alert alert-block alert-danger\">\n",
    "<b>Vorsicht!</b> \n",
    "<ul>\n",
    "    <p>  Die Listen für die $x$- und $y$-Werte <b>müssen die gleiche Dimension haben</b>, sonst erhalten Sie eine Fehlermeldung.\n",
    " </p>     \n",
    "</div>"
   ]
  },
  {
   "cell_type": "markdown",
   "metadata": {
    "collapsed": false
   },
   "source": [
    "<div style= \"color: black;background-color: rgba(0,177,172, 0.1) ;margin: 10 px auto; padding: 10px; border-radius: 10px\">\n",
    "<p style=\"font-size:12pt; text-align:center; color:   black;background-color: rgba(0,177,172, 0.1) ;margin: 10 px auto; padding: 10px; border-radius: 10px\" id=\"1\"><b>  Aufgabe 1 </b>  </p> \n",
    "\n",
    "Ein Ball fällt von einer Höhe von $370 \\text{ cm}$ im freien Fall hinunter. Mit Hilfe des unteren Videos können Sie die Zeit und ihre $y$-Koordinate (siehe rechte untere Ecke) im freien Fall ablesen. Wenn das Video zu schnell läuft, können Sie die Schaltflächen Pause und Neustart verwenden, um Ihre Liste zu erstellen."
   ]
  },
  {
   "cell_type": "markdown",
   "metadata": {
    "collapsed": false
   },
   "source": [
    "**a)** Die Zeit und der Ort werden in einer Liste speichern, wenn Sie auf dem Ball klicken. Wenn das Video zu schnell läuft, können Sie die Schaltflächen Pause und Neustart verwenden, um Ihre Liste zu erstellen. <code>SHIFT⇪</code> + <code>ENTER ↵ </code> zum Ausführen des unten stehenden Codes."
   ]
  },
  {
   "cell_type": "code",
   "execution_count": 4,
   "metadata": {
    "collapsed": false
   },
   "outputs": [
   ],
   "source": [
    "%%task\n",
    "%matplotlib widget\n",
    "%run freier_fall.py"
   ]
  },
  {
   "cell_type": "markdown",
   "metadata": {
    "collapsed": false
   },
   "source": [
    "**b)** Nachdem Sie den Ball angeklickt haben, können Sie Ihre Listen von Zeit `t` und Ort `s` laden, indem Sie den folgenden Code ausführen:."
   ]
  },
  {
   "cell_type": "code",
   "execution_count": 5,
   "metadata": {
    "collapsed": false
   },
   "outputs": [
   ],
   "source": [
    "%%task\n",
    "import numpy as np\n",
    "\n",
    "t = np.array([ ])    # in s\n",
    "s = np.array([ ])  # in m\n"
   ]
  },
  {
   "cell_type": "code",
   "execution_count": 6,
   "metadata": {
    "collapsed": false,
    "exercise": "solution"
   },
   "outputs": [
   ],
   "source": [
    "%%solution\n",
    "import numpy as np\n",
    "\n",
    "t = np.array([0, 0.067, 0.3, 0.6, 0.834])    # in s\n",
    "s = np.array([0, 0.035, 0.477, 1.93, 3.70])  # in m"
   ]
  },
  {
   "cell_type": "markdown",
   "metadata": {
    "collapsed": false
   },
   "source": [
    "**c)** Tragen Sie die gemessenen Werte von $s$ als Datenpunkte in Abhängingkeit von $t$ auf. Zeichnen Sie die theoretische Erwartung $s(t) = \\frac{1}{2} g t^2$ mit ein."
   ]
  },
  {
   "cell_type": "code",
   "execution_count": 7,
   "metadata": {
    "collapsed": false,
    "exercise": "solution"
   },
   "outputs": [
    {
     "data": {
      "image/png": "[encoded data removed]",
      "text/plain": [
       "<Figure size 432x288 with 1 Axes>"
      ]
     },
     "execution_count": 7,
     "metadata": {
      "image/png": {
       "height": 278,
       "width": 385
      },
      "needs_background": "light"
     },
     "output_type": "execute_result"
    }
   ],
   "source": [
    "%%solution\n",
    "%matplotlib inline\n",
    "import matplotlib.pyplot as plt\n",
    "\n",
    "def s_theo(t): # theoretische Erwartung s(t)\n",
    "    return 0.5*9.81*t**2\n",
    "\n",
    "plt.plot(t,s, \"o\", label='Messung')\n",
    "tt = np.linspace(0,0.9,100)\n",
    "plt.plot(tt, s_theo(tt), label='Theorie')\n",
    "plt.legend(loc=\"upper left\")\n",
    "plt.xlabel('Zeit / s')\n",
    "plt.ylabel('Ort / m')\n",
    "plt.grid(True)\n",
    "plt.title('$s(t)$')\n",
    "plt.show()"
   ]
  },
  {
   "cell_type": "code",
   "execution_count": 8,
   "metadata": {
    "collapsed": false,
    "exercise": "task"
   },
   "outputs": [
   ],
   "source": [
    "%%task\n",
    "%matplotlib inline\n",
    "import matplotlib.pyplot as plt\n",
    "\n",
    "def s_theo(t): # theoretische Erwartung s(t)\n",
    "    return \n",
    "\n",
    "plt.plot( )                 # Plot für die Messung\n",
    "tt = np.linspace(0,0.9,100)\n",
    "plt.plot(tt, )              # Plot für die theoretische Erwartung\n",
    "plt.xlabel( )\n",
    "plt.ylabel( )\n",
    "plt.grid(True)\n",
    "plt.title( )\n",
    "plt.show()"
   ]
  },
  {
   "cell_type": "markdown",
   "metadata": {
    "collapsed": false
   },
   "source": [
    "<div class=\"alert alert-block alert-info\">\n",
    "<i class=\"fas fa-lightbulb\"></i> <b>Code Tipps:</b>\n",
    "<ul>   \n",
    "<b>Listen & Arrays</b> II:\n",
    "   <p>Der Zugriff auf ein Element einer Liste oder eines Arrays mit $n$ Elementen erfolgt über den Index durch <code>liste[index]</code> mit den ganzzahligen Werten von index zwischen 0 und $n−1$. z.B.:</p>\n",
    "   <p><code>liste = np.array([12,3,6,7])</code></p>\n",
    "<li><code>liste[0] = 12</code></li>    \n",
    "<li><code>liste[1] = 3</code></li>  \n",
    "<li><code>liste[2] = 6</code></li>  \n",
    "<li><code>liste[3] = 7</code></li>      \n",
    "</div>"
   ]
  },
  {
   "cell_type": "markdown",
   "metadata": {
    "collapsed": false
   },
   "source": [
    "**d)** Tragen Sie die gemessenen Werte von $v$ als Datenpunkte in Abhängingkeit von $t$ auf. *Hinweis*: $v = \\frac{s_2- s_1}{t_2 - t_1}$ ist die Geschwindigkeit zur Zeit $\\frac{t_1+t_2}{2}$. Zeichnen Sie die theoretische Erwartung $v(t) = g t$ mit ein."
   ]
  },
  {
   "cell_type": "code",
   "execution_count": 9,
   "metadata": {
    "collapsed": false,
    "exercise": "solution"
   },
   "outputs": [
   ],
   "source": [
    "%%solution\n",
    "# Erstellen Sie eine Liste von v-Werte\n",
    "v0 = 0\n",
    "v1 = (s[1]-s[0])/(t[1]-t[0])\n",
    "v2 = (s[2]-s[1])/(t[2]-t[1])\n",
    "v3 = (s[3]-s[2])/(t[3]-t[2])\n",
    "v4 = (s[4]-s[3])/(t[4]-t[3])\n",
    "v = [v0, v1, v2, v3, v4]\n",
    "t1 = (t[1]+t[0])/2\n",
    "t2 = (t[2]+t[1])/2\n",
    "t3 = (t[3]+t[2])/2\n",
    "t4 = (t[4]+t[3])/2\n",
    "t_mittel = [0, t1, t2, t3, t4]"
   ]
  },
  {
   "cell_type": "code",
   "execution_count": 10,
   "metadata": {
    "collapsed": false,
    "exercise": "task"
   },
   "outputs": [
   ],
   "source": [
    "%%task\n",
    "# Erstellen Sie eine Liste von v-Werte\n",
    "v0 = 0\n",
    "v1 = (s[1]-s[0])/(t[1]-t[0])\n",
    "\n",
    "# weiter mit v2...\n",
    "\n",
    "v = [v0, v1, #..., vn]\n",
    "\n",
    "# Erstellen Sie eine Liste von t-Werte\n",
    "t0 = 0\n",
    "t1 = (t[1]+t[0])/2\n",
    "\n",
    "# weiter mit t2...\n",
    "\n",
    "t_mittel = [t0, t1,#...,tn]"
   ]
  },
  {
   "cell_type": "code",
   "execution_count": 11,
   "metadata": {
    "collapsed": false,
    "exercise": "solution"
   },
   "outputs": [
    {
     "data": {
      "image/png": "[encoded data removed]",
      "text/plain": [
       "<Figure size 432x288 with 1 Axes>"
      ]
     },
     "execution_count": 11,
     "metadata": {
      "image/png": {
       "height": 278,
       "width": 379
      },
      "needs_background": "light"
     },
     "output_type": "execute_result"
    }
   ],
   "source": [
    "%%solution\n",
    "def v_theo(t): # theoretische Erwartung v(t)\n",
    "    return 9.81*t\n",
    "\n",
    "plt.plot(t_mittel, v, \"o\", label='Messung')\n",
    "plt.xlabel('Zeit / s')\n",
    "plt.ylabel('Geschwindigkeit / m$s^{-1}$')\n",
    "plt.plot(tt,v_theo(tt), \"-\", label='Theorie')\n",
    "plt.legend(loc=\"upper left\")\n",
    "plt.grid(True)\n",
    "plt.title('$v(t)$')\n",
    "plt.show()"
   ]
  },
  {
   "cell_type": "code",
   "execution_count": 12,
   "metadata": {
    "collapsed": false,
    "exercise": "task"
   },
   "outputs": [
   ],
   "source": [
    "%%task\n",
    "def v_theo(t): # theoretische Erwartung v(t)\n",
    "    return\n",
    "\n",
    "plt.plot( ) # Plot für die Messung\n",
    "plt.plot( ) # Plot für die theoretische Erwartung"
   ]
  },
  {
   "cell_type": "markdown",
   "metadata": {
    "collapsed": false
   },
   "source": [
    "**e)** Tragen Sie nun die gemessenen Werte $s$ und die Funktion $s(t)$ gegen $t^{2}$ auf. Was ergibt sich?"
   ]
  },
  {
   "cell_type": "code",
   "execution_count": 13,
   "metadata": {
    "collapsed": false,
    "exercise": "solution"
   },
   "outputs": [
    {
     "data": {
      "image/png": "[encoded data removed]",
      "text/plain": [
       "<Figure size 432x288 with 1 Axes>"
      ]
     },
     "execution_count": 13,
     "metadata": {
      "image/png": {
       "height": 261,
       "width": 385
      },
      "needs_background": "light"
     },
     "output_type": "execute_result"
    }
   ],
   "source": [
    "%%solution\n",
    "plt.plot(t**2, s, \"o\", label='Messung')\n",
    "plt.plot(t**2, s_theo(t), \"-\", label=\"Theorie\")\n",
    "plt.xlabel('Zeit im Quadrat / s²')\n",
    "plt.ylabel('Ort / m')\n",
    "plt.grid(True)\n",
    "plt.legend()\n",
    "plt.show()"
   ]
  },
  {
   "cell_type": "code",
   "execution_count": 14,
   "metadata": {
    "collapsed": false,
    "exercise": "task"
   },
   "outputs": [
   ],
   "source": [
    "%%task\n",
    "plt.plot( ) # Plot für die Messung\n",
    "plt.plot( ) # Plot für die theoretische Erwartung"
   ]
  },
  {
   "cell_type": "markdown",
   "metadata": {
    "collapsed": false
   },
   "source": [
    "**f)** Gegeben seien $h = 370 \\text{ cm}$ und $g = 9,81 \\text{ m/s²}$. Berechnen Sie, wie viel Zeit der Ball benötigt, bis er auf dem Boden aufschlägt sowie die Aufprallgeschwindigkeit.   "
   ]
  },
  {
   "cell_type": "markdown",
   "metadata": {
    "collapsed": false,
    "exercise": "solution"
   },
   "source": [
    "%%solution    \n",
    "**Lösung**:    \n",
    "\n",
    "$$t = \\sqrt{\\frac{2\\cdot h}{g}} = \\sqrt{\\frac{2\\cdot 3,70 \\text{ m}}{9,81 \\text{ m/s²}}} =  0,87 \\text{ s}$$ \n",
    "\n",
    "$$v = \\frac{1}{2}g\\cdot t = \\frac{1}{2} 9,81\\text{ m/s²} \\cdot 0,87 \\text{ s} = 4,26 \\text{ m/s}$$ "
   ]
  },
  {
   "cell_type": "code",
   "execution_count": 15,
   "metadata": {
    "collapsed": false,
    "exercise": "solution"
   },
   "outputs": [
    {
     "name": "stdout",
     "output_type": "stream",
     "text": [
      "Der Ball benötigt 0.87 s\n",
      "Die Aufprallgeschwindigkeit beträgt 4.26 m/s\n"
     ]
    }
   ],
   "source": [
    "%%solution\n",
    "import math\n",
    "h = 3.7\n",
    "g = 9.81\n",
    "\n",
    "t = math.sqrt(2*h/g)\n",
    "v = 0.5*g*t\n",
    "\n",
    "print(\"Der Ball benötigt %3.2f\"%t, \"s\")\n",
    "print(\"Die Aufprallgeschwindigkeit beträgt %3.2f\"%v, \"m/s\")"
   ]
  },
  {
   "cell_type": "code",
   "execution_count": 16,
   "metadata": {
    "collapsed": false,
    "exercise": "task"
   },
   "outputs": [
   ],
   "source": [
    "%%task\n",
    "import math\n",
    "h =   # Höhe\n",
    "g =   # Erdbeschleinigung\n",
    "\n",
    "t =   # Formel für die Zeit\n",
    "v =   # Formel für die Geschwindigkeit\n",
    "\n",
    "print() "
   ]
  },
  {
   "cell_type": "markdown",
   "metadata": {
    "collapsed": false
   },
   "source": [
    "---\n",
    "## Aufgabe 2"
   ]
  },
  {
   "cell_type": "markdown",
   "metadata": {
    "collapsed": false
   },
   "source": [
    "<div style= \"color: black;background-color: rgba(0,177,172, 0.1) ;margin: 10 px auto; padding: 10px; border-radius: 10px\">\n",
    "<p style=\"font-size:12pt; text-align:center; color:   black;background-color: rgba(0,177,172, 0.1) ;margin: 10 px auto; padding: 10px; border-radius: 10px\" id=\"2\"><b>  Aufgabe 2 </b>  </p> \n",
    "\n",
    "Die Fahrt einer S-Bahn zwischen zwei Stationen in $1,\\!0~\\text{km}$ Abstand besteht aus drei Phasen. Beim Anfahren wird die S-Bahn mit $0,\\!80~\\text{m/s²}$ beschleunigt, anschließend wird die Geschwindigkeit konstant gehalten, und beim Anhalten wird die S-Bahn mit $-1,\\!2~\\text{m/s²}$ gebremst.\n",
    "\n",
    "Die nachfolgende interaktive Grafik gibt den zeitlichen Verlauf der Position $x$, Geschwindigkeit $v$ und Beschleunigung $a$ der S-Bahn wieder. Dabei bezeichnet $t_1$ wie lang das Anfahren, $t_2$ wie lang die unbeschleunigte Fahrt, und $t_3$ wie lang das Abbremsen jeweils in Sekunden dauern."
   ]
  },
  {
   "cell_type": "code",
   "execution_count": 17,
   "metadata": {
    "collapsed": false
   },
   "outputs": [
   ],
   "source": [
    "%%task\n",
    "import sbahn\n",
    "sbahn.display_plot()"
   ]
  },
  {
   "cell_type": "markdown",
   "metadata": {
    "collapsed": false
   },
   "source": [
    "**a)** Bestimmen Sie die kürzest mögliche Fahrtdauer bei einer gegebenen Höchstgeschwindigkeit $v_\\max=15~\\text{m/s}$. Die S-Bahn muss in der Zielstation zum Stehen kommen. Überprüfen Sie Ihr Ergebnis mit der interaktiven Grafik."
   ]
  },
  {
   "cell_type": "markdown",
   "metadata": {
    "collapsed": false,
    "exercise": "solution"
   },
   "source": [
    "%%solution    \n",
    "**Lösung**:    \n",
    "\n",
    "Parameter aus der Aufgabenstellung: $a_1 = 0,\\!8 \\text{ m/s²}$ und $a_3 = -1,\\!2 \\text{ m/s²}$ und $s=1000 \\text{ m}$ und $v_\\max=15 \\text{ m/s}$.\n",
    "\n",
    "Überlegung:  Die kürzeste Fahrtdauer wird erreicht wenn die konstante Geschwindigkeit auf freier Fahrt möglichst groß (die Höchstgeschwindigkeit der S-Bahn) ist.\n",
    "\n",
    "Das Anfahren dauert entsprechend $t_1 = v_\\max / a_1$. Das Abbremsen $t_3 = v_\\max / |a_3|$.\n",
    "\n",
    "Die Strecke die in der ersten und dritten Phase zurückgelegt wird lässt sich mit $\\frac{1}{2} a t^2$ berechnen, da die Geschwindigkeit entweder bei $0$ anfängt oder bei $0$ endet. \n",
    "$$x_1 = \\frac{1}{2} a_1 t_1^2 = \\frac{1}{2 a_1} v_\\max^2 , $$\n",
    "$$x_3 = \\frac{1}{2} |a_3| t_3^2 = \\frac{1}{2 |a_3|} v_\\max^2 . $$\n",
    "\n",
    "In der mittleren phase wird mit konstanter Geschwindigkeit $v_\\max$ die folgende Strecke zurückgelegt:\n",
    "$$x_2 = v_\\max t_2 . $$\n",
    "\n",
    "In Summe muss gelten:\n",
    "$$ s = x_1+x_2+x_3 = \\left(\\frac{1}{2 a_1} +\\frac{1}{2 |a_3|}\\right) v_\\max^2 + v_\\max t_2 .$$\n",
    "\n",
    "Umstellen nach $t_2$ ergibt:\n",
    "$$ t_2 = \\frac{s}{v_\\max} - \\left(\\frac{1}{2 a_1} + \\frac{1}{2 |a_3|}\\right) v_\\max . $$\n",
    "\n",
    "Es muss kurz kontrolliert werden, dass $t_2 \\geq 0$ gilt, ansonsten würde $v_\\max$ nie erreicht werden, weil die S-Bahn zu früh wieder abbremsen muss.\n",
    "\n",
    "Die Gesamtzeit ist:\n",
    "$$ t_1+t_2+t_3 = \\frac{v_\\max}{a_1} + \\frac{s}{v_\\max} - \\left(\\frac{1}{2 a_1} + \\frac{1}{2 |a_3|}\\right) v_\\max + \\frac{v_\\max}{|a_3|} = \\frac{s}{v_\\max} = 82 \\text{ s}$$"
   ]
  },
  {
   "cell_type": "code",
   "execution_count": 18,
   "metadata": {
    "collapsed": false,
    "exercise": "solution"
   },
   "outputs": [
    {
     "name": "stdout",
     "output_type": "stream",
     "text": [
      "t_2 ist nicht negativ, v_max wird erreicht, der Ansatz funktioniert.\n",
      "Die Gesamtzeit ist 82.291667 s.\n"
     ]
    }
   ],
   "source": [
    "%%solution\n",
    "\n",
    "a_1 = 0.8        # Beschleinigung beim Anfahren\n",
    "a_3 = -1.2       # Beschleinigung beim Anhalten\n",
    "s = 1000         # Abstand\n",
    "v_max = 15       # max. Geschwindigkeit\n",
    "\n",
    "t_1 = v_max / a_1              # Zeitpunkt 1\n",
    "t_3 = v_max / (-a_3)           # Zeitpunkt 3\n",
    "\n",
    "x_1 = 0.5 * a_1 * t_1 ** 2     # Strecke 1\n",
    "x_3 = 0.5 * (-a_3) * t_3 ** 2  # Strecke 3\n",
    "\n",
    "x_2 = s - x_1 - x_3            # Strecke 2\n",
    "t_2 = x_2 / v_max              # Zeitpunkt 2\n",
    "\n",
    "if t_2 < 0:\n",
    "    print(\"t_2 ist negativ, v_max wird nicht erreicht, der Ansatz stimmt also nicht!\")\n",
    "else:\n",
    "    print(\"t_2 ist nicht negativ, v_max wird erreicht, der Ansatz funktioniert.\")\n",
    "\n",
    "t_gesamt = t_1 + t_2 + t_3     # Zeit gesamt\n",
    "\n",
    "print(\"Die Gesamtzeit ist %f s.\" % t_gesamt)"
   ]
  },
  {
   "cell_type": "code",
   "execution_count": 19,
   "metadata": {
    "collapsed": false,
    "exercise": "task"
   },
   "outputs": [
   ],
   "source": [
    "%%task\n",
    "a_1 =        # Beschleinigung beim Anfahren\n",
    "a_3 =        # Beschleinigung beim Anhalten\n",
    "s =          # Abstand\n",
    "v_max =      # max. Geschwindigkeit\n",
    "\n",
    "# Berechnungen:\n"
   ]
  },
  {
   "cell_type": "code",
   "execution_count": 20,
   "metadata": {
    "collapsed": false,
    "exercise": "task"
   },
   "outputs": [
   ],
   "source": [
    "%%task\n",
    "# If-Anweisung zur Selbstkontrolle\n",
    "if t_2 < 0:\n",
    "    print(\"t_2 ist negativ, v_max wird nicht erreicht, der Ansatz stimmt also nicht!\")\n",
    "else:\n",
    "    print(\"t_2 ist nicht negativ, v_max wird erreicht, der Ansatz funktioniert.\")"
   ]
  },
  {
   "cell_type": "code",
   "execution_count": 21,
   "metadata": {
    "collapsed": false,
    "exercise": "task"
   },
   "outputs": [
   ],
   "source": [
    "%%task\n",
    "# Ergebnis: Fahrtdauer\n",
    "\n",
    "print( )"
   ]
  },
  {
   "cell_type": "markdown",
   "metadata": {
    "collapsed": false
   },
   "source": [
    "**b)** Bestimmen Sie die kürzest mögliche Fahrtdauer ohne Geschwindigkeitsbegrenzung. Überprüfen Sie Ihr Ergebnis mit der interaktiven Grafik."
   ]
  },
  {
   "cell_type": "markdown",
   "metadata": {
    "collapsed": false,
    "exercise": "solution"
   },
   "source": [
    "%%solution      \n",
    "**Lösung**:    \n",
    "\n",
    "Parameter aus der Aufgabenstellung: $a_1 = 0,\\!8 \\text{ m/s²}$ und $a_3 = -1,\\!2 \\text{ m/s²}$ und $s=1000 \\text{ m}$.\n",
    "\n",
    "Kurze Überlegung: statt unbeschleunigt zu fahren, lohnt es sich zu beschleunigen und abzubremsen. Begründung: die Geschwindigkeit ist dadurch immer größer, und die Gesamtzeit also kleiner.\n",
    "\n",
    "Es ist also $t_2 = 0$.\n",
    "\n",
    "Nach dem Anfahren ist die Geschwindigkeit $v(t_1) = a_1 \\cdot t_1$.\n",
    "\n",
    "Durch Abbremsen muss diese wieder auf $0$ gebracht werden, also ist\n",
    "$$ t_3 = \\frac{v(t_1)}{|a_3|} = \\frac{a_1}{|a_3|} t_1. $$\n",
    "\n",
    "Die Anfahrt beginnt bei Geschwindigkeit $0$ und legt eine Strecke zurück von\n",
    "$$ x_1 = \\frac{1}{2} a_1 t_1^2 . $$\n",
    "\n",
    "Beim Abbremsen endet die Geschwindigkeit bei $0$ und die gleiche Formel, allerdings mit $|a_3|$ kann verwendet werden:\n",
    "$$ x_3 = \\frac{1}{2} |a_3| t_3^2 = \\frac{a_1^2}{2 |a_3|} t_1^2 .$$\n",
    "\n",
    "Zusammen muss sich die Strecke zwischen den Stationen ergeben:\n",
    "$$ s = x_1+x_3 = \\frac{1}{2} a_1 t_1^2 + \\frac{a_1^2}{2 |a_3|} t_1^2 = \\frac{a_1 |a_3| + a_1^2}{2 |a_3|} t_1^2 . $$\n",
    "$$\\Rightarrow t_1 = \\sqrt{\\frac{2 s |a_3|}{a_1 |a_3| + a_1^2}}$$\n",
    "\n",
    "Die Gesamtdauer ist entsprechend\n",
    "$$ t_1 + t_3 = t_1 + \\frac{a_1}{|a_3|} t_1 = \\frac{|a_3|+a_1}{|a_3|} \\sqrt{\\frac{2 s |a_3|}{a_1 |a_3| + a_1^2}} $$\n",
    "$$ = \\sqrt{\\frac{2 s |a_3|}{a_1 (|a_3|+a_1)} \\cdot \\frac{(|a_3|+a_1)^2}{|a_3|^2} } = \\sqrt{\\frac{2 s (|a_3|+a_1) }{a_1 |a_3|}} = 65 \\text{ s}. $$"
   ]
  },
  {
   "cell_type": "code",
   "execution_count": 22,
   "metadata": {
    "collapsed": false,
    "exercise": "solution"
   },
   "outputs": [
    {
     "name": "stdout",
     "output_type": "stream",
     "text": [
      "Die Gesamtzeit ist 65s.\n"
     ]
    }
   ],
   "source": [
    "%%solution\n",
    "import math\n",
    "a_1 = 0.8\n",
    "a_3 = -1.2\n",
    "s = 1000\n",
    "\n",
    "t_2 = 0\n",
    "\n",
    "t_1 = math.sqrt(2 * s * (-a_3) / (a_1 * (-a_3) + a_1 ** 2))\n",
    "t_3 = a_1 / (-a_3) * t_1\n",
    "\n",
    "\n",
    "t_gesamt = t_1 + t_2 + t_3\n",
    "\n",
    "print(\"Die Gesamtzeit ist %.2gs.\" % t_gesamt)"
   ]
  },
  {
   "cell_type": "code",
   "execution_count": 23,
   "metadata": {
    "collapsed": false,
    "exercise": "task"
   },
   "outputs": [
   ],
   "source": [
    "%%task\n",
    "\n",
    "import math\n",
    "a_1 =        # Beschleinigung beim Anfahren\n",
    "a_3 =        # Beschleinigung beim Anhalten\n",
    "s =          # Abstand\n",
    "\n",
    "print()"
   ]
  },
  {
   "cell_type": "markdown",
   "metadata": {
    "collapsed": false
   },
   "source": [
    "-----\n",
    "## Aufgabe 3"
   ]
  },
  {
   "cell_type": "markdown",
   "metadata": {
    "collapsed": false
   },
   "source": [
    "<div style=\" border: 2px solid black;margin: 10px auto; padding: 10px; border-radius: 10px;\">\n",
    "    <h5>\n",
    "        Überlagerung eindimensionaler Bewegungen\n",
    "    </h5>\n",
    "\n",
    "Das **Superpositionsprinzip** spielt in vielen Anwendungen der Physik eine große Rolle und führt zu **vereinfachten Beschreibung** von Bewegungen in verschiedene Richtungen. Ein Beispiel für den Fall überlagerter Geschwindigkeiten, ein Ruderer überquert einen Fluss. \n",
    "\n",
    "<img src=\"static/sumv.jpg\" align=\"center\"/>\n",
    "\n",
    "$$\\vec{v}_{ges} = \\vec{v}_{Ru} + \\vec{v}_{Fl}$$\n",
    "</div>"
   ]
  },
  {
   "cell_type": "markdown",
   "metadata": {
    "collapsed": false
   },
   "source": [
    "___"
   ]
  },
  {
   "cell_type": "markdown",
   "metadata": {
    "collapsed": false,
    "exercise": "task"
   },
   "source": [
    "<div style= \"color: black;background-color: rgba(0,177,172, 0.1) ;margin: 10 px auto; padding: 10px; border-radius: 10px\">\n",
    "<p style=\"font-size:12pt; text-align:center; color:   black;background-color: rgba(0,177,172, 0.1) ;margin: 10 px auto; padding: 10px; border-radius: 10px\" id=\"3\"><b>  Aufgabe 3 </b>  </p> \n",
    "Wenn in Köln alle Brücken gesperrt sind, muss man mit der Fähre den Rhein (Strömungsgeschwindigkeit  $v_R = 7~\\mathrm{m/s}$) überqueren. Die Geschwindigkeit der Fähre bezüglich des Wassers sei $v_F = 10~\\mathrm{m/s}$. Welche Strecke $s_D$ weit flussabwärts muss die Anlegestelle in $x$-Richtung liegen, wenn die Fähre senkrecht zur Fließrichtung des Wassers fährt und der Rhein an dieser Stelle $300~\\mathrm{m}$ breit ist?"
   ]
  },
  {
   "cell_type": "markdown",
   "metadata": {
    "collapsed": false
   },
   "source": [
    "Um die Aufgabestellung besser zu verstehen, können Sie den folgenden Code ausführen und mit dem Plot spielen."
   ]
  },
  {
   "cell_type": "code",
   "execution_count": 24,
   "metadata": {
    "collapsed": false
   },
   "outputs": [
   ],
   "source": [
    "%%task\n",
    "from ipywidgets import interact, widgets\n",
    "from vplots import vector_v1, R1, F1\n",
    "interact(vector_v1, R1 = R1, F1 = F1)"
   ]
  },
  {
   "cell_type": "markdown",
   "metadata": {
    "collapsed": false
   },
   "source": [
    "**a)** Leiten Sie auf dem Papier eine Formel für $s_D$ her."
   ]
  },
  {
   "cell_type": "markdown",
   "metadata": {
    "collapsed": false,
    "exercise": "solution"
   },
   "source": [
    "%%solution      \n",
    "**solution**:\n",
    "- Die Fähre braucht für 300 m:\n",
    "\n",
    "$$t = \\frac{s_R}{v_F} = \\frac{300~\\mathrm{m}}{10~\\mathrm{\\frac{m}{s}}} = 30~\\mathrm{s}$$\n",
    "\n",
    "- Dabei driftet die Fähre ab:\n",
    "\n",
    "$$s_D = 7~\\mathrm{\\frac{m}{s}} \\cdot 30\\mathrm{s}  = 210~\\mathrm{m}$$"
   ]
  },
  {
   "cell_type": "markdown",
   "metadata": {
    "collapsed": false
   },
   "source": [
    "**b)** Berechnen Sie das numerische Ergebnis in der folgenden Code-Zelle."
   ]
  },
  {
   "cell_type": "code",
   "execution_count": 25,
   "metadata": {
    "collapsed": false,
    "exercise": "solution"
   },
   "outputs": [
    {
     "name": "stdout",
     "output_type": "stream",
     "text": [
      "Die Fähre braucht für 300 m 30 s.\n",
      "Dabei driftet die Fähre ab 210 m.\n"
     ]
    }
   ],
   "source": [
    "%%solution\n",
    "sR = 300   # Anlegestelle\n",
    "vF = 10    # Geschwindigkeit der Fähre\n",
    "vR = 7     # Strömungsgeschwindigkeit\n",
    "\n",
    "t = sR/vF  # Formel für die Zeit\n",
    "\n",
    "sD = vR*t\n",
    "\n",
    "print(\"Die Fähre braucht für 300 m %2.0f\"%t, \"s.\")\n",
    "print(\"Dabei driftet die Fähre ab %3.0f\"%sD, \"m.\")"
   ]
  },
  {
   "cell_type": "code",
   "execution_count": 26,
   "metadata": {
    "collapsed": false,
    "exercise": "task"
   },
   "outputs": [
   ],
   "source": [
    "%%task\n",
    "sR =     # Anlegestelle\n",
    "vF =     # Geschwindigkeit der Fähre\n",
    "vR =     # Strömungsgeschwindigkeit\n",
    "\n",
    "# Berechung:\n",
    "\n",
    "print( )"
   ]
  },
  {
   "cell_type": "markdown",
   "metadata": {
    "collapsed": false
   },
   "source": [
    "%%solution\n",
    "Eine andere Möglichkeit wäre, die Fähre unter einem Winkel gegenüber der Senkrechten zur Strömungsrichtung fahren zu lassen, so dass die Ablegestelle genau gegenüber der Anlegestelle liegen könnte. Wie groß müsste dieser Winkel sein? Welche Geschwindigkeit muss die Fähre dann mindestens haben?"
   ]
  },
  {
   "cell_type": "markdown",
   "metadata": {
    "collapsed": false
   },
   "source": [
    "Um die Aufgabestellung besser zu verstehen, können Sie den folgenden Code ausführen und mit dem Plot spielen."
   ]
  },
  {
   "cell_type": "code",
   "execution_count": 27,
   "metadata": {
    "collapsed": false
   },
   "outputs": [
    {
     "data": {
      "application/vnd.jupyter.widget-view+json": {
       "model_id": "1c3a23d93eae462a9865902a54345cfa",
       "version_major": 2,
       "version_minor": 0
      },
      "text/plain": [
       "interactive(children=(FloatSlider(value=5.0, continuous_update=False, description='$\\\\vec v_{R} \\\\, [m/s]$', m…"
      ]
     },
     "execution_count": 27,
     "metadata": {
     },
     "output_type": "execute_result"
    },
    {
     "data": {
      "text/plain": [
       "<function vplots.vector_v2(R2, F2, alpha)>"
      ]
     },
     "execution_count": 27,
     "metadata": {
     },
     "output_type": "execute_result"
    }
   ],
   "source": [
    "from ipywidgets import interact, widgets\n",
    "from vplots import vector_v2, R2, F2, alpha\n",
    "interact(vector_v2, R2 = R2, F2 = F2, alpha=alpha)"
   ]
  },
  {
   "cell_type": "markdown",
   "metadata": {
    "collapsed": false
   },
   "source": [
    "**c)** Leiten Sie auf dem Papier eine Formel für $\\alpha_F$ her."
   ]
  },
  {
   "cell_type": "markdown",
   "metadata": {
    "collapsed": false,
    "exercise": "solution"
   },
   "source": [
    "%%solution\n",
    "- Für die geradlinige Überfahrt ergibt sich als Winkel zur Senkrechten:\n",
    "\n",
    "$$\\sin\\alpha_F = \\frac{v_R}{v_F} \\Rightarrow  \\alpha_F = \\arcsin(7/10) = 44,4° $$ $v_F$ muss größer als $v_R$ Im Grenzfall $v_F = v_R$ wäre $\\alpha_F = 90°$ und die Fähre käme nie an."
   ]
  },
  {
   "cell_type": "markdown",
   "metadata": {
    "collapsed": false
   },
   "source": [
    "**d)** Berechnen Sie das numerische Ergebnis in der folgenden Code-Zelle. "
   ]
  },
  {
   "cell_type": "code",
   "execution_count": 28,
   "metadata": {
    "collapsed": false,
    "exercise": "solution"
   },
   "outputs": [
    {
     "name": "stdout",
     "output_type": "stream",
     "text": [
      "Für die geradlinige Überfahrt ergibt sich als Winkel zur Senkrechten 44.4 °.\n"
     ]
    }
   ],
   "source": [
    "%%solution\n",
    "alpha = math.degrees(math.asin(vR/vF))\n",
    "print(\"Für die geradlinige Überfahrt ergibt sich als Winkel zur Senkrechten %3.1f\"%alpha,\"°.\")"
   ]
  },
  {
   "cell_type": "code",
   "execution_count": 29,
   "metadata": {
    "collapsed": false,
    "exercise": "task"
   },
   "outputs": [
   ],
   "source": [
    "%%task\n",
    "alpha = # Winkel\n",
    "print( )"
   ]
  }
 ],
 "metadata": {
  "kernelspec": {
   "display_name": "Python 3 (system-wide)",
   "language": "python",
   "metadata": {
    "cocalc": {
     "description": "Python 3 programming language",
     "priority": 100,
     "url": "https://www.python.org/"
    }
   },
   "name": "python3",
   "resource_dir": "/ext/jupyter/kernels/python3"
  },
  "language_info": {
   "codemirror_mode": {
    "name": "ipython",
    "version": 3
   },
   "file_extension": ".py",
   "mimetype": "text/x-python",
   "name": "python",
   "nbconvert_exporter": "python",
   "pygments_lexer": "ipython3",
   "version": "3.6.9"
  }
 },
 "nbformat": 4,
 "nbformat_minor": 4
}