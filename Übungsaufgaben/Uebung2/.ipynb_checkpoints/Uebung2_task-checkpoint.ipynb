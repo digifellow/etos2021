{
 "cells": [
  {
   "cell_type": "markdown",
   "metadata": {
    "collapsed": false
   },
   "source": [
    "<div>\n",
    "    <img src=\"static/FHAachen-logo2.svg\" style=\"float: right;height: 15em;\">\n",
    "</div>\n",
    "\n",
    "<div>\n",
    "    <img src=\"static/IIIPIB_RWTH.png\" style=\"float: right;height: 6.5em;\">\n",
    "</div>\n",
    "\n",
    "**Einführung in die Physik im SS 2021** \\\n",
    "**Darius Mottaghy**        \\\n",
    "**Stefan Roth**\n",
    "    \n",
    "## Übung 2: Kräfte\n",
    "\n",
    "----\n",
    "\n",
    "#### Übersicht der Aufgaben\n",
    "1. [Kräftezerlegung an der Straßenlaterne](#1)\n",
    "2. [Zugseil an schiefer Ebene](#2)\n",
    "3. [Skifahrt Reibungs- und Hangabtriebskraft](#3)\n",
    "4. [Umlenkrolle](#4)\n",
    "\n",
    "---\n",
    "\n",
    "### Aufgabe 1 "
   ]
  },
  {
   "cell_type": "markdown",
   "metadata": {
    "collapsed": false
   },
   "source": [
    "<div style=\"background-color:#f6f6f6;border:1px solid #707070;padding:0.5em 1em;box-sizing:border-box;\">\n",
    "<i class=\"fas fa-square-root-alt\"></i> <b>Erinnerung aus der Mathematik: Rechtwinkliges Dreieck</b>\n",
    "    \n",
    "<table cellpadding=\"0\"><tbody><tr>\n",
    "<td>\n",
    "<p style=\"text-align:center;font-size:small;\">\n",
    "<img img src=\"static/rechtecke.svg\" alt=\"\" role=\"presentation\" class=\"img-responsive atto_image_button_middle\" style=\"height: 18em;\">\n",
    "<br>\n",
    "<b>Abbildung</b>: Ähnliche Dreiecke\n",
    "</p>\n",
    "</td>\n",
    "<td width=\"20\"></td>\n",
    "</tbody></table>\n",
    "\n",
    "\n",
    "1. Zwei **Dreiecke** sind genau dann **ähnlich**, wenn sie in **allen Winkel übereinstimmen** (siehe Bild oben), und es gilt:\n",
    "$$\\frac{a}{x} = \\frac{b}{y} = \\frac{c}{z}.$$\n",
    "Im Fall von **rechtwinkligen Dreiecken** ist dies schon der Fall, wenn einer der beiden nicht rechten Winkel (im obigen Beispiel $\\alpha$) gleich ist, da die Summe der Winkel in einem Dreieck immer 180° ist.\n",
    "\n",
    "2. Der Satz des Pythagoras lautet:\n",
    "$$c^2 = a^2 + b^2.$$\n",
    "\n",
    "3. Trigonometrie im rechtwinkligen Dreieck:\n",
    "\n",
    "$$\\sin\\alpha = \\frac{a}{c},  \\, \\cos\\alpha=\\frac{b}{c},  \\, \\tan\\alpha=\\frac{a}{b}.$$\n",
    "</div>\n"
   ]
  },
  {
   "cell_type": "markdown",
   "metadata": {
    "collapsed": false
   },
   "source": [
    "<div style=\" border: 2px solid black;margin: 10px auto; padding: 10px; border-radius: 10px;\">\n",
    "    <h4>\n",
    "         Kraft\n",
    "    </h4>\n",
    "\n",
    "Die **Dynamik** fragt nach den **Ursachen einer Änderung des Bewegungszustandes**, dabei spielen dann die **Kräfte** eine Rolle. \n",
    "\n",
    "Die Kraft hat eine Richtung, also ist sie **ein Vektor**. Wirkt eine Kraft auf einen Körper mit der Masse $m$, so wird dieser in Richtung der Kraft beschleunigt. Die Beschleunigung des Körpers $a$\n",
    "ist dabei der angreifenden Kraft proportional:\n",
    "\n",
    "$$\\vec{F} = m\\cdot \\vec{a}$$\n",
    "\n",
    "\n",
    "-  Die Einheit ergibt sich zu $[F] = 1~\\mathrm{kg \\cdot m\\cdot   s^{-2}} = N$ (Newton).\n",
    "-  Je größer die Masse, desto mehr Kraft braucht man, um die\n",
    "gleiche Beschleunigung zu erreichen, sie ist die träge Masse.\n",
    "-  $\\vec{F}$ ist die Gesamtkraft, d.h. die Summe aller auf den Körper\n",
    "wirkenden Kräfte.\n",
    "\n",
    "\n",
    "*Beispiel*: Beim freien Fall erfährt ein Körper eine **Beschleunigung** mit $g$. Aber auch wenn keine Fallbewegung möglich ist (z.B. wenn man auf dem Boden steht), wirkt die Erdbeschleunigung und verursacht eine **Gewichtskraft** gemäß:\n",
    "\n",
    "$$\\vec{F}_G = m\\cdot \\vec{g}$$\n",
    "\n",
    "<h4>Kräftediagramme </h4>\n",
    "\n",
    "Greifen an einem **Körper verschiedene Kräfte** an, so kann man mittels des **Superpositionsprinzips** die **resultierende Kraft** berechnen. Es ergibt sich ein so genanntes **Kräfteparallelogramm**:\n",
    "    \n",
    "<table cellpadding=\"0\"><tbody><tr>\n",
    "<td>\n",
    "<p style=\"text-align:center;font-size:small;\">\n",
    "<img img src=\"static/para3.svg\" alt=\"\" role=\"presentation\" class=\"img-responsive atto_image_button_middle\" style=\"height: 15em;\">\n",
    "<br>\n",
    "<b>Abbildung</b>: Kräftezerlegung\n",
    "</p>\n",
    "</td>\n",
    "<td width=\"20\"></td>\n",
    "</tbody></table>\n",
    "\n",
    "$$\\vec{F}_{ges} = \\vec{F}_{1} + \\vec{F}_{2}$$\n",
    "    \n",
    "</div>"
   ]
  },
  {
   "cell_type": "markdown",
   "metadata": {
    "collapsed": false
   },
   "source": [
    "<div style= \"color: black;background-color: rgba(0,177,172, 0.1) ;margin: 10 px auto; padding: 10px; border-radius: 10px\">\n",
    "<p style=\"font-size:12pt; text-align:center; color:   black;background-color: rgba(0,177,172, 0.1) ;margin: 10 px auto; padding: 10px; border-radius: 10px\" id=\"1\"><b>  Aufgabe 1 : Kräftezerlegung an der Straßenlaterne</b>  </p> \n",
    "    \n",
    "Eine Straßenlaterne der Masse $25~\\text{kg}$ wird mittig zwischen zwei Hauswänden von $10~\\text{m}$ Abstand aufgehängt. Wie stark muss das Seil am Ort der Laterne mindestens durchhängen, damit die Belastung des Seils $10~\\text{kN}$ nicht übersteigt?\n",
    "\n",
    "*Hinweis*: $\\frac{d}{\\sqrt{(l/2)^2+d^2}} ≈ \\frac{d}{l/2}$\n",
    "    \n",
    "<table cellpadding=\"0\"><tbody><tr>\n",
    "<td>\n",
    "<p style=\"text-align:center;font-size:small;\">\n",
    "<img img src=\"static/u1.jpg\" alt=\"\" role=\"presentation\" class=\"img-responsive atto_image_button_middle\" style=\"height: 18em;\">\n",
    "<br>\n",
    "<b>Abbildung</b>: Aufgabe 1\n",
    "</p>\n",
    "</td>\n",
    "<td width=\"20\"></td>\n",
    "</tbody></table>\n",
    "\n",
    "    \n",
    "</div>"
   ]
  },
  {
   "cell_type": "markdown",
   "metadata": {
    "collapsed": false
   },
   "source": [
    "<font style=\"background-color:#BFBFBF \"> **Vorgehensweise**:</font>          \n",
    "1. Um die Übung besser zu verstehen, können Sie den folgenden Code ausführen und mit dem Plot spielen."
   ]
  },
  {
   "cell_type": "code",
   "execution_count": 0,
   "metadata": {
    "collapsed": false,
    "jupyter": {
    }
   },
   "outputs": [
   ],
   "source": [
    "from ipywidgets import interact, widgets\n",
    "from exmodul import vector_plot1, b, dr\n",
    "interact(vector_plot1, b = b, dr = dr)"
   ]
  },
  {
   "cell_type": "markdown",
   "metadata": {
    "collapsed": false
   },
   "source": [
    "2. Leiten Sie auf dem Papier eine Formel für $d$ her."
   ]
  },
  {
   "cell_type": "markdown",
   "metadata": {
    "collapsed": false
   },
   "source": [
    "3. Berechnen Sie das numerische Ergebnis in der folgenden Code-Zelle."
   ]
  },
  {
   "cell_type": "markdown",
   "metadata": {
    "collapsed": false
   },
   "source": [
    "<div class=\"alert alert-block alert-info\">\n",
    "<i class=\"fas fa-lightbulb\"></i> <b>Code Tipps:</b> \n",
    "<ul>\n",
    "    <li>Die trigonometrischen Funktionen $\\sin, \\cos$ und $\\tan$ sind z. B. in <code>numpy</code> implementiert. D. h. mit <code>np.sin(x), np.cos(x), np.tan(x)</code> können Sie sie für ein in <b>Radiant</b>  gegebenes <code>x</code> aufrufen (<code>np.radians(x)</code>).\n",
    " </li> \n",
    "</div>"
   ]
  },
  {
   "cell_type": "code",
   "execution_count": 0,
   "metadata": {
    "collapsed": false,
    "exercise": "task",
    "jupyter": {
    }
   },
   "outputs": [
   ],
   "source": [
    "import numpy as np\n",
    "\n",
    "m =          # Masse der Straßenlanterne in kg\n",
    "L =          # Abstand zwischen zwei Hauswänden in m\n",
    "B =          # Maximale Belastung de Seils in N\n",
    "g =          # Erdbeschleinigung\n",
    "\n",
    "d =          # Formel für d\n",
    "\n",
    "print()"
   ]
  },
  {
   "cell_type": "markdown",
   "metadata": {
    "collapsed": false
   },
   "source": [
    "___\n",
    "\n",
    "### Aufgabe 2"
   ]
  },
  {
   "cell_type": "markdown",
   "metadata": {
    "collapsed": false
   },
   "source": [
    "\n",
    "<div style=\" border: 2px solid black;margin: 10px auto; padding: 10px; border-radius: 10px;\">\n",
    "    <h5>\n",
    "        Schiefe Ebene\n",
    "    </h5>\n",
    "    \n",
    "Die **Normalkraft** wirkt immer **senkrecht** zur **Auflagefläche** auf den Körper. Bei horizontaler Auflagefläche entspricht die Normalkraft im Betrag der Gewichtskraft des Körpers.\n",
    "\n",
    "Das Superpositionsprinzip benutzt man auch umgekehrt, wenn man Kräfte in Komponenten zerlegen will. Auf den Körper wirkt die Gewichtskraft $\\vec{F}_G$. Man zerlegt sie in den Hangabtrieb $\\vec{F}_{H,G}$ parallel zur Ebene und die Normalkraft $\\vec{F}_{N,G}$ senkrecht dazu. Die vektorielle Summe von $\\vec{F}_{H,G}$ und $\\vec{F}_{N,G}$ ergibt wieder $\\vec{F}_G$. Der Nutzen der in der Abbildung gezeigten Zerlegung liegt darin, dass $\\vec{F}_{N,G}$ senkrecht zur Bewegungsrichtung zeigt und damit keinen Einfluss auf die Bewegung auf der Ebene hat. Sie wird alleine von $\\vec{F}_{H,G}$ bestimmt, welches exakt in Bewegungsrichtung zeigt.\n",
    "    \n",
    "<table cellpadding=\"0\"><tbody><tr>\n",
    "<td>\n",
    "<p style=\"text-align:center;font-size:small;\">\n",
    "<img img src=\"static/scheife15.svg\" alt=\"\" role=\"presentation\" class=\"img-responsive atto_image_button_middle\" style=\"height: 24em;\">\n",
    "<br>\n",
    "<b>Abbildung</b>: Schiefe Ebene I\n",
    "</p>\n",
    "</td>\n",
    "<td width=\"20\"></td>\n",
    "</tbody></table>\n",
    "    \n",
    "</div>"
   ]
  },
  {
   "cell_type": "markdown",
   "metadata": {
    "collapsed": false
   },
   "source": [
    "<div style= \"color: black;background-color: rgba(0,177,172, 0.1) ;margin: 10 px auto; padding: 10px; border-radius: 10px\">\n",
    "<p style=\"font-size:12pt; text-align:center; color:   black;background-color: rgba(0,177,172, 0.1) ;margin: 10 px auto; padding: 10px; border-radius: 10px\" id=\"2\"><b>  Aufgabe 2: Zugseil an schiefer Ebene </b>  </p> \n",
    "Die Turmbergbahn ist die älteste noch in Betrieb befindliche Standseilbahn Deutschlands. Sie fährt von Karlsruhe-Durlach auf den Turmberg. Auf einer Gleislänge von $315~\\text{m}$ überwindet sie einen einen Höhenunterschied von $100~\\text{m}$, wobei die Steigung an der steilsten Stelle $36,2\\%$ beträgt. Das Zugseil besitzt eine Bruchfestigkeit von $422~\\text{kN}$. Wie schwer dürfte dann ein Wagen der Bahn vollbesetzt maximal sein? Bitte geben Sie Ihr Ergebnis in Tonnen aus.\n",
    "</div>"
   ]
  },
  {
   "cell_type": "markdown",
   "metadata": {
    "collapsed": false
   },
   "source": [
    "<font style=\"background-color:#BFBFBF \"> **Vorgehensweise  :**</font>           \n",
    "1. Um die Übung besser zu verstehen, können Sie den folgenden Code ausführen und mit dem Plot spielen. Der zeigt an, wie sich das Gewicht bei konstanter Bruchfestigkeit des Zugseils in Abhangigkeit von die Steigung ändert."
   ]
  },
  {
   "cell_type": "code",
   "execution_count": 0,
   "metadata": {
    "collapsed": false,
    "jupyter": {
    }
   },
   "outputs": [
   ],
   "source": [
    "from exmodul import vector_plot2, n\n",
    "interact(vector_plot2, n = n)"
   ]
  },
  {
   "cell_type": "markdown",
   "metadata": {
    "collapsed": false
   },
   "source": [
    "2. Leiten Sie auf dem Papier eine Formel für $m$ her."
   ]
  },
  {
   "cell_type": "markdown",
   "metadata": {
    "collapsed": false
   },
   "source": [
    "3. Berechnen Sie das numerische Ergebnis in der folgenden Code-Zelle."
   ]
  },
  {
   "cell_type": "code",
   "execution_count": 0,
   "metadata": {
    "collapsed": false,
    "exercise": "task",
    "jupyter": {
    }
   },
   "outputs": [
   ],
   "source": [
    "s =          # Steigung in -\n",
    "F_H =        # Hangabtrieb in N\n",
    "g =          # Erdbeschleinigung in m/s²\n",
    "\n",
    "m =          # Formel für m\n",
    "\n",
    "print() "
   ]
  },
  {
   "cell_type": "markdown",
   "metadata": {
    "collapsed": false
   },
   "source": [
    "___\n",
    "## Aufgabe 3"
   ]
  },
  {
   "cell_type": "markdown",
   "metadata": {
    "collapsed": false
   },
   "source": [
    "<div style=\" border: 2px solid black;margin: 10px auto; padding: 10px; border-radius: 10px;\">\n",
    "    <h5>\n",
    "        Reibung\n",
    "    </h5>\n",
    "\n",
    "\n",
    "Die Bewegung eines Körpers auf einer Unterlage wird durch eine\n",
    "**Reibungskraft** $F_R$ gehemmt, welche der **bewegenden Kraft** entgegen gerichtet und von der Oberflächenbeschaffenheit abhängig ist. $F_R$  ist **unabhängig** von der **Auflagefläche** und der **Geschwindigkeit**.\n",
    "\n",
    "Im folgenden betrachten wir die Festkörperreibung, wobei wir zwischen Haft- und Gleitreibung unterscheiden:\n",
    "\n",
    "<table cellpadding=\"0\"><tbody><tr>\n",
    "<td>\n",
    "<p style=\"text-align:center;font-size:small;\">\n",
    "<img img src=\"static/ruh3.svg\" alt=\"\" role=\"presentation\" class=\"img-responsive atto_image_button_middle\" style=\"height: 10em;\">\n",
    "<br>\n",
    "<b>Abbildung</b>: Reibungen\n",
    "</p>\n",
    "</td>\n",
    "<td width=\"20\"></td>\n",
    "<tr>\n",
    "<td colspan=\"3\">\n",
    "<p style=\"text-align:center;font-size:smaller;color:gray;\">\n",
    "Quelle: commons.wikipedia.org\n",
    "</p>\n",
    "</td>\n",
    "</tr>\n",
    "</tbody></table>\n",
    "\n",
    "\n",
    "(1, 2) Die **Haftreibung** ist mit der Normalkraft über den Reibungskoeffizienten $\\mu_H$ verknüpft:\n",
    "$$F_{R} \\leq \\mu_H F_N$$\n",
    "\n",
    "(3) Der Körper beginnt zu rutschen (**maximale Haftreibung**), wenn gilt $F_{R,max} = \\mu_H F_N$.\n",
    "\n",
    "(4) Wenn der Körper gleitet, ist die Reibungskraft geringer (**Gleitreibung**), es gilt:\n",
    "$$F_{R} = \\mu_G F_N$$\n",
    "mit $ \\mu_G \\leq \\mu_H$.\n",
    "\n",
    "#### Schiefe Ebene mit Reibung\n",
    "Die Gewichtskraft $\\vec{F_G}$ wurde in die Normalkraft $\\vec{F}_{N,G}$ senkrecht zur Ebene und den Hangabtrieb $\\vec{F}_{H,G}$ parallel zur Ebene zerlegt. Der Körper drückt mit der Normalkraft auf die Ebene. Diese wird durch die Reactio der Ebene, die in umgekehrter Richtung zeigt, ausgeglichen. Die Haftreibungskraft $\\vec{F}_{R,\\text{Haft}}$ muss den Hangabtrieb kompensieren, sodass sich $\\vec{F_G}$, $\\vec{F_N}$ und $\\vec{F}_{R,\\text{Haft}}$ zu null addieren und der Körper in Ruhe bleibt.\n",
    "\n",
    "    \n",
    "<table cellpadding=\"0\"><tbody><tr>\n",
    "<td>\n",
    "<p style=\"text-align:center;font-size:small;\">\n",
    "<img img src=\"static/reibung.svg\" alt=\"\" role=\"presentation\" class=\"img-responsive atto_image_button_middle\" style=\"height: 24em;\">\n",
    "<br>\n",
    "<b>Abbildung</b>: Schiefe Ebene II\n",
    "</p>\n",
    "</td>\n",
    "<td width=\"20\"></td>\n",
    "\n",
    "</tbody></table>\n",
    "\n",
    "Die Rutschbedingung ist: $\\mu_H=\\tan\\alpha$.\n",
    "</div>    "
   ]
  },
  {
   "cell_type": "markdown",
   "metadata": {
    "collapsed": false,
    "exercise": "task"
   },
   "source": [
    "<div style= \"color: black;background-color: rgba(0,177,172, 0.1) ;margin: 10 px auto; padding: 10px; border-radius: 10px\">\n",
    "<p style=\"font-size:12pt; text-align:center; color:   black;background-color: rgba(0,177,172, 0.1) ;margin: 10 px auto; padding: 10px; border-radius: 10px\" id=\"3\"><b>  Aufgabe 3: Skifahrt Reibungs- und Hangabtriebskraft </b>  </p> \n",
    "Sie begeben sich mit ihren Kommilitonen auf eine Skifahrt an einem bergigem Gelände. Dort finden sie Stellen verschiedener Neigung. Der Haftreibungskoeffizient sei je nach Beschaffenheit des Schnees ebenfalls unterschiedlich. Wir wollen nun schrittweise herausfinden, wann die Reibungskraft von der Hangabtriebskraft überboten wird, so dass man ohne Abstoßen von alleine anfängt, den Hang herunterzufahren. Das wir Skifahrer mit unterschiedlichem Massen $m$, Skipisten mit unterschiedlicher Neigung $\\alpha$ und unterschiedlichen Schnee mit unterschiedlichen Haftreibungskoeffizienten $\\mu_H$ haben, variieren wir diese Größen.\n",
    "\n",
    "*Hinweis*: Als Hilfsmittel haben wir die Funktion <code>reibung_plots</code> schon erstellt, die die Ergebnisse Ihrer Funktionen darstellt."
   ]
  },
  {
   "cell_type": "markdown",
   "metadata": {
    "collapsed": false
   },
   "source": [
    "<div style=\" border: 2px solid #81bdec;; margin: 10px auto; padding: 10px; border-radius: 10px;\">\n",
    "<h4>\n",
    "    <i class=\"fas fa-laptop-code\"></i> Funktionen\n",
    "</h4>\n",
    "    \n",
    "    \n",
    "Eine Funktion kann man in folgender Form deklarieren:\n",
    "\n",
    "```python\n",
    "def Funktionsname(Funktionsargumente):\n",
    "    Funktionsanweisungen\n",
    "    return Resultat\n",
    "```\n",
    "\n",
    "**Der Vorteil** von Funktionen ist, dass sie **beliebig oft verwendet werden können**.\n",
    "Als Beispiel werden wir das Gewicht von Objekten mit unterschiedlichen Massen berechnen. Dafür werden wir die folgende Beziehung verwenden:\n",
    "$$G(m) = m \\cdot g$$\n",
    "1. Definieren Sie Ihre Funktion mit `def`, geben Sie ihr einen eindeutigen Namen und  wählen Sie geeignete Funktionsargumente. Vergessen Sie nicht, am Ende einen Doppelpunkt hinzuzufügen:\n",
    "\n",
    "```python\n",
    "g = 9.81        # Erdbeschleinigung in m/s²\n",
    "def Gewicht(m):\n",
    "```\n",
    "\n",
    "Hier hängt das Gewicht $G$ von der Masse $m$ ab. \n",
    "\n",
    "2. Klicken Sie auf <code>ENTER ↵</code> und schreiben Sie die Anweisungen Ihrer Funktion, Sie sollten am Anfang eine Einrückung erhalten.\n",
    "\n",
    "```python\n",
    "def Gewicht(m):\n",
    "    G = m*g\n",
    "```\n",
    "\n",
    "Die Funktion berechnet das Gewicht `G` mit der gegebenen Masse `m`.\n",
    "\n",
    "3. Am Ende wählen Sie dann mit Hilfe des `return`-Befehls, was Ihre Funktion ausgeben soll: \n",
    "\n",
    "```python\n",
    "def Gewicht(m):\n",
    "    G = m*g\n",
    "    return G\n",
    "```\n",
    "\n",
    "Jetzt ist die Funktion fertig und einsatzbereit!\n",
    "\n",
    "4. Aufruf der Funktion. Die Funktion wird mit dem Namen und den Werten der aktuellen Parametern aufgerufen. \n",
    "\n",
    "```python\n",
    "Gewicht(2)\n",
    "```\n",
    "\n",
    "ergibt\n",
    "\n",
    "```python\n",
    "19.62\n",
    "```\n",
    "\n",
    "Das entspricht dem Gewicht bei einer Masse von $2~\\text{kg}$.\n",
    "\n",
    "Verwenden Sie den untenstehenden Code, um das Gewicht für die Massen $2~\\text{kg}$, $10~\\text{kg}$ und $100~\\text{kg}$ zu berechnen. Vergessen Sie nicht mit <code>SHIFT ⇪</code> + <code>ENTER ↵</code>, jede Codezelle auszuführen. \n",
    "    \n",
    "</div>"
   ]
  },
  {
   "cell_type": "code",
   "execution_count": 0,
   "metadata": {
    "collapsed": false,
    "jupyter": {
    }
   },
   "outputs": [
   ],
   "source": [
    "g = 9.81\n",
    "def Gewicht(m):\n",
    "    G = m*g\n",
    "    return G\n",
    "\n",
    "Gewicht(2)"
   ]
  },
  {
   "cell_type": "markdown",
   "metadata": {
    "collapsed": false,
    "exercise": "task"
   },
   "source": [
    "<div class=\"alert alert-block alert-info\">\n",
    "<i class=\"fas fa-lightbulb\"></i> <b>Code Tipps:</b> \n",
    "<ul>\n",
    "    <li>Eine Funktion kann man in folgender Form deklarieren:</lili> <br>\n",
    "    <code><font color=green>def</font> Funktionsname(Argumente): \n",
    "        Funktionsanweisungen \n",
    "        <font color=green>return</font> Resultat</code>\n",
    "    <li>Eine Funktion kann auch nichts zurückgeben, sondern bpsw. nur etwas printen.</li>\n",
    "    <li> Eine Funktion kann auch mit Arrays arbeiten, dafür müssen Sie <code>np.vectorize()</code> anwenden.\n",
    " </li>   \n",
    "</div>\n",
    "    \n",
    "<div class=\"alert alert-block alert-danger\">\n",
    "<i class=\"fas fa-exclamation-triangle\"></i> <b>Vorsicht!</b> \n",
    "<ul>\n",
    "<p>  In Python sind Einrückungen (<i>engl.</i> indentation) essentiell. Der Editor hier hilft Ihnen aber dabei diese einzuhalten. Die Einrückung erfolgt normalerweise nach der Eingabe vom Doppelpunkt (<code>:</code>).\n",
    " </p>      \n",
    "</div>"
   ]
  },
  {
   "cell_type": "markdown",
   "metadata": {
    "collapsed": false,
    "exercise": "task"
   },
   "source": [
    "<font style=\"background-color:#BFBFBF \"> **Vorgehensweise  :**</font>           \n",
    "1. Erstellen Sie für die Reibungskraft $F_R$ und die Hangabtriebskraft $F_H$ je eine Funktion in Python, die von der Masse, der Neigung und dem Haftreibungskoeffizienten abhängen. Testen Sie Ihre Funktion mit $\\alpha = 10°$ und sehr stumpfem Schnee mit einem Haftreibungskoeffizienten von $\\mu_H=0,37$ sowie einem/einer Skifaher*in mit $m=75$kg."
   ]
  },
  {
   "cell_type": "code",
   "execution_count": 0,
   "metadata": {
    "collapsed": false,
    "exercise": "task",
    "jupyter": {
    }
   },
   "outputs": [
   ],
   "source": [
    "def F_R(alpha, m, mu_H):\n",
    "    F_R =                #schreibe hier deine Formel rein\n",
    "    return F_R\n",
    "\n",
    "def F_H(alpha, m, mu_H): \n",
    "    F_H =                 #schreibe hier deine Formel rein\n",
    "    return F_H"
   ]
  },
  {
   "cell_type": "markdown",
   "metadata": {
    "collapsed": false
   },
   "source": [
    "<div class=\"alert alert-block alert-info\">\n",
    "<i class=\"fas fa-lightbulb\"></i> <b>Code Tipps:</b> \n",
    "<ul>\n",
    "    Numerische Folgen:\n",
    "    \n",
    "<li> Die <code>linspace</code>-Funktion von NumPy berechnet eine bestimmte Anzahl von Werten innerhalb der gegebenen Anfangs- und Endpunkte. Die Syntax ist: <code>np.linspace(Anfangswert, Endwert, Schritte)</code>. </li> \n",
    " \n",
    "<li> Wenn die Schritte nicht angegeben wird, gibt <code>np.linspace</code> standardmäßig 50 Werte an.\n",
    "</li>  \n",
    "</div>"
   ]
  },
  {
   "cell_type": "markdown",
   "metadata": {
    "collapsed": false
   },
   "source": [
    "2. *(Optional)* Zunächst wollen Sie die Kräfte in Abhängigkeit der Masse untersuchen. Sie befinden sich auf einer blauen Anfängerpiste mit $\\alpha = 10°$ und $\\mu_H=0,37$. Tragen Sie nun die bremsende Reibungskraft $F_R$  und die beschleunigende Hangabtriebskraft $F_H$  gegen die Masse des Skifahrers ($50-100~\\mathrm{kg}$) auf. Gibt es eine Masse, ab der der Skifahrer anfängt, sich zu bewegen?"
   ]
  },
  {
   "cell_type": "code",
   "execution_count": 0,
   "metadata": {
    "collapsed": false,
    "exercise": "task",
    "jupyter": {
    }
   },
   "outputs": [
   ],
   "source": [
    "from exmodul import reibung_plots\n",
    "F_R = np.vectorize(F_R) #Funktion nimmt nun Felder an\n",
    "F_H = np.vectorize(F_H)\n",
    "\n",
    "m = np.linspace(0, 100) #wir schauen uns die Massen zwischen 0 und 100 kg an\n",
    "a =                     #setzte die Werte in F_R ein\n",
    "b =                     #setzte die Werte in F_H ein\n",
    "\n",
    "reibung_plots(F_R=a, F_H=b, m=m)"
   ]
  },
  {
   "cell_type": "markdown",
   "metadata": {
    "collapsed": false
   },
   "source": [
    "3. Nun wollen Sie untersuchen, wie die Kräfte vom Haftreibungskoeffizienten $\\mu_H$ des Schnees abhängen. Gehen Sie von einem Skifahrer der Massse $75~\\mathrm{kg}$ wieder auf der blauen Anfängerpiste mit $\\alpha = 10°$ aus. Tragen Sie nun die Kräfte in Abhängigkeit vom Haftreibungskoeffizienten ($0-0,5$) auf. Wie rutschig muss der Schnee sein, damit der Skifahrer ohne Abstoßen anfängt, sich zu bewegen?"
   ]
  },
  {
   "cell_type": "code",
   "execution_count": 0,
   "metadata": {
    "collapsed": false,
    "exercise": "task",
    "jupyter": {
    }
   },
   "outputs": [
   ],
   "source": [
    "mu_H = np.linspace(0, 0.5)\n",
    "a =                     #setzte die Werte in F_R ein\n",
    "b =                     #setzte die Werte in F_H ein\n",
    "\n",
    "reibung_plots(F_R=a, F_H=b, mu_H=mu_H)"
   ]
  },
  {
   "cell_type": "markdown",
   "metadata": {
    "collapsed": false
   },
   "source": [
    "4. Nun wollen Sie den Verlauf der Kräfte unter variierender Masse untersuchen. Dazu variieren wir die Neigung und schauen uns an, wie sich der Schnittpunkt für verschiedene Massen verhält. Was können Sie darüber über die Bedeutung der Masse für die Fragestellung, wann die Kräftegleichheit gilt, folgern?"
   ]
  },
  {
   "cell_type": "markdown",
   "metadata": {
    "collapsed": false
   },
   "source": [
    "5. Begründen Sie deine Folgerung aus 4. mathematisch. Welche Bedingung ist gegeben, für den Fall, dass gerade die Neigung reicht, damit ihr ohne Abstoßen den Hang herunterfährt?"
   ]
  },
  {
   "cell_type": "markdown",
   "metadata": {
    "collapsed": false
   },
   "source": [
    "<div style=\" border: 2px solid #81bdec;; margin: 10px auto; padding: 10px; border-radius: 10px;\">\n",
    "<h4>\n",
    "    <i class=\"fas fa-laptop-code\"></i> <code>if</code>-Verzweigung \n",
    "</h4>\n",
    "\n",
    "Eine Verzweigung kann allgemein so skizziert werden:\n",
    "    \n",
    "\n",
    "<table cellpadding=\"0\"><tbody><tr>\n",
    "<td>\n",
    "<p style=\"text-align:center;font-size:small;\">\n",
    "<img img src=\"static/if.svg\" alt=\"\" role=\"presentation\" class=\"img-responsive atto_image_button_middle\" style=\"height: 25em;\">\n",
    "<br>\n",
    "<b>Abbildung</b>: Programmablaufplan I\n",
    "</p>\n",
    "</td>\n",
    "<td width=\"20\"></td>\n",
    "</tbody></table>\n",
    "\n",
    "    \n",
    "\n",
    "Eine `if`-Verzweigung kann man in folgender Form deklarieren:\n",
    "```python\n",
    "if Bedingung 1:\n",
    "    Anweisung 1\n",
    "elif Bedingung 2:\n",
    "    Anweisung 2\n",
    "else:\n",
    "    Anweisung 3\n",
    "```\n",
    "\n",
    "Als Beispiel werden wir das von einer Waage angezeigte Gewicht in einem Aufzug berechnen.  Eine Person mit der Masse $m = 75~\\text{kg}$  will sich in einem Aufzug wiegen. Die Skala auf der Waage zeigt Gewichtseinheiten. Die Anzeige der Waage ändert sich je nach Beschleunigung des Aufzuges. Der allgemeine Ausdruck für die Anzeige der Waage, der für alle Bewegungen des Aufzuges gilt, ist:\n",
    "$$m_w = m\\cdot\\frac{g\\pm a}{g}$$\n",
    "mit        \n",
    "$a > 0$  für Aufzugsbewegung nach oben, \\\n",
    "$a < 0$ für Aufzugsbewegung nach unten, \\\n",
    "$a = 0$ Stillstand.\n",
    "\n",
    "    \n",
    "<table cellpadding=\"0\"><tbody><tr>\n",
    "<td>\n",
    "<p style=\"text-align:center;font-size:small;\">\n",
    "<img img src=\"static/if22.svg\" alt=\"\" role=\"presentation\" class=\"img-responsive atto_image_button_middle\" style=\"height: 25em;\">\n",
    "<br>\n",
    "<b>Abbildung</b>: Programmablaufplan II: Beispiel\n",
    "</p>\n",
    "</td>\n",
    "<td width=\"20\"></td>\n",
    "</tbody></table>\n",
    "    \n",
    "\n",
    "1. Definieren die Variable `m` für die Masse der Person:\n",
    "\n",
    "```python\n",
    "g = 9.81        # Erdbeschleinigung in m/s²\n",
    "m = 75          # in kg\n",
    "def anzeige_waage(a):\n",
    "    mw = m*(g+a)/g\n",
    "```\n",
    "\n",
    "2. Erstellen Sie eine `if`-Anweisung. Die erste Bedingung lautet: wenn die Beschleinigung größer als $0~\\frac{\\text{m}}{\\text{s}^2}$ ist, ausgedruckt werden sollte, dass der Aufzug aufwärts fährt.\n",
    "\n",
    "```python\n",
    "def anzeige_waage(a):\n",
    "    mw = m*(g+a)/g\n",
    "    if a > 0:\n",
    "        print(\"Der Aufzug fährt aufwärts, die Waage zeigt %.2f kg an.\" % mw)\n",
    "```\n",
    "\n",
    "Bedingungen werden durch logische und rationale Operatoren definiert, in diesem Fall haben wir den strengen Vergleichsoperator `>` verwendet.\n",
    "\n",
    "3. Der `elif`-Teil, der ausgelöst wird, wenn der `if`-Teil nicht wahr ist, d.h. `a` ist kleiner als $0~\\frac{\\text{m}}{\\text{s}^2}$ \n",
    "\n",
    "```python\n",
    "if a > 0: \n",
    "    print(\"Der Aufzug fährt aufwärts, die Waage zeigt %.2f kg an.\" % mw)\n",
    "elif a < 0:\n",
    "    print(\"Der Aufzug fährt abwärts, die Waage zeigt %.2f kg an.\" % mw)\n",
    "```\n",
    "\n",
    "4. Für den Fall, dass keiner der `if-elif`-Fälle zutrifft (in unserem Beispiel bedeutet dies, dass der Aufzug in Stillstand ist) gibt es den Fall `else`, es braucht keine Bedingung.\n",
    "\n",
    "```python\n",
    "if a > 0:\n",
    "    print(\"Der Aufzug fährt aufwärts, die Waage zeigt %.2f kg an.\" % mw)\n",
    "elif a < 0:\n",
    "    print(\"Der Aufzug fährt abwärts, die Waage zeigt %.2f kg an.\" % mw)\n",
    "else:\n",
    "    print(\"Der Aufzug ist in Stillstand, die Waage zeigt %.2f kg an.\" % mw)\n",
    "```\n",
    "\n",
    "Jezt ist die Verzweigung fertig!"
   ]
  },
  {
   "cell_type": "code",
   "execution_count": 0,
   "metadata": {
    "collapsed": false,
    "jupyter": {
    }
   },
   "outputs": [
   ],
   "source": [
    "m = 75    # in kg\n",
    "g = 9.81  # in m/s²\n",
    "\n",
    "def anzeige_waage(a):\n",
    "    mw = m*(g+a)/g\n",
    "    if a > 0:\n",
    "        print(\"Der Aufzug fährt aufwärts, die Waage zeigt %.2f kg an.\" % mw)\n",
    "    elif a < 0:\n",
    "        print(\"Der Aufzug fährt abwärts, die Waage zeigt %.2f kg an.\" % mw)\n",
    "    else:\n",
    "        print(\"Der Aufzug ist in Stillstand, die Waage zeigt %.2f kg an.\" % mw)\n",
    "\n",
    "anzeige_waage(0)\n",
    "anzeige_waage(2.5)\n",
    "anzeige_waage(-3)"
   ]
  },
  {
   "cell_type": "markdown",
   "metadata": {
    "collapsed": false
   },
   "source": [
    "<div class=\"alert alert-block alert-info\">\n",
    "<i class=\"fas fa-lightbulb\"></i> <b>Code Tipps:</b> \n",
    "<ul>\n",
    "    <code>if-else</code> Verzweigungen dienen dazu bei unterschiedlichen Fällen auch unterschiedliche Anweisungen auszuführen. Die Synatx ist:\n",
    "<br>\n",
    "<code><font color=green>if</font> Bedingung:\n",
    "    Anweisung\n",
    "<font color=green>else</font>:\n",
    "    Anweisung </code> <br>\n",
    "    \n",
    "<li>Bedingung mit rationalen Operatoren:\n",
    "    <ul>\n",
    "    <li><code>==</code>  Gleichheit</li>\n",
    "    <li><code>!=</code>  Ungleichheit</li>\n",
    "    <li><code><,></code>  strenge Vergleichoperatoren</li>\n",
    "    <li><code><=,>=</code> Vergleichoperatoren</li>\n",
    "</li>\n",
    "</div>\n",
    "    \n",
    "<div class=\"alert alert-block alert-danger\">\n",
    "<i class=\"fas fa-exclamation-triangle\"></i> <b>Vorsicht!</b> \n",
    "<ul>\n",
    "<p> Verzweigungen sind Codeteile, die unter bestimmten Bedingungen ausgeführt werden. Liegt die Bedingung <b>nicht vor</b>, wird dieser Code <b>nicht ausgeführt</b>.\n",
    " </p>     \n",
    "</div>"
   ]
  },
  {
   "cell_type": "markdown",
   "metadata": {
    "collapsed": false
   },
   "source": [
    "6. Schreiben Sie eine Funktion, die für gegebenen Neigungswinkel $\\alpha$ bestimmt, ob der Skifahrer ohne Abstoßen herunterfahren kann oder nicht. Verwenden Sie für Masse und Haftreibungskoeffizienten die Werte aus b) und testen Sie die Funktion für mehrere Werte des Neigungswinkels."
   ]
  },
  {
   "cell_type": "code",
   "execution_count": 0,
   "metadata": {
    "collapsed": false,
    "exercise": "task",
    "jupyter": {
    }
   },
   "outputs": [
   ],
   "source": [
    "def losfahren_ja_nein(alpha):\n",
    "    if                               #füge hier die Bedingung hinzu\n",
    "        print('Winkel: %.2f grad. Wir fahren ohne Abstoß, Hurra!' % alpha)\n",
    "    else:\n",
    "        print('Winkel: %.2f grad. Die Reibung ist zu groß, erst nach Abstoß beginnt der Spaß.' % alpha)\n",
    "\n",
    "losfahren_ja_nein(10)"
   ]
  },
  {
   "cell_type": "markdown",
   "metadata": {
    "collapsed": false
   },
   "source": [
    "___\n",
    "### Aufgabe 4 \n"
   ]
  },
  {
   "cell_type": "markdown",
   "metadata": {
    "collapsed": false
   },
   "source": [
    "\n",
    "<div style=\" border: 2px solid black;margin: 10px auto; padding: 10px; border-radius: 10px;\">\n",
    "<h5>\n",
    "    Newtonschen Axiome\n",
    "</h5>\n",
    "\n",
    "> <font color=blue>**1. Newtonsches Axiom:**</font> Trägheitsgesetz. Ein Körper verharrt im Zustand der Ruhe oder der gleichförmigen Bewegung, sofern er nicht durch einwirkende Kräfte zur Änderung\n",
    "seines Zustands gezwungen wird.\n",
    "<br>\n",
    "<br>\n",
    "Ruhe ist nur ein Sonderfall einer geradlinig gleichförmigen Bewegung mit Geschwindigkeit null,  es herrscht **Gleichgewicht**.\n",
    "\n",
    "> <font color=blue>**2. Newtonsches Axiom:**</font> Aktionsgesetz.\n",
    "Die Änderung der Bewegung ist der Einwirkung der bewegenden\n",
    "Kraft proportional und geschieht nach der Richtung derjenigen\n",
    "geraden Linie, nach welcher jene Kraft wirkt. $$\\vec{F} = m\\cdot \\vec{a}.$$\n",
    "\n",
    "- $\\vec{F}$ ist **die Gesamtkraft**, d.h. die Summe aller auf den Körper wirkenden Kräfte.\n",
    "-  Das 1. Axiom ist ein **Spezialfall** des 2. Axioms: $\\vec{F} = \\vec{0}  \\Leftrightarrow \\vec{a} = \\vec{0} \\Rightarrow \\vec{v} = \\text{const.}$\n",
    "\n",
    "> <font color=blue>**3. Newtonsches Axiom:**</font>  Wechselwirkungsgesetz.  Wirkt ein Körper auf einen zweiten mit einer bestimmten Kraft, so wirkt der zweite auf den ersten zurück und mit der gleichen, aber entgegen gerichteten Kraft. \n",
    "$$\\vec{F}_{\\text{actio}} = -\\vec{F}_{\\text{reactio}}.$$\n",
    "In der Natur treten Kräfte also immer **paarweise** auf! <br>\n",
    "Wichtig: Hierbei handelt es sich um Kräfte, die auf **zwei verschiedene Körper** wirken!\n",
    "</div>"
   ]
  },
  {
   "cell_type": "markdown",
   "metadata": {
    "collapsed": false
   },
   "source": [
    "<div style= \"color: black;background-color: rgba(0,177,172, 0.1) ;margin: 10 px auto; padding: 10px; border-radius: 10px\">\n",
    "<p style=\"font-size:12pt; text-align:center; color:   black;background-color: rgba(0,177,172, 0.1) ;margin: 10 px auto; padding: 10px; border-radius: 10px\" id=\"4\"><b>  Aufgabe 4: Umlenkrolle  </b>  </p> \n",
    "    \n",
    "Betrachten Sie zwei Massen, die mit einem einen Seil über eine Umlenkrolle miteinander verbunden sind und reibungsfrei auf zwei senkrecht aufeinander stehenden Ebenen gleiten können (siehe Skizze). Wie groß muss bei gegebenem Winkel $\\theta$ das Verhältnis der Massen sein, damit diese in Ruhe bleiben? Wie groß ist bei gleich großen Massen die Beschleunigung $a$ in Abhängigkeit von $\\theta$?\n",
    "    \n",
    "<table cellpadding=\"0\"><tbody><tr>\n",
    "<td>\n",
    "<p style=\"text-align:center;font-size:small;\">\n",
    "<img img src=\"static/u5.jpg\" alt=\"\" role=\"presentation\" class=\"img-responsive atto_image_button_middle\" style=\"height: 12em;\">\n",
    "<br>\n",
    "<b>Abbildung</b>: Aufgabe 4\n",
    "</p>\n",
    "</td>\n",
    "<td width=\"20\"></td>"
   ]
  },
  {
   "cell_type": "markdown",
   "metadata": {
    "collapsed": false
   },
   "source": [
    "<font style=\"background-color:#BFBFBF \"> **Vorgehensweise  :**</font>              \n",
    "1. Was muss gelten, damit das System in Ruhe bleibt? Verwenden Sie diese Bedingung, um die Beziehung zwischen dem Verhältnis der Massen und dem Winkel zu finden.\n"
   ]
  },
  {
   "cell_type": "markdown",
   "metadata": {
    "collapsed": false
   },
   "source": [
    "2. Falls das System nicht mehr in Ruhe bleibt, was muss gelten? Verwenden Sie diese Bedingung, um die Beziehung zwischen der Beschleunigung und dem Winkel zu finden."
   ]
  },
  {
   "cell_type": "markdown",
   "metadata": {
    "collapsed": false
   },
   "source": [
    "*Hinweis*: Diese Aufgabe wird als Grundlage für die Hausaufgabe verwendet."
   ]
  },
  {
   "cell_type": "code",
   "execution_count": 0,
   "metadata": {
    "collapsed": false,
    "jupyter": {
     "outputs_hidden": false
    }
   },
   "outputs": [
   ],
   "source": [
   ]
  }
 ],
 "metadata": {
  "kernelspec": {
   "display_name": "Python 3 (system-wide)",
   "language": "python",
   "metadata": {
    "cocalc": {
     "description": "Python 3 programming language",
     "priority": 100,
     "url": "https://www.python.org/"
    }
   },
   "name": "python3",
   "resource_dir": "/ext/jupyter/kernels/python3"
  },
  "language_info": {
   "codemirror_mode": {
    "name": "ipython",
    "version": 3
   },
   "file_extension": ".py",
   "mimetype": "text/x-python",
   "name": "python",
   "nbconvert_exporter": "python",
   "pygments_lexer": "ipython3",
   "version": "3.6.9"
  }
 },
 "nbformat": 4,
 "nbformat_minor": 4
}