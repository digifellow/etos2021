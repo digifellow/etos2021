{
 "cells": [
  {
   "cell_type": "markdown",
   "metadata": {
    "collapsed": false
   },
   "source": [
    "# Einführung in die Physik SS 2020"
   ]
  },
  {
   "cell_type": "markdown",
   "metadata": {
    "collapsed": false
   },
   "source": [
    "## Übung 2: Kräfte"
   ]
  },
  {
   "cell_type": "markdown",
   "metadata": {
    "collapsed": false
   },
   "source": [
    "#### Arbeiten mit rechtwinkligen Dreiecken\n",
    "\n",
    "<img src=\"static/rechtecke.svg\" align=\"center\"/>\n",
    "\n",
    "1. Zwei **rechtwinkligen Dreiecke** sind genau dann **ähnlich**, wenn sie in **einem Winkel übereinstimmen** (siehe Bild oben), und es gelten:\n",
    "$$\\frac{a}{x} = \\frac{b}{y} = \\frac{c}{z}.$$\n",
    "\n",
    "2. Der Satz des Pythagoras\n",
    "$$c^2 = a^2 + b^2.$$\n",
    "\n",
    "3. Trigonometrie im rechtwinkligen Dreieck:\n",
    "\n",
    "$$\\sin\\alpha = \\frac{a}{c},  \\, \\cos\\alpha=\\frac{b}{c},  \\, \\tan\\alpha=\\frac{a}{b}. \\, \\text{ Aus 1. folgt bspw: } \\, \\sin\\alpha = \\frac{a}{c} = \\frac{x}{z}.$$\n",
    "\n",
    "___"
   ]
  },
  {
   "cell_type": "markdown",
   "metadata": {
    "collapsed": false
   },
   "source": [
    "### Kraft \n",
    "\n",
    "Eine **Kraft** ist jede Interaktion, die, wenn sie nicht dagegen ist, die Bewegung eines Objekts verändert. Eine Kraft kann bewirken, dass ein Objekt mit Masse seine Geschwindigkeit ändert, d.h. zu beschleunigen. Die Kraft kann auch intuitiv als Druck oder Zug beschrieben werden.\n",
    "\n",
    "Die **Dynamik** fragt nach den **Ursachen einer Änderung des Bewegungszustandes**, dabei spielen dann die **Kräfte** eine Rolle. Die Kraft hat eine Richtung, also ist sie **ein Vektor**. Wirkt eine Kraft auf einen Körper mit der Masse $m$, so wird dieser in Richtung der Kraft beschleunigt. \n",
    "\n",
    "> <font color=blue>**1. Newtonsches Axiom:**</font> Trägheitsgesetz. Ein Körper verharrt im Zustand der Ruhe oder der gleichförmigen Bewegung, sofern er nicht durch einwirkende Kräfte zur Änderung\n",
    "seines Zustands gezwungen wird.\n",
    "<br>\n",
    "<br>\n",
    "Ruhe ist nur ein Sonderfall einer geradlinig gleichförmigen Bewegung mit Geschwindigkeit null,  es herrscht **Gleichgewicht**.\n",
    "\n",
    "> <font color=blue>**2. Newtonsches Axiom:**</font> Aktionsgesetz.\n",
    "Die Änderung der Bewegung ist der Einwirkung der bewegenden\n",
    "Kraft proportional und geschieht nach der Richtung derjenigen\n",
    "geraden Linie, nach welcher jene Kraft wirkt. $$\\vec{F} = m\\cdot \\vec{a}.$$\n",
    "\n",
    "- $\\vec{F}$ ist **die Gesamtkraft**, d.h. die Summe aller auf den Körper wirkenden Kräfte.\n",
    "-  Die Einheit ergibt sich zu [$F$] = 1 kg m s⁻² = N (Newton).\n",
    "-  Das 1. Axiom ist ein **Spezialfall** des 2. Axioms: $\\vec{F} = \\vec{0}  \\Leftrightarrow \\vec{a} = \\vec{0} \\Rightarrow \\vec{v} = \\text{const.}$\n",
    "\n",
    "\n",
    "*Beispiel*: Beim freien Fall erfährt ein Körper eine **Beschleunigung** mit $g$. Aber auch wenn keine Fallbewegung möglich ist (z.B. wenn man auf dem Boden steht), wirkt die Erdbeschleunigung und verursacht eine **Gewichtskraft** gemäß:\n",
    "$$\\vec{F}_G = m\\cdot \\vec{g}$$\n",
    "\n",
    "\n",
    "\n",
    "\n",
    "\n",
    "\n",
    "\n",
    "#### Kräftediagramme \n",
    "\n",
    "Greifen an einem **Körper verschiedene Kräfte** an, so kann man mittels des **Superpositionsprinzips** die **resultierende Kraft** berechnen. Es ergibt sich ein so genanntes **Kräfteparallelogramm**:\n",
    "<img src=\"static/para3.svg\" align=\"center\"/>\n",
    "$$\\vec{F}_{ges} = \\vec{F}_{1} + \\vec{F}_{2}$$"
   ]
  },
  {
   "cell_type": "markdown",
   "metadata": {
    "collapsed": false
   },
   "source": [
    "### Aufgabe 1\n",
    "Eine Straßenlaterne der Masse 25 kg wird mittig zwischen zwei Hauswänden von 10 m Abstand aufgehängt. Wie stark muss das Seil am Ort der Laterne mindestens durchhängen, damit die Belastung des Seils 10 kN nicht übersteigt?"
   ]
  },
  {
   "cell_type": "markdown",
   "metadata": {
    "collapsed": false
   },
   "source": [
    "**a)** Um die Übung besser zu verstehen, können Sie den folgenden Code ausführen und mit dem Plot spielen."
   ]
  },
  {
   "cell_type": "code",
   "execution_count": 2,
   "metadata": {
    "collapsed": false
   },
   "outputs": [
    {
     "data": {
      "application/vnd.jupyter.widget-view+json": {
       "model_id": "f9cea05bed7e4cd0bc988a08fe96ea0f",
       "version_major": 2,
       "version_minor": 0
      },
      "text/plain": [
       "interactive(children=(FloatSlider(value=5.5, description='max. Belastung [kN]', max=9.0, min=2.0, step=0.5, st…"
      ]
     },
     "execution_count": 2,
     "metadata": {
     },
     "output_type": "execute_result"
    },
    {
     "data": {
      "text/plain": [
       "<function interactive_plot1.vector_plot(b)>"
      ]
     },
     "execution_count": 2,
     "metadata": {
     },
     "output_type": "execute_result"
    }
   ],
   "source": [
    "from ipywidgets import interact\n",
    "from bokeh.plotting import show\n",
    "from interactive_plot1 import vector_plot, belastung\n",
    "interact(vector_plot, b = belastung)"
   ]
  },
  {
   "cell_type": "markdown",
   "metadata": {
    "collapsed": false
   },
   "source": [
    "<div class=\"alert alert-block alert-info\">\n",
    "<b>Code Tips:</b> \n",
    "<ul>\n",
    "    <li>Die trigonometrischen Funktionen $\\sin, \\cos$ und $\\tan$ sind z. B. in <code>math</code> implementiert. D. h. mit <code>math.sin(x), math.cos(x), math.tan(x)</code> können Sie sie für ein in <b>Radiant</b>  gegebenes <code>x</code> aufrufen (<code>math.radians(x)</code>).\n",
    "     <li> Die Erdbeschleunigung $g$ können Sie über das Modul <code>scipy.constants</code>  mit  <code>const.g</code> einbinden. Die funktioniert übrigens auch für viele andere physikalische Konstanten.\n",
    " </li> \n",
    "</div>"
   ]
  },
  {
   "cell_type": "markdown",
   "metadata": {
    "collapsed": false
   },
   "source": [
    "**b)** Kräftediagramm, Ähnlichkeit von rechtwinkligen Dreiecke oder Trigonometrie."
   ]
  },
  {
   "cell_type": "code",
   "execution_count": 2,
   "metadata": {
    "collapsed": false
   },
   "outputs": [
    {
     "name": "stdout",
     "output_type": "stream",
     "text": [
      "Das Siel muss mindestens 0.061 m durchhängen.\n"
     ]
    }
   ],
   "source": [
    "import math\n",
    "import scipy.constants as const \n",
    "\n",
    "m = 25       # Masse der Straßenlanterne in kg\n",
    "L = 10       # Abstand zwischen zwei Hauswänden in m\n",
    "B = 10e3     # Maximale Belastung de Seils in N\n",
    "g = const.g  # Erdbeschleinigung\n",
    "\n",
    "d = 5*g*m/math.sqrt((2*B)**2-(m*9.81)**2)\n",
    "\n",
    "print(\"Das Siel muss mindestens\" , round(d,3) ,\"m durchhängen.\") "
   ]
  },
  {
   "cell_type": "markdown",
   "metadata": {
    "collapsed": false
   },
   "source": [
    "___"
   ]
  },
  {
   "cell_type": "markdown",
   "metadata": {
    "collapsed": false
   },
   "source": [
    "> <font color=blue>**3. Newtonsches Axiom:**</font>  Wechselwirkungsgesetz.  Wirkt ein Körper auf einen zweiten mit einer bestimmten Kraft, so wirkt der zweite auf den ersten zurück und mit der gleichen, aber entgegen gerichteten Kraft. \n",
    "$$\\vec{F}_{\\text{actio}} = -\\vec{F}_{\\text{reactio}}.$$\n",
    "In der Natur treten Kräfte also immer **paarweise** auf! <br>\n",
    "Wichtig: hierbei handelt es sich um Kräfte, die auf **zwei verschiedene Körper** wirken!\n",
    "\n",
    "\n",
    "Die **Normalkraft** wirkt immer **senkrecht** zur **Auflagefläche** auf den Körper. Bei horizontaler Auflagefläche entspricht die Normalkraft im Betrag der Gewichtskraft des Körpers.\n",
    "Reaktio der Ebene.\n",
    "#### Schiefe Ebene\n",
    "Das Superpositionsprinzip benutzt man auch umgekehrt, wenn man Kräfte in Komponenten zerlegen will. Auf den Körper wirkt die Gewichtskraft $\\vec{F}_G$. Man zerlegt sie in den Hangabtrieb $\\vec{F}_H$ parallel zur Ebene und die Normalkraft $\\vec{F}_N$ senkrecht dazu. Die vektorielle Summe von $\\vec{F}_H$ und $\\vec{F}_N$ ergibt wieder $\\vec{F}_G$. Der Nutzen der in der Abbildung gezeigten Zerlegung liegt darin, dass $\\vec{F}_N$ senkrecht zur Bewegungsrichtung zeigt und damit keinen Einfluss auf die Bewegung auf der Ebene hat. Sie wird alleine von $\\vec{F}_H$ bestimmt, welches exakt in Bewegungsrichtung zeigt.\n",
    "\n",
    "<img src=\"static/scheife2.svg\" align=\"center\"/>"
   ]
  },
  {
   "cell_type": "markdown",
   "metadata": {
    "collapsed": false
   },
   "source": [
    "### Aufgabe 2\n",
    "Die Turmbergbahn ist die älteste noch in Betrieb befindliche Standseilbahn Deutschlands. Sie fährt von Karlsruhe-Durlach auf den Turmberg. Auf einer Gleislänge von 315 m überwindet sie einen einen Höhenunterschied von 100 m, wobei die Steigung an der steilsten Stelle 36,2 % beträgt. Das Zugseil besitzt eine Bruchfestigkeit von 422 kN. Wie schwer dürfte dann ein Wagen der Bahn vollbesetzt maximal sein? Bitte geben Sie Ihr Ergebnis in Tonnen aus."
   ]
  },
  {
   "cell_type": "markdown",
   "metadata": {
    "collapsed": false
   },
   "source": [
    "**a)** Um die Übung besser zu verstehen, können Sie den folgenden Code ausführen und mit dem Plot spielen. Der zeigt an, wie sich das Gewicht bei konstanter Bruchfestigkeit des Zugseils in Abhangigkeit von die Steigung ändert."
   ]
  },
  {
   "cell_type": "code",
   "execution_count": 3,
   "metadata": {
    "collapsed": false
   },
   "outputs": [
    {
     "ename": "ModuleNotFoundError",
     "evalue": "No module named 'interactive_plot2'",
     "output_type": "error",
     "traceback": [
      "\u001b[0;31m---------------------------------------------------------------------------\u001b[0m",
      "\u001b[0;31mModuleNotFoundError\u001b[0m                       Traceback (most recent call last)",
      "\u001b[0;32m<ipython-input-3-257dcab38585>\u001b[0m in \u001b[0;36m<module>\u001b[0;34m\u001b[0m\n\u001b[0;32m----> 1\u001b[0;31m \u001b[0;32mfrom\u001b[0m \u001b[0minteractive_plot2\u001b[0m \u001b[0;32mimport\u001b[0m \u001b[0mvector_plot2\u001b[0m\u001b[0;34m,\u001b[0m \u001b[0mneigung\u001b[0m\u001b[0;34m\u001b[0m\u001b[0;34m\u001b[0m\u001b[0m\n\u001b[0m\u001b[1;32m      2\u001b[0m \u001b[0minteract\u001b[0m\u001b[0;34m(\u001b[0m\u001b[0mvector_plot\u001b[0m\u001b[0;34m,\u001b[0m \u001b[0mn\u001b[0m \u001b[0;34m=\u001b[0m \u001b[0msteigung\u001b[0m\u001b[0;34m)\u001b[0m\u001b[0;34m\u001b[0m\u001b[0;34m\u001b[0m\u001b[0m\n",
      "\u001b[0;31mModuleNotFoundError\u001b[0m: No module named 'interactive_plot2'"
     ]
    }
   ],
   "source": [
    "from interactive_plot2 import vector_plot2, neigung\n",
    "interact(vector_plot, n = steigung)"
   ]
  },
  {
   "cell_type": "markdown",
   "metadata": {
    "collapsed": false
   },
   "source": [
    "**b)** Kräftediagramm, Ähnlichkeit von rechtwinkligen Dreiecke oder Trigonometrie."
   ]
  },
  {
   "cell_type": "code",
   "execution_count": 0,
   "metadata": {
    "collapsed": false
   },
   "outputs": [
   ],
   "source": [
    "\n",
    "s = 0.362     # Steigung in -\n",
    "F_H = 422e3   # Hangabtrieb in N\n",
    "g = const.g   # Erdbeschleinigung in m/s²\n",
    "\n",
    "F_G = F_H/math.sin(math.atan(s))\n",
    "\n",
    "m = F_G/g\n",
    "\n",
    "print(\"Ein Wagen dürfte\" , round(m/1000) ,\"Tonnen schwer sein.\") "
   ]
  },
  {
   "cell_type": "markdown",
   "metadata": {
    "collapsed": false
   },
   "source": [
    "___"
   ]
  },
  {
   "cell_type": "markdown",
   "metadata": {
    "collapsed": false
   },
   "source": [
    "#### Reibung\n",
    "\n",
    "Die Bewegung eines Körpers auf einer Unterlage wird durch eine\n",
    "**Reibungskraft** $F_R$ gehemmt, welche der **bewegenden Kraft** entgegen gerichtet und von der Oberflächenbeschaffenheit abhängig ist. $F_R$  ist **unabhängig** von der **Auflagefläche** und der **Geschwindigkeit**.\n",
    "\n",
    "Im folgenden betrachten wir die Festkörperreibung, wobei wir zwischen Haft- und Gleitreibung unterscheiden:\n",
    "<img src=\"static/ruh3.svg\" align=\"center\"/>\n",
    "\n",
    "(1, 2) Die **Haftreibung** ist mit der Normalkraft über den Reibungskoeffizienten $\\mu_H$ verknüpft:\n",
    "$$F_{R} \\leq \\mu_H F_N$$\n",
    "\n",
    "(3) Der Körper beginnt zu rutschen (**maximale Haftreibung**), wenn gilt $F_{R,max} = \\mu_H F_N$.\n",
    "\n",
    "(4) Wenn der Körper gleitet, ist die Reibungskraft geringer (**Gleitreibung**), es gilt:\n",
    "$$F_{R} = \\mu_G F_N$$\n",
    "mit $ \\mu_G \\leq \\mu_H$.\n",
    "\n",
    "#### Schiefe Ebene mit Reibung\n",
    "Die Gewichtskraft $\\vec{F_G}$ wurde in die Normalkraft $\\vec{F_N}$ senkrecht zur Ebene und den Hangabtrieb $\\vec{F_H}$ parallel zur Ebene zerlegt. Der Körper drückt mit der Normalkraft auf die Ebene. Diese wird durch die Reactio der Ebene $\\vec{F_E}$, die in umgekehrter Richtung zeigt, ausgeglichen. Die Haftreibungskraft $\\vec{F}_{R,\\text{Haft}}$ muss den Hangabtrieb kompensieren, sodass sich $\\vec{F_G}$, $\\vec{F_E}$ und $\\vec{F}_{R,\\text{Haft}}$ zu null addieren und der Körper in Ruhe bleibt.\n",
    "<img src=\"static/reibung.svg\" align=\"center\"/>\n",
    "Die Rutschbedingung ist: $\\mu_H=\\tan\\alpha$."
   ]
  },
  {
   "cell_type": "markdown",
   "metadata": {
    "collapsed": false
   },
   "source": [
    "### Aufgabe 3\n",
    "Sie wollen einen Hang mit einer Neigung von 20° zur Horizontalen auf Skiern herunterfahren. Der Haftreibungskoeffizient sei 0,37. Werden Sie sich (ohne Abstoßen) in Bewegung setzen? Macht es einen Unterschied, wenn zu Ihrer Masse von 70 kg einen Rucksack mit 25 kg aufsetzten?"
   ]
  },
  {
   "cell_type": "markdown",
   "metadata": {
    "collapsed": false
   },
   "source": [
    "**a)** Erstellen Sie für die Reibungskraft $F_R$ und die Hangabtriebskraft $F_H$ je eine Funktion in Python, die von der Masse, der Neigung und dem Haftreibungskoeffizienten abhängen."
   ]
  },
  {
   "cell_type": "markdown",
   "metadata": {
    "collapsed": false
   },
   "source": [
    "<div class=\"alert alert-block alert-info\">\n",
    "<b>Code Tips:</b> \n",
    "<ul>\n",
    "    Eine Funktion kann man in folgender Form deklarieren: <br>\n",
    "    <code><font color=green>def</font> Funktionsname(Argumente): \n",
    "        Funktionsanweisungen \n",
    "        <font color=green>return</font> Resultat</code>\n",
    "    <li> Eine Funktion kann auch mit Arrays arbeiten, dafür müssen Sie <code>np.vectorize()</code> anwenden.\n",
    " </li>   \n",
    "</div>\n",
    "    \n",
    "<div class=\"alert alert-block alert-danger\">\n",
    "<b>Vorsicht!</b> \n",
    "<ul>\n",
    "<p>  In Python sind Einrückungen (<i>engl.</i> indentation) essentiell. Der Editor hier hilft Ihnen aber dabei diese einzuhalten. Die Einrückung erfolgt normalerweise nach der Eingabe vom Doppelpunkt (<code>:</code>).\n",
    " </p>      \n",
    "</div>"
   ]
  },
  {
   "cell_type": "code",
   "execution_count": 0,
   "metadata": {
    "collapsed": false
   },
   "outputs": [
   ],
   "source": [
    "import numpy as np\n",
    "\n",
    "def F_R(alpha, m, mu_H):\n",
    "    F_R = mu_H*m*g*math.cos(math.radians(alpha))\n",
    "    return F_R\n",
    "\n",
    "def F_H(alpha, m, mu_H): \n",
    "    F_H = m*g*math.sin(math.radians(alpha))\n",
    "    return F_H\n",
    "\n",
    "F_R = np.vectorize(F_R)\n",
    "F_H = np.vectorize(F_H)"
   ]
  },
  {
   "cell_type": "markdown",
   "metadata": {
    "collapsed": false
   },
   "source": [
    "**b)** *(Optional)* Zunächst wollen wir die Kräfte in Abhängigkeit der Masse untersuchen. Wir befinden uns auf einer blauen Anfängerpiste mit $\\alpha = 10°$ und sehr stumpfem Schnee mit einem Haftreibungskoeffizienten von $\\mu_H=0,37$. Tragen Sie nun die bremsende Reibungskraft $F_R$ in rot und die beschleunigende Hangabtriebskraft $F_H$ in grün gegen die Masse des Skifahrers ($50-100~\\mathrm{kg}$) auf. Gibt es eine Masse, ab der der Skifahrer anfängt, sich zu bewegen?"
   ]
  },
  {
   "cell_type": "code",
   "execution_count": 0,
   "metadata": {
    "collapsed": false
   },
   "outputs": [
   ],
   "source": [
    "m = np.linspace(0, 100)\n",
    "F_R(10, m, 0.3)\n",
    "F_H(10, m, 0.3)"
   ]
  },
  {
   "cell_type": "markdown",
   "metadata": {
    "collapsed": false
   },
   "source": [
    "**c)** Nun wollen wir untersuchen, wie die Kräfte vom Haftreibungskoeffizienten $\\mu_H$ des Schnees abhängen. Gehen Sie von einem Skifahrer der Massse $75~\\mathrm{kg}$ wieder auf der blauen Anfängerpiste mit $\\alpha = 10°$ aus. Tragen Sie nun die Kräfte in Abhängigkeit vom Haftreibungskoeffizienten ($0-0,5$) auf. Wie rutschig muss der Schnee sein, damit der Skifahrer ohne Abstoßen anfängt, sich zu bewegen?"
   ]
  },
  {
   "cell_type": "code",
   "execution_count": 0,
   "metadata": {
    "collapsed": false
   },
   "outputs": [
   ],
   "source": [
    "from diagrams2 import reibung_plots\n",
    "mu_H = np.linspace(0, 0.5)\n",
    "\n",
    "reibung_plots(F_R=F_R(10, 75, mu_H), F_H=F_H(10, 75, mu_H), mu_H=mu_H)"
   ]
  },
  {
   "cell_type": "markdown",
   "metadata": {
    "collapsed": false
   },
   "source": [
    "**d)** Nun wollen wir den Verlauf der Kräfte unter variierender Masse untersuchen. Dazu variieren wir die Neigung und schauen uns an, wie sich der Schnittpunkt für verschiedene Massen verhält. Was kannst du darüber über die Bedeutung der Masse für die Fragestellung, wann die Kräftegleichheit gilt, folgern?"
   ]
  },
  {
   "cell_type": "code",
   "execution_count": 0,
   "metadata": {
    "collapsed": false
   },
   "outputs": [
   ],
   "source": [
    "mu_H = 0.37\n",
    "alpha = np.linspace(0, 90)\n",
    "reibung_plots(F_R=F_R, F_H=F_H, mu_H=mu_H, alpha=alpha)"
   ]
  },
  {
   "cell_type": "markdown",
   "metadata": {
    "collapsed": false
   },
   "source": [
    "**e)** Schreiben Sie eine Funktion, die für gegebenen Neigungswinkel $\\alpha$ bestimmt, ob der Skifahrer ohne Abstoßen herunterfahren kann oder nicht. Verwenden Sie für Masse und Haftreibungskoeffizienten die Werte aus b) und testen Sie die Funktion für mehrere Werte des Neigungswinkels."
   ]
  },
  {
   "cell_type": "markdown",
   "metadata": {
    "collapsed": false
   },
   "source": [
    "<div class=\"alert alert-block alert-info\">\n",
    "<b>Code Tips:</b> \n",
    "<ul>\n",
    "    <code>if-else</code> Verzweigungen dienen dazu bei unterschiedlichen Fällen auch unterschiedliche Anweisungen auszuführen. Die Synatx ist:\n",
    "    \n",
    "<br>\n",
    "<code><font color=green>if</font> Bedingung:\n",
    "    Anweisung\n",
    "<font color=green>else</font>:\n",
    "    Anweisung </code> <br>\n",
    "    \n",
    "<li>Bedingung mit rationalen Operatoren:\n",
    "    <ul>\n",
    "    <li><code>==</code>  Gleichheit</li>\n",
    "    <li><code>!=</code>  Ungleichheit</li>\n",
    "    <li><code><,></code>  strenge Vergleichoperatoren</li>\n",
    "    <li><code><=,>=</code> Vergleichoperatoren</li>\n",
    "</li>\n",
    "</div>\n",
    "    \n",
    "<div class=\"alert alert-block alert-danger\">\n",
    "<b>Vorsicht!</b> \n",
    "<ul>\n",
    "<p>  Bei unterschiedlichen Fällen sind die unterschiedliche Anweisungen <b>exclusiv</b>. EIN BISSCHEN ERKLÄREN\n",
    " </p>     \n",
    "</div>"
   ]
  },
  {
   "cell_type": "code",
   "execution_count": 0,
   "metadata": {
    "collapsed": false
   },
   "outputs": [
   ],
   "source": [
    "def losfahren_ja_nein(alpha):\n",
    "    if F_R(alpha, 75, 0.37) < F_H(alpha, 75, 0.37):\n",
    "        print('Winkel:', 'Wir fahren ohne Abstoß, Hurra!')\n",
    "    else:\n",
    "        print('Winkel:','Die Reibung ist zu groß, erst nach Abstoß beginnt der Spaß.')\n",
    "        \n",
    "losfahren_ja_nein(10)\n",
    "losfahren_ja_nein(20)\n",
    "losfahren_ja_nein(30)\n",
    "losfahren_ja_nein(40)"
   ]
  },
  {
   "cell_type": "markdown",
   "metadata": {
    "collapsed": false
   },
   "source": [
    "___"
   ]
  },
  {
   "cell_type": "markdown",
   "metadata": {
    "collapsed": false
   },
   "source": [
    "### Aufgabe 4\n",
    "Betrachten Sie zwei Massen, die mit einem einen Seil über eine Umlenkrolle miteinander verbunden sind und reibungsfrei auf zwei senkrecht aufeinander stehenden Ebenen gleiten können (siehe Skizze). Wie groß muss bei gegebenem Winkel $\\theta$ das Verhältnis der Massen sein, damit diese in Ruhe bleiben? Wie groß ist bei gleich großen Massen die Beschleunigung $a$ in Abhängigkeit von $\\theta$?\n",
    "<img src=\"static/u5.jpg\" align=\"center\"/>"
   ]
  }
 ],
 "metadata": {
  "kernelspec": {
   "display_name": "Python 3 (system-wide)",
   "language": "python",
   "metadata": {
    "cocalc": {
     "description": "Python 3 programming language",
     "priority": 100,
     "url": "https://www.python.org/"
    }
   },
   "name": "python3"
  },
  "language_info": {
   "codemirror_mode": {
    "name": "ipython",
    "version": 3
   },
   "file_extension": ".py",
   "mimetype": "text/x-python",
   "name": "python",
   "nbconvert_exporter": "python",
   "pygments_lexer": "ipython3",
   "version": "3.6.9"
  }
 },
 "nbformat": 4,
 "nbformat_minor": 4
}