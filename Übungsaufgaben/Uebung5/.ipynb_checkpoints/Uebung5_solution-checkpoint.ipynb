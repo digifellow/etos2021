{
 "cells": [
  {
   "cell_type": "markdown",
   "metadata": {},
   "source": [
    "# Einführung in die Physik SS 2020"
   ]
  },
  {
   "cell_type": "markdown",
   "metadata": {},
   "source": [
    "## Übung 5: Periodische Bewegung\n"
   ]
  },
  {
   "cell_type": "markdown",
   "metadata": {},
   "source": [
    "##### Die gleichförmige Kreisbewegung: \n",
    "\n",
    "Die **Bahngeschwindigkeit** ist die zeitliche Änderung des Ortes auf dem Kreis (mit $s$: Kreisbogen):\n",
    "$$v = \\dot{s}$$\n",
    "\n",
    "Es ändert sich aber nur $\\varphi$, so dass man schreiben kann\n",
    "\n",
    "$$v = \\dot{s} = r \\dot{\\varphi} = r \\omega$$\n",
    "\n",
    "Mit der neuen Größe Winkelgeschwindigkeit, welche bei der gleichförmigen Kreisbewegung konstant ist:\n",
    "\n",
    "$$\\omega = \\frac{2 \\pi}{T} = 2 \\pi f$$\n",
    "\n",
    "<img src=\"static/dia4.svg\" align=\"center\"/>\n",
    "\n",
    "Da ein Massenpunkt auch bei **gleichförmiger Kreisbewegung** ständig die Richtung ändert, ändert sich die Geschwindigkeit und er wird beschleunigt. Dazu betrachten wir einen Punkt auf dem Kreis zu zwei verschiedenen Zeitpunkten. Weil $\\vec{v}$ immer senkrecht auf $\\vec{r}$ steht, gilt für die Beträge:\n",
    "\n",
    "$$\\frac{\\Delta v}{\\Delta t} = \\frac{v}{r}\\frac{\\Delta s}{\\Delta t} $$\n",
    "\n",
    "Der Grenzübergang zur Momentanbeschleunigung und -geschwindigkeit ergibt die Zentripetalbeschleunigung:\n",
    "\n",
    "$$a = \\frac{\\text{d}v}{\\text{d}t} =  \\frac{v}{r}v$$\n",
    "\n",
    "$$a_{_{ZP}} = \\frac{v^2}{r} = \\omega^2r.$$\n",
    "\n",
    "##### Zentripetalkraft: \n",
    "\n",
    "Die Zentripetalkraft (auch Radialkraft) ist die Komponente der äußeren Kraft zum Mittelpunkt des Krümmungskreises, die auf einen Körper wirken muss, damit sich dieser im Inertialsystem auf einer gekrümmten Bahn bewegt\n",
    "\n",
    "Mit der Radialbeschleunigung ergibt sich nach dem 2. Axiom:\n",
    " \n",
    "$$F_{_{ZP}} = m \\frac{v^2}{r}$$"
   ]
  },
  {
   "cell_type": "markdown",
   "metadata": {},
   "source": [
    "###  Aufgabe 1\n",
    "\n",
    "Der *Blue Fire* Megacoaster im Europa-Park ist eine Stahlachterbahn vom Modell Launched Coaster. Das Fahrzeug gelangt nach einer kurzen Durchfahrt eines aus Kunstfelsen angelegten Tunnels in einen 32 Meter hohen Looping. Mit Hilfe des unteren Videos können Sie die Zeit $t$, $x$- und $y$-Koordinate und den Winkel $\\varphi$ des Zuges **am höchsten Punkt des Loopings** speichern, Sie brauchen für diese Aufgabe nur 2 Werte (vor und nach dem höchsten Punkt). Wenn das Video zu schnell läuft, können Sie die Schaltflächen Pause und Neustart verwenden"
   ]
  },
  {
   "cell_type": "markdown",
   "metadata": {},
   "source": [
    "*Hinweis*: Sie können die $t, x, y$ und $\\varphi$-Daten speichern, wenn Sie auf die Animation klicken. Dann können Sie mit <code>from achterbahn  import phi, x, y, t</code> die Datein laden."
   ]
  },
  {
   "cell_type": "code",
   "execution_count": null,
   "metadata": {},
   "outputs": [],
   "source": [
    "%matplotlib widget\n",
    "import achterbahn"
   ]
  },
  {
   "cell_type": "code",
   "execution_count": 1,
   "metadata": {
    "exercise": "solution"
   },
   "outputs": [],
   "source": [
    "import numpy as np\n",
    "x = np.array([34.14, 36.01])\n",
    "y = np.array([31.63, 31.23])\n",
    "t = np.array([0.829, 0.939])\n",
    "phi = np.array([1.559, 1.402])"
   ]
  },
  {
   "cell_type": "markdown",
   "metadata": {},
   "source": [
    "<img src=\"static/dia5.svg\" align=\"center\"/>"
   ]
  },
  {
   "cell_type": "markdown",
   "metadata": {},
   "source": [
    "**a)** Berechnen Sie den Radius des Halbkreises, gegeben sei $x_m = 34 \\text{ m}$ und $y_m = 19,46 \\text{ m}$\n",
    "$$r^2 = (x-x_m)^2 + (y - y_m)^2$$"
   ]
  },
  {
   "cell_type": "code",
   "execution_count": 2,
   "metadata": {
    "exercise": "solution"
   },
   "outputs": [
    {
     "name": "stdout",
     "output_type": "stream",
     "text": [
      "Der Radius beträgt 12.17 m\n"
     ]
    }
   ],
   "source": [
    "r = np.sqrt((x[0]-34)**2 + (y[0]-19.46)**2)\n",
    "print('Der Radius beträgt %.2f m' %r)"
   ]
  },
  {
   "cell_type": "markdown",
   "metadata": {},
   "source": [
    "**b)** Mit welcher Geschwindigkeit (Betrag) bewegt sich der Zug am höchsten Punkt des Looping?"
   ]
  },
  {
   "cell_type": "markdown",
   "metadata": {},
   "source": [
    "$$v = r\\cdot \\frac{\\Delta \\varphi}{\\Delta t}$$"
   ]
  },
  {
   "cell_type": "code",
   "execution_count": 3,
   "metadata": {
    "exercise": "solution"
   },
   "outputs": [
    {
     "name": "stdout",
     "output_type": "stream",
     "text": [
      "Die Geschwindigkeit beträgt -17.37 m/s\n"
     ]
    }
   ],
   "source": [
    "v = r*(phi[1]-phi[0])/(t[1]-t[0])\n",
    "print('Die Geschwindigkeit beträgt %.2f m/s' %v)"
   ]
  },
  {
   "cell_type": "markdown",
   "metadata": {},
   "source": [
    "**c)** Was ist die Beschleunigung des Zuges am höchsten Punkt des Loopings?"
   ]
  },
  {
   "cell_type": "markdown",
   "metadata": {
    "exercise": "solution"
   },
   "source": [
    "$$a_{_{ZP}} = \\frac{v^2}{r} = \\omega^2r$$"
   ]
  },
  {
   "cell_type": "code",
   "execution_count": 4,
   "metadata": {
    "exercise": "solution"
   },
   "outputs": [
    {
     "name": "stdout",
     "output_type": "stream",
     "text": [
      "Die Beschleunigung beträgt 24.79 m/s²\n"
     ]
    }
   ],
   "source": [
    "a_zp = v**2/r\n",
    "print('Die Beschleunigung beträgt %.2f m/s²' %a_zp)"
   ]
  },
  {
   "cell_type": "markdown",
   "metadata": {},
   "source": [
    "**d)** Die Masse des Zuges beträgt 10 t (voll besetzt), berechnen Sie die Zentripetalkraft"
   ]
  },
  {
   "cell_type": "markdown",
   "metadata": {
    "exercise": "solution"
   },
   "source": [
    "$$F_{_{ZP}} = m \\frac{v^2}{r} = ma_{_{ZP}} $$"
   ]
  },
  {
   "cell_type": "code",
   "execution_count": 5,
   "metadata": {
    "exercise": "solution"
   },
   "outputs": [
    {
     "name": "stdout",
     "output_type": "stream",
     "text": [
      "Die Zentripetalkraft beträgt 247.93 kN\n"
     ]
    }
   ],
   "source": [
    "m = 10*1000\n",
    "\n",
    "F_zp = m*a_zp\n",
    "\n",
    "print('Die Zentripetalkraft beträgt %.2f kN' %(F_zp/1000))"
   ]
  },
  {
   "cell_type": "markdown",
   "metadata": {},
   "source": [
    "___"
   ]
  },
  {
   "cell_type": "markdown",
   "metadata": {},
   "source": [
    "####  Schwingungen\n",
    "\n",
    "Eine Schwingung ist eine sich wiederholender Vorgang. Damit eine Schwingung entsteht, müssen zwei Bedingungen erfüllt\n",
    "sein:\n",
    "-  es muss eine **rücktreibende Kraft** (zur Ruhelage hin) wirken, und (beim Federpendel die Federkraft)\n",
    "-  eine **Trägheit** muss vorhanden sein (beim Federpendel die Masse). \n",
    "\n",
    "\n",
    "<img src=\"static/sch3.png\" align=\"center\"/>\n",
    "\n",
    "\n",
    "Als **harmonisch** wird eine Schwingung bezeichnet, deren Verlauf\n",
    "durch eine **Sinusfunktion** beschrieben werden kann.\n",
    "\n",
    "Die grundlegenden Eigenschaften von **harmonischen Schwingungen**\n",
    "sind:\n",
    "- Die Periode $T$, Einheit $[T]$ = s\n",
    "- Die Frequenz $f$, Einheit $[f]$ = s⁻¹ = Hz\n",
    "- Die Kreisfrequenz $\\omega$, Einheit $[\\omega]$ = rad s⁻¹\n",
    "- Die Amplidute $A$, Einheit $[a]$ = m.\n",
    "\n",
    "Wenn wir das 2. Newtonsche Axiom auf das Federpendel anwenden, erhalten wir die Differenzialgleichung der harmonische\n",
    "Schwingung:\n",
    "\n",
    "$$m\\ddot{x}+ Dx=0$$\n",
    "\n",
    "Die Lösung der DGL ist die Schwingungsfunktion:\n",
    "\n",
    "$$x(t)= A \\cdot \\sin(\\omega t + \\varphi_0)$$\n",
    "\n",
    "Die Kreisfrequenz, oder auch **Eigenkreisfrequenz** - beim Federpendel\n",
    "wird damit\n",
    "\n",
    "$$\\omega = \\sqrt{\\frac{D}{m}}.$$\n"
   ]
  },
  {
   "cell_type": "markdown",
   "metadata": {},
   "source": [
    "### Aufgabe 2 \n",
    "\n",
    "Eine Feder hängt senkrecht, wenn ein Objekt mit einer Masse von $M = 1 \\text{ kg}$ daran aufgehängt ist, nimmt seine Länge um $8 \\text{ cm}$ zu. Die Feder wird dann horizontal montiert und mit einem Massenblock $m = 2 \\text{ kg}$ versehen.  Der Block kann ohne Reibung horizontal gleiten.\n",
    "\n",
    "Der Block wird durch eine äußere Kraft in der positiven $x$-Richtung aus der Ruhelage verschoben. Bei $t = 0$, wenn die Blockverschiebung $x(0) = 0,05 \\text{ m}$ beträgt und ihre Geschwindigkeit $v(0) = 0,7 \\frac{\\text{m}}{\\text{s}}$ ist, wird die äußere Kraft entfernt und der Block beginnt zu schwingen."
   ]
  },
  {
   "cell_type": "markdown",
   "metadata": {},
   "source": [
    "**a)** Mit welcher Frequenz wird er schwingen?"
   ]
  },
  {
   "cell_type": "markdown",
   "metadata": {
    "exercise": "solution"
   },
   "source": [
    "**Lösung**\n",
    "\n",
    "$$Mg = D x \\Rightarrow D = \\frac{Mg}{x}$$\n",
    "\n",
    "$$\\omega = \\sqrt{\\frac{D}{m}} = \\frac{2\\pi}{T} = 2\\pi f \\Rightarrow f = \\frac{1}{2\\pi}\\sqrt{\\frac{D}{m}}$$"
   ]
  },
  {
   "cell_type": "code",
   "execution_count": 6,
   "metadata": {
    "exercise": "solution"
   },
   "outputs": [
    {
     "name": "stdout",
     "output_type": "stream",
     "text": [
      "Die Frequenz beträgt 2.49 Hz\n"
     ]
    }
   ],
   "source": [
    "import numpy as np\n",
    "M = 1\n",
    "m = 2\n",
    "y = 0.08\n",
    "\n",
    "D = M*9.81/y\n",
    "omega = np.sqrt(D/m)\n",
    "f = 1/(np.pi)*omega\n",
    "\n",
    "print('Die Frequenz beträgt %.2f Hz' %f)"
   ]
  },
  {
   "cell_type": "markdown",
   "metadata": {},
   "source": [
    "**b)** Bestimmen sie $x(t)$ mit Hilfe des Ansatzes $x(t)= A \\cdot \\sin(\\omega t) + B \\cdot \\cos(\\omega t) $ und den Anfangsbedingungen aus der Aufgabenstellung, bestimmen Sie weiter auch $v(t)$"
   ]
  },
  {
   "cell_type": "markdown",
   "metadata": {
    "exercise": "solution"
   },
   "source": [
    "**Lösung**\n",
    "\n",
    "$$ x(t)= A \\cdot \\sin(\\omega t) + B \\cdot \\cos(\\omega t)$$\n",
    "\n",
    "$$ x(0)= 0,05 \\text{ m} \\Rightarrow  B = 0,05 \\text{ m} $$\n",
    "\n",
    "$$ v(0)=0,7 \\frac{\\text{m}}{\\text{s}} \\Rightarrow A \\cdot \\omega= 0,7 \\frac{\\text{m}}{\\text{s}} \\Rightarrow A = 0,089 \\text{ m}$$\n",
    " "
   ]
  },
  {
   "cell_type": "code",
   "execution_count": 7,
   "metadata": {
    "exercise": "solution"
   },
   "outputs": [],
   "source": [
    "x_0 = 0.05\n",
    "v_0 = 0.7\n",
    "\n",
    "A = v_0/omega\n",
    "B = 0.05\n",
    "\n",
    "def x(t):\n",
    "    return A*np.sin(omega*t)+B*np.cos(omega*t)\n",
    "\n",
    "def v(t):\n",
    "    return A*omega*np.cos(omega*t)-B*omega*np.sin(omega*t)"
   ]
  },
  {
   "cell_type": "markdown",
   "metadata": {},
   "source": [
    "**c)** Generieren Sie Diagramme der beiden Funktionen $x(t)$ und $v(t)$ für zwei Perioden."
   ]
  },
  {
   "cell_type": "code",
   "execution_count": 8,
   "metadata": {
    "exercise": "solution"
   },
   "outputs": [
    {
     "data": {
      "image/png": "[encoded data removed]",
      "text/plain": [
       "<Figure size 432x288 with 2 Axes>"
      ]
     },
     "metadata": {
      "needs_background": "light"
     },
     "output_type": "display_data"
    }
   ],
   "source": [
    "import matplotlib.pyplot as plt\n",
    "T= 1/f\n",
    "t= np.linspace(0,2*T)\n",
    "\n",
    "plt.subplot(2, 1, 1)\n",
    "plt.plot(t, x(t), 'g-')\n",
    "plt.ylabel('Ort $m$')\n",
    "plt.title('$x(t)$')\n",
    "plt.axhline(y=0, color='k')\n",
    "plt.axvline(x=0, color='k')\n",
    "plt.grid(True)\n",
    "\n",
    "plt.subplot(2, 1, 2)\n",
    "plt.plot(t, v(t), 'r-')\n",
    "plt.xlabel('Zeit  $s$')\n",
    "plt.ylabel('Geschwindigekit $m/s$')\n",
    "plt.title('$v(t)$')\n",
    "plt.axhline(y=0, color='k')\n",
    "plt.axvline(x=0, color='k')\n",
    "plt.grid(True)"
   ]
  },
  {
   "cell_type": "code",
   "execution_count": 9,
   "metadata": {
    "exercise": "solution"
   },
   "outputs": [
    {
     "data": {
      "text/plain": [
       "<matplotlib.legend.Legend at 0x7f54b9d974d0>"
      ]
     },
     "execution_count": 9,
     "metadata": {},
     "output_type": "execute_result"
    },
    {
     "data": {
      "image/png": "[encoded data removed]",
      "text/plain": [
       "<Figure size 432x288 with 2 Axes>"
      ]
     },
     "metadata": {
      "needs_background": "light"
     },
     "output_type": "display_data"
    }
   ],
   "source": [
    "import matplotlib.pyplot as plt\n",
    "T= 1/f\n",
    "t= np.linspace(0,2*T)\n",
    "\n",
    "# x(t)\n",
    "p1 = plt.plot(t, x(t), 'g-', label='$x(t)$')\n",
    "plt.ylabel('Ort $m$')\n",
    "plt.grid(True)\n",
    "# v(t)\n",
    "plt.twinx()\n",
    "plt.ylabel(\"Geschwindigkeit $m/s$\")\n",
    "p2 = plt.plot(t, v(t), \"r-\", label='$v(t)$')\n",
    "\n",
    "# Formatierung\n",
    "plt.axhline(y=0, color='k')\n",
    "plt.axvline(x=0, color='k')\n",
    "plt.legend((p1[0], p2[0],), ('$x(t)$', '$v(t)$'),loc=\"lower right\")"
   ]
  },
  {
   "cell_type": "markdown",
   "metadata": {},
   "source": [
    "### Aufgabe 3 - Fadenpendel"
   ]
  },
  {
   "cell_type": "markdown",
   "metadata": {},
   "source": [
    "In der Vorlesung wurde bereits das idealisierte Fadenpendel (auch mathematisches Pendel genannt) besprochen. Für kleine Auslenkungen wurde die **Kleinwinkelnäherung** verwendet, um es auf eine Differentialgleichung der selben Form des Federpendels zurückzuführen, welche per Hand lösbar ist.\n",
    "\n",
    "Diese Aufgabe beschäftigt sich nun damit wie das Fandenpendel auch **ohne** Kleinwinkelnäherung **numerisch** gelöst werden kann. Differentialgleichungen sind von großer Bedeutung in der Physik und werden im Verlauf Ihres weiteren Studiums häufig auftreten. Nicht immer ist eine exakte Lösung per Hand möglich, so zum Beispiel auch beim Fadenpendel. Deshalb sind die hier presentierten numerischen Methoden, oder ähnliche Methoden zumindest, von Nöten. Das numerische Lösen von Differentialgleichungen geht dabei über den Stoff des ersten Semesters hinaus, wird aber in höheren Semestern erneut besprochen.\n",
    "\n",
    "Für Interessierte bietet das Video [https://www.youtube.com/watch?v=p_di4Zn4wz4&vl=es-419](https://www.youtube.com/watch?v=p_di4Zn4wz4&vl=es-419) eine allgemeine kurze (30 minütige) Einführung in Differentialgleichungen und ihre Lösungen.\n",
    "\n",
    "Zunächst wird kurz wiederholt wie die Bewegungsgleichung eines Fadenpendels aussieht.\n",
    "\n",
    "<img src=\"static/wiki_Fadenpendel.png\" align=\"center\" width=\"256\" height=\"313\"/>\n",
    "\n",
    "Dem Winkel $\\varphi$ wirkt eine tangentiale Kraft $F_\\text{tan}$ entgegen. Trigonometrie liefert hierfür die Formel:\n",
    "$$ F_\\text{tan} = - F_\\text{G} \\cdot \\sin(\\varphi) = - m\\cdot g \\cdot \\sin(\\varphi) $$\n",
    "Entsprechend ist die tangentiale Beschleunigung:\n",
    "$$ a_\\text{tan} = - g \\cdot \\sin(\\varphi) $$\n",
    "\n",
    "Ausgedrückt als Winkelbeschleunigung mit $a_\\text{tan} = l \\cdot \\ddot{\\varphi}$ ergibt sich die Differentialgleichung:\n",
    "$$ \\ddot{\\varphi} = - \\frac{g}{l} \\sin(\\varphi) $$\n",
    "\n",
    "In der Vorlesung wurde die **Kleinwinkelnäherung** benutzt: $\\sin(\\varphi) \\approx \\varphi$ für kleine $\\varphi$.   \n",
    "Mit dieser ist die Differentialgleichung dann identisch zu der des Federpendels:\n",
    "$$ \\ddot{\\varphi} = - \\frac{g}{l} \\varphi $$\n",
    "\n",
    "Im folgenden soll die Differentialgleichung des Fadenpendels **ohne** Kleinwinkelnäherung numerisch gelöst werden.\n",
    "\n",
    "Die folgenden Parameter des Fadenpendels sind vorgegeben:\n",
    "- die Erdbeschleunigung ist $g=9,81~m/s^2$\n",
    "- die Länge des Pendels ist $l=1~m$\n",
    "\n",
    "Zur Startzeit $t=0$ wird das Pendel mit einer Auslenkung $\\varphi_0=45^\\circ$ losgelassen, hat also Winkelgeschwindigkeit $\\dot{\\varphi}(0)=0$. Das reibungslose Schwingen des Fadenpendels soll dann für das Interval bis $t_\\text{max}=10~s$ berechnet werden."
   ]
  },
  {
   "cell_type": "markdown",
   "metadata": {},
   "source": [
    "**a)** Programmieren Sie eine Funktion `phi_punktpunkt` welche den Winkel $\\varphi$ (`phi`) in Bogenmaß als Argument nimmt, und die Beschleunigung $\\ddot{\\varphi}$ (Bogenmaß pro $s^2$) zurückgibt."
   ]
  },
  {
   "cell_type": "code",
   "execution_count": 10,
   "metadata": {
    "exercise": "solution"
   },
   "outputs": [],
   "source": [
    "import numpy as np\n",
    "import matplotlib.pyplot as plt\n",
    "%matplotlib inline\n",
    "\n",
    "g = 9.81 # m/s^2\n",
    "l = 1.0  # m\n",
    "t_max = 10.0 # s\n",
    "phi_0 = np.pi / 4 # Bogenmaß\n",
    "\n",
    "# Funktion definieren\n",
    "def phi_punktpunkt(phi):\n",
    "    return -g/l * np.sin(phi)"
   ]
  },
  {
   "cell_type": "markdown",
   "metadata": {},
   "source": [
    "Um die Differentialgleichung\n",
    "$$ \\ddot{\\varphi} = - \\frac{g}{l} \\sin(\\varphi) $$\n",
    "zu lösen, wird das Zeitinterval $[0;t_{max}]$ in $N_I=10000$ gleichgroße Intervalle zerlegt. \n",
    "\n",
    "Dadurch entstehen diskrete Zeitpunkte $t_i$ mit $i=0, \\dots, N_I$ mit konstanten Abstand $\\Delta t = t_{max}/N_I$. Ziel ist dann ungefähre Werte der Auslenkung $\\varphi(t_i)$ und Winkelgeschwindigkeit $\\dot{\\varphi}(t_i)$ zu diesen Zeitpunkten zu berechnen.\n",
    "\n",
    "Dafür kann die Definition der Ableitung herangezogen werden:\n",
    "$$ \\dot{\\varphi}(t) = \\frac{\\text{d}}{\\text{d}t} \\varphi(t) = \\lim_{h \\to 0} \\frac{\\varphi(t+h)-\\varphi(t)}{h} $$\n",
    "Statt $h$ gegen $0$ gehen zu lassen setzen wir es auf einen kleinen Wert: $h=\\Delta t$.\n",
    "\n",
    "Entsprechend erhalten wir die Gleichung\n",
    "$$ \\dot{\\varphi}(t) \\approx \\frac{\\varphi(t+\\Delta t) - \\varphi(t)}{\\Delta t} $$\n",
    "\n",
    "Setzt man jetzt $t=t_i$ auf einen der diskreten Zeitpunkte, so ist $t_i + \\Delta t = t_{i+1}$ der nächste Zeitpunkt. Umstellen nach $\\varphi(t_{i+1})$ liefert:\n",
    "$$ \\dot{\\varphi}(t_i) \\approx \\frac{\\varphi(t_{i+1}) - \\varphi(t_i)}{\\Delta t} $$\n",
    "$$\\Rightarrow \\varphi(t_{i+1}) \\approx \\varphi(t_i)+ \\dot{\\varphi}(t_i) \\cdot \\Delta t$$\n",
    "\n",
    "Dies entspricht der Bewegung bei konstanter Geschwindigkeit über das Interval $[t_i;t_{i+1}]$ hinweg.\n",
    "\n",
    "Analog kann man die Definition der Ableitung auf $\\ddot{\\varphi}(t)$ anwenden:\n",
    "$$ \\ddot{\\varphi}(t_i) \\approx \\frac{\\dot{\\varphi}(t_i+\\Delta t) - \\dot{\\varphi}(t_i)}{\\Delta t} $$\n",
    "$$ \\Rightarrow \\dot{\\varphi}(t_{i+1}) = \\dot{\\varphi}(t_i) + \\ddot{\\varphi}(t_i) \\cdot \\Delta t $$\n",
    "\n",
    "Dies entspricht der Bewegung bei konstanter Beschleunigung über das Interval $[t_i;t_{i+1}]$ hinweg.\n",
    "\n",
    "Für den Ausdruck $\\ddot{\\varphi}(t_i)$ kann die soeben programmierte Funktion `phi_punktpunkt` verwendet werden, es wird dann nur die Auslenkung `phi=`$\\varphi(t_i)$ benötigt.\n",
    "\n",
    "Zusammengefasst lassen sich aus den Werten $\\varphi(t_i), \\dot{\\varphi}(t_i)$ somit die Werte zum nächsten Zeitpunkt $\\varphi(t_{i+1})$, $\\dot{\\varphi}(t_{i+1})$ berechnen:\n",
    "\n",
    "$$ \\ddot{\\varphi}(t_i) = -\\frac{g}{l} \\sin(\\varphi(t_i)) $$\n",
    "$$ \\dot{\\varphi}(t_{i+1}) = \\dot{\\varphi}(t_i) + \\ddot{\\varphi}(t_i) \\cdot \\Delta t $$\n",
    "$$ \\varphi(t_{i+1}) = \\varphi(t_i) + \\dot{\\varphi}(t_{i}) \\cdot \\Delta t $$\n",
    "\n",
    "\n",
    "**b**) Erstellen Sie eine Funktion `naechstes_phi` die aus den Werten $\\varphi(t_i)$ (`phi_i`) und $\\dot{\\varphi}(t_i)$ (`phi_dot_i`) den Wert $\\varphi(t_{i+1})$ berechnet. Eine ähnliche Funktion `naechstes_phi_punkt` die $\\dot{\\varphi}(t_{i+1})$ berechnet ist bereits vorgeben."
   ]
  },
  {
   "cell_type": "code",
   "execution_count": 11,
   "metadata": {
    "exercise": "solution"
   },
   "outputs": [],
   "source": [
    "N_I = 10000\n",
    "Dt = t_max / N_I # Δ𝑡 in s\n",
    "\n",
    "# vervollständigen Sie:\n",
    "def naechstes_phi(phi_i, phi_punkt_i):\n",
    "    return phi_i + phi_punkt_i * Dt\n",
    "\n",
    "# bereits vorgegeben:\n",
    "def naechstes_phi_punkt(phi_i, phi_punkt_i):\n",
    "    return phi_punkt_i + phi_punktpunkt(phi_i) * Dt"
   ]
  },
  {
   "cell_type": "markdown",
   "metadata": {},
   "source": [
    "**c)** Nun gilt es rekursiv die Werte zu allen Zeiten zu berechnen. Diese sollen als drei numpy arrays `t, phi, phi_punkt` gespeichert werden. Dabei sind die Elemente `t[i], phi[i], phi_punkt[i]` die Werte $t_i,\\, \\varphi(t_i), \\dot{\\varphi}(t_i)$ für $i=0,\\dots,N_I$.\n",
    "\n",
    "Erzeugen Sie drei leere numpy arrays (mit 0ern gefüllt) der richtigen Länge. Tipp: `np.zeros`, wie viele Werte für $i$ gibt es?"
   ]
  },
  {
   "cell_type": "markdown",
   "metadata": {},
   "source": [
    "<div class=\"alert alert-block alert-info\">\n",
    "<b>Code Tipps:</b> \n",
    "<ul>  \n",
    "<b>Erzeugen leerer numpy arrays</b>:\n",
    "    <p>Mit <code>array=np.zeros(laenge)</code> kann ein numpy array der Länge \"laenge\" erzeugt werden, welches nur Einträge mit dem Wert \"0.0\" hat.<p>\n",
    "    <p>Dies ist nützlich um anschließend einzelne Einträge zu ändern, z.B. <code>array[3]=5.0</code>, und so das array zu füllen.</p>\n",
    "    <p>Wie immer bei numpy arrays wird auf das erste Element <code>array[0]</code> mit index 0 zugegriffen, und auf das letzte Element mit index <code>array[laenge-1]</code></p>\n",
    "</div>"
   ]
  },
  {
   "cell_type": "code",
   "execution_count": 12,
   "metadata": {
    "exercise": "solution"
   },
   "outputs": [],
   "source": [
    "# Aufgabenteil c) : Erzeugen der Arrays\n",
    "t = np.zeros(N_I+1)\n",
    "phi = np.zeros(N_I+1)\n",
    "phi_punkt = np.zeros(N_I+1)"
   ]
  },
  {
   "cell_type": "markdown",
   "metadata": {},
   "source": [
    "**d)** Weisen Sie den ersten Einträgen der arrays die jeweiligen Startwerte zu. So ist unter anderem $t_0 = 0.0$, d.h. `t[0] = 0.0`."
   ]
  },
  {
   "cell_type": "code",
   "execution_count": 13,
   "metadata": {
    "exercise": "solution"
   },
   "outputs": [],
   "source": [
    "# Aufgabenteil d) : Startwerte\n",
    "t[0] = 0.0\n",
    "phi[0] = phi_0\n",
    "phi_punkt[0] = 0.0"
   ]
  },
  {
   "cell_type": "markdown",
   "metadata": {},
   "source": [
    "**e)** Da die Werte $\\varphi(t_0), \\dot{\\varphi}(t_0)$ bekannt sind, können nun die Werte zur Zeit $t_1$ berechnet werden. Danach kann man die Werte zur Zeit $t_2$ berechnen, dann zur Zeit $t_3$, und so weiter.\n",
    "\n",
    "Diese 10000 Schritte von Hand zu programmieren ist weder machbar noch lesbar, daher wird eine **for-Schleife** verwendet, um diesen iterativen Vorgang zu automatisieren.\n",
    "\n",
    "Innerhalb der For-Schleife zeigt gibt Variable `i` an von welchen Werten ausgehend weitergerechnet werden soll. Die For-Schleife muss entsprechend bei `i` gleich 0 anfangen, und rechtzeitig aufhören, da $t_{N_I}$ der größte definierte Zeitpunkt ist und keinen Nachfolger hat.\n",
    "\n",
    "Wann immer der Inhalt der For-Schleife abgearbeitet wurde, erhöht sich die Variable `i` um 1, und der Inhalt der For-Schleife wird erneut abgearbeitet. Da `i` erhöht worden ist, wird jetzt natürlich der nächste Zeitpunkt an Werten berechnet, und nicht der selbe wie zuvor. Wenn `i` die obere Schranke die in der ersten Zeile der For-Schleife gegeben ist erreicht, wird der Inhalt der Schleife nicht ausgeführt, die Schleife ist beendet.\n",
    "\n",
    "Was ist der kleinste Wert von $i$ wenn Rekursionen der Form $i \\mapsto i+1$ benötigt werden? Was ist der größte Wert? Vervollständigen Sie entsprechend den Code."
   ]
  },
  {
   "cell_type": "markdown",
   "metadata": {},
   "source": [
    "<div class=\"alert alert-block alert-info\">\n",
    "<b>Code Tipps:</b> \n",
    "<ul>  \n",
    "<b>for-Schleifen</b>:\n",
    "    <p>Muss die gleiche Berechnung mehrfach hintereinander ausgeführt werden, lohnt es sich eine for-Schleife zu programmieren.</p>\n",
    "    <p>Ähnlich wie eine if-Abfrage besteht die for-Schleife aus einem einzeiligen Kopf, und einem eingerückten inneren Code-Block.</p>\n",
    "    <p>Beispiel:</p>\n",
    "    <p><code>for i in range(1,10):<br>&nbsp print(i)</code></p>\n",
    "    <p>Das Beispiel kann gelesen werden als: \"Für jeden Wert i von 1 bis exklusive 10 tue folgendes: gebe an den Nutzer die Zahl i aus.\"</p>\n",
    "    <p>In obrigen Beispiel wird im Kopf eine Variable \"i\" (die Laufvariable) eingeführt, die Werte von 1 bis exklusive 10 annehmen soll.</p>\n",
    "    <p>Die for-Schleife führt nun den inneren Code-Block für jeden Wert den i haben kann einmal aus, in aufsteigender Reihenfolge.</p>\n",
    "    <p>Beim ersten Durchlauf des Code-Blocks hat \"i\" den Wert 1, entsprechend wird durch die Anweisung <code>print(i)</code> die Zeichenkette \"1\" ausgegeben.</p>\n",
    "    <p>Im zweiten Durchlauf hat \"i\" den Wert 2, also wird \"2\" ausgegeben, und so weiter.</p>\n",
    "    <p>Zu beachten ist dass der Ausdruck <code>range(start,ende)</code> immer inklusive des Starts, aber exklusive des Endes ist. Also ist <code>start</code> der kleinste Wert von \"i\", <code>ende-1</code> der größte.</p>\n",
    "    <p>Daher ist der letzte ausgegebene Zeichenkette \"9\" und nicht \"10\".</p>\n",
    "    <p>Um den Bereich an Werten für \"i\" korrekt einzuschränken, lohnt es sich zu überlegen für welches \"i\" der innere Code-Block nicht mehr korrekt ausgeführt werden kann, zum Beispiel weil auf einen nicht existenten Eintrag eines numpy arrays zugegriffen wird.</p>\n",
    "    <p>Das folgende Beispiel ist kein funktionierendes Programm, da im letzten Durchlauf \"i+1=4\" ist, aber das array \"primes\" nur vier Einträge hat. Richtig wäre es gewesen <code>range(0,3)</code> zu schreiben, die for-Schleife also nur 3 mal ausführen zu lassen.</p>\n",
    "    <p><code>primes=np.array([2,3,5,7])<br>for i in range(0,4):<br>&nbsp print(\"Abstand der Primzahlen:\", primes[i+1]-primes[i]) # wirft Fehler für i=3 </code></p>\n",
    "</div>"
   ]
  },
  {
   "cell_type": "code",
   "execution_count": 14,
   "metadata": {
    "exercise": "solution"
   },
   "outputs": [],
   "source": [
    "# Aufgabenteil e) : Vervollständigen Sie die folgende Zeile\n",
    "for i in range(0, N_I):\n",
    "    \n",
    "    # Aufgabenteil f) : Rekursionsformeln für t, phi, phi_dot\n",
    "    t[i+1] = t[i] + Dt\n",
    "    phi[i+1] = naechstes_phi(phi[i], phi_punkt[i])\n",
    "    phi_punkt[i+1] = naechstes_phi_punkt(phi[i], phi_punkt[i])"
   ]
  },
  {
   "cell_type": "markdown",
   "metadata": {},
   "source": [
    "**f)** Nun muss der eigentliche Rekursionsschritt programmiert werden. Dafür stehen bereits die Funktionen `next_phi` und `next_phi_dot` zur Verfügung.\n",
    "\n",
    "Berechnen und weisen Sie die Werte für `t[i+1]` ($=t_{i+1}$), `phi[i+1]` ($=\\varphi(t_{i+1})$) und `phi_dot[i+1]` ($=\\dot{\\varphi}(t_{i+1})$) zu. Dies muss in der For-Schleife passieren, da nur so der Code mehrfach ausgeführt wird."
   ]
  },
  {
   "cell_type": "markdown",
   "metadata": {},
   "source": [
    "**g)** Plotten Sie die Zeit $t$ gegen die Auslenkung $\\varphi(t)$. Sie können dafür die soeben mit Werten gefüllten arrays `t, phi` verwenden."
   ]
  },
  {
   "cell_type": "code",
   "execution_count": 15,
   "metadata": {
    "exercise": "solution"
   },
   "outputs": [
    {
     "data": {
      "image/png": "[encoded data removed]",
      "text/plain": [
       "<Figure size 432x288 with 1 Axes>"
      ]
     },
     "metadata": {
      "needs_background": "light"
     },
     "output_type": "display_data"
    }
   ],
   "source": [
    "# Test des bisherigen Programms\n",
    "\n",
    "plt.plot(t, phi)\n",
    "plt.xlabel(\"t [s]\")\n",
    "plt.ylabel(\"phi [radians]\")\n",
    "plt.show()"
   ]
  },
  {
   "cell_type": "markdown",
   "metadata": {},
   "source": [
    "Die nachfolgenden Teilaufgaben sind **Bonus**, mit dem Ziel die numerische Lösung mit der bekannten Kleinwinkelnäherung zu vergleichen. Anschließend wird die Periodendauer numerisch für verschiedene Auslenkungen $\\varphi_0$ bestimmt.\n",
    "\n",
    "Der präsentierte physikalische Sachverhalt, und die numerischen Methoden, tauchen im weiteren Studium wieder auf, und werden dann ausführlicher besprochen. Sie sind aber in dieser Vorlesung natürlich nicht klausurrelevant."
   ]
  },
  {
   "cell_type": "markdown",
   "metadata": {},
   "source": [
    "**h\\*)** Mit Jupyter Notebooks kann der Startwinkel $\\varphi_0$ auch visuell verändert werden. Dafür muss der bisherige Code in eine Funktion ausgelagert werden, wie in nachfolgenden Codezelle zu sehen. Die Funktion gibt die drei numpy arrays zurück, statt sie als Variablen außerhalb der Funktion zu definieren."
   ]
  },
  {
   "cell_type": "markdown",
   "metadata": {},
   "source": [
    "<div class=\"alert alert-block alert-info\">\n",
    "<b>Code Tipps:</b> \n",
    "<ul>  \n",
    "<b>Mehrfachzuweisung</b>:\n",
    "    <p>In Python können mehrere Variablen auf einmal einen Wert zugewiesen bekommen:</p>\n",
    "    <p><code>a, b, c = 1, 2, 3</code></p>\n",
    "    <p>Analog können in einer Funktion auch mehrere Werte auf einmal zurückgegeben werden:</p>\n",
    "    <p><code>def demo():<br>&nbsp return 4, 5, 6</code></p>\n",
    "    <p>Um die Rückgabewerte einer solchen Funktion zu verwenden, muss die gleiche Anzahl Variablen verwendet werden.</p>\n",
    "    <p><code>x, y, z = demo()<br># x, y, bzw. z haben jetzt den Wert 4, 5, bzw. 6. </code></p>\n",
    "</div>"
   ]
  },
  {
   "cell_type": "code",
   "execution_count": 16,
   "metadata": {},
   "outputs": [],
   "source": [
    "def diffgleichung_loesen(phi_0):\n",
    "    N_I = 10000\n",
    "    Dt = t_max / N_I # Δ𝑡 in s\n",
    "\n",
    "    t = np.zeros(N_I+1)\n",
    "    phi = np.zeros(N_I+1)\n",
    "    phi_punkt = np.zeros(N_I+1)\n",
    "    \n",
    "    t[0] = 0.0\n",
    "    phi[0] = phi_0\n",
    "    phi_punkt[0] = 0.0\n",
    "    \n",
    "    for i in range(0, N_I):\n",
    "        t[i+1] = t[i]+Dt\n",
    "        phi[i+1]=phi[i]+Dt*phi_punkt[i]\n",
    "        phi_punkt[i+1]=phi_punkt[i]+Dt*phi_punktpunkt(phi[i])\n",
    "    \n",
    "    return t, phi, phi_punkt"
   ]
  },
  {
   "cell_type": "markdown",
   "metadata": {},
   "source": [
    "**i\\*)** Vervollständigen Sie den folgenden Code um die Funktion `kleinwinkelnaeherung(phi_0, t)` welche die Lösung der Kleinwinkelnäherung mit maximaler Auslenkung $\\varphi_0$ zum Zeitpunkt $t$ berechnet. Tipp: Verwenden Sie `np.cos(x)` für die Schwingung, da die Winkelgeschwindigkeit zu Beginn  $0$ ist.\n",
    "\n",
    "In der Funktion `plot_loesung` wird dann die kleinwinkelnaeherung zusammen mit der numerischen Lösung geplottet. \n",
    "\n",
    "Die letzte Zeile sorgt dafür dass ein Schieberegler angezeigt wird, der nach jeder Änderung erneut die Funktion `plot_loesung` ausführt, mit jeweils anderen Werten für `phi_0`.\n",
    "\n",
    "Führen Sie den fertigen Code aus. Für welche Werte von $\\varphi_0$ ist die Kleinwinkelnäherung gut, für welche schlecht?"
   ]
  },
  {
   "cell_type": "code",
   "execution_count": 17,
   "metadata": {
    "exercise": "solution"
   },
   "outputs": [
    {
     "data": {
      "application/vnd.jupyter.widget-view+json": {
       "model_id": "076f005732554225864b91fd3f19feb6",
       "version_major": 2,
       "version_minor": 0
      },
      "text/plain": [
       "interactive(children=(FloatSlider(value=0.7853981633974483, description='$\\\\varphi_0$', max=1.5707963267948966…"
      ]
     },
     "metadata": {},
     "output_type": "display_data"
    }
   ],
   "source": [
    "from ipywidgets import interact, FloatSlider\n",
    "\n",
    "slider2 = FloatSlider(description=r\"$\\varphi_0$\", value=np.pi/4, min=-np.pi/2, max=np.pi/2)\n",
    "\n",
    "def kleinwinkelnaeherung(phi_0, t):\n",
    "    return np.cos((g/l)**0.5 * t) * phi_0\n",
    "\n",
    "def plot_loesung(phi_0):\n",
    "    test_t, test_phi, test_phi_dot = diffgleichung_loesen(phi_0)\n",
    "    \n",
    "    plt.plot(test_t, test_phi)\n",
    "    plt.plot(test_t, kleinwinkelnaeherung(phi_0, test_t))\n",
    "    plt.xlabel(\"t [s]\")\n",
    "    plt.ylabel(\"phi [radians]\")\n",
    "    plt.ylim([-2,+2])\n",
    "    plt.show()\n",
    "\n",
    "interact(plot_loesung, phi_0=slider2);"
   ]
  },
  {
   "cell_type": "markdown",
   "metadata": {},
   "source": [
    "**j\\*)** Es ist zu beobachten dass die Anzahl an Schwingungen, und somit auch die Periodendauer $T$ von der Startauslenkung abhängt. Dies ist bereits der erste Unterschied zum Federpendel, welches die gleiche Frequenz hat unabhängig von der Startauslenkung.\n",
    "\n",
    "Die Periodendauer lässt aus dem zeitlichen Abstand der Nullstellen von $\\varphi(t)$ bestimmen. Um letztere zu ermitteln wird eine for-Schleife genutzt, die einen Wechsel des Vorzeichens von `phi[i]` zu `phi[i+1]` sucht. Die Nullstelle liegt dann ungefähr bei `t[i]`. \n",
    "\n",
    "Alle so gefundenen Nullstellen werden als Liste gesammelt.\n",
    "\n",
    "In Python können Listen mit `liste.append(element)` erweitert werden, das neue Element wird dann hinten (rechts) angefügt. \n",
    "\n",
    "Das Vorzeichen einer Zahl kann mit `np.sign(x)` bestimmt werden, die Funktion gibt $+1$ für positive und $-1$ für negative Zahlen zurück. Zwei solche Zahlen werden mit `!=` auf Ungleichheit geprüft.\n",
    "\n",
    "Vervollständigen Sie den Code an den drei markierten Stellen."
   ]
  },
  {
   "cell_type": "code",
   "execution_count": 18,
   "metadata": {
    "exercise": "solution"
   },
   "outputs": [],
   "source": [
    "@np.vectorize\n",
    "def periodendauer(phi_0):\n",
    "    nullstellen = [] # Zu Beginn der Suche: keine Nullstellen gefunden\n",
    "    \n",
    "    t, phi, phi_dot = diffgleichung_loesen(phi_0)\n",
    "    \n",
    "    # Aufgabenteil j) vervollständigen Sie den Code\n",
    "    for i in range(0, N_I): # hier\n",
    "        if np.sign(phi[i]) != np.sign(phi[i+1]): # hier: Abprüfen ob die Vorzeichen von phi[i] und phi[i+1] verschieden sind\n",
    "            nullstellen.append(t[i]) # hier: Nullstelle hinzufügen zur Liste\n",
    "\n",
    "    # Aufgabenteil k) Berechnen Sie T\n",
    "    T = 2*(nullstellen[-1] - nullstellen[0])/(len(nullstellen)-1)\n",
    "\n",
    "    return T"
   ]
  },
  {
   "cell_type": "markdown",
   "metadata": {},
   "source": [
    "**k\\*)** Bestimmen Sie im obrigen Code aus den Nullstellen die Periodendauer `T`. \n",
    "\n",
    "Tipp: Differenz aus erster und letzter Nullstelle anschauen.\n",
    "\n",
    "Tipp: Die Anzahl an Nullstellen ist `len(nullstellen)`, die letzte Nullstelle kann auch mit `nullstellen[-1]` genutzt werden. Die `-1` bedeutet bei Listen die \"erste Stelle von rechts.\""
   ]
  },
  {
   "cell_type": "markdown",
   "metadata": {},
   "source": [
    "**l\\*)** Vervollständigen Sie im folgenden Code die Periodendauer `T_Kleinwinkel` des Systems in der Kleinwinkelnäherung. Es wird dann in Abhängigkeit der Start-Auslenkung $\\varphi_0$ die Periodendauer $T$ des Fadenpendels geplottet."
   ]
  },
  {
   "cell_type": "code",
   "execution_count": 19,
   "metadata": {
    "exercise": "solution"
   },
   "outputs": [
    {
     "data": {
      "image/png": "[encoded data removed]",
      "text/plain": [
       "<Figure size 432x288 with 1 Axes>"
      ]
     },
     "metadata": {
      "needs_background": "light"
     },
     "output_type": "display_data"
    }
   ],
   "source": [
    "# Vervollständigen Sie:\n",
    "T_kleinwinkel = 2*np.pi / (g/l)**0.5\n",
    "\n",
    "array_phi_0 = np.linspace(0.001, np.pi/2, 30)\n",
    "array_T = periodendauer(array_phi_0)\n",
    "\n",
    "plt.hlines(y=T_kleinwinkel, xmin=0.0, xmax=np.pi/2, color=\"r\")\n",
    "plt.plot(array_phi_0, array_T)\n",
    "plt.xlabel(r\"$\\varphi_0 [radians]$\")\n",
    "plt.ylabel(r\"$T [s]$\")\n",
    "plt.show()"
   ]
  }
 ],
 "metadata": {
  "kernelspec": {
   "display_name": "Python 3",
   "language": "python",
   "name": "python3"
  },
  "language_info": {
   "codemirror_mode": {
    "name": "ipython",
    "version": 3
   },
   "file_extension": ".py",
   "mimetype": "text/x-python",
   "name": "python",
   "nbconvert_exporter": "python",
   "pygments_lexer": "ipython3",
   "version": "3.7.6"
  }
 },
 "nbformat": 4,
 "nbformat_minor": 4
}
