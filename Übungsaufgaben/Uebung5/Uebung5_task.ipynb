{
 "cells": [
  {
   "cell_type": "markdown",
   "metadata": {
    "collapsed": false
   },
   "source": [
    "<div>\n",
    "    <img src=\"static/FHAachen-logo2.svg\" style=\"float: right;height: 15em;\">\n",
    "</div>\n",
    "\n",
    "<div>\n",
    "    <img src=\"static/IIIPIB_RWTH.png\" style=\"float: right;height: 6.5em;\">\n",
    "</div>\n",
    "\n",
    "<p style=\"font-size:12pt\";> <b> Einführung in die Physik -  Sommersemester 2021</b> <br>\n",
    "<b> Prof. Dr. Mottaghy, Prof. Dr.  Roth </b><br>\n",
    "<b> Fachbereich Energietechnik/  Lehrstuhl für Experimentalphysik III B  </b>\n",
    "</p>\n",
    "    \n",
    "## Übung 5: Periodische Bewegung\n",
    "\n",
    "----\n",
    "1. [Looping](#1)\n",
    "2. [Harmonische Schwingung](#2)\n",
    "3. [Fadenpendel](#3)\n",
    "---"
   ]
  },
  {
   "cell_type": "markdown",
   "metadata": {
    "collapsed": false
   },
   "source": [
    "<div style=\" border: 2px solid black;margin: 10px auto; padding: 10px; border-radius: 10px;\">\n",
    "  \n",
    "\n",
    "##### Die gleichförmige Kreisbewegung: \n",
    "\n",
    "Die **Bahngeschwindigkeit** ist die zeitliche Änderung des Ortes auf dem Kreis (mit $s$: Kreisbogen):\n",
    "$$v = \\dot{s}$$\n",
    "\n",
    "Es ändert sich aber nur $\\varphi$, so dass man schreiben kann\n",
    "\n",
    "$$v = \\dot{s} = r \\dot{\\varphi} = r \\omega$$\n",
    "\n",
    "Mit der neuen Größe Winkelgeschwindigkeit, welche bei der gleichförmigen Kreisbewegung konstant ist:\n",
    "\n",
    "$$\\omega = \\frac{2 \\pi}{T} = 2 \\pi f$$\n",
    "    \n",
    "<table cellpadding=\"0\"><tbody><tr>\n",
    "<td>\n",
    "<p style=\"text-align:center;font-size:small;\">\n",
    "<img img src=\"static/dia4.svg\" alt=\"\" role=\"presentation\" class=\"img-responsive atto_image_button_middle\" style=\"height: 20em;\">\n",
    "<br>\n",
    "<b>Abbildung</b>: Kreisbewegung\n",
    "</p>\n",
    "</td>\n",
    "<td width=\"20\"></td>\n",
    "<tr>\n",
    "</tr>\n",
    "</tbody></table> \n",
    "\n",
    "\n",
    "Da ein Massenpunkt auch bei **gleichförmiger Kreisbewegung** ständig die Richtung ändert, ändert sich die Geschwindigkeit und er wird beschleunigt. Dazu betrachten wir einen Punkt auf dem Kreis zu zwei verschiedenen Zeitpunkten. Weil $\\vec{v}$ immer senkrecht auf $\\vec{r}$ steht, gilt für die Beträge:\n",
    "\n",
    "$$\\frac{\\Delta v}{\\Delta t} = \\frac{v}{r}\\frac{\\Delta s}{\\Delta t} $$\n",
    "\n",
    "Der Grenzübergang zur Momentanbeschleunigung und -geschwindigkeit ergibt die Zentripetalbeschleunigung:\n",
    "\n",
    "$$a = \\frac{\\text{d}v}{\\text{d}t} =  \\frac{v}{r}v$$\n",
    "\n",
    "$$a_{_{ZP}} = \\frac{v^2}{r} = \\omega^2r.$$\n",
    "\n",
    "##### Zentripetalkraft: \n",
    "\n",
    "Die Zentripetalkraft (auch Radialkraft) ist die Komponente der äußeren Kraft zum Mittelpunkt des Krümmungskreises, die auf einen Körper wirken muss, damit sich dieser im Inertialsystem auf einer gekrümmten Bahn bewegt\n",
    "\n",
    "Mit der Radialbeschleunigung ergibt sich nach dem 2. Axiom:\n",
    " \n",
    "$$F_{_{ZP}} = m \\frac{v^2}{r}$$\n",
    "    \n",
    "    \n",
    "</div>"
   ]
  },
  {
   "cell_type": "markdown",
   "metadata": {
    "collapsed": false
   },
   "source": [
    "\n",
    "<div style= \"color: black;background-color: rgba(0,177,172, 0.1) ;margin: 10 px auto; padding: 10px; border-radius: 10px\">\n",
    "<p style=\"font-size:12pt; text-align:center; color:   black;background-color: rgba(0,177,172, 0.1) ;margin: 10 px auto; padding: 10px; border-radius: 10px\" id=\"1\"><b>  Aufgabe 1 </b>  </p> \n",
    "    \n",
    "Der *Blue Fire* Megacoaster im Europa-Park ist eine Stahlachterbahn vom Modell Launched Coaster. Das Fahrzeug gelangt nach einer kurzen Durchfahrt eines aus Kunstfelsen angelegten Tunnels in einen 32 Meter hohen Looping. Mit Hilfe des unteren Videos können Sie die Zeit $t$, $x$- und $y$-Koordinate und den Winkel $\\varphi$ des Zuges **am höchsten Punkt des Loopings** speichern, Sie brauchen für diese Aufgabe nur 2 Werte (vor und nach dem höchsten Punkt). Wenn das Video zu schnell läuft, können Sie die Schaltflächen Pause und Neustart verwenden.\n",
    "    \n",
    "<table cellpadding=\"0\"><tbody><tr>\n",
    "<td>\n",
    "<p style=\"text-align:center;font-size:small;\">\n",
    "<img img src=\"static/dia5.svg\" alt=\"\" role=\"presentation\" class=\"img-responsive atto_image_button_middle\" style=\"height: 22em;\">\n",
    "<br>\n",
    "<b>Abbildung</b>: Blue Fire Megacoaster\n",
    "</p>\n",
    "</td>\n",
    "<td width=\"20\"></td>\n",
    "<tr>\n",
    "</tr>\n",
    "</tbody></table> \n",
    "\n",
    "</div>    "
   ]
  },
  {
   "cell_type": "markdown",
   "metadata": {
    "collapsed": false
   },
   "source": [
    "**Vorgehensweise**\n",
    "\n",
    "**a)** Führen Sie den folgenden Code aus, um die Animation zu starten. Sie können die $t, x, y$ und $\\varphi$-Daten speichern, wenn Sie auf die Animation klicken. ."
   ]
  },
  {
   "cell_type": "code",
   "execution_count": 0,
   "metadata": {
    "collapsed": false,
    "jupyter": {
     "outputs_hidden": false
    }
   },
   "outputs": [
   ],
   "source": [
    "%matplotlib widget\n",
    "%run achterbahn"
   ]
  },
  {
   "cell_type": "markdown",
   "metadata": {
    "collapsed": false
   },
   "source": [
    "**b)** Führen Sie den folgenden Code aus, um die gespeicherten Werte von $t, x, y$ und $\\varphi$ zu laden."
   ]
  },
  {
   "cell_type": "code",
   "execution_count": 0,
   "metadata": {
    "collapsed": false,
    "jupyter": {
     "outputs_hidden": false
    }
   },
   "outputs": [
   ],
   "source": [
    "import numpy as np\n",
    "\n",
    "x = np.array(x)\n",
    "y = np.array(y)\n",
    "t = np.array(t)\n",
    "phi = np.array(phi)"
   ]
  },
  {
   "cell_type": "markdown",
   "metadata": {
    "collapsed": false
   },
   "source": [
    "**c)** Berechnen Sie den Radius des Halbkreises, gegeben sei $x_m = 34 \\text{ m}$ und $y_m = 19,46 \\text{ m}$\n",
    "$$r^2 = (x-x_m)^2 + (y - y_m)^2$$"
   ]
  },
  {
   "cell_type": "code",
   "execution_count": 0,
   "metadata": {
    "collapsed": false,
    "jupyter": {
     "outputs_hidden": false
    }
   },
   "outputs": [
   ],
   "source": [
    "r = \n",
    "print('Der Radius beträgt %.2f m' %r)"
   ]
  },
  {
   "cell_type": "markdown",
   "metadata": {
    "collapsed": false
   },
   "source": [
    "**d)** Mit welcher Geschwindigkeit (Betrag) bewegt sich der Zug am höchsten Punkt des Looping?"
   ]
  },
  {
   "cell_type": "code",
   "execution_count": 0,
   "metadata": {
    "collapsed": false,
    "jupyter": {
     "outputs_hidden": false
    }
   },
   "outputs": [
   ],
   "source": [
    "v = \n",
    "print('Die Geschwindigkeit beträgt %.2f m/s' %v)"
   ]
  },
  {
   "cell_type": "markdown",
   "metadata": {
    "collapsed": false
   },
   "source": [
    "**e)** Was ist die Beschleunigung des Zuges am höchsten Punkt des Loopings?"
   ]
  },
  {
   "cell_type": "code",
   "execution_count": 0,
   "metadata": {
    "collapsed": false,
    "jupyter": {
     "outputs_hidden": false
    }
   },
   "outputs": [
   ],
   "source": [
    "a_zp = \n",
    "print('Die Beschleunigung beträgt %.2f m/s²' %a_zp)"
   ]
  },
  {
   "cell_type": "markdown",
   "metadata": {
    "collapsed": false
   },
   "source": [
    "**f)** Die Masse des Zuges beträgt 10 t (voll besetzt), berechnen Sie die Zentripetalkraft"
   ]
  },
  {
   "cell_type": "code",
   "execution_count": 0,
   "metadata": {
    "collapsed": false,
    "jupyter": {
     "outputs_hidden": false
    }
   },
   "outputs": [
   ],
   "source": [
    "\n",
    "m = \n",
    "\n",
    "F_zp =\n",
    "\n",
    "print('Die Zentripetalkraft beträgt %.2f kN' %(F_zp/1000))"
   ]
  },
  {
   "cell_type": "markdown",
   "metadata": {
    "collapsed": false
   },
   "source": [
    "___"
   ]
  },
  {
   "cell_type": "markdown",
   "metadata": {
    "collapsed": false
   },
   "source": [
    "<div style=\" border: 2px solid black;margin: 10px auto; padding: 10px; border-radius: 10px;\">\n",
    "\n",
    "\n",
    "####  Schwingungen\n",
    "\n",
    "Eine Schwingung ist eine sich wiederholender Vorgang. Damit eine Schwingung entsteht, müssen zwei Bedingungen erfüllt\n",
    "sein:\n",
    "-  es muss eine **rücktreibende Kraft** (zur Ruhelage hin) wirken, und (beim Federpendel die Federkraft)\n",
    "-  eine **Trägheit** muss vorhanden sein (beim Federpendel die Masse). \n",
    "\n",
    "\n",
    "<table cellpadding=\"0\"><tbody><tr>\n",
    "<td>\n",
    "<p style=\"text-align:center;font-size:small;\">\n",
    "<img img src=\"static/sch3.png\" alt=\"\" role=\"presentation\" class=\"img-responsive atto_image_button_middle\" style=\"height: 34em;\">\n",
    "<br>\n",
    "<b>Abbildung</b>: Harmonische Schwingung\n",
    "</p>\n",
    "</td>\n",
    "<td width=\"20\"></td>\n",
    "<tr>\n",
    "<td colspan=\"3\">\n",
    "<p style=\"text-align:center;font-size:smaller;color:gray;\">\n",
    "Quelle: phys.libretext.org\n",
    "</p>\n",
    "</td>\n",
    "</tr>\n",
    "</tbody></table>    \n",
    "\n",
    "\n",
    "Als **harmonisch** wird eine Schwingung bezeichnet, deren Verlauf\n",
    "durch eine **Sinusfunktion** beschrieben werden kann.\n",
    "\n",
    "Die grundlegenden Eigenschaften von **harmonischen Schwingungen**\n",
    "sind:\n",
    "- Die Periode $T$, Einheit $[T]$ = s\n",
    "- Die Frequenz $f$, Einheit $[f]$ = s⁻¹ = Hz\n",
    "- Die Kreisfrequenz $\\omega$, Einheit $[\\omega]$ = rad s⁻¹\n",
    "- Die Amplidute $A$, Einheit $[a]$ = m.\n",
    "\n",
    "Wenn wir das 2. Newtonsche Axiom auf das Federpendel anwenden, erhalten wir die Differenzialgleichung der harmonische\n",
    "Schwingung:\n",
    "\n",
    "$$m\\ddot{x}+ Dx=0$$\n",
    "\n",
    "Die Lösung der DGL ist die Schwingungsfunktion:\n",
    "\n",
    "$$x(t)= A \\cdot \\sin(\\omega t + \\varphi_0)$$\n",
    "\n",
    "Die Kreisfrequenz, oder auch **Eigenkreisfrequenz** - beim Federpendel\n",
    "wird damit\n",
    "\n",
    "$$\\omega = \\sqrt{\\frac{D}{m}}.$$\n",
    "    \n",
    "    \n",
    "    \n",
    "</div>"
   ]
  },
  {
   "cell_type": "markdown",
   "metadata": {
    "collapsed": false
   },
   "source": [
    "\n",
    "<div style= \"color: black;background-color: rgba(0,177,172, 0.1) ;margin: 10 px auto; padding: 10px; border-radius: 10px\">\n",
    "<p style=\"font-size:12pt; text-align:center; color:   black;background-color: rgba(0,177,172, 0.1) ;margin: 10 px auto; padding: 10px; border-radius: 10px\" id=\"2\"><b>  Aufgabe 2 </b>  </p> \n",
    "\n",
    "\n",
    "Eine Feder hängt senkrecht, wenn ein Objekt mit einer Masse von $M = 1 \\text{ kg}$ daran aufgehängt ist, nimmt seine Länge um $8 \\text{ cm}$ zu. Die Feder wird dann horizontal montiert und mit einem Massenblock $m = 2 \\text{ kg}$ versehen.  Der Block kann ohne Reibung horizontal gleiten.\n",
    "\n",
    "Der Block wird durch eine äußere Kraft in der positiven $x$-Richtung aus der Ruhelage verschoben. Bei $t = 0$, wenn die Blockverschiebung $x(0) = 0,05 \\text{ m}$ beträgt und ihre Geschwindigkeit $v(0) = 0,7 \\frac{\\text{m}}{\\text{s}}$ ist, wird die äußere Kraft entfernt und der Block beginnt zu schwingen.\n",
    "    \n",
    "    \n",
    "</div>"
   ]
  },
  {
   "cell_type": "markdown",
   "metadata": {
    "collapsed": false
   },
   "source": [
    "**a)** Mit welcher Frequenz wird er schwingen?"
   ]
  },
  {
   "cell_type": "code",
   "execution_count": 0,
   "metadata": {
    "collapsed": false,
    "jupyter": {
     "outputs_hidden": false
    }
   },
   "outputs": [
   ],
   "source": [
    "\n",
    "import numpy as np\n",
    "M = \n",
    "m = \n",
    "y = \n",
    "D =\n",
    "omega = \n",
    "f = 1/(np.pi)*omega\n",
    "\n",
    "print('Die Frequenz beträgt %.2f Hz' %f)"
   ]
  },
  {
   "cell_type": "markdown",
   "metadata": {
    "collapsed": false
   },
   "source": [
    "**b)** Bestimmen sie $x(t)$ mit Hilfe des Ansatzes $x(t)= A \\cdot \\sin(\\omega t) + B \\cdot \\cos(\\omega t) $ und den Anfangsbedingungen aus der Aufgabenstellung, bestimmen Sie weiter auch $v(t)$"
   ]
  },
  {
   "cell_type": "code",
   "execution_count": 0,
   "metadata": {
    "collapsed": false,
    "jupyter": {
     "outputs_hidden": false
    }
   },
   "outputs": [
   ],
   "source": [
    "\n",
    "x_0 = \n",
    "v_0 = \n",
    "\n",
    "A = \n",
    "B =\n",
    "\n",
    "def x(t):\n",
    "    return\n",
    "\n",
    "def v(t):\n",
    "    return \n"
   ]
  },
  {
   "cell_type": "markdown",
   "metadata": {
    "collapsed": false
   },
   "source": [
    "**c)** Generieren Sie Diagramme der beiden Funktionen $x(t)$ und $v(t)$ für zwei Perioden."
   ]
  },
  {
   "cell_type": "code",
   "execution_count": 0,
   "metadata": {
    "collapsed": false,
    "jupyter": {
     "outputs_hidden": false
    }
   },
   "outputs": [
   ],
   "source": [
    "\n",
    "import matplotlib.pyplot as plt\n",
    "\n",
    "\n",
    "T= 1/f\n",
    "t= np.linspace(0,2*T)\n",
    "\n",
    "#x(t)\n",
    "\n",
    "#y(t)\n",
    "\n",
    "#Formatierung\n",
    "\n"
   ]
  },
  {
   "cell_type": "markdown",
   "metadata": {
    "collapsed": false
   },
   "source": [
    "<div style= \"color: black;background-color: rgba(0,177,172, 0.1) ;margin: 10 px auto; padding: 10px; border-radius: 10px\">\n",
    "<p style=\"font-size:12pt; text-align:center; color:   black;background-color: rgba(0,177,172, 0.1) ;margin: 10 px auto; padding: 10px; border-radius: 10px\" id=\"2\"><b>  Aufgabe 3 </b>  </p> \n",
    "    \n",
    "    \n",
    "</div> "
   ]
  },
  {
   "cell_type": "markdown",
   "metadata": {
    "collapsed": false
   },
   "source": [
    "In der Vorlesung wurde bereits das idealisierte Fadenpendel (auch mathematisches Pendel genannt) besprochen. Für kleine Auslenkungen wurde die **Kleinwinkelnäherung** verwendet, um es auf eine Differentialgleichung der selben Form des Federpendels zurückzuführen, welche per Hand lösbar ist.\n",
    "\n",
    "Diese Aufgabe beschäftigt sich nun damit wie das Fandenpendel auch **ohne** Kleinwinkelnäherung **numerisch** gelöst werden kann. Differentialgleichungen sind von großer Bedeutung in der Physik und werden im Verlauf Ihres weiteren Studiums häufig auftreten. Nicht immer ist eine exakte Lösung per Hand möglich, so zum Beispiel auch beim Fadenpendel. Deshalb sind die hier presentierten numerischen Methoden, oder ähnliche Methoden zumindest, von Nöten. Das numerische Lösen von Differentialgleichungen geht dabei über den Stoff des ersten Semesters hinaus, wird aber in höheren Semestern erneut besprochen.\n",
    "\n",
    "Für Interessierte bietet das Video [https://www.youtube.com/watch?v=p_di4Zn4wz4&vl=es-419](https://www.youtube.com/watch?v=p_di4Zn4wz4&vl=es-419) eine allgemeine kurze (30 minütige) Einführung in Differentialgleichungen und ihre Lösungen.\n",
    "\n",
    "Zunächst wird kurz wiederholt wie die Bewegungsgleichung eines Fadenpendels aussieht.\n",
    "\n",
    "<img src=\"static/wiki_Fadenpendel.png\" align=\"center\" width=\"256\" height=\"313\"/>\n",
    "\n",
    "Dem Winkel $\\varphi$ wirkt eine tangentiale Kraft $F_\\text{tan}$ entgegen. Trigonometrie liefert hierfür die Formel:\n",
    "$$ F_\\text{tan} = - F_\\text{G} \\cdot \\sin(\\varphi) = - m\\cdot g \\cdot \\sin(\\varphi) $$\n",
    "Entsprechend ist die tangentiale Beschleunigung:\n",
    "$$ a_\\text{tan} = - g \\cdot \\sin(\\varphi) $$\n",
    "\n",
    "Ausgedrückt als Winkelbeschleunigung mit $a_\\text{tan} = l \\cdot \\ddot{\\varphi}$ ergibt sich die Differentialgleichung:\n",
    "$$ \\ddot{\\varphi} = - \\frac{g}{l} \\sin(\\varphi) $$\n",
    "\n",
    "In der Vorlesung wurde die **Kleinwinkelnäherung** benutzt: $\\sin(\\varphi) \\approx \\varphi$ für kleine $\\varphi$.   \n",
    "Mit dieser ist die Differentialgleichung dann identisch zu der des Federpendels:\n",
    "$$ \\ddot{\\varphi} = - \\frac{g}{l} \\varphi $$\n",
    "\n",
    "Im folgenden soll die Differentialgleichung des Fadenpendels **ohne** Kleinwinkelnäherung numerisch gelöst werden.\n",
    "\n",
    "Die folgenden Parameter des Fadenpendels sind vorgegeben:\n",
    "- die Erdbeschleunigung ist $g=9,81~m/s^2$\n",
    "- die Länge des Pendels ist $l=1~m$\n",
    "\n",
    "Zur Startzeit $t=0$ wird das Pendel mit einer Auslenkung $\\varphi_0=45^\\circ$ losgelassen, hat also Winkelgeschwindigkeit $\\dot{\\varphi}(0)=0$. Das reibungslose Schwingen des Fadenpendels soll dann für das Interval bis $t_\\text{max}=10~s$ berechnet werden."
   ]
  },
  {
   "cell_type": "markdown",
   "metadata": {
    "collapsed": false
   },
   "source": [
    "\n",
    "\n",
    "**a)** Programmieren Sie eine Funktion `phi_punktpunkt` welche den Winkel $\\varphi$ (`phi`) in Bogenmaß als Argument nimmt, und die Beschleunigung $\\ddot{\\varphi}$ (Bogenmaß pro $s^2$) zurückgibt."
   ]
  },
  {
   "cell_type": "code",
   "execution_count": 0,
   "metadata": {
    "collapsed": false,
    "jupyter": {
     "outputs_hidden": false
    }
   },
   "outputs": [
   ],
   "source": [
    "\n",
    "import numpy as np\n",
    "import matplotlib.pyplot as plt\n",
    "\n",
    "g = 9.81 # m/s^2\n",
    "l = 1.0  # m\n",
    "t_max = 10.0 # s\n",
    "phi_0 = np.pi / 4 # Bogenmaß\n",
    "\n",
    "# Funktion definieren\n",
    "def phi_punktpunkt(phi):"
   ]
  },
  {
   "cell_type": "markdown",
   "metadata": {
    "collapsed": false
   },
   "source": [
    "Um die Differentialgleichung\n",
    "$$ \\ddot{\\varphi} = - \\frac{g}{l} \\sin(\\varphi) $$\n",
    "zu lösen, wird das Zeitinterval $[0;t_{max}]$ in $N_I=10000$ gleichgroße Intervalle zerlegt. \n",
    "\n",
    "Dadurch entstehen diskrete Zeitpunkte $t_i$ mit $i=0, \\dots, N_I$ mit konstanten Abstand $\\Delta t = t_{max}/N_I$. Ziel ist dann ungefähre Werte der Auslenkung $\\varphi(t_i)$ und Winkelgeschwindigkeit $\\dot{\\varphi}(t_i)$ zu diesen Zeitpunkten zu berechnen.\n",
    "\n",
    "Dafür kann die Definition der Ableitung herangezogen werden:\n",
    "$$ \\dot{\\varphi}(t) = \\frac{\\text{d}}{\\text{d}t} \\varphi(t) = \\lim_{h \\to 0} \\frac{\\varphi(t+h)-\\varphi(t)}{h} $$\n",
    "Statt $h$ gegen $0$ gehen zu lassen setzen wir es auf einen kleinen Wert: $h=\\Delta t$.\n",
    "\n",
    "Entsprechend erhalten wir die Gleichung\n",
    "$$ \\dot{\\varphi}(t) \\approx \\frac{\\varphi(t+\\Delta t) - \\varphi(t)}{\\Delta t} $$\n",
    "\n",
    "Setzt man jetzt $t=t_i$ auf einen der diskreten Zeitpunkte, so ist $t_i + \\Delta t = t_{i+1}$ der nächste Zeitpunkt. Umstellen nach $\\varphi(t_{i+1})$ liefert:\n",
    "$$ \\dot{\\varphi}(t_i) \\approx \\frac{\\varphi(t_{i+1}) - \\varphi(t_i)}{\\Delta t} $$\n",
    "$$\\Rightarrow \\varphi(t_{i+1}) \\approx \\varphi(t_i)+ \\dot{\\varphi}(t_i) \\cdot \\Delta t$$\n",
    "\n",
    "Dies entspricht der Bewegung bei konstanter Geschwindigkeit über das Interval $[t_i;t_{i+1}]$ hinweg.\n",
    "\n",
    "Analog kann man die Definition der Ableitung auf $\\ddot{\\varphi}(t)$ anwenden:\n",
    "$$ \\ddot{\\varphi}(t_i) \\approx \\frac{\\dot{\\varphi}(t_i+\\Delta t) - \\dot{\\varphi}(t_i)}{\\Delta t} $$\n",
    "$$ \\Rightarrow \\dot{\\varphi}(t_{i+1}) = \\dot{\\varphi}(t_i) + \\ddot{\\varphi}(t_i) \\cdot \\Delta t $$\n",
    "\n",
    "Dies entspricht der Bewegung bei konstanter Beschleunigung über das Interval $[t_i;t_{i+1}]$ hinweg.\n",
    "\n",
    "Für den Ausdruck $\\ddot{\\varphi}(t_i)$ kann die soeben programmierte Funktion `phi_punktpunkt` verwendet werden, es wird dann nur die Auslenkung `phi=`$\\varphi(t_i)$ benötigt.\n",
    "\n",
    "Zusammengefasst lassen sich aus den Werten $\\varphi(t_i), \\dot{\\varphi}(t_i)$ somit die Werte zum nächsten Zeitpunkt $\\varphi(t_{i+1})$, $\\dot{\\varphi}(t_{i+1})$ berechnen:\n",
    "\n",
    "$$ \\ddot{\\varphi}(t_i) = -\\frac{g}{l} \\sin(\\varphi(t_i)) $$\n",
    "$$ \\dot{\\varphi}(t_{i+1}) = \\dot{\\varphi}(t_i) + \\ddot{\\varphi}(t_i) \\cdot \\Delta t $$\n",
    "$$ \\varphi(t_{i+1}) = \\varphi(t_i) + \\dot{\\varphi}(t_{i}) \\cdot \\Delta t $$\n",
    "\n",
    "\n",
    "**b**) Erstellen Sie eine Funktion `naechstes_phi` die aus den Werten $\\varphi(t_i)$ (`phi_i`) und $\\dot{\\varphi}(t_i)$ (`phi_dot_i`) den Wert $\\varphi(t_{i+1})$ berechnet. Eine ähnliche Funktion `naechstes_phi_punkt` die $\\dot{\\varphi}(t_{i+1})$ berechnet ist bereits vorgeben."
   ]
  },
  {
   "cell_type": "code",
   "execution_count": 0,
   "metadata": {
    "collapsed": false,
    "jupyter": {
     "outputs_hidden": false
    }
   },
   "outputs": [
   ],
   "source": [
    "\n",
    "N_I = 10000\n",
    "Dt = t_max / N_I # Δ𝑡 in s\n",
    "\n",
    "# vervollständigen Sie:\n",
    "def naechstes_phi(phi_i, phi_punkt_i):\n",
    "    return \n",
    "\n",
    "# bereits vorgegeben:\n",
    "def naechstes_phi_punkt(phi_i, phi_punkt_i):\n",
    "    return phi_punkt_i + phi_punktpunkt(phi_i) * Dt"
   ]
  },
  {
   "cell_type": "markdown",
   "metadata": {
    "collapsed": false
   },
   "source": [
    "**c)** Nun gilt es rekursiv die Werte zu allen Zeiten zu berechnen. Diese sollen als drei numpy arrays `t, phi, phi_punkt` gespeichert werden. Dabei sind die Elemente `t[i], phi[i], phi_punkt[i]` die Werte $t_i,\\, \\varphi(t_i), \\dot{\\varphi}(t_i)$ für $i=0,\\dots,N_I$.\n",
    "\n",
    "Erzeugen Sie drei leere numpy arrays (mit 0ern gefüllt) der richtigen Länge. Tipp: `np.zeros`, wie viele Werte für $i$ gibt es?"
   ]
  },
  {
   "cell_type": "markdown",
   "metadata": {
    "collapsed": false
   },
   "source": [
    "<div class=\"alert alert-block alert-info\">\n",
    "<i class=\"fas fa-lightbulb\"></i> <b>Code Tipps:</b> \n",
    "<ul>  \n",
    "<b>Erzeugen leerer numpy arrays</b>:\n",
    "    <p>Mit <code>array=np.zeros(laenge)</code> kann ein numpy array der Länge \"laenge\" erzeugt werden, welches nur Einträge mit dem Wert \"0.0\" hat.<p>\n",
    "    <p>Dies ist nützlich um anschließend einzelne Einträge zu ändern, z.B. <code>array[3]=5.0</code>, und so das array zu füllen.</p>\n",
    "    <p>Wie immer bei numpy arrays wird auf das erste Element <code>array[0]</code> mit index 0 zugegriffen, und auf das letzte Element mit index <code>array[laenge-1]</code></p>\n",
    "</div>"
   ]
  },
  {
   "cell_type": "code",
   "execution_count": 0,
   "metadata": {
    "collapsed": false,
    "jupyter": {
     "outputs_hidden": false
    }
   },
   "outputs": [
   ],
   "source": [
    "\n",
    "# Aufgabenteil c) : Erzeugen der Arrays\n",
    "t = \n",
    "phi = \n",
    "phi_punkt = "
   ]
  },
  {
   "cell_type": "markdown",
   "metadata": {
    "collapsed": false
   },
   "source": [
    "**d)** Weisen Sie den ersten Einträgen der arrays die jeweiligen Startwerte zu. So ist unter anderem $t_0 = 0.0$, d.h. `t[0] = 0.0`."
   ]
  },
  {
   "cell_type": "code",
   "execution_count": 0,
   "metadata": {
    "collapsed": false,
    "jupyter": {
     "outputs_hidden": false
    }
   },
   "outputs": [
   ],
   "source": [
    "# Aufgabenteil d) : Startwerte\n",
    "t[0] = 0.0\n"
   ]
  },
  {
   "cell_type": "markdown",
   "metadata": {
    "collapsed": false
   },
   "source": [
    "**e)** Da die Werte $\\varphi(t_0), \\dot{\\varphi}(t_0)$ bekannt sind, können nun die Werte zur Zeit $t_1$ berechnet werden. Danach kann man die Werte zur Zeit $t_2$ berechnen, dann zur Zeit $t_3$, und so weiter.\n",
    "\n",
    "Diese 10000 Schritte von Hand zu programmieren ist weder machbar noch lesbar, daher wird eine **for-Schleife** verwendet, um diesen iterativen Vorgang zu automatisieren.\n",
    "\n",
    "Innerhalb der For-Schleife zeigt gibt Variable `i` an von welchen Werten ausgehend weitergerechnet werden soll. Die For-Schleife muss entsprechend bei `i` gleich 0 anfangen, und rechtzeitig aufhören, da $t_{N_I}$ der größte definierte Zeitpunkt ist und keinen Nachfolger hat.\n",
    "\n",
    "Wann immer der Inhalt der For-Schleife abgearbeitet wurde, erhöht sich die Variable `i` um 1, und der Inhalt der For-Schleife wird erneut abgearbeitet. Da `i` erhöht worden ist, wird jetzt natürlich der nächste Zeitpunkt an Werten berechnet, und nicht der selbe wie zuvor. Wenn `i` die obere Schranke die in der ersten Zeile der For-Schleife gegeben ist erreicht, wird der Inhalt der Schleife nicht ausgeführt, die Schleife ist beendet.\n",
    "\n",
    "Was ist der kleinste Wert von $i$ wenn Rekursionen der Form $i \\mapsto i+1$ benötigt werden? Was ist der größte Wert? Vervollständigen Sie entsprechend den Code."
   ]
  },
  {
   "cell_type": "markdown",
   "metadata": {
    "collapsed": false
   },
   "source": [
    "\n",
    "\n",
    "<div style=\" border: 2px solid blue ;margin: 10px auto; padding: 10px; border-radius: 10px;\">\n",
    "\n",
    "\n",
    "### `for`-Schleife\n",
    "\n",
    "Eine `for`-Schleife kann man in folgender Form deklarieren, in dem man über einen Iterator (Liste, Array, Tupel, range etc.) die Elemente dessen durchgeht:\n",
    "```python\n",
    "for item in list:\n",
    "    Anweisungen\n",
    "```\n",
    "\n",
    "Manchmal sind Anweisungen mehrfach zu wiederholen. Das Kopieren unzähliger gleicher Anweisungen ist ineffizient und unpraktikabel, da die Anzahl der Wiederholungen oftmals zu groß ist. Eine `for`-Schleife kann die gleiche Aufgabe so oft ausführen, wie wir sie eingegeben haben. \n",
    "\n",
    "Als Beispiel werden wir die Winkelgeschwindigkeit $\\omega$ numerisch berechnen\n",
    "\n",
    "$$\\omega = \\frac{\\text{d}\\varphi}{\\text{d}t} \\approx \\frac{\\Delta \\varphi}{\\Delta t}$$\n",
    "\n",
    "\n",
    "\n",
    "1. Bereiten Sie die Listen oder Arrays von Daten vor, die Sie iterieren möchten.\n",
    "\n",
    "```python\n",
    "t = np.array([0, 0.011, 0.022, 0.033, 0.044,0.055, 0.066, 0.077, 0.088, 0.1])    # in s\n",
    "phi = np.array([ 0, 11.851, 20.740, 26.666, 29.629, 29.629, 26.666, 20.740, 11.851, 0])  # -\n",
    "```\n",
    "\n",
    "2. Wählen Sie einen geeigneten *Iterator* `i` (Sie können anderen Variablennamen verwenden); in diesem Fall werden wir *die Länge von `t`* verwenden, weil wir alle Elemente von `t` und `F` iterieren wollen (sie haben die gleiche Länge).\n",
    "\n",
    "```python\n",
    "for i in range(0,len(t)-1):\n",
    "```\n",
    "\n",
    "Die `range`-Funktion liefert Listen, die arithmetischen Aufzählungen entsprechen, von Anfangswert `0` bist Endwert `len(t)-1` (Vergessen Sie nicht, dass Python-Listen und -Arrays mit dem Index 0 beginnen!) \n",
    "\n",
    "3. Klicken Sie auf <code>ENTER ↵</code> und schreiben Sie die Anweisungen Ihrer `for`-Schleife, Sie sollten am Anfang eine Einrückung durch <code>TAB</code> erhalten. Die Anweisungen für diese Beispiel sind:   \n",
    "    i. Berechnung der Winkelgeschwindigkeit \n",
    "    \n",
    "    $$\\omega_i = \\dfrac{\\varphi_{i+1}-\\varphi_{i}}{t_{i+1}-t_{i}}$$  \n",
    "    \n",
    "```python\n",
    "for i in range(0,len(t)-1):\n",
    "    omega[i] = (phi[i+1] - phi[i])/(t[i+1]-t[i]) \n",
    "```\n",
    "Die Variable `omega_i` wird sich jedes Mal ändern, wenn der Iterator dies tut.\n",
    "\n",
    "4. Was als nächstes mit der iterierten Variable `omega_i` zu tun ist, hängt von Ihrer Aufgabe ab. Sie können die Ergebnisse einfach ausdrucken, oder, was häufiger gemacht wird, Sie speichern die bearbeitete Variable in einer Liste wie folgt:\n",
    "\n",
    "```python\n",
    "omega = np.zeros([len(t)])\n",
    "for i in range(0,len(t)-1):\n",
    "    omega[i] = (phi[i+1] - phi[i])/(t[i+1]-t[i])\n",
    "```\n",
    "\n",
    "Sie sollen vor der Deklaration der `for`-Schleife eine leere Liste oder Array definieren (hier `omega = np.zeros()`), jeder generierte `omega[i]`-Wert wird in der Liste `omega` gespeichert.\n",
    "    \n",
    "</div>"
   ]
  },
  {
   "cell_type": "code",
   "execution_count": 0,
   "metadata": {
    "collapsed": false,
    "jupyter": {
     "outputs_hidden": false
    }
   },
   "outputs": [
   ],
   "source": [
    "t = np.array([0, 0.011, 0.022, 0.033, 0.044,0.055, 0.066, 0.077, 0.088, 0.1])    # in s\n",
    "phi = np.array([ 0, 11.851, 20.740, 26.666, 29.629, 29.629, 26.666, 20.740, 11.851, 0])  # -\n",
    "\n",
    "omega = np.zeros([len(t)])\n",
    "for i in range(0,len(t)-1):\n",
    "    omega[i] = (phi[i+1] - phi[i])/(t[i+1]-t[i])"
   ]
  },
  {
   "cell_type": "markdown",
   "metadata": {
    "collapsed": false
   },
   "source": [
    "<div class=\"alert alert-block alert-info\">\n",
    "<i class=\"fas fa-lightbulb\"></i> <b>Code Tipps:</b> \n",
    "<ul>\n",
    "<code>for</code>-Schleifen dienen dazu bei Wiederholungsanweisungen beschränkten Iterationen der Form „Führe A genau $n$-mal aus“ oder \"führe eine Anweisung für alle Elemente eines Iterators durch\" auszuführen. Die Syntax ist:\n",
    "\n",
    "```python\n",
    "for item in iterable:\n",
    "    Anweisungen\n",
    "```\n",
    "    \n",
    "</div>\n",
    "    \n",
    "<div class=\"alert alert-block alert-danger\">\n",
    "<b>Vorsicht!</b> \n",
    "<ul>\n",
    "<p> Sie bekommen einen Laufzeitfehler der Form <code>IndexError: list assignment index out of range</code>, wenn ein Zugriff auf ein Element des Arrays außerhalb der Feldgrenzen stattfindet. Beachten Sie, dass der Index eines Arrays immer eine ganze Zahl sein muss. Sie erhalten einen Syntaxfehler, falls die Indexposition oder die Länge des Feldes eine Gleitkommazahl ist.\n",
    " </p>     \n",
    "</div>"
   ]
  },
  {
   "cell_type": "code",
   "execution_count": 0,
   "metadata": {
    "collapsed": false,
    "jupyter": {
     "outputs_hidden": false
    }
   },
   "outputs": [
   ],
   "source": [
    "\n",
    "# Aufgabenteil e) : Vervollständigen Sie die folgende Zeile\n",
    "for i in range( , ):\n",
    "    \n",
    "    # Aufgabenteil f) : Rekursionsformeln für t, phi, phi_dot\n",
    "    t[i+1] = t[i] + Dt\n",
    "    phi[i+1] = \n",
    "    phi_punkt[i+1] = "
   ]
  },
  {
   "cell_type": "markdown",
   "metadata": {
    "collapsed": false
   },
   "source": [
    "**f)** Nun muss der eigentliche Rekursionsschritt programmiert werden. Dafür stehen bereits die Funktionen `next_phi` und `next_phi_dot` zur Verfügung.\n",
    "\n",
    "Berechnen und weisen Sie die Werte für `t[i+1]` ($=t_{i+1}$), `phi[i+1]` ($=\\varphi(t_{i+1})$) und `phi_dot[i+1]` ($=\\dot{\\varphi}(t_{i+1})$) zu. Dies muss in der For-Schleife passieren, da nur so der Code mehrfach ausgeführt wird."
   ]
  },
  {
   "cell_type": "markdown",
   "metadata": {
    "collapsed": false
   },
   "source": [
    "**g)** Plotten Sie die Zeit $t$ gegen die Auslenkung $\\varphi(t)$. Sie können dafür die soeben mit Werten gefüllten arrays `t, phi` verwenden."
   ]
  },
  {
   "cell_type": "code",
   "execution_count": 0,
   "metadata": {
    "collapsed": false,
    "jupyter": {
     "outputs_hidden": false
    }
   },
   "outputs": [
   ],
   "source": [
    "# Test des bisherigen Programms\n",
    "\n",
    "plt.plot()\n",
    "plt.xlabel(\"\")\n",
    "plt.ylabel(\"\")\n",
    "plt.show()"
   ]
  },
  {
   "cell_type": "code",
   "execution_count": 0,
   "metadata": {
    "collapsed": false,
    "jupyter": {
     "outputs_hidden": false
    }
   },
   "outputs": [
   ],
   "source": [
   ]
  },
  {
   "cell_type": "markdown",
   "metadata": {
    "collapsed": false
   },
   "source": [
    "<mark>\n",
    "    Die nachfolgenden Teilaufgaben sind <b>Bonus</b> und mit Sternchen * makiert </mark>, mit dem Ziel die numerische Lösung mit der bekannten Kleinwinkelnäherung zu vergleichen. Anschließend wird die Periodendauer numerisch für verschiedene Auslenkungen $\\varphi_0$ bestimmt.\n",
    "\n",
    "Der präsentierte physikalische Sachverhalt, und die numerischen Methoden, tauchen im weiteren Studium wieder auf, und werden dann ausführlicher besprochen. Sie sind aber in dieser Vorlesung natürlich nicht klausurrelevant."
   ]
  },
  {
   "cell_type": "markdown",
   "metadata": {
    "collapsed": false
   },
   "source": [
    "**h\\*)** Mit Jupyter Notebooks kann der Startwinkel $\\varphi_0$ auch visuell verändert werden. Dafür muss der bisherige Code in eine Funktion ausgelagert werden, wie in nachfolgenden Codezelle zu sehen. Die Funktion gibt die drei numpy arrays zurück, statt sie als Variablen außerhalb der Funktion zu definieren. Versuchen Sie den Code zu verstehen:"
   ]
  },
  {
   "cell_type": "markdown",
   "metadata": {
    "collapsed": false
   },
   "source": [
    "<div class=\"alert alert-block alert-info\">\n",
    "<b>Code Tipps:</b> \n",
    "<ul>  \n",
    "<b>Mehrfachzuweisung</b>:\n",
    "    <p>In Python können mehrere Variablen auf einmal einen Wert zugewiesen bekommen:</p>\n",
    "    <p><code>a, b, c = 1, 2, 3</code></p>\n",
    "    <p>Analog können in einer Funktion auch mehrere Werte auf einmal zurückgegeben werden:</p>\n",
    "    <p><code>def demo():<br>&nbsp return 4, 5, 6</code></p>\n",
    "    <p>Um die Rückgabewerte einer solchen Funktion zu verwenden, muss die gleiche Anzahl Variablen verwendet werden.</p>\n",
    "    <p><code>x, y, z = demo()<br># x, y, bzw. z haben jetzt den Wert 4, 5, bzw. 6. </code></p>\n",
    "</div>"
   ]
  },
  {
   "cell_type": "code",
   "execution_count": 0,
   "metadata": {
    "collapsed": false,
    "jupyter": {
     "outputs_hidden": false
    }
   },
   "outputs": [
   ],
   "source": [
    "\n",
    "\n",
    "def diffgleichung_loesen(phi_0):\n",
    "    N_I = 10000\n",
    "    Dt = t_max / N_I # Δ𝑡 in s\n",
    "\n",
    "    t = np.zeros(N_I+1)\n",
    "    phi = np.zeros(N_I+1)\n",
    "    phi_punkt = np.zeros(N_I+1)\n",
    "    \n",
    "    t[0] = 0.0\n",
    "    phi[0] = phi_0\n",
    "    phi_punkt[0] = 0.0\n",
    "    \n",
    "    for i in range(0, N_I):\n",
    "        t[i+1] = t[i]+Dt\n",
    "        phi[i+1]=phi[i]+Dt*phi_punkt[i]\n",
    "        phi_punkt[i+1]=phi_punkt[i]+Dt*phi_punktpunkt(phi[i])\n",
    "    \n",
    "    return t, phi, phi_punkt"
   ]
  },
  {
   "cell_type": "code",
   "execution_count": 0,
   "metadata": {
    "collapsed": false,
    "jupyter": {
     "outputs_hidden": false
    }
   },
   "outputs": [
   ],
   "source": [
    "\n"
   ]
  },
  {
   "cell_type": "markdown",
   "metadata": {
    "collapsed": false
   },
   "source": [
    "**i\\*)** Vervollständigen Sie den folgenden Code um die Funktion `kleinwinkelnaeherung(phi_0, t)` welche die Lösung der Kleinwinkelnäherung mit maximaler Auslenkung $\\varphi_0$ zum Zeitpunkt $t$ berechnet. Tipp: Verwenden Sie `np.cos(x)` für die Schwingung, da die Winkelgeschwindigkeit zu Beginn  $0$ ist.\n",
    "\n",
    "In der Funktion `plot_loesung` wird dann die kleinwinkelnaeherung zusammen mit der numerischen Lösung geplottet. \n",
    "\n",
    "Die letzte Zeile sorgt dafür dass ein Schieberegler angezeigt wird, der nach jeder Änderung erneut die Funktion `plot_loesung` ausführt, mit jeweils anderen Werten für `phi_0`.\n",
    "\n",
    "Führen Sie den fertigen Code aus. Für welche Werte von $\\varphi_0$ ist die Kleinwinkelnäherung gut, für welche schlecht?"
   ]
  },
  {
   "cell_type": "code",
   "execution_count": 0,
   "metadata": {
    "collapsed": false,
    "exercise": "solution",
    "jupyter": {
     "outputs_hidden": false
    }
   },
   "outputs": [
   ],
   "source": [
    "from ipywidgets import interact, FloatSlider\n",
    "\n",
    "slider2 = FloatSlider(description=r\"$\\varphi_0$\", value=np.pi/4, min=-np.pi/2, max=np.pi/2)\n",
    "\n",
    "def kleinwinkelnaeherung(phi_0, t):\n",
    "    return np.cos((g/l)**0.5 * t) * phi_0\n",
    "\n",
    "def plot_loesung(phi_0):\n",
    "    test_t, test_phi, test_phi_dot = diffgleichung_loesen(phi_0)\n",
    "    \n",
    "    plt.plot(test_t, test_phi)\n",
    "    plt.plot(test_t, kleinwinkelnaeherung(phi_0, test_t))\n",
    "    plt.xlabel(\"t [s]\")\n",
    "    plt.ylabel(\"phi [radians]\")\n",
    "    plt.ylim([-2,+2])\n",
    "    plt.show()\n",
    "\n",
    "interact(plot_loesung, phi_0=slider2);"
   ]
  },
  {
   "cell_type": "markdown",
   "metadata": {
    "collapsed": false
   },
   "source": [
    "**j\\*)** Es ist zu beobachten dass die Anzahl an Schwingungen, und somit auch die Periodendauer $T$ von der Startauslenkung abhängt. Dies ist bereits der erste Unterschied zum Federpendel, welches die gleiche Frequenz hat unabhängig von der Startauslenkung.\n",
    "\n",
    "Die Periodendauer lässt aus dem zeitlichen Abstand der Nullstellen von $\\varphi(t)$ bestimmen. Um letztere zu ermitteln wird eine for-Schleife genutzt, die einen Wechsel des Vorzeichens von `phi[i]` zu `phi[i+1]` sucht. Die Nullstelle liegt dann ungefähr bei `t[i]`. \n",
    "\n",
    "Alle so gefundenen Nullstellen werden als Liste gesammelt.\n",
    "\n",
    "In Python können Listen mit `liste.append(element)` erweitert werden, das neue Element wird dann hinten (rechts) angefügt. \n",
    "\n",
    "Das Vorzeichen einer Zahl kann mit `np.sign(x)` bestimmt werden, die Funktion gibt $+1$ für positive und $-1$ für negative Zahlen zurück. Zwei solche Zahlen werden mit `!=` auf Ungleichheit geprüft.\n",
    "\n",
    "Vervollständigen Sie den Code an den drei markierten Stellen."
   ]
  },
  {
   "cell_type": "code",
   "execution_count": 0,
   "metadata": {
    "collapsed": false,
    "jupyter": {
     "outputs_hidden": false
    }
   },
   "outputs": [
   ],
   "source": [
    "\n",
    "@np.vectorize\n",
    "def periodendauer(phi_0):\n",
    "    nullstellen = [] # Zu Beginn der Suche: keine Nullstellen gefunden\n",
    "    \n",
    "    t, phi, phi_dot = diffgleichung_loesen(phi_0)\n",
    "    \n",
    "    # Aufgabenteil j) vervollständigen Sie den Code\n",
    "    for i in range( , ): # hier\n",
    "        if      : # hier: Abprüfen ob die Vorzeichen von phi[i] und phi[i+1] verschieden sind\n",
    "            nullstellen.append(   ) # hier: Nullstelle hinzufügen zur Liste\n",
    "\n",
    "    # Aufgabenteil k) Berechnen Sie T\n",
    "    T = \n",
    "\n",
    "    return T"
   ]
  },
  {
   "cell_type": "markdown",
   "metadata": {
    "collapsed": false
   },
   "source": [
    "**k\\*)** Bestimmen Sie im obrigen Code aus den Nullstellen die Periodendauer `T`. \n",
    "\n",
    "Tipp: Differenz aus erster und letzter Nullstelle anschauen.\n",
    "\n",
    "Tipp: Die Anzahl an Nullstellen ist `len(nullstellen)`, die letzte Nullstelle kann auch mit `nullstellen[-1]` genutzt werden. Die `-1` bedeutet bei Listen die \"erste Stelle von rechts.\""
   ]
  },
  {
   "cell_type": "markdown",
   "metadata": {
    "collapsed": false
   },
   "source": [
    "**l\\*)** Vervollständigen Sie im folgenden Code die Periodendauer `T_Kleinwinkel` des Systems in der Kleinwinkelnäherung. Es wird dann in Abhängigkeit der Start-Auslenkung $\\varphi_0$ die Periodendauer $T$ des Fadenpendels geplottet."
   ]
  },
  {
   "cell_type": "code",
   "execution_count": 0,
   "metadata": {
    "collapsed": false,
    "jupyter": {
     "outputs_hidden": false
    }
   },
   "outputs": [
   ],
   "source": [
    "\n",
    "# Vervollständigen Sie:\n",
    "T_kleinwinkel =   \n",
    "\n",
    "array_phi_0 = np.linspace(0.001, np.pi/2, 30)\n",
    "array_T = periodendauer(array_phi_0)\n",
    "\n",
    "plt.hlines(y=T_kleinwinkel, xmin=0.0, xmax=np.pi/2, color=\"r\")\n",
    "plt.plot(array_phi_0, array_T)\n",
    "plt.xlabel(r\"$\\varphi_0 [radians]$\")\n",
    "plt.ylabel(r\"$T [s]$\")\n",
    "plt.show()"
   ]
  },
  {
   "cell_type": "code",
   "execution_count": 0,
   "metadata": {
    "collapsed": false,
    "jupyter": {
     "outputs_hidden": false
    }
   },
   "outputs": [
   ],
   "source": [
   ]
  }
 ],
 "metadata": {
  "kernelspec": {
   "display_name": "Python 3 (system-wide)",
   "language": "python",
   "metadata": {
    "cocalc": {
     "description": "Python 3 programming language",
     "priority": 100,
     "url": "https://www.python.org/"
    }
   },
   "name": "python3",
   "resource_dir": "/ext/jupyter/kernels/python3"
  },
  "language_info": {
   "codemirror_mode": {
    "name": "ipython",
    "version": 3
   },
   "file_extension": ".py",
   "mimetype": "text/x-python",
   "name": "python",
   "nbconvert_exporter": "python",
   "pygments_lexer": "ipython3",
   "version": "3.6.9"
  }
 },
 "nbformat": 4,
 "nbformat_minor": 4
}