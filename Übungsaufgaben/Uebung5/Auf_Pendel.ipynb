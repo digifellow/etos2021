{
 "cells": [
  {
   "cell_type": "code",
   "execution_count": 0,
   "metadata": {
    "collapsed": false
   },
   "outputs": [
   ],
   "source": [
    "#development\n",
    "%load_ext extension_notebook_splitter"
   ]
  },
  {
   "cell_type": "markdown",
   "metadata": {
    "collapsed": false
   },
   "source": [
    "___\n",
    "### `for`-Schleife\n",
    "\n",
    "Eine `for`-Schleife kann man in folgender Form deklarieren:\n",
    "```python\n",
    "for i in list:\n",
    "    Anweisungen\n",
    "```\n",
    "\n",
    "Manchmal sind Anweisungen mehrfach zu wiederholen. Das Kopieren unzähliger gleicher Anweisungen ist ineffizient und unpraktikabel, da die Anzahl der Wiederholungen oftmals zu groß ist. Eine `for`-Schleife kann die gleiche Aufgabe so oft ausführen, wie wir sie eingegeben haben. \n",
    "\n",
    "Als Beispiel werden wir die Winkelgeschwindigkeit $\\omega$ numerisch berechnen\n",
    "\n",
    "$$\\omega = \\frac{\\text{d}\\varphi}{\\text{d}t} \\approx \\frac{\\Delta \\varphi}{\\Delta t}$$\n",
    "\n",
    "\n",
    "\n",
    "1. Bereiten Sie die Listen oder Arrays von Daten vor, die Sie iterieren möchten.\n",
    "\n",
    "```python\n",
    "t = np.array([0, 0.011, 0.022, 0.033, 0.044,0.055, 0.066, 0.077, 0.088, 0.1])    # in s\n",
    "phi = np.array([ 0, 11.851, 20.740, 26.666, 29.629, 29.629, 26.666, 20.740, 11.851, 0])  # -\n",
    "```\n",
    "\n",
    "2. Wählen Sie einen geeigneten *Iterator* `i` (Sie können anderen Variablennamen verwenden); in diesem Fall werden wir *die Länge von `t`* verwenden, weil wir alle Elemente von `t` und `F` iterieren wollen (sie haben die gleiche Länge).\n",
    "\n",
    "```python\n",
    "for i in range(0,len(t)-1):\n",
    "```\n",
    "\n",
    "Die `range`-Funktion liefert Listen, die arithmetischen Aufzählungen entsprechen, von Anfangswert `0` bist Endwert `len(t)-1` (Vergessen Sie nicht, dass Python-Listen und -Arrays mit dem Index 0 beginnen!) \n",
    "\n",
    "3. Klicken Sie auf <code>ENTER ↵</code> und schreiben Sie die Anweisungen Ihrer `for`-Schleife, Sie sollten am Anfang eine Einrückung durch <code>TAB</code> erhalten. Die Anweisungen für diese Beispiel sind:   \n",
    "    i. Berechnung der Winkelgeschwindigkeit \n",
    "    \n",
    "    $$\\omega_i = \\dfrac{\\varphi_{i+1}-\\varphi_{i}}{t_{i+1}-t_{i}}$$  \n",
    "    \n",
    "```python\n",
    "for i in range(0,len(t)-1):\n",
    "    omega_i = (phi[i+1] - phi[i])/(t[i+1]-t[i]) \n",
    "```\n",
    "Die Variable `omega_i` wird sich jedes Mal ändern, wenn der Iterator dies tut.\n",
    "\n",
    "4. Was als nächstes mit der iterierten Variable `omega_i` zu tun ist, hängt von Ihrer Aufgabe ab. Sie können die Ergebnisse einfach ausdrucken, oder, was häufiger gemacht wird, Sie speichern die bearbeitete Variable in einer Liste wie folgt:\n",
    "\n",
    "```python\n",
    "omega = []\n",
    "for i in range(0,len(t)-1):\n",
    "    omega_i = (phi[i+1] - phi[i])/(t[i+1]-t[i])\n",
    "    omega.append(omega_i)\n",
    "```\n",
    "\n",
    "Sie sollen vor der Deklaration der `for`-Schleife eine leere Liste definieren (hier `omega = []`), jeder generierte `omega_i`-Wert wird in der Liste `omega` gespeichert, dies geschieht mit Hilfe der `append`-Funktion."
   ]
  },
  {
   "cell_type": "code",
   "execution_count": 3,
   "metadata": {
    "collapsed": false
   },
   "outputs": [
    {
     "data": {
      "text/plain": [
       "[1077.3636363636365,\n",
       " 808.0909090909089,\n",
       " 538.7272727272727,\n",
       " 269.36363636363654,\n",
       " 0.0,\n",
       " -269.3636363636364,\n",
       " -538.7272727272731,\n",
       " -808.0909090909091,\n",
       " -987.5833333333326]"
      ]
     },
     "execution_count": 3,
     "metadata": {
     },
     "output_type": "execute_result"
    }
   ],
   "source": [
    "import numpy as np\n",
    "\n",
    "t = np.array([0, 0.011, 0.022, 0.033, 0.044,0.055, 0.066, 0.077, 0.088, 0.1])    # in s\n",
    "phi = np.array([ 0, 11.851, 20.740, 26.666, 29.629, 29.629, 26.666, 20.740, 11.851, 0])  # -\n",
    "\n",
    "omega = []\n",
    "for i in range(0,len(t)-1):\n",
    "    omega_i = (phi[i+1] - phi[i])/(t[i+1]-t[i])\n",
    "    omega.append(omega_i)\n",
    "\n",
    "omega"
   ]
  },
  {
   "cell_type": "code",
   "execution_count": 4,
   "metadata": {
    "collapsed": false
   },
   "outputs": [
    {
     "data": {
      "text/plain": [
       "array([1077.36363636,  808.09090909,  538.72727273,  269.36363636,\n",
       "          0.        , -269.36363636, -538.72727273, -808.09090909,\n",
       "       -987.58333333])"
      ]
     },
     "execution_count": 4,
     "metadata": {
     },
     "output_type": "execute_result"
    }
   ],
   "source": [
    "import numpy as np\n",
    "\n",
    "t = np.array([0, 0.011, 0.022, 0.033, 0.044,0.055, 0.066, 0.077, 0.088, 0.1])    # in s\n",
    "phi = np.array([ 0, 11.851, 20.740, 26.666, 29.629, 29.629, 26.666, 20.740, 11.851, 0])  # -\n",
    "\n",
    "omega = np.zeros([len(t)-1])\n",
    "for i in range(0,len(t)-1):\n",
    "    omega[i] = (phi[i+1] - phi[i])/(t[i+1]-t[i])\n",
    "\n",
    "omega"
   ]
  },
  {
   "cell_type": "markdown",
   "metadata": {
    "collapsed": false
   },
   "source": [
    "<div class=\"alert alert-block alert-info\">\n",
    "<i class=\"fas fa-lightbulb\"></i> <b>Code Tipps:</b> \n",
    "<ul>\n",
    "<code>for</code>-Schleifen dienen dazu bei Wiederholungsanweisungen beschränkten Iterationen der Form „Führe A genau $n$-mal aus“ auszuführen. Die Syntax ist:\n",
    "\n",
    "```python\n",
    "for i in list:\n",
    "    Anweisungen\n",
    "```\n",
    "    \n",
    "</div>\n",
    "    \n",
    "<div class=\"alert alert-block alert-danger\">\n",
    "<b>Vorsicht!</b> \n",
    "<ul>\n",
    "<p> Sie bekommen einen Laufzeitfehler der Form <code>IndexError: list assignment index out of range</code>, wenn ein Zugriff auf ein Element des Arrays außerhalb der Feldgrenzen stattfindet. Beachten Sie, dass der Index eines Arrays immer eine ganze Zahl sein muss. Sie erhalten einen Syntaxfehler, falls die Indexposition oder die Länge des Feldes eine Gleitkommazahl ist.\n",
    " </p>     \n",
    "</div>"
   ]
  },
  {
   "cell_type": "markdown",
   "metadata": {
    "collapsed": false
   },
   "source": [
    "<div style= \"color: black;background-color: rgba(0,177,172, 0.1) ;margin: 10 px auto; padding: 10px; border-radius: 10px\">\n",
    "<p style=\"font-size:12pt; text-align:center; color:   black;background-color: rgba(0,177,172, 0.1) ;margin: 10 px auto; padding: 10px; border-radius: 10px\" id=\"3\"><b>  Aufgabe 3 </b>  </p> \n",
    "\n",
    "Die Bewegung eines Fadenpendel ist durch die folgende Differentialgleichung definiert: $$ \\ddot{\\varphi} = - \\frac{g}{l} \\sin(\\varphi) $$ \n",
    "\n",
    "Diese Aufgabe beschäftigt sich wie das Fandenpendel <b>ohne</b> Kleinwinkelnäherung <b>numerisch</b>  gelöst werden kann. Differentialgleichungen sind von großer Bedeutung in der Physik und werden im Verlauf Ihres weiteren Studiums häufig auftreten. Nicht immer ist eine exakte Lösung per Hand möglich, so zum Beispiel auch beim Fadenpendel. Deshalb präsentieren wir hier numerischen Methoden. Manchmal wurde die <b>Kleinwinkelnäherung</b>  benutzt: $\\sin(\\varphi) \\approx \\varphi$ für kleine $\\varphi$. Mit dieser ist die Differentialgleichung dann identisch zu der des Federpendels:\n",
    "$$ \\ddot{\\varphi} = - \\frac{g}{l} \\varphi $$\n",
    "Zur Startzeit $t=0$ wird das Pendel mit einer Auslenkung $\\varphi_0=45^\\circ$ losgelassen, hat also Winkelgeschwindigkeit $\\dot{\\varphi}(0)=0$; siese Werte entsprechen den <b>Anfangswerten</b> der Differentialgleichung.. Das reibungslose Schwingen des Fadenpendels soll dann für das Interval bis $t_\\text{max}=10~s$ berechnet werden.\n",
    "    \n",
    "<img src=\"static/fadenpendel_animation2.gif\" style=\"float: center;height: 27em;\">\n",
    "\n",
    "<img src=\"static/PenduloTmg.gif\" style=\"float: center;height: 27em;\">\n",
    "\n",
    "</div>"
   ]
  },
  {
   "cell_type": "markdown",
   "metadata": {
    "collapsed": false
   },
   "source": [
    "**Vorgehensweise**       \n",
    "1. Programmieren Sie eine Funktion `phi_punktpunkt` welche den Winkel $\\varphi$ (`phi`) in Bogenmaß als Argument nimmt, und die Beschleunigung $\\ddot{\\varphi}$ (Bogenmaß pro $s^2$) zurückgibt. Nehmen Sie an:  \n",
    "    - die Erdbeschleunigung ist $g=9,81~m/s^2$\n",
    "    - die Länge des Pendels ist $l=1~m$"
   ]
  },
  {
   "cell_type": "code",
   "execution_count": 0,
   "metadata": {
    "collapsed": false
   },
   "outputs": [
   ],
   "source": [
    "%%solution\n",
    "import numpy as np\n",
    "\n",
    "g = 9.81 # m/s^2\n",
    "l = 1.0  # m\n",
    "t_max = 10.0 # s\n",
    "phi_0 = np.pi / 4 # Bogenmaß\n",
    "\n",
    "# Funktion definieren\n",
    "def phi_punktpunkt(phi):\n",
    "    return -g/l * np.sin(phi)"
   ]
  },
  {
   "cell_type": "code",
   "execution_count": 0,
   "metadata": {
    "collapsed": false
   },
   "outputs": [
   ],
   "source": [
    "%%task\n",
    "import numpy as np\n",
    "\n",
    "g = 9.81 # m/s^2\n",
    "l = 1.0  # m\n",
    "t_max = 10.0 # s\n",
    "phi_0 = np.pi / 4 # Bogenmaß\n",
    "\n",
    "# Funktion definieren\n",
    "def phi_punktpunkt(phi):"
   ]
  },
  {
   "cell_type": "markdown",
   "metadata": {
    "collapsed": false
   },
   "source": [
    "Um die Differentialgleichung\n",
    "$$ \\ddot{\\varphi} = - \\frac{g}{l} \\sin(\\varphi) $$\n",
    "zu lösen, wird das Zeitinterval $[0;t_{max}]$ in $N_I=10000$ gleichgroße Intervalle zerlegt. Dadurch entstehen diskrete Zeitpunkte $t_i$ mit $i=0, \\dots, N_I$ mit konstanten Abstand $\\Delta t = t_{max}/N_I$. Ziel ist dann ungefähre Werte der Auslenkung $\\varphi(t_i)$ und Winkelgeschwindigkeit $\\dot{\\varphi}(t_i)$ zu diesen Zeitpunkten zu berechnen.\n",
    "\n",
    "Dafür kann die Definition der Ableitung für kleine Zeitpunkten $\\Delta t$ herangezogen werden:\n",
    "$$ \\dot{\\varphi}(t) \\approx \\frac{\\varphi(t+\\Delta t) - \\varphi(t)}{\\Delta t} $$\n",
    "\n",
    "Setzt man jetzt $t=t_i$ auf einen der diskreten Zeitpunkte, so ist $t_i + \\Delta t = t_{i+1}$ der nächste Zeitpunkt. Umstellen nach $\\varphi(t_{i+1})$ liefert:\n",
    "$$ \\dot{\\varphi}(t_i) \\approx \\frac{\\varphi(t_{i+1}) - \\varphi(t_i)}{\\Delta t} $$\n",
    "$$\\Rightarrow \\varphi(t_{i+1}) \\approx \\varphi(t_i)+ \\dot{\\varphi}(t_i) \\cdot \\Delta t$$\n",
    "\n",
    "Dies entspricht der Bewegung bei konstanter Geschwindigkeit über das Interval $[t_i;t_{i+1}]$ hinweg.\n",
    "\n",
    "Analog für $\\ddot{\\varphi}(t)$ :\n",
    "$$ \\Rightarrow \\dot{\\varphi}(t_{i+1}) = \\dot{\\varphi}(t_i) + \\ddot{\\varphi}(t_i) \\cdot \\Delta t $$\n",
    "\n",
    "Dies entspricht der Bewegung bei konstanter Beschleunigung über das Interval $[t_i;t_{i+1}]$ hinweg.\n",
    "\n",
    "<div style=\"background-color:#f6f6f6;border:1px solid #707070;padding:0.5em 1em;box-sizing:border-box;\">\n",
    "Zusammengefasst lassen sich aus den Werten $\\varphi(t_i), \\dot{\\varphi}(t_i)$ somit die Werte zum nächsten Zeitpunkt $\\varphi(t_{i+1})$, $\\dot{\\varphi}(t_{i+1})$ berechnen:\n",
    "\n",
    "    \n",
    "$$ \\ddot{\\varphi}(t_i) = -\\frac{g}{l} \\sin(\\varphi(t_i)) $$\n",
    "$$ \\dot{\\varphi}(t_{i+1}) = \\dot{\\varphi}(t_i) + \\ddot{\\varphi}(t_i) \\cdot \\Delta t $$\n",
    "$$ \\varphi(t_{i+1}) = \\varphi(t_i) + \\dot{\\varphi}(t_{i}) \\cdot \\Delta t $$\n",
    "</div>"
   ]
  },
  {
   "cell_type": "markdown",
   "metadata": {
    "collapsed": false
   },
   "source": [
    "2. Für den Ausdruck $\\ddot{\\varphi}(t_i)$ kann die soeben programmierte Funktion `phi_punktpunkt` verwendet werden, es wird dann nur die Auslenkung `phi=`$\\varphi(t_i)$ benötigt. Erstellen Sie eine Funktion `naechstes_phi` die aus den Werten $\\varphi(t_i)$ (`phi_i`) und $\\dot{\\varphi}(t_i)$ (`phi_dot_i`) den Wert $\\varphi(t_{i+1})$ berechnet. Eine ähnliche Funktion `naechstes_phi_punkt` die $\\dot{\\varphi}(t_{i+1})$ berechnet ist bereits vorgeben."
   ]
  },
  {
   "cell_type": "code",
   "execution_count": 0,
   "metadata": {
    "collapsed": false
   },
   "outputs": [
   ],
   "source": [
    "%%solution\n",
    "N_I = 10000\n",
    "Dt = t_max / N_I # Δ𝑡 in s\n",
    "\n",
    "# vervollständigen Sie:\n",
    "def naechstes_phi(phi_i, phi_punkt_i):\n",
    "    return phi_i + phi_punkt_i * Dt\n",
    "\n",
    "# bereits vorgegeben:\n",
    "def naechstes_phi_punkt(phi_i, phi_punkt_i):\n",
    "    return phi_punkt_i + phi_punktpunkt(phi_i) * Dt"
   ]
  },
  {
   "cell_type": "code",
   "execution_count": 0,
   "metadata": {
    "collapsed": false
   },
   "outputs": [
   ],
   "source": [
    "%%task\n",
    "N_I = 10000\n",
    "Dt = t_max / N_I # Δ𝑡 in s\n",
    "\n",
    "# vervollständigen Sie:\n",
    "def naechstes_phi(phi_i, phi_punkt_i):\n",
    "    return \n",
    "\n",
    "# bereits vorgegeben:\n",
    "def naechstes_phi_punkt(phi_i, phi_punkt_i):\n",
    "    return "
   ]
  },
  {
   "cell_type": "markdown",
   "metadata": {
    "collapsed": false
   },
   "source": [
    "3. Nun gilt es rekursiv die Werte zu allen Zeiten zu berechnen. Diese sollen als drei numpy arrays `t, phi, phi_punkt` gespeichert werden. Dabei sind die Elemente `t[i], phi[i], phi_punkt[i]` die Werte $t_i,\\, \\varphi(t_i), \\dot{\\varphi}(t_i)$ für $i=0,\\dots,N_I$. Erzeugen Sie drei leere numpy arrays (mit 0ern gefüllt) der richtigen Länge."
   ]
  },
  {
   "cell_type": "code",
   "execution_count": 0,
   "metadata": {
    "collapsed": false
   },
   "outputs": [
   ],
   "source": [
    "%%solution\n",
    "# Aufgabenteil c) : Erzeugen der Arrays\n",
    "t = np.zeros(N_I+1)\n",
    "phi = np.zeros(N_I+1)\n",
    "phi_punkt = np.zeros(N_I+1)"
   ]
  },
  {
   "cell_type": "code",
   "execution_count": 0,
   "metadata": {
    "collapsed": false
   },
   "outputs": [
   ],
   "source": [
    "%%task\n",
    "# Aufgabenteil c) : Erzeugen der Arrays\n",
    "t = \n",
    "phi = \n",
    "phi_punkt = "
   ]
  },
  {
   "cell_type": "markdown",
   "metadata": {
    "collapsed": false
   },
   "source": [
    "4. Weisen Sie den ersten Einträgen der arrays die jeweiligen Startwerte zu. So ist unter anderem $t_0 = 0.0$, d.h. `t[0] = 0.0`."
   ]
  },
  {
   "cell_type": "code",
   "execution_count": 0,
   "metadata": {
    "collapsed": false
   },
   "outputs": [
   ],
   "source": [
    "%%solution\n",
    "# Aufgabenteil : Startwerte\n",
    "t[0] = 0.0\n",
    "phi[0] = phi_0\n",
    "phi_punkt[0] = 0.0"
   ]
  },
  {
   "cell_type": "code",
   "execution_count": 0,
   "metadata": {
    "collapsed": false
   },
   "outputs": [
   ],
   "source": [
    "%%task\n",
    "# Aufgabenteil : Startwerte\n",
    "t[0] = 0.0\n",
    "phi[0] = \n",
    "phi_punkt[0] = "
   ]
  },
  {
   "cell_type": "markdown",
   "metadata": {
    "collapsed": false
   },
   "source": [
    "5. Da die Werte $\\varphi(t_0), \\dot{\\varphi}(t_0)$ bekannt sind, können nun die Werte zur Zeit $t_1$ berechnet werden. Danach kann man die Werte zur Zeit $t_2$ berechnen, dann zur Zeit $t_3$, und so weiter. Diese 10000 Schritte von Hand zu programmieren ist weder machbar noch lesbar, daher wird eine `for`-Schleife verwendet, um diesen iterativen Vorgang zu automatisieren. Dafür stehen bereits die Funktionen `next_phi` und `next_phi_dot` zur Verfügung. Berechnen und weisen Sie die Werte für `t[i+1]` ($=t_{i+1}$), `phi[i+1]` ($=\\varphi(t_{i+1})$) und `phi_dot[i+1]` ($=\\dot{\\varphi}(t_{i+1})$) zu. "
   ]
  },
  {
   "cell_type": "code",
   "execution_count": 0,
   "metadata": {
    "collapsed": false
   },
   "outputs": [
   ],
   "source": [
    "%%solution\n",
    "# Aufgabenteil : Vervollständigen Sie die folgende Zeile\n",
    "for i in range(0, N_I):\n",
    "    # Aufgabenteil : Rekursionsformeln für t, phi, phi_dot\n",
    "    t[i+1] = t[i] + Dt\n",
    "    phi[i+1] = naechstes_phi(phi[i], phi_punkt[i])\n",
    "    phi_punkt[i+1] = naechstes_phi_punkt(phi[i], phi_punkt[i])"
   ]
  },
  {
   "cell_type": "code",
   "execution_count": 0,
   "metadata": {
    "collapsed": false
   },
   "outputs": [
   ],
   "source": [
    "%%task\n",
    "# Aufgabenteil : Vervollständigen Sie die folgende Zeile\n",
    "for i in range( , ):\n",
    "    # Aufgabenteil : Rekursionsformeln für t, phi, phi_dot\n",
    "    t[i+1] = t[i] + Dt\n",
    "    phi[i+1] = \n",
    "    phi_punkt[i+1] = "
   ]
  },
  {
   "cell_type": "markdown",
   "metadata": {
    "collapsed": false
   },
   "source": [
    "6. Plotten Sie die Zeit $t$ gegen die Auslenkung $\\varphi(t)$. Sie können dafür die soeben mit Werten gefüllten arrays `t, phi` verwenden."
   ]
  },
  {
   "cell_type": "code",
   "execution_count": 0,
   "metadata": {
    "collapsed": false
   },
   "outputs": [
   ],
   "source": [
    "%%solution\n",
    "# Test des bisherigen Programms\n",
    "import matplotlib.pyplot as plt\n",
    "\n",
    "plt.plot(t, phi)\n",
    "plt.xlabel(\"t in $s$\")\n",
    "plt.ylabel(r\"$\\varphi$ in radians\")\n",
    "plt.show()"
   ]
  },
  {
   "cell_type": "code",
   "execution_count": 0,
   "metadata": {
    "collapsed": false
   },
   "outputs": [
   ],
   "source": [
    "%%task\n",
    "# Test des bisherigen Programms\n",
    "import matplotlib.pyplot as plt\n",
    "\n",
    "plt.plot()\n",
    "plt.xlabel(\"\")\n",
    "plt.ylabel(\"\")\n",
    "plt.show()"
   ]
  }
 ],
 "metadata": {
  "kernelspec": {
   "display_name": "Python 3 (system-wide)",
   "language": "python",
   "metadata": {
    "cocalc": {
     "description": "Python 3 programming language",
     "priority": 100,
     "url": "https://www.python.org/"
    }
   },
   "name": "python3",
   "resource_dir": "/ext/jupyter/kernels/python3"
  },
  "language_info": {
   "codemirror_mode": {
    "name": "ipython",
    "version": 3
   },
   "file_extension": ".py",
   "mimetype": "text/x-python",
   "name": "python",
   "nbconvert_exporter": "python",
   "pygments_lexer": "ipython3",
   "version": "3.6.9"
  }
 },
 "nbformat": 4,
 "nbformat_minor": 4
}