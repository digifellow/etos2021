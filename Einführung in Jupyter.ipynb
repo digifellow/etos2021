{
 "cells": [
  {
   "cell_type": "markdown",
   "metadata": {
    "collapsed": false
   },
   "source": [
    "# Einführung in Jupyter Notebooks"
   ]
  },
  {
   "cell_type": "markdown",
   "metadata": {
    "collapsed": false
   },
   "source": [
    "Ein Jupyter Notebook besteht aus einer Liste an **Zellen**.  \n",
    "Diese können entweder Text enthalten, oder Programmcode.  \n",
    "Im letzteren Fall wird nach Ausführen des Programmcodes ebenfalls das Ergebnis, bzw. die Ausgabe des Programms angezeigt.  \n",
    "\n",
    "Zum Beispiel enthält die nächste Zelle ein kleines Programm das zwei Zahlen $x$ und $y$ definiert und multipliziert."
   ]
  },
  {
   "cell_type": "code",
   "execution_count": 0,
   "metadata": {
    "collapsed": false
   },
   "outputs": [
   ],
   "source": [
    "x=5\n",
    "y=10\n",
    "x*y"
   ]
  },
  {
   "cell_type": "markdown",
   "metadata": {
    "collapsed": false
   },
   "source": [
    "Der Inhalt einer Text-Zelle kann geändert werden indem du diese doppelklickst und editierst. \n",
    "Wenn die Zelle ausgewählt ist (blauer Balken links) dann kann sie auch durch `ENTER` bearbeitet werden.   \n",
    "Um eine Änderung (z.B. versehentliches Löschen eines Worts) rückgängig zu machen, nutze `STRG`+`Z` während die Zelle bearbeitet wird.  \n",
    "Um eine versehentlich gelöschte Zelle wieder herzustellen, rechtsklicke und wähle `Undo Cell Operation`. Ebenfalls mit Rechtsklick kannst du Zellen löschen."
   ]
  },
  {
   "cell_type": "markdown",
   "metadata": {
    "collapsed": false
   },
   "source": [
    "Eine Programmcode-Zelle kann mit einfachen Klick ausgewählt und bearbeitet werden, oder mit `ENTER` wenn ausgewählt."
   ]
  },
  {
   "cell_type": "markdown",
   "metadata": {
    "collapsed": false
   },
   "source": [
    "`SHIFT`+`ENTER` zeigt die aktuell ausgewählte Text-Zelle als formatierten Text an, und beendet die Bearbeitung. \n",
    "In der Menüleiste oberhalb dieses Texts ist ein <i class=\"fa fa-play\"></i>-Knopf der das gleiche tut, die Zelle muss dafür ausgewählt sein."
   ]
  },
  {
   "cell_type": "markdown",
   "metadata": {
    "collapsed": false
   },
   "source": [
    "Für Programmcode-Zellen wird stattdessen der Code ausgeführt."
   ]
  },
  {
   "cell_type": "markdown",
   "metadata": {
    "collapsed": false
   },
   "source": [
    "Mit `STRG`+`S`, dem <i class=\"fa fa-save\"></i>-Speichersymbol in der Menüleiste oberhalb dieses Texts, oder im Menu links oben unter `File`<i class=\"fa fa-chevron-right\"></i>`Save Notebook` kannst du dein Notebook speichern. Wenn dein Notebook ungespeicherte Arbeit enthält, dann ist ein voller Punkt ( ● ) neben dem Dateinamen im Reiter ganz oben zu sehen."
   ]
  },
  {
   "cell_type": "markdown",
   "metadata": {
    "collapsed": false
   },
   "source": [
    "Neue Zellen können mit dem <i class=\"fa fa-plus\"></i>-Symbol in der Menüleiste hinzugefügt werden.  \n",
    "Ebenfalls in der Menüleiste kannst eine ausgewählte Text-Zelle (Markdown) in eine Programmcode-Zelle (Code) umwandeln und umgekehrt."
   ]
  },
  {
   "cell_type": "markdown",
   "metadata": {
    "collapsed": false
   },
   "source": [
    "**Aufgabe**: Ersetze den Text der Zelle \"Bearbeite diese Zelle\" mit \"Zelle wurde bearbeitet\"."
   ]
  },
  {
   "cell_type": "markdown",
   "metadata": {
    "collapsed": false
   },
   "source": [
    "Bearbeite diese Zelle"
   ]
  },
  {
   "cell_type": "markdown",
   "metadata": {
    "collapsed": false
   },
   "source": [
    "**Aufgabe**: Füge direkt unter dieser Aufgabe eine Text-Zelle ein mit einem kurzen Satz als Inhalt."
   ]
  },
  {
   "cell_type": "markdown",
   "metadata": {
    "collapsed": false
   },
   "source": [
    "Neben den Programmcode-Zellen sind eckige Klammern, die ein Leerzeichen, einen Stern oder eine Zahl enthalten.  \n",
    "`[ ]` Das Leerzeichen gibt an dass die Zelle nicht ausgeführt wurde,  \n",
    "`[*]` der Stern dass sie gerade noch ausgeführt wird (der Computer ist also noch am Rechnen),  \n",
    "`[5]` die Zahl gibt an die wievielte Zelle insgesamt gerade ausgeführt wurde. \n",
    "\n",
    "Üblicherweise sollten die Zahlen von oben nach unten im Notebook steigen, wobei es okay ist wenn Zahlen übersprungen werden. Dies bedeutet lediglich, dass bestimmte Programme, die schon ausgeführt wurden, überschrieben und daher nicht mehr sichtbar sind. Das passiert zum Beispiel wenn eine Code-Zelle mehrmals ausgeführt wird."
   ]
  },
  {
   "cell_type": "markdown",
   "metadata": {
    "collapsed": false
   },
   "source": [
    "**Aufgabe**: Führe die erste Code-Zelle aus, es sollte dann das Ergebnis 50 angezeigt werden. Führe anschließend die folgende Code-Zelle aus, die die Summe von $x$ und $y$ berechnet:"
   ]
  },
  {
   "cell_type": "code",
   "execution_count": 0,
   "metadata": {
    "collapsed": false
   },
   "outputs": [
   ],
   "source": [
    "x+y"
   ]
  },
  {
   "cell_type": "markdown",
   "metadata": {
    "collapsed": false
   },
   "source": [
    "Wenn du Programmcode änderst, musst du auch die danach folgenden Zellen neu ausführen, um auch dort alle Änderungen (neue Werte von Variablen) zu berücksichtigen."
   ]
  },
  {
   "cell_type": "markdown",
   "metadata": {
    "collapsed": false
   },
   "source": [
    "**Aufgabe**: Ändere den Programmcode in der ersten Code-Zelle so ab, dass $x=5$ und $y=11$ sind, und entsprechend 55 als Ergebnis ausgeben wird. Überprüfe dass die zweite Code-Zelle den korrekten neuen Wert von $x+y$ ausgibt. Dafür musst du sie neu ausführen."
   ]
  },
  {
   "cell_type": "markdown",
   "metadata": {
    "collapsed": false
   },
   "source": [
    "Solange die Berechnungen des Computers nicht lange dauern, kannst du auch alle Code-Zellen im Notebook von oben nach unten neu ausführen. Klicke hierfür in der Menü-Leiste ganz oben auf `Run`<i class=\"fa fa-chevron-right\"></i>`Restart Kernel and Run All Cells`. Bestätige dass es okay ist alle Variablen-Werte zu vergessen, diese werden ja direkt neu definiert."
   ]
  },
  {
   "cell_type": "markdown",
   "metadata": {
    "collapsed": false
   },
   "source": [
    "**Aufgabe**: Führe alle Code-Zellen aus (wie gerade beschrieben)."
   ]
  },
  {
   "cell_type": "markdown",
   "metadata": {
    "collapsed": false
   },
   "source": [
    "Nachfolgend ist ein Programm das einen Fehler wirft, in diesem Beispiel scheitert der Computer (zurecht) an einer Division durch 0. Fehlermeldungen zeigen dir an in welcher Zeile des Codes der Fehler auftritt, und was für eine Art von Fehler es ist."
   ]
  },
  {
   "cell_type": "code",
   "execution_count": 0,
   "metadata": {
    "collapsed": false
   },
   "outputs": [
   ],
   "source": [
    "# Fehlerhaftes Program, teilt durch 0\n",
    "3.0 / 0.0"
   ]
  },
  {
   "cell_type": "markdown",
   "metadata": {
    "collapsed": false
   },
   "source": [
    "**Aufgabe**: Ändere die \"0.0\" in eine \"1.0\" und führe das Programm erneut aus. Diesmal sollte keine Fehlermeldung auftauchen, sondern das Ergebnis der Division angezeigt werden."
   ]
  },
  {
   "cell_type": "markdown",
   "metadata": {
    "collapsed": false
   },
   "source": [
    "Du kannst das Notebook zum Speichern oder Verschicken als Datei auf deinem Rechner herunterladen.   \n",
    "Rechtsklicke hierfür im Dateimanager links auf die Notebookdatei (du musst dafür eventuell in den richtigen Ordner wechseln). Wähle `Download` und lade es ganz normal herunter.\n",
    "\n",
    "Die Dateiendung \".ipynb\" gibt an dass es sich um ein Juypter-Notebook handelt."
   ]
  },
  {
   "cell_type": "markdown",
   "metadata": {
    "collapsed": false
   },
   "source": [
    "**Hochladen der Hausaufgaben**: Die Hausaufgaben können in Moodle hochgeladen werden.  \n",
    "Um sicherzustellen dass die Tutoren die gleichen Ergebnisse sehen wie du, speichere die Datei und führe alle Code-Zellen von vorne aus mit `Run`<i class=\"fa fa-chevron-right\"></i>`Restart Kernel and Run All Cells`.  \n",
    "Das Notebook muss als Python-Datei abgeben werden.  \n",
    "Klicke um das Jupyter-Notebook als Python-Datei zu speichern auf  `File`<i class=\"fa fa-chevron-right\"></i>`Export Notebook As...`<i class=\"fa fa-chevron-right\"></i>`Export Notebook to Executable Script`. Python-Dateien haben die Dateiendung `.py`.\n",
    "Anschließend kannst du die heruntergeladene Datei auf Moodle als Abgabe der Hausaufgabe wieder hochladen."
   ]
  },
  {
   "cell_type": "markdown",
   "metadata": {
    "collapsed": false
   },
   "source": [
    "Links neben diesem Text werden die anderen Dateien der Vorlesung gezeigt. Durch Doppelklick kannst du sie öffnen. Oberhalb dieses Texts kannst du auch einzelne Dateien schließen oder zwischen ihnen wechseln."
   ]
  },
  {
   "cell_type": "markdown",
   "metadata": {
    "collapsed": false
   },
   "source": [
    "Die Übungsblätter und Hausaufgabenblätter werden die bereits als persönliche Kopie zur Verfügung gestellt.  \n",
    "Du kannst sie daher direkt bearbeiten, und wie in den jeweiligen Aufgaben gefordert dann Programmcode-Zellen abändern und ausführen, oder Antworten in Text-Zellen eintragen."
   ]
  },
  {
   "cell_type": "markdown",
   "metadata": {
    "collapsed": false
   },
   "source": [
    "Falls du versehentlich etwas löscht / überschreibst und das nicht rückgängig machen kannst, oder einfach den ursprünglichen Zustand des Übungsblatts haben willst, kannst du wie folgt vorgehen:  \n",
    "Klicke links auf der Seite auf das <img src=\"https://upload.wikimedia.org/wikipedia/commons/a/ad/Git-icon-black.svg\"  width=\"15\">-Symbol (Git).  \n",
    "Unter `Changed` sind die Dateien die du bearbeitet hast aufgelistet.  \n",
    "Rechtsklicke auf die Datei die du zurücksetzen möchtest und wähle `Discard` aus.  \n",
    "Schließe das Notebook und öffne es erneut."
   ]
  },
  {
   "cell_type": "markdown",
   "metadata": {
    "collapsed": false
   },
   "source": [
    "Du kannst natürlich deine Arbeit vorher sicherheitshalber in einer neuen Datei speichern. Dies geht mit  `File`<i class=\"fa fa-chevron-right\"></i>`Save Notebook As...` .  \n",
    "Du kannst dann einen neuen Dateipfad angeben, eine Kopie wird dort gespeichert."
   ]
  },
  {
   "cell_type": "markdown",
   "metadata": {
    "collapsed": false
   },
   "source": [
    "Während den Übungen werden eventuell Änderungen von Seite der Tutoren an den Übungsblättern gemacht, oder das neue Hausaufgabenblatt hochgeladen.  \n",
    "Um diese Änderungen angezeigt zu bekommen gehe wie folgt vor:  \n",
    "Speichere all deine bearbeiteten Dateien.  \n",
    "Öffne das Hub Control Panel im Menü: `File`<i class=\"fa fa-chevron-right\"></i>`Hub Control Panel` , ein neuer Tab im Browser sollte sich öffnen.  \n",
    "Klicke auf `Stop My Server` und warte bis nur noch ein Button dort steht (`Start My Server`). \n",
    "Klicke ihn, und dann wähle `Launch Server`.  \n",
    "Du solltest wieder in der Spawn-Ansicht sein.  \n",
    "Wähle wieder `[PhysETOS]` aus und starte deinen Notebook-Server mit `Start`.  \n",
    "\n",
    "Die neuen Änderungen und Dateien sollten jetzt verfügbar sein."
   ]
  },
  {
   "cell_type": "markdown",
   "metadata": {
    "collapsed": false
   },
   "source": [
    "**Aufgabe**: Speichere eine Kopie dieser Datei (zum Beispiel als \"Übungsaufgaben/Einführung in Jupyter 2.ipynb\"). Dann setze dieses Notebook wie beschrieben zurück."
   ]
  },
  {
   "cell_type": "markdown",
   "metadata": {
    "collapsed": false
   },
   "source": [
    "**Aufgabe**: Starte wie beschrieben deinen Notebook-Server neu."
   ]
  },
  {
   "cell_type": "markdown",
   "metadata": {
    "collapsed": false
   },
   "source": [
    "Notiz: dieses Jupyter-Notebook\n",
    "wird nicht eingesammelt oder bewertet. "
   ]
  },
  {
   "cell_type": "markdown",
   "metadata": {
    "collapsed": false
   },
   "source": [
    "Notiz 2: eine zusätzliche Einführung in die Nutzung von Jupyter-Notebooks auf Englisch ist hier zu finden: https://jupyterlab.readthedocs.io/en/stable/user/interface.html"
   ]
  },
  {
   "cell_type": "markdown",
   "metadata": {
    "collapsed": false
   },
   "source": [
    "Notiz 3: Ein Video, welches visuell die Bedienung von JupyterLab demonstriert, wird in den nächsten Tagen zur Verfügung gestellt."
   ]
  },
  {
   "cell_type": "markdown",
   "metadata": {
    "collapsed": false
   },
   "source": [
    "### Bearbeiten und Speichern\n",
    "* Bearbeiten einer Zelle: Einfach- oder Doppelklick für Programmcode- oder Text-zelle.\n",
    "* Ausführen einer Zelle: `SHIFT`+`ENTER` oder <i class=\"fa fa-play\"></i>-Button.\n",
    "* Alles neu ausführen: `Run`<i class=\"fa fa-chevron-right\"></i>`Restart Kernel and Run All Cells`.\n",
    "* Speichern des Notebooks: `STRG`+`S` oder <i class=\"fa fa-save\"></i>-Button.\n",
    "* Kopie des Notebooks speichern: `File`<i class=\"fa fa-chevron-right\"></i>`Save Notebook As...`, neuen Dateinamen wählen (zum Beispiel eine Zahl vor dem .ipynb einfügen).\n",
    "* Kopie des Notebooks herunterladen: Rechtsklick auf Notebooknamen im Dateimanager, dann `Download`.\n",
    "* Notebook als Python-Datei herunterladen: `File`<i class=\"fa fa-chevron-right\"></i>`Export Notebook As...`<i class=\"fa fa-chevron-right\"></i>`Export Notebook to Executable Script`.\n",
    "\n",
    "### Abgabe der Hausaufgabe\n",
    "* Vor Abgabe alle Programmcode-zellen neu ausführen, damit die Tutoren beim Ausführen die gleichen Ergebnisse sehen wie du.\n",
    "* Speichern nicht vergessen.\n",
    "* Als Python-Datei herunterladen.\n",
    "* Auf Moodle die Python-Datei als Abgabe hochladen."
   ]
  }
 ],
 "metadata": {
  "kernelspec": {
   "display_name": "Python 3 (system-wide)",
   "language": "python",
   "metadata": {
    "cocalc": {
     "description": "Python 3 programming language",
     "priority": 100,
     "url": "https://www.python.org/"
    }
   },
   "name": "python3",
   "resource_dir": "/ext/jupyter/kernels/python3"
  },
  "language_info": {
   "codemirror_mode": {
    "name": "ipython",
    "version": 3
   },
   "file_extension": ".py",
   "mimetype": "text/x-python",
   "name": "python",
   "nbconvert_exporter": "python",
   "pygments_lexer": "ipython3",
   "version": "3.7.6"
  }
 },
 "nbformat": 4,
 "nbformat_minor": 4
}