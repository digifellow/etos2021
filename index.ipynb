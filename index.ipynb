{
 "cells": [
  {
   "cell_type": "markdown",
   "metadata": {
    "collapsed": false
   },
   "source": [
    "<div>\n",
    "    <img src=\"FHAachen-logo2.svg\" style=\"float: right;height: 15em;\">\n",
    "</div>\n",
    "<div>\n",
    "    <img src=\"IIIPIB_RWTH.png\" style=\"float: right;height: 6.5em;\">\n",
    "</div>\n",
    "\n",
    "## Einführung in die Physik im SS 2021\n",
    "**Darius Mottaghy**        \n",
    "**Stefan Roth**\n",
    "\n",
    "Zur linken Seite dieses Texts befindet sich der Ordner \"Übungsaufgaben\", in dem jede Woche einer neuer Ordner mit Aufgaben erscheint. \n",
    "\n",
    "Alternativ sind hier mehrere Links auf die entsprechenden Jupyter-Notebooks aufgelistet:\n",
    "\n",
    "- Kurze Einführung in die Nutzung von Jupyter-Notebooks: [Einführung_in_Jupyter.ipynb](./Einführungen_Jupyter+Python/Einführung_in_Jupyter.ipynb).\n",
    "- Eine Kurzübersicht der Shortcuts & Befehle ist hier: [Kurzanleitung_Jupyter.ipynb](./Einführungen_Jupyter+Python/Kurzanleitung_Jupyter.ipynb).\n",
    "- Programmieren mit Python als kleines Kompendium: [Python_Kompendium.ipynb](./Einführungen_Jupyter+Python/Python_Kompendium.ipynb)."
   ]
  },
  {
   "cell_type": "markdown",
   "metadata": {
    "collapsed": false
   },
   "source": [
    "## Inhaltsverzeichnis\n",
    "\n",
    "| Arbeitsblatt | Ausgabe | Abgabe | Besprechung  | Thema | Lösung \n",
    "|---------------------------|--------------|--------------|--------------------------------------------|----------------|-----------|\n",
    "| [Übung 1](./Übungsaufgaben/Uebung_1/Uebung1_task.ipynb) | 19.04.2021 | keine | 19.04.2021 | Einheiten und Messfehler |[Übung 1](./Übungsaufgaben/Uebung_1/Uebung1_solution.ipynb)|\n",
    "| [Hausaufgabe 1](./Hausaufgaben/Hausaufgabe1/Hausaufgabe1_task.ipynb) | 19.04.2021 | 02.05.2021 | - | - |[Hausaufgabe 1](./Hausaufgaben/Hausaufgabe1/Hausaufgabe1_solution.ipynb) |\n",
    "| [Übung 2](./Übungsaufgaben/Uebung_2/Uebung2_task.ipynb) | 26.04.2021 | keine | 03.05.2021 | Kräfte | [Übung 2](./Übungsaufgaben/Uebung_2/Uebung2_solution.ipynb)|\n",
    "| [Hausaufgabe 2](./Hausaufgaben/Hausaufgabe2/Hausaufgabe2_task.ipynb) | 03.05.2021 | 16.05.2021 | - | - |  [Hausaufgabe 2](./Hausaufgaben/Hausaufgabe2/Hausaufgabe2_solution.ipynb) |\n",
    "| [Übung 3](./Übungsaufgaben/Uebung_3/Uebung3_task.ipynb) | 17.05.2021 | keine | 17.05.2021 | Kinematik | [Übung 3](./Übungsaufgaben/Uebung_3/Uebung3_solution.ipynb)|\n",
    "| [Hausaufgabe 3](./Hausaufgaben/Hausaufgabe3/Hausaufgabe3_task.ipynb) | 17.05.2021 | 31.05.2021 | - | - |[Hausaufgabe 3](./Hausaufgaben/Hausaufgabe3/Hausaufgabe3_solution.ipynb)|\n",
    "| [Übung 4](./Übungsaufgaben/Uebung_4/Uebung4_task.ipynb) | 07.06.2021 | keine | 07.06.2021 | Arbeit und Energie | [Übung 4](./Übungsaufgaben/Uebung_4/Uebung4_solution.ipynb)|\n",
    "| [Hausaufgabe 4](./Hausaufgaben/Hausaufgabe4/Hausaufgabe4_task.ipynb)- | 07.06.2021 | 21.06.2021 | - | - |[Hausaufgabe 4](./Hausaufgaben/Hausaufgabe4/Hausaufgabe4_solution.ipynb) |\n",
    "| [Übung 5](./Übungsaufgaben/Uebung_5/Uebung5_task.ipynb) | 21.06.2021 | keine | 21.06.2021 | Periodische Bewegung | [Übung 5](./Übungsaufgaben/Uebung_5/Uebung5_solution.ipynb)|\n",
    "| [Hausaufgabe 5](./Hausaufgaben/Hausaufgabe5/Hausaufgabe5_task.ipynb) | 21.06.2021 | 05.07.2021 | - | - |[Hausaufgabe 5](./Hausaufgaben/Hausaufgabe5/Hausaufgabe5_solution.ipynb)|\n",
    "| [Übung 6](./Übungsaufgaben/Uebung_6/Uebung6_task.ipynb) | 05.07.2021 | keine | 05.07.2021 | Wärme | [Übung 6](./Übungsaufgaben/Uebung_6/Uebung6_solution.ipynb)|\n",
    "| [Hausaufgabe 6](./Hausaufgaben/Hausaufgabe6/Hausaufgabe6_task.ipynb) | 05.07.2021 | 19.07.2021 | - | - |[Hausaufgabe 6](./Hausaufgaben/Hausaufgabe6/Hausaufgabe6_solution.ipynb)|\n",
    "| [Übung 7](./Übungsaufgaben/Uebung_7/Uebung7_task.ipynb) | 19.07.2021 | keine | 19.07.2021 | Thermodynamische Prozesse| [Übung 7](./Übungsaufgaben/Uebung_7/Uebung7_solution.ipynb)|\n",
    "| [Hausaufgabe 7](./Hausaufgaben/Hausaufgabe6/Hausaufgabe6_task.ipynb) | 19.07.2021 | 02.08.2021 | - | - |*Hausaufgabe 7*|\n"
   ]
  },
  {
   "cell_type": "code",
   "execution_count": 0,
   "metadata": {
    "collapsed": false,
    "jupyter": {
     "outputs_hidden": false
    }
   },
   "outputs": [
   ],
   "source": [
   ]
  }
 ],
 "metadata": {
  "kernelspec": {
   "display_name": "Python 3 (system-wide)",
   "language": "python",
   "metadata": {
    "cocalc": {
     "description": "Python 3 programming language",
     "priority": 100,
     "url": "https://www.python.org/"
    }
   },
   "name": "python3",
   "resource_dir": "/ext/jupyter/kernels/python3"
  },
  "language_info": {
   "codemirror_mode": {
    "name": "ipython",
    "version": 3
   },
   "file_extension": ".py",
   "mimetype": "text/x-python",
   "name": "python",
   "nbconvert_exporter": "python",
   "pygments_lexer": "ipython3",
   "version": "3.6.9"
  }
 },
 "nbformat": 4,
 "nbformat_minor": 4
}