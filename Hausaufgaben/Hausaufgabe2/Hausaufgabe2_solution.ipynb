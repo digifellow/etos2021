{
 "cells": [
  {
   "cell_type": "markdown",
   "metadata": {
    "collapsed": false
   },
   "source": [
    "<div>\n",
    "    <img src=\"static/FHAachen-logo2.svg\" style=\"float: right;height: 15em;\">\n",
    "</div>\n",
    "<div>\n",
    "    <img src=\"static/IIIPIB_RWTH.png\" style=\"float: right;height: 6.5em;\">\n",
    "</div>\n",
    "\n",
    "**Einf\u00fchrung in die Physik im SS 2021** \\\n",
    "**Darius Mottaghy**        \\\n",
    "**Stefan Roth**\n",
    "\n",
    "## Hausaufgabe 2: Kr\u00e4fte\n",
    "\n"
   ]
  },
  {
   "cell_type": "markdown",
   "metadata": {
    "collapsed": false
   },
   "source": [
    "<div style= \"color: black;background-color: rgba(0,177,172, 0.1) ;margin: 10 px auto; padding: 10px; border-radius: 10px\">\n",
    "<p style=\"font-size:12pt; text-align:center; color: black;background-color: rgba(0,177,172, 0.1) ;margin: 10 px auto; padding: 10px; border-radius: 10px\" id=\"2\"><b>  Hausaufgabe - Reibung</b>  </p> \n",
    "Betrachten Sie zwei Massen $m_1$ und $m_2$, die mit einem einen Seil \u00fcber eine Umlenkrolle miteinander verbunden sind. Auf die linke Seite sind die Reibungskoeffizienten $\\mu_H = 0,5$ und $\\mu_G = 0,3$ vorgegeben, die rechte Seite ist reibungsfrei. Die Neigung der rechten Seite betr\u00e4gt $\\alpha = 70\u00b0$.\n",
    "    \n",
    "<table cellpadding=\"0\"><tbody><tr>\n",
    "<td>\n",
    "<p style=\"text-align:center;font-size:small;\">\n",
    "<img img src=\"static/HA2v2.svg\" alt=\"\" role=\"presentation\" class=\"img-responsive atto_image_button_middle\" style=\"height: 22em;\">\n",
    "<br>\n",
    "<b>Abbildung</b>: ??\n",
    "</p>\n",
    "</td>\n",
    "<td width=\"20\"></td>\n",
    "</tbody></table>"
   ]
  },
  {
   "cell_type": "markdown",
   "metadata": {
    "collapsed": false
   },
   "source": [
    "<font style=\"background-color:#BFBFBF \"> **Vorgehensweise  :**</font>\n",
    "\n",
    "1. Erstellen Sie f\u00fcr die Reibungskraft $F_R$ und die Hangabtriebskraft $F_H$ je eine Funktion in Python, die von der Masse, der Neigung und dem Reibungskoeffizienten abh\u00e4ngen. Teste die Funktionen f\u00fcr die Haftreibungskraft auf der linken Seite und die Hangabtriebskraft auf der rechten Seite mit $m_1= 50~\\mathrm{kg}$ und $m_2=15~\\mathrm{kg}$."
   ]
  },
  {
   "cell_type": "code",
   "execution_count": 2,
   "metadata": {
    "collapsed": false
   },
   "outputs": [
    {
     "name": "stdout",
     "output_type": "stream",
     "text": [
      "Die Haftreibungskraft der linken Seite ist: 245 N.\n",
      "Die Hangabtriebskraft der rechten Seite ist: 138 N.\n"
     ]
    }
   ],
   "source": [
    "import numpy as np\n",
    "\n",
    "g = 9.81  # Erdbeschleunigung m/s\u00b2\n",
    "\n",
    "def F_R(m, alpha, mu):\n",
    "    F_R = mu*m*g\n",
    "    return F_R\n",
    "\n",
    "def F_H(m, alpha, mu): \n",
    "    F_H = m*g*np.sin(np.radians(alpha))\n",
    "    return F_H\n",
    "\n",
    "print(\"Die Haftreibungskraft der linken Seite ist: %.0f N.\" % F_R(50, 0, 0.5))\n",
    "print(\"Die Hangabtriebskraft der rechten Seite ist: %.0f N.\" % F_H(15, 70, 0))"
   ]
  },
  {
   "cell_type": "markdown",
   "metadata": {
    "collapsed": false
   },
   "source": [
    "2. Die Masse $m_1$ sei weiterhin $50~\\mathrm{kg}$, $m_2$ kann die Werte $10, 15, 20, 25, 30, 35~\\mathrm{kg}$ annehmen. Was ist die kleinste Masse, die das System beschleunigt? Schreiben Sie eine Funktion, die f\u00fcr gegebenen $m_2$ bestimmt, ob das System beschleunigt wird oder nicht."
   ]
  },
  {
   "cell_type": "markdown",
   "metadata": {
    "collapsed": false
   },
   "source": [
    "**L\u00f6sung**:   \n",
    "$$F_R  < F_{H_2}$$\n",
    "$$\\mu_H \\cdot F_{N_1} < m_2\\cdot g \\cdot \\sin\\alpha$$\n",
    "$$\\mu_H \\cdot m_1 < m_2\\cdot  \\sin\\alpha$$"
   ]
  },
  {
   "cell_type": "code",
   "execution_count": 4,
   "metadata": {
    "collapsed": false
   },
   "outputs": [
    {
     "name": "stdout",
     "output_type": "stream",
     "text": [
      "Masse 2: 25 kg. Das System ist in Ruhe.\n"
     ]
    }
   ],
   "source": [
    "def losfahren_ja_nein(m2):\n",
    "    if F_R(50, 70, 0.5) < F_H(m2, 70, 0.5):\n",
    "        print('Masse 2: %.0f kg. Das System beschleunigt.' % m2)\n",
    "    else:\n",
    "        print('Masse 2: %.0f kg. Das System ist in Ruhe.' % m2)\n",
    "        \n",
    "losfahren_ja_nein(25)"
   ]
  },
  {
   "cell_type": "markdown",
   "metadata": {
    "collapsed": false
   },
   "source": [
    "3. Berechnen Sie die Beschleunigung des Systems f\u00fcr $m_1=50~\\mathrm{kg}$ und $m_2=30~\\mathrm{kg}$."
   ]
  },
  {
   "cell_type": "markdown",
   "metadata": {
    "collapsed": false
   },
   "source": [
    "**L\u00f6sung**:   \n",
    "    \n",
    "$$ a \\cdot (m_1 + m_2) = F_{H_2} - F_R $$\n",
    "$$a\\cdot (m_1+m_2) = m_2\\cdot g \\cdot \\sin\\alpha - \\mu_G \\cdot m_1 \\cdot g $$\n",
    "\n",
    "$$a = g \\frac{m_2\\cdot \\sin\\alpha - \\mu_G \\cdot m_1}{m_1+m_2}  $$"
   ]
  },
  {
   "cell_type": "code",
   "execution_count": 6,
   "metadata": {
    "collapsed": false
   },
   "outputs": [
    {
     "name": "stdout",
     "output_type": "stream",
     "text": [
      "Die Beschleunigung des Systems ist 1.62 m/s\u00b2.\n"
     ]
    }
   ],
   "source": [
    "m1 = 50\n",
    "m2 = 30\n",
    "alpha = 70\n",
    "mu_G = 0.3\n",
    "\n",
    "a = (F_H(m2, alpha, 0)-F_R(m1, 0, mu_G))/(m1+m2)\n",
    "\n",
    "print('Die Beschleunigung des Systems ist %.2f m/s\u00b2.' % a)"
   ]
  }
 ],
 "metadata": {
  "kernelspec": {
   "display_name": "Python 3 (system-wide)",
   "language": "python",
   "metadata": {
    "cocalc": {
     "description": "Python 3 programming language",
     "priority": 100,
     "url": "https://www.python.org/"
    }
   },
   "name": "python3",
   "resource_dir": "/ext/jupyter/kernels/python3"
  },
  "language_info": {
   "codemirror_mode": {
    "name": "ipython",
    "version": 3
   },
   "file_extension": ".py",
   "mimetype": "text/x-python",
   "name": "python",
   "nbconvert_exporter": "python",
   "pygments_lexer": "ipython3",
   "version": "3.6.9"
  }
 },
 "nbformat": 4,
 "nbformat_minor": 4
}