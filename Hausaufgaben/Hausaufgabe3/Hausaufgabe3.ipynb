{
 "cells": [
  {
   "cell_type": "code",
   "execution_count": 1,
   "metadata": {
    "collapsed": false
   },
   "outputs": [
   ],
   "source": [
    "##development\n",
    "%load_ext extension_notebook_splitter"
   ]
  },
  {
   "cell_type": "markdown",
   "metadata": {
    "collapsed": false
   },
   "source": [
    "<div>\n",
    "    <img src=\"static/FHAachen-logo2.svg\" style=\"float: right;height: 15em;\">\n",
    "</div>\n",
    "<div>\n",
    "    <img src=\"static/IIIPIB_RWTH.png\" style=\"float: right;height: 6.5em;\">\n",
    "</div>\n",
    "\n",
    "**Einführung in die Physik im SS 2021** \\\n",
    "**Darius Mottaghy**        \\\n",
    "**Stefan Roth**\n",
    "\n",
    "## Hausaufgabe 3: Kinematik\n",
    "\n"
   ]
  },
  {
   "cell_type": "markdown",
   "metadata": {
    "collapsed": false
   },
   "source": [
    "<div style= \"color: black;background-color: rgba(0,177,172, 0.1) ;margin: 10 px auto; padding: 10px; border-radius: 10px\">\n",
    "<p style=\"font-size:12pt; text-align:center; color: black;background-color: rgba(0,177,172, 0.1) ;margin: 10 px auto; padding: 10px; border-radius: 10px\" id=\"2\"><b>  Hausaufgabe - Bewegung</b>  </p> \n",
    "Bei einem Parabelflug bewegt sich ein Flugzeug auf einer parabelförmigen Flugbahn, so dass im Inneren des Flugzeugs Schwerelosigkeit herrscht. <a href=\"https://www.youtube.com/watch?v=Qt7vGlAjCyc&feature=youtu.be\">Hier</a> finden Sie eine Video des Deutschen Zentrums für Luft- und Raumfahrt (DLR) zum Parabelflug.\n",
    "Wir betrachten ein Flugzeug, das mit einer Geschwindigkeit von $v=600~\\mathrm{\\frac{km}{h}}$ aus einem Steigflug unter einem Steigwinkel $\\alpha$ einen Parabelflug startet und diesen wieder beim gleichen Sinkwinkel auch beendet. \n",
    "    \n"
   ]
  },
  {
   "cell_type": "markdown",
   "metadata": {
    "collapsed": false
   },
   "source": [
    "<font style=\"background-color:#BFBFBF \"> **Vorgehensweise  :**</font>\n",
    "\n",
    "**a)** Leiten Sie die Beziehung zwischen Höhe und Zeit her. Schreiben Sie eine Funktion, die für gegeben Winkel und Zeit, die Höhe berechnet. Ersetzen Sie dazu '#TODO' entsprechend. "
   ]
  },
  {
   "cell_type": "code",
   "execution_count": 2,
   "metadata": {
    "collapsed": false,
    "exercise": "task"
   },
   "outputs": [
   ],
   "source": [
    "%%task\n",
    "import math\n",
    "import scipy.constants as const\n",
    "\n",
    "v= #TODO # in m/s\n",
    "\n",
    "# Verlauf der Höhe über der Zeit\n",
    "def hoehet(alpha,t):\n",
    "    return #TODO"
   ]
  },
  {
   "cell_type": "code",
   "execution_count": 3,
   "metadata": {
    "collapsed": false,
    "exercise": "solution"
   },
   "outputs": [
   ],
   "source": [
    "%%solution\n",
    "import math\n",
    "import scipy.constants as const\n",
    "\n",
    "v= 600/(3.6) #m/s\n",
    "\n",
    "# Verlauf der Höhe über der Zeit\n",
    "def hoehet(alpha,t):\n",
    "    return v*math.sin( math.radians(alpha))*t-(0.5*const.g*t**2)"
   ]
  },
  {
   "cell_type": "markdown",
   "metadata": {
    "collapsed": false
   },
   "source": [
    "Wir zeigen, mit Hilfe Ihrer Funktion, die Höhe des Flugzeuges bei verschiedenen Winkel. Dabei wurde der Ursprung des Koordinatensystems am Startpunkt des Parabelfluges angesetzt."
   ]
  },
  {
   "cell_type": "code",
   "execution_count": 4,
   "metadata": {
    "collapsed": false
   },
   "outputs": [
   ],
   "source": [
    "import matplotlib.pyplot as plt\n",
    "import numpy as np\n",
    "\n",
    "# Verlauf der Höhe über x\n",
    "def hoehex(alpha, x):\n",
    "    return math.tan(math.radians(alpha))*x-( 0.5*const.g* x**2/((v*math.cos(math.radians(alpha)))**2))\n",
    "\n",
    "alpha= [40,45,55]\n",
    "t=np.linspace(0,28)\n",
    "x=np.linspace(0,3000)\n",
    "\n",
    "fig, (ax1, ax2) = plt.subplots(1, 2, figsize=(15,5))\n",
    "\n",
    "fig.suptitle('Höhe über Zeit und x bei verschiedenen Winkel ')\n",
    "ax1.set_xlabel('Zeit / s') #Label für die x-Achse\n",
    "ax2.set_xlabel('x-Position / km')\n",
    "ax1.set_ylabel('Höhe / km') #Label für die y-Achse\n",
    "ax2.set_ylabel('Höhe / km')\n",
    "ax1.plot( t, hoehet(alpha[0], t)*10**(-3), 'r-' ,linewidth= 2 ,label='%i°'%alpha[0])\n",
    "ax1.plot( t, hoehet(alpha[1], t)*10**(-3), 'g-.' ,linewidth= 2, label='%i°'%alpha[1])\n",
    "ax1.plot( t, hoehet(alpha[2], t)*10**(-3), 'm:',linewidth= 2, label='%i°'%alpha[2])\n",
    "\n",
    "ax2.plot( x*10**(-3), hoehex(alpha[0], x)*10**(-3),'r-' ,linewidth= 2, label='%i°'%alpha[0])\n",
    "ax2.plot( x*10**(-3), hoehex(alpha[1], x)*10**(-3),'g-.',linewidth= 2, label='%i°'%alpha[1])\n",
    "ax2.plot( x*10**(-3), hoehex(alpha[2], x)*10**(-3), 'm:', linewidth= 2, label='%i°'%alpha[2])\n",
    "\n",
    "fig.suptitle('Höhe des Flugszeugs bei %i°, %i° und %i° '%(alpha[0],alpha[1],alpha[2]))\n",
    "ax2.set_title(\"Höhe über x-Position\")\n",
    "ax1.set_title(\"Höhe über Zeit\")\n",
    "    \n",
    "ax1.set_ylim(bottom=0.)\n",
    "ax2.set_ylim(bottom=0.)\n",
    "ax1.set_xlim(left=0.)\n",
    "ax2.set_xlim(left=0.)\n",
    "ax1.legend()\n",
    "ax2.legend()\n",
    "ax1.grid()\n",
    "ax2.grid()\n",
    "plt.show()\n"
   ]
  },
  {
   "cell_type": "markdown",
   "metadata": {
    "collapsed": false
   },
   "source": [
    "Passen Sie beim dreidimensionalen Bild auf, es handelt sich um eine zweidimensionale Bewegung im Räumlichen, aber als zusätzliche Achse wurde die Zeit genommen."
   ]
  },
  {
   "cell_type": "code",
   "execution_count": 5,
   "metadata": {
    "collapsed": false
   },
   "outputs": [
    {
     "data": {
      "text/plain": [
       "Text(0.5, 0.92, 'Parabelflug in Abhängigkeit der Höhe, x-Position und Zeit')"
      ]
     },
     "execution_count": 5,
     "metadata": {
     },
     "output_type": "execute_result"
    },
    {
     "data": {
      "image/png": "[encoded data removed]",
      "text/plain": [
       "<Figure size 720x432 with 1 Axes>"
      ]
     },
     "execution_count": 5,
     "metadata": {
      "image/png": {
       "height": 356,
       "width": 377
      },
      "needs_background": "light"
     },
     "output_type": "execute_result"
    }
   ],
   "source": [
    "import matplotlib as mpl\n",
    "from mpl_toolkits.mplot3d import Axes3D\n",
    "import numpy as np\n",
    "import matplotlib.pyplot as plt\n",
    "\n",
    "mpl.rcParams['legend.fontsize'] = 10\n",
    "fig = plt.figure(figsize=(10,6))\n",
    "ax = fig.gca(projection='3d')\n",
    "\n",
    "def xt(alpha,t):\n",
    "    return v*math.cos(math.radians(alpha))*t\n",
    "\n",
    "for i in range(0,3):\n",
    "    x=xt(alpha[i],t)\n",
    "    y=hoehet(alpha[i],t)\n",
    "    ax.plot(t,x*10**(-3), y*10**(-3), label='%i°'%alpha[i])\n",
    "    ax.legend()\n",
    "    \n",
    "ax.set_xlabel('Zeit / s')\n",
    "ax.set_ylabel('x-Position / km')\n",
    "ax.set_zlabel('Höhe / km')\n",
    "ax.set_zlim(bottom=0.)\n",
    "ax.set_title('Parabelflug in Abhängigkeit der Höhe, x-Position und Zeit')"
   ]
  },
  {
   "cell_type": "markdown",
   "metadata": {
    "collapsed": false
   },
   "source": [
    "**b)** Schreiben Sie eine Funktion, die für gegeben Winkel, die Flugdauer berechnet. Geben Sie für $\\alpha= 40°, 45°, 55°$ jeweils das Ergebnis aus. Ersetzten Sie dazu das '#TODO' entsprechend."
   ]
  },
  {
   "cell_type": "code",
   "execution_count": 6,
   "metadata": {
    "collapsed": false,
    "exercise": "task"
   },
   "outputs": [
   ],
   "source": [
    "%%task\n",
    "def flugdauer(alpha):\n",
    "    return #TODO\n",
    "\n",
    "print(\"Die Flugdauer bei 40° ist: %.0f\"% #TODO , \"s\")\n",
    "print(\"Die Flugdauer bei 45° ist: %.0f\"% #TODO , \"s\")\n",
    "print(\"Die Flugdauer bei 55° ist: %.0f\"% #TODO , \"s\")"
   ]
  },
  {
   "cell_type": "code",
   "execution_count": 7,
   "metadata": {
    "collapsed": false,
    "exercise": "solution"
   },
   "outputs": [
    {
     "name": "stdout",
     "output_type": "stream",
     "text": [
      "Die Flugdauer bei 40° ist: 22 s\n",
      "Die Flugdauer bei 45° ist: 24 s\n",
      "Die Flugdauer bei 55° ist: 28 s\n"
     ]
    }
   ],
   "source": [
    "%%solution\n",
    "def flugdauer(alpha):\n",
    "    return 2*v*math.sin( math.radians(alpha))/ const.g\n",
    "\n",
    "#Die Zeitdauer ergibt sich als zweimal ein freier Fall, wobei die Endgeschwindigkeit die vertikale Komponente der Flugzeuggeschwindigkeit ist:\n",
    "\n",
    "print(\"Die Flugdauer bei 40° ist: %.0f\"% flugdauer(alpha[0]), \"s\")\n",
    "print(\"Die Flugdauer bei 45° ist: %.0f\"% flugdauer(alpha[1]), \"s\")\n",
    "print(\"Die Flugdauer bei 55° ist: %.0f\"% flugdauer(alpha[2]), \"s\")\n"
   ]
  },
  {
   "cell_type": "code",
   "execution_count": 0,
   "metadata": {
    "collapsed": false
   },
   "outputs": [
   ],
   "source": [
   ]
  }
 ],
 "metadata": {
  "kernelspec": {
   "display_name": "Python 3 (system-wide)",
   "language": "python",
   "metadata": {
    "cocalc": {
     "description": "Python 3 programming language",
     "priority": 100,
     "url": "https://www.python.org/"
    }
   },
   "name": "python3",
   "resource_dir": "/ext/jupyter/kernels/python3"
  },
  "language_info": {
   "codemirror_mode": {
    "name": "ipython",
    "version": 3
   },
   "file_extension": ".py",
   "mimetype": "text/x-python",
   "name": "python",
   "nbconvert_exporter": "python",
   "pygments_lexer": "ipython3",
   "version": "3.6.9"
  }
 },
 "nbformat": 4,
 "nbformat_minor": 4
}