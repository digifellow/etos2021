{
 "cells": [
  {
   "cell_type": "markdown",
   "metadata": {
    "collapsed": false
   },
   "source": [
    "<div>\n",
    "    <img src=\"static/FHAachen-logo2.svg\" style=\"float: right;height: 15em;\">\n",
    "</div>\n",
    "<div>\n",
    "    <img src=\"static/IIIPIB_RWTH.png\" style=\"float: right;height: 6.5em;\">\n",
    "</div>\n",
    "\n",
    "**Einführung in die Physik im SS 2021** \\\n",
    "**Darius Mottaghy**        \\\n",
    "**Stefan Roth**\n",
    "\n",
    "## Hausaufgabe 4: Arbeit und Energie"
   ]
  },
  {
   "cell_type": "markdown",
   "metadata": {
    "collapsed": false
   },
   "source": [
    "<div style= \"color: black;background-color: rgba(0,177,172, 0.1) ;margin: 10 px auto; padding: 10px; border-radius: 10px\">\n",
    "<p style=\"font-size:12pt; text-align:center; color: black;background-color: rgba(0,177,172, 0.1) ;margin: 10 px auto; padding: 10px; border-radius: 10px\" id=\"2\"><b>  Hausaufgabe - Federsystem</b>  </p> \n",
    "Wir betrachten einen Klotz der Masse $m= 2,5 \\text{ kg}$, der sich reibungslos horizontal mit Anfangsgeschwindigkeit $v_0 = 5 \\, \\frac{m}{s}$ auf eine Feder zubewegt, welche an einer Wand befestigt ist (siehe Bild unten).\n",
    "Die Feder in der Ruhelage befindet sich in der Position $x_0$ (erster Wert in der Tabelle) . Wenn sie maximal zusammengestaucht ist, bezeichnen wir die Position mit $x_{\\max}$ (10. Wert in der Tabelle).\n",
    "    \n",
    "<table cellpadding=\"0\"><tbody><tr>\n",
    "<td>\n",
    "<p style=\"text-align:center;font-size:small;\">\n",
    "<img img src=\"static/feder1.svg\" alt=\"\" role=\"presentation\" class=\"img-responsive atto_image_button_middle\" style=\"height: 30em;\">\n",
    "<br>\n",
    "<b>Abbildung</b>: Feder-Masse-System\n",
    "</p>\n",
    "</td>\n",
    "<td width=\"20\"></td>\n",
    "</tbody></table>\n",
    "    \n",
    "\n",
    "|Parameter|1| 2|3|4| 5|6|7| 8|9|10| \n",
    "|:------|:------:|:------:|:------:|:------:|:------:|:------:|:------:|:------:|:------:|:------:|\n",
    "|Zeit $t$ in $s$|0| 0,0087|0,0174|0,0262|0,0349|0,0436|0,0524| 0,0611|0,0698|0,0785| \n",
    "|Verschiebung $\\Delta x$ in $m$|0|0,0434|0,0855|0,1250|0,1607|0,1915|0,2165|0,2349|0,2462|0,2500|\n",
    "|Geschwindigkeit $v$ in $\\frac{m}{s}$| 5| 4,9241| 4,6985| 4,3301| 3,8302| 3,2142| 2,5002| 1,7114| 0,8685 | 0\n"
   ]
  },
  {
   "cell_type": "markdown",
   "metadata": {
    "collapsed": false
   },
   "source": [
    "<font style=\"background-color:#BFBFBF \"> **Vorgehensweise  :**</font>\n",
    "1.  Wie hoch ist die maximale potentielle Energie? Bestimmen sie dazu die Federkonstante und geben sie beide Werte aus."
   ]
  },
  {
   "cell_type": "code",
   "execution_count": 0,
   "metadata": {
    "collapsed": false,
    "exercise": "task"
   },
   "outputs": [
   ],
   "source": [
    "#Speichere die Werte in Variablen\n",
    "m =        # kg\n",
    "v_0 =      # m/s\n",
    "x_0 =      # m\n",
    "x_max =    # m\n",
    "Deltax =   # m\n",
    "\n",
    "#Überlege dir die Formeln für D und Epot\n",
    "D =         # Nm\n",
    "Epot_max =  # J\n",
    "\n",
    "#Ausgabe\n",
    "print('Die potentielle Energie bei maximaler ... und die Federkonstante ...')"
   ]
  },
  {
   "cell_type": "markdown",
   "metadata": {
    "collapsed": false
   },
   "source": [
    "2. Wie der Verlauf der kinetischen, potentiellen und gesamten Energie des Gesamtsystems über der Zeit? Wie ist der Verlauf über den Ort (gemäß dem gewählten Koordinatensystem also über die Ausdehnung der Feder)? Um und $E_{kin}, E_{pot}, E_{ges}-t $ bzw. $E_{kin}, E_{pot}, E_{ges}-  x $  Diagramme plotten zu können, verwenden Sie die oberen Tabellen.         \n",
    "    *Hinweis*: Bitte weisen Sie Ihre Diagramme in den angegebenen Variablen `plotn`,damit die automatische Auswertung diese finden kann.\n"
   ]
  },
  {
   "cell_type": "code",
   "execution_count": 0,
   "metadata": {
    "collapsed": false,
    "exercise": "task"
   },
   "outputs": [
   ],
   "source": [
    "import matplotlib.pyplot as plt\n",
    "import numpy as np\n",
    "\n",
    "# Werte aus der Tabelle\n",
    "t = np.array([0 , 0.0087, 0.0175, 0.0262, 0.0349, 0.0436, 0.0524, 0.0611, 0.0698, 0.0785]) \n",
    "x = np.array([0, 0.0434, 0.0855, 0.1250, 0.1607, 0.1915, 0.2165, 0.2349, 0.2462, 0.2500]) \n",
    "v = np.array([5, 4.9241,  4.6985, 4.3301, 3.8302, 3.2142, 2.5002, 1.7114, 0.8685 , 0])\n",
    "\n",
    "# Potenzielle Energie\n",
    "Epot = #TODO\n",
    "\n",
    "# Kinetische Energie\n",
    "Ekin = #TODO\n",
    "\n",
    "# Gesamtenergie\n",
    "Eges = #TODO\n",
    "\n",
    "#Zeichen sie nun die drei Energien über die Zeit\n",
    "plot1 = plt.plot( )   # potentielle Energie\n",
    "plot2 = plt.plot( )   # kinetische Energie\n",
    "plot3 = plt.plot( )   # Gesamtenergie\n",
    "\n",
    "#Zeichen sie nun die drei Energien über Ort \n",
    "plot4 = plt.plot( )   # potentielle Energie\n",
    "plot5 = plt.plot( )   # kinetische Energie\n",
    "plot6 = plt.plot( )   # Gesamtenergie"
   ]
  }
 ],
 "metadata": {
  "kernelspec": {
   "display_name": "Python 3 (system-wide)",
   "language": "python",
   "metadata": {
    "cocalc": {
     "description": "Python 3 programming language",
     "priority": 100,
     "url": "https://www.python.org/"
    }
   },
   "name": "python3",
   "resource_dir": "/ext/jupyter/kernels/python3"
  },
  "language_info": {
   "codemirror_mode": {
    "name": "ipython",
    "version": 3
   },
   "file_extension": ".py",
   "mimetype": "text/x-python",
   "name": "python",
   "nbconvert_exporter": "python",
   "pygments_lexer": "ipython3",
   "version": "3.6.9"
  }
 },
 "nbformat": 4,
 "nbformat_minor": 4
}