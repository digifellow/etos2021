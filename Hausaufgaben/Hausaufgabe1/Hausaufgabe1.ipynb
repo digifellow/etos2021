{
 "cells": [
  {
   "cell_type": "code",
   "execution_count": 1,
   "metadata": {
    "collapsed": false
   },
   "outputs": [
   ],
   "source": [
    "##development\n",
    "%load_ext extension_notebook_splitter"
   ]
  },
  {
   "cell_type": "markdown",
   "metadata": {
    "collapsed": false
   },
   "source": [
    "<div>\n",
    "    <img src=\"static/FHAachen-logo2.svg\" style=\"float: right;height: 15em;\">\n",
    "</div>\n",
    "<div>\n",
    "    <img src=\"static/IIIPIB_RWTH.png\" style=\"float: right;height: 6.5em;\">\n",
    "</div>\n",
    "\n",
    "**Einführung in die Physik im SS 2021** \\\n",
    "**Darius Mottaghy**        \\\n",
    "**Stefan Roth**\n",
    "\n",
    "## Hausaufgabe 1: Physikalische Größen und Einheiten\n",
    "\n"
   ]
  },
  {
   "cell_type": "markdown",
   "metadata": {
    "collapsed": false
   },
   "source": [
    "<div style= \"color: black;background-color: rgba(0,177,172, 0.1) ;margin: 10 px auto; padding: 10px; border-radius: 10px\">\n",
    "<p style=\"font-size:12pt; text-align:center; color: black;background-color: rgba(0,177,172, 0.1) ;margin: 10 px auto; padding: 10px; border-radius: 10px\" id=\"2\"><b>  Hausaufgabe - Stau</b>  </p> \n",
    "In einem langen Stau stehen $750$ Autos, die sehr langsam mit Schrittgeschwindigkeit ($5~\\text{km/h}$) direkt hintereinander fahren. Jedes Auto benötigt eine Länge von durchschnittlich $5,4~\\text{m}$. \n",
    "    "
   ]
  },
  {
   "cell_type": "markdown",
   "metadata": {
    "collapsed": false
   },
   "source": [
    "<font style=\"background-color:#BFBFBF \"> **Vorgehensweise  :**</font>\n",
    "\n",
    "1. Wie lang ist der Stau in Kilometer?"
   ]
  },
  {
   "cell_type": "code",
   "execution_count": 2,
   "metadata": {
    "collapsed": false
   },
   "outputs": [
    {
     "name": "stdout",
     "output_type": "stream",
     "text": [
      "Der Stau ist 4.05 km lang.\n"
     ]
    }
   ],
   "source": [
    "%%solution\n",
    "anzahl = 750    # Anzahl der Autos\n",
    "l_auto = 5.4    # Länge des Autis im m\n",
    "\n",
    "l_stau = anzahl*l_auto*1/1000 # Stau in km\n",
    "\n",
    "print(\"Der Stau ist %.2f km lang.\" % l_stau)"
   ]
  },
  {
   "cell_type": "code",
   "execution_count": 3,
   "metadata": {
    "collapsed": false
   },
   "outputs": [
   ],
   "source": [
    "%%task\n",
    "anzahl =     # Anzahl der Autos\n",
    "l_auto =     # Länge des Autis im m\n",
    "\n",
    "l_stau =     # Stau in km\n",
    "\n",
    "print(\"  \" %  )"
   ]
  },
  {
   "cell_type": "markdown",
   "metadata": {
    "collapsed": false
   },
   "source": [
    "2. Wie viele Autos durchfahren den Stau in einer Stunde?"
   ]
  },
  {
   "cell_type": "code",
   "execution_count": 4,
   "metadata": {
    "collapsed": false
   },
   "outputs": [
    {
     "name": "stdout",
     "output_type": "stream",
     "text": [
      "926 Autos durchfahren den Stau in einer Stunde.\n"
     ]
    }
   ],
   "source": [
    "%%solution    \n",
    "strecke = 5*1000/1  # zurückgelegte Strecke in einer Stunde in m\n",
    "\n",
    "d_autos = strecke/l_auto \n",
    "\n",
    "print(\"%.0f Autos durchfahren den Stau in einer Stunde.\" % d_autos)"
   ]
  },
  {
   "cell_type": "code",
   "execution_count": 5,
   "metadata": {
    "collapsed": false
   },
   "outputs": [
   ],
   "source": [
    "%%task    \n",
    "strecke =   # zurückgelegte Strecke in einer Stunde in m\n",
    "\n",
    "d_autos =   #  \n",
    "\n",
    "print(\" \" %  )"
   ]
  },
  {
   "cell_type": "markdown",
   "metadata": {
    "collapsed": false
   },
   "source": [
    "3. Ein Auto verbraucht 8,2 Liter Benzin pro 100 Kilometer. Wie viel verbraucht ein Auto in Kubikzentimeter pro Meter?"
   ]
  },
  {
   "cell_type": "code",
   "execution_count": 6,
   "metadata": {
    "collapsed": false
   },
   "outputs": [
    {
     "name": "stdout",
     "output_type": "stream",
     "text": [
      "Ein Auto verbraucht 0.082 cm³/m.\n"
     ]
    }
   ],
   "source": [
    "%%solution   \n",
    "verbrauch_1 = 8.2/100  # Verbrauch in L/km\n",
    "\n",
    "UF1 = 1000/1    # 1 L entspricht 1000 cm³\n",
    "UF2 = 1/1000    # 1 km entspricht 1000 m\n",
    "\n",
    "verbrauch_2 = verbrauch_1*UF1*UF2 # Verbrauch in cm³/m\n",
    "\n",
    "print(\"Ein Auto verbraucht %.3f cm³/m.\" % verbrauch_2)"
   ]
  },
  {
   "cell_type": "code",
   "execution_count": 7,
   "metadata": {
    "collapsed": false
   },
   "outputs": [
   ],
   "source": [
    "%%task   \n",
    "verbrauch_1 =   # Verbrauch in L/km\n",
    "\n",
    "UF1 =           # 1 L entspricht 1000 cm³\n",
    "UF2 =           # 1 km entspricht 1000 m\n",
    "\n",
    "verbrauch_2 =   # Verbrauch in cm³/m\n",
    "\n",
    "print(\" \" %  )"
   ]
  },
  {
   "cell_type": "markdown",
   "metadata": {
    "collapsed": false
   },
   "source": [
    "4. Wie viele Liter Benzin verbraucht ein Auto, um einmal die Erde zu umrunden (Erdumfang ca. $40.000~\\text{km}$)?"
   ]
  },
  {
   "cell_type": "code",
   "execution_count": 8,
   "metadata": {
    "collapsed": false
   },
   "outputs": [
    {
     "name": "stdout",
     "output_type": "stream",
     "text": [
      "Das Auto verbraucht 3280 Liter Benzin.\n"
     ]
    }
   ],
   "source": [
    "%%solution\n",
    "erd_umf = 40000   # Erdumfang im km\n",
    "\n",
    "verbrauch = verbrauch_1*erd_umf #Verbrauch in Litern\n",
    "\n",
    "print(\"Das Auto verbraucht %.0f Liter Benzin.\" % verbrauch)"
   ]
  },
  {
   "cell_type": "code",
   "execution_count": 9,
   "metadata": {
    "collapsed": false
   },
   "outputs": [
   ],
   "source": [
    "%%task\n",
    "erd_umf =    # Erdumfang im km\n",
    "\n",
    "verbrauch =  #Verbrauch in Litern\n",
    "\n",
    "print(\" \" %)"
   ]
  },
  {
   "cell_type": "markdown",
   "metadata": {
    "collapsed": false
   },
   "source": [
    "5. Wiederholen Sie die Ausgabe von Aufgabeteil 4, nun aber mit drei signifikanten Stellen in Exponentialschreibweise."
   ]
  },
  {
   "cell_type": "code",
   "execution_count": 10,
   "metadata": {
    "collapsed": false
   },
   "outputs": [
    {
     "name": "stdout",
     "output_type": "stream",
     "text": [
      "Das Auto verbraucht 3.28e+03 Liter Benzin.\n"
     ]
    }
   ],
   "source": [
    "%%solution\n",
    "print(\"Das Auto verbraucht %1.2e Liter Benzin.\" % verbrauch)"
   ]
  },
  {
   "cell_type": "code",
   "execution_count": 11,
   "metadata": {
    "collapsed": false
   },
   "outputs": [
   ],
   "source": [
    "%%task\n",
    "print(\" \" %    )"
   ]
  }
 ],
 "metadata": {
  "kernelspec": {
   "display_name": "Python 3 (system-wide)",
   "language": "python",
   "metadata": {
    "cocalc": {
     "description": "Python 3 programming language",
     "priority": 100,
     "url": "https://www.python.org/"
    }
   },
   "name": "python3",
   "resource_dir": "/ext/jupyter/kernels/python3"
  },
  "language_info": {
   "codemirror_mode": {
    "name": "ipython",
    "version": 3
   },
   "file_extension": ".py",
   "mimetype": "text/x-python",
   "name": "python",
   "nbconvert_exporter": "python",
   "pygments_lexer": "ipython3",
   "version": "3.6.9"
  }
 },
 "nbformat": 4,
 "nbformat_minor": 4
}