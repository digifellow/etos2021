{
 "cells": [
  {
   "cell_type": "markdown",
   "metadata": {
    "collapsed": false
   },
   "source": [
    "<div>\n",
    "    <img src=\"static/FHAachen-logo2.svg\" style=\"float: right;height: 15em;\">\n",
    "</div>\n",
    "<div>\n",
    "    <img src=\"static/IIIPIB_RWTH.png\" style=\"float: right;height: 6.5em;\">\n",
    "</div>\n",
    "\n",
    "**Einführung in die Physik im SS 2021** \\\n",
    "**Darius Mottaghy**        \\\n",
    "**Stefan Roth**\n",
    "\n",
    "## Hausaufgabe 7: Thermodynamische Prozesse\n",
    "\n"
   ]
  },
  {
   "cell_type": "markdown",
   "metadata": {
    "collapsed": false
   },
   "source": [
    "<div style= \"color: black;background-color: rgba(0,177,172, 0.1) ;margin: 10 px auto; padding: 10px; border-radius: 10px\">\n",
    "<p style=\"font-size:12pt; text-align:center; color:   black;background-color: rgba(0,177,172, 0.1) ;margin: 10 px auto; padding: 10px; border-radius: 10px\" id=\"3\"><b>  Aufgabe - isobare Zustandsänderung </b>  </p> \n",
    "    \n",
    "Bei einer isobaren Expansion ändert sich der Druck nicht. Zeichnen Sie verschiedene Isobaren für ein ideales Gas, die das Volumen als Funktion der Temperatur darstellen. <br>\n",
    "\n",
    "</div>  \n",
    "\n",
    "\n",
    "<font style=\"background-color:#BFBFBF \"> **Hinweise :**</font> <br>\n",
    "\n",
    "1. Leiten Sie aus der idealen Gasgleichung eine Formel für das Volumen her."
   ]
  },
  {
   "cell_type": "markdown",
   "metadata": {
    "collapsed": false
   },
   "source": [
    "2. Implementieren Sie das Volumen als eine Funktion von dem Druck und der Temperatur."
   ]
  },
  {
   "cell_type": "code",
   "execution_count": 3,
   "metadata": {
    "collapsed": false
   },
   "outputs": [
   ],
   "source": [
    "import numpy as np\n",
    "\n",
    "n = 1       # mol\n",
    "R =         # in J K⁻¹⋅mol⁻¹\n",
    "\n",
    "def V(  ):\n",
    "    return "
   ]
  },
  {
   "cell_type": "markdown",
   "metadata": {
    "collapsed": false
   },
   "source": [
    "3. Plotten Sie für verschiedene Drücke das Volumen über der Temperatur zwischen $273,15~\\mathrm{K}$ und $373,15~\\mathrm{K}$. Bspw. für $250, 500$ und $750~\\mathrm{Pa}$. Beachten Sie, dass die Temperatur in Kelvin übergeben werden sollte."
   ]
  },
  {
   "cell_type": "code",
   "execution_count": 5,
   "metadata": {
    "collapsed": false
   },
   "outputs": [
   ],
   "source": [
    "import matplotlib.pyplot as plt\n",
    "\n",
    "T = np.linspace(,) # Temperaturen in Kelvin\n",
    "\n",
    "plot1 = plt.plot( ) # 750 Pa\n",
    "plot2 = plt.plot( ) # 500 pa\n",
    "plot3 = plt.plot( ) # 250 Pa"
   ]
  }
 ],
 "metadata": {
  "kernelspec": {
   "display_name": "Python 3 (system-wide)",
   "language": "python",
   "metadata": {
    "cocalc": {
     "description": "Python 3 programming language",
     "priority": 100,
     "url": "https://www.python.org/"
    }
   },
   "name": "python3",
   "resource_dir": "/ext/jupyter/kernels/python3"
  },
  "language_info": {
   "codemirror_mode": {
    "name": "ipython",
    "version": 3
   },
   "file_extension": ".py",
   "mimetype": "text/x-python",
   "name": "python",
   "nbconvert_exporter": "python",
   "pygments_lexer": "ipython3",
   "version": "3.6.9"
  }
 },
 "nbformat": 4,
 "nbformat_minor": 4
}