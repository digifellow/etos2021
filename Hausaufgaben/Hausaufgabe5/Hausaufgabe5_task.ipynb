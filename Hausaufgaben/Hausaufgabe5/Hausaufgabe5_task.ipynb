{
 "cells": [
  {
   "cell_type": "markdown",
   "metadata": {
    "collapsed": false
   },
   "source": [
    "<div>\n",
    "    <img src=\"static/FHAachen-logo2.svg\" style=\"float: right;height: 15em;\">\n",
    "</div>\n",
    "<div>\n",
    "    <img src=\"static/IIIPIB_RWTH.png\" style=\"float: right;height: 6.5em;\">\n",
    "</div>\n",
    "\n",
    "**Einführung in die Physik im SS 2021** \\\n",
    "**Darius Mottaghy**        \\\n",
    "**Stefan Roth**\n",
    "\n",
    "## Hausaufgabe 5: Periodische Bewegung"
   ]
  },
  {
   "cell_type": "markdown",
   "metadata": {
    "collapsed": false
   },
   "source": [
    "<div style= \"color: black;background-color: rgba(0,177,172, 0.1) ;margin: 10 px auto; padding: 10px; border-radius: 10px\">\n",
    "<p style=\"font-size:12pt; text-align:center; color:   black;background-color: rgba(0,177,172, 0.1) ;margin: 10 px auto; padding: 10px; border-radius: 10px\" id=\"1\"><b>  Aufgabe - Fliehkraftregler </b>  </p> \n",
    "    \n",
    "Ein Fliehkraftregler ist ein Maschinenelement, das die Fliehkraft zur Regelung der Drehzahl einer Maschine nutzt. \n",
    "\n",
    "\n",
    "<table cellpadding=\"0\"><tbody><tr>\n",
    "<td>\n",
    "<p style=\"text-align:center;font-size:small;\">\n",
    "<img img src=\"static/flieh2.svg\" alt=\"\" role=\"presentation\" class=\"img-responsive atto_image_button_middle\" style=\"height:13em;\">\n",
    "<br>\n",
    "<b>Abbildung</b>\n",
    "</p>\n",
    "</td>\n",
    "<td width=\"20\"></td>\n",
    "<tr>\n",
    "</tr>\n",
    "</tbody></table> \n",
    "\n",
    "</div>    "
   ]
  },
  {
   "cell_type": "markdown",
   "metadata": {
    "collapsed": false
   },
   "source": [
    "**a)** Leiten sie den Zusammenhang zwischen dem Öffnungswinkel $\\alpha$ und der Rotationsfrequenz $f$ in Abhängigkeit der Armlänge $l$ her. Sie können hierbei die Masse des Gestänges gegenüber den Gewichten vernachlässigen. Was muss bezüglich des Definitionsbereiches Ihrer Formel beachtet werden? Codetipp:  mit ``abs(x)`` kann man auf den Absolutbetrag der Variabel zugreifen. Implementieren Sie $\\alpha$ als Funktion von $f$ und $l$.\n"
   ]
  },
  {
   "cell_type": "code",
   "execution_count": 0,
   "metadata": {
    "collapsed": false,
    "exercise": "task"
   },
   "outputs": [
   ],
   "source": [
    "import numpy as np\n",
    "import scipy.constants as const\n",
    "\n",
    "def alpha(l,f):\n",
    "    #TODO"
   ]
  },
  {
   "cell_type": "markdown",
   "metadata": {
    "collapsed": false
   },
   "source": [
    "**b)** Plotten Sie für 1m, 2m und 3m Armlänge den Öffnungswinkel zwischen 0.1 und 2Hz."
   ]
  },
  {
   "cell_type": "code",
   "execution_count": 0,
   "metadata": {
    "collapsed": false,
    "exercise": "task"
   },
   "outputs": [
   ],
   "source": [
    "import matplotlib.pyplot as plt\n",
    "\n",
    "alpha=np.vectorize(alpha)\n",
    "f= np.linspace(0.1,2, 100) #0.1 bis 2 Hz\n",
    "l=[1,2,3] #m\n",
    "\n",
    "#TODO plotten"
   ]
  },
  {
   "cell_type": "markdown",
   "metadata": {
    "collapsed": false
   },
   "source": [
    "**c)** Ab welchen Rotationsfrequenzen kann der Fliehkraftregler regeln? Berechnen Sie die Mindestfrequenz für die Armlänge 0,1 m, 0,2 m, 0,3 m, 0,5 m, 1 m, 5 m, 10 m, 20 m, indem Sie eine <code>for</code>-Schleife verwenden. "
   ]
  },
  {
   "cell_type": "code",
   "execution_count": 0,
   "metadata": {
    "collapsed": false,
    "exercise": "task"
   },
   "outputs": [
   ],
   "source": [
    "def Grenzfrequenz(l):\n",
    "    #TODO\n",
    "\n",
    "armlaenge = np.array([0.1, 0.2, 0.3, 0.5, 1, 5, 10, 20])\n",
    "f = np.zeros()# speichern Sie darin die Mindestfrequenzen für verschieden Armlängen\n",
    "\n",
    "for   : # ToDo\n",
    "\n",
    "print('Die Grenzfrequenzen in Hz für die verschiedenen Armlängen sind',*f) #*f entpackt die Liste \n"
   ]
  }
 ],
 "metadata": {
  "kernelspec": {
   "display_name": "Python 3 (system-wide)",
   "language": "python",
   "metadata": {
    "cocalc": {
     "description": "Python 3 programming language",
     "priority": 100,
     "url": "https://www.python.org/"
    }
   },
   "name": "python3",
   "resource_dir": "/ext/jupyter/kernels/python3"
  },
  "language_info": {
   "codemirror_mode": {
    "name": "ipython",
    "version": 3
   },
   "file_extension": ".py",
   "mimetype": "text/x-python",
   "name": "python",
   "nbconvert_exporter": "python",
   "pygments_lexer": "ipython3",
   "version": "3.6.9"
  }
 },
 "nbformat": 4,
 "nbformat_minor": 4
}