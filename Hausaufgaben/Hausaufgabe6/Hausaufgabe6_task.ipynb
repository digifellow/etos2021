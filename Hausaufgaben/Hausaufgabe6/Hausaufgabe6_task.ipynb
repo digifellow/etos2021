{
 "cells": [
  {
   "cell_type": "markdown",
   "metadata": {
    "collapsed": false
   },
   "source": [
    "<div>\n",
    "    <img src=\"static/FHAachen-logo2.svg\" style=\"float: right;height: 15em;\">\n",
    "</div>\n",
    "<div>\n",
    "    <img src=\"static/IIIPIB_RWTH.png\" style=\"float: right;height: 6.5em;\">\n",
    "</div>\n",
    "\n",
    "**Einführung in die Physik im SS 2021** \\\n",
    "**Darius Mottaghy**        \\\n",
    "**Stefan Roth**\n",
    "\n",
    "## Hausaufgabe 6: Wärme\n",
    "\n",
    "<div style= \"color: black;background-color: rgba(0,177,172, 0.1) ;margin: 10 px auto; padding: 10px; border-radius: 10px\">\n",
    "<p style=\"font-size:12pt; text-align:center; color:   black;background-color: rgba(0,177,172, 0.1) ;margin: 10 px auto; padding: 10px; border-radius: 10px\" id=\"1\"><b>  Aufgabe - Wasserkraft </b>  </p> \n",
    "Das Wasser des Niagara-Flusses nähert sich den Niagara-Fällen mit ca. $50~\\mathrm{km/h}$ und stürzt dann $52~\\mathrm{m}$ in die Tiefe. Nachts werden $90~\\%$ des Wasserdurchflusses von $4200~\\mathrm{m^3/s}$  zu den Turbinen eines Wasserkraftwerks umgeleitet. Wie groß ist dessen elektrische Leistung, bei einem Wirkungsgrad von $80~\\%$? Tagsüber fließen die Wassermassen ungehindert über die Fälle. Wie groß ist die Temperaturerhöhung des Wassers, wenn die kinetische und potentielle Energie des Wassers komplett in Wärme umgewandelt werden?\n",
    "\n",
    "Spezifische Wärmekapazität von Wasser: $4,2 \\cdot 10^3~\\text{J}\\,\\text{kg}^{-1}\\,\\text{K}^{-1}$\n",
    "\n",
    "Stellen Sie Formeln für die elektrische Leistung $P$ des Kraftwerks und die Temperaturändern $\\Delta T$ auf, und berechnen Sie die Werte mit Hilfe von Python als Taschenrechner.\n",
    "\n",
    "</div>    "
   ]
  },
  {
   "cell_type": "code",
   "execution_count": 0,
   "metadata": {
    "collapsed": false,
    "exercise": "task"
   },
   "outputs": [
   ],
   "source": [
    "rho =     # kg/m³\n",
    "I =       # m³/s\n",
    "v =       # m/s\n",
    "h =       # m\n",
    "g =       # m/s²\n",
    "P =       # W\n",
    "print(\"Leistung P in [GW] ist:\", )\n",
    "\n",
    "cw =      # J/(kg * K)\n",
    "DT =      # K\n",
    "print(\"Temperaturänderung Delta T in [K] ist: \", )"
   ]
  },
  {
   "cell_type": "code",
   "execution_count": 0,
   "metadata": {
    "collapsed": false
   },
   "outputs": [
   ],
   "source": [
   ]
  }
 ],
 "metadata": {
  "kernelspec": {
   "display_name": "Python 3 (system-wide)",
   "language": "python",
   "metadata": {
    "cocalc": {
     "description": "Python 3 programming language",
     "priority": 100,
     "url": "https://www.python.org/"
    }
   },
   "name": "python3",
   "resource_dir": "/ext/jupyter/kernels/python3"
  },
  "language_info": {
   "codemirror_mode": {
    "name": "ipython",
    "version": 3
   },
   "file_extension": ".py",
   "mimetype": "text/x-python",
   "name": "python",
   "nbconvert_exporter": "python",
   "pygments_lexer": "ipython3",
   "version": "3.6.9"
  }
 },
 "nbformat": 4,
 "nbformat_minor": 4
}